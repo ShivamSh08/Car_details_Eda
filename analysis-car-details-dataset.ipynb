{
 "cells": [
  {
   "cell_type": "markdown",
   "id": "de5c03bb",
   "metadata": {
    "_cell_guid": "f4b973e1-3318-410e-b748-80b87869e065",
    "_uuid": "515136f5-ad7c-408a-83e9-caa0d0811773",
    "execution": {
     "iopub.execute_input": "2022-10-22T12:31:24.652565Z",
     "iopub.status.busy": "2022-10-22T12:31:24.652242Z",
     "iopub.status.idle": "2022-10-22T12:31:24.659066Z",
     "shell.execute_reply": "2022-10-22T12:31:24.657603Z",
     "shell.execute_reply.started": "2022-10-22T12:31:24.652539Z"
    },
    "jupyter": {
     "outputs_hidden": false
    },
    "papermill": {
     "duration": 0.024568,
     "end_time": "2023-01-05T11:55:32.098160",
     "exception": false,
     "start_time": "2023-01-05T11:55:32.073592",
     "status": "completed"
    },
    "tags": []
   },
   "source": [
    "<div style=\"color:white;\n",
    "            display:fill;\n",
    "            border-radius:15px;\n",
    "            background-color:#9248A5;\n",
    "            font-size:100%;\n",
    "            font-family:Verdana;\n",
    "            letter-spacing:1px\">\n",
    "    <h2 style='padding: 20px;\n",
    "              color:#B2B223;\n",
    "              text-align:center;'>\n",
    "        🚘Analysis Car Details Dataset\n",
    "            </h2>\n",
    "    </div>"
   ]
  },
  {
   "cell_type": "markdown",
   "id": "b4c7c00c",
   "metadata": {
    "_cell_guid": "d6812e55-b3df-455c-9e12-82032c9b44b5",
    "_uuid": "d9a00adf-4cb6-4711-a233-97ae28eb4078",
    "papermill": {
     "duration": 0.018667,
     "end_time": "2023-01-05T11:55:32.136791",
     "exception": false,
     "start_time": "2023-01-05T11:55:32.118124",
     "status": "completed"
    },
    "tags": []
   },
   "source": [
    "<div style=\"text-align:left;\">\n",
    "<span style=\"font-size:12pt; font-family:'Times New Roman', Times, serif; color:#000000; font-weight:bold; \">TABLE OF CONTENTS<br/><br/></span>\n",
    "<span style=\"font-size:12pt; font-family:'Times New Roman', Times, serif; color:#000000; font-weight:bold; \">\n",
    "<a href=\"#intro\">1. Introduction</a></span><span style=\"font-size:12pt; font-family:'Times New Roman', Times, serif; color:#000000; font-weight:bold; \"><br/><br/></span><span style=\"font-size:12pt; font-family:'Times New Roman', Times, serif; color:#000000; font-weight:bold; \">\n",
    "<a href=\"#data1\">2. Data Exploration</a></span><span style=\"font-size:12pt; font-family:'Times New Roman', Times, serif; color:#000000; font-weight:bold; \"><br/><br/></span><span style=\"font-size:12pt; font-family:'Times New Roman', Times, serif; color:#000000; font-weight:bold; \">\n",
    "<a href=\"#data2\">3. Data Analysis 1</a></span><span style=\"font-size:12pt; font-family:'Times New Roman', Times, serif; color:#000000; font-weight:bold; \"><br/><br/></span><span style=\"font-size:12pt; font-family:'Times New Roman', Times, serif; color:#000000; font-weight:bold; \">\n",
    "<a href=\"#data3\">4. Data Analysis 2</a></span><span style=\"font-size:12pt; font-family:'Times New Roman', Times, serif; color:#000000; font-weight:bold; \"><br/><br/></span><span style=\"font-size:12pt; font-family:'Times New Roman', Times, serif; color:#000000; font-weight:bold; \">\n",
    "<a href=\"#report\">5. Report</a></span><span style=\"font-size:12pt; font-family:'Times New Roman', Times, serif; color:#000000; font-weight:bold; \"><br/><br/></span><span style=\"font-size:12pt; font-family:'Times New Roman', Times, serif; color:#000000; font-weight:bold; \">\n",
    "<a href=\"#finally\">6. Finally</a></span>  </div>"
   ]
  },
  {
   "cell_type": "markdown",
   "id": "cb7fa9e0",
   "metadata": {
    "_cell_guid": "48c1cf6a-ff33-4413-9b63-e7bcbb9265eb",
    "_uuid": "f0a76209-e953-4504-bc55-f3739dbc79c4",
    "papermill": {
     "duration": 0.018795,
     "end_time": "2023-01-05T11:55:32.174821",
     "exception": false,
     "start_time": "2023-01-05T11:55:32.156026",
     "status": "completed"
    },
    "tags": []
   },
   "source": [
    "<div style=\"color:white;\n",
    "            display:fill;\n",
    "            border-radius:15px;\n",
    "            background-color:#9248A5;\n",
    "            font-size:70%;\n",
    "            font-family:Verdana;\n",
    "            letter-spacing:1px\">\n",
    "            <div id=\"intro\">\n",
    "    <h1 style='padding: 20px;\n",
    "              color:#B2B223;\n",
    "              text-align:center;'>\n",
    "        ⭐Introduction⭐\n",
    "            </h1>\n",
    "    </div>"
   ]
  },
  {
   "cell_type": "markdown",
   "id": "9bef8ccd",
   "metadata": {
    "_cell_guid": "bd8346b6-1b95-4755-ba3a-46895535dfc3",
    "_uuid": "1d0595c4-a993-4594-80a8-24337c4f793e",
    "execution": {
     "iopub.execute_input": "2022-10-22T12:30:15.334843Z",
     "iopub.status.busy": "2022-10-22T12:30:15.334500Z",
     "iopub.status.idle": "2022-10-22T12:30:15.341396Z",
     "shell.execute_reply": "2022-10-22T12:30:15.340020Z",
     "shell.execute_reply.started": "2022-10-22T12:30:15.334803Z"
    },
    "jupyter": {
     "outputs_hidden": false
    },
    "papermill": {
     "duration": 0.018772,
     "end_time": "2023-01-05T11:55:32.212427",
     "exception": false,
     "start_time": "2023-01-05T11:55:32.193655",
     "status": "completed"
    },
    "tags": []
   },
   "source": [
    "<div style=\"text-align:left;\">\n",
    "  <span style=\"font-size:12pt; font-family:'Times New Roman', Times, serif; color:#000000; font-weight:bold; \">This data is collected from 'Car Dekho'.<br/>Following details of cars are included in the dataset:<br/>1) Car name  2) Year  3) Selling Price 4) Kms driven  5) Fuel  6) Seller type 7) Transmission 8) Owner<br/>I will try to understand the data, analyze it, extract reports from it, and try to understand the relationships between the different variables</span>\n",
    "  </div>"
   ]
  },
  {
   "cell_type": "markdown",
   "id": "21693155",
   "metadata": {
    "_cell_guid": "291c2c1f-32cb-4b78-9f88-839f4aff4a98",
    "_uuid": "a37bbc71-c5fd-4b98-8379-e4860e726387",
    "execution": {
     "iopub.execute_input": "2022-10-22T12:35:03.172423Z",
     "iopub.status.busy": "2022-10-22T12:35:03.172112Z",
     "iopub.status.idle": "2022-10-22T12:35:03.194186Z",
     "shell.execute_reply": "2022-10-22T12:35:03.193213Z",
     "shell.execute_reply.started": "2022-10-22T12:35:03.172399Z"
    },
    "jupyter": {
     "outputs_hidden": false
    },
    "papermill": {
     "duration": 0.018757,
     "end_time": "2023-01-05T11:55:32.250330",
     "exception": false,
     "start_time": "2023-01-05T11:55:32.231573",
     "status": "completed"
    },
    "tags": []
   },
   "source": [
    "<div style=\"color:white;\n",
    "            display:fill;\n",
    "            border-radius:15px;\n",
    "            background-color:#9248A5;\n",
    "            font-size:70%;\n",
    "            font-family:Verdana;\n",
    "            letter-spacing:1px\">\n",
    "             <div id=\"data1\">\n",
    "    <h1 style='padding: 20px;\n",
    "              color:#B2B223;\n",
    "              text-align:center;'>\n",
    "        🔎Data Exploration\n",
    "            </h1>\n",
    "    </div>"
   ]
  },
  {
   "cell_type": "markdown",
   "id": "daf091c4",
   "metadata": {
    "_cell_guid": "d0620c86-77ad-4487-b431-a15faf2530b4",
    "_uuid": "e9618fd4-bf39-4888-a153-6fe1511ab631",
    "execution": {
     "iopub.execute_input": "2022-10-22T12:35:31.325669Z",
     "iopub.status.busy": "2022-10-22T12:35:31.325053Z",
     "iopub.status.idle": "2022-10-22T12:35:31.356049Z",
     "shell.execute_reply": "2022-10-22T12:35:31.354759Z",
     "shell.execute_reply.started": "2022-10-22T12:35:31.325645Z"
    },
    "jupyter": {
     "outputs_hidden": false
    },
    "papermill": {
     "duration": 0.018536,
     "end_time": "2023-01-05T11:55:32.287622",
     "exception": false,
     "start_time": "2023-01-05T11:55:32.269086",
     "status": "completed"
    },
    "tags": []
   },
   "source": [
    "<div style=\"color:white;\n",
    "            display:fill;\n",
    "            border-radius:15px;\n",
    "            background-color:#9248A5;\n",
    "            font-size:100%;\n",
    "            font-family:Verdana;\n",
    "            letter-spacing:1px\">\n",
    "    <h3 style='padding: 20px;\n",
    "              color:white;\n",
    "              text-align:center;'>\n",
    "        We will start now\n",
    "            </h3>\n",
    "    </div>"
   ]
  },
  {
   "cell_type": "markdown",
   "id": "0be2153f",
   "metadata": {
    "_cell_guid": "e443a55f-79d4-4bb2-9eba-54bc6aa615f1",
    "_uuid": "e779c29f-17fe-4e31-8d33-551c2b1df2d6",
    "execution": {
     "iopub.execute_input": "2022-10-22T12:35:50.970718Z",
     "iopub.status.busy": "2022-10-22T12:35:50.970419Z",
     "iopub.status.idle": "2022-10-22T12:35:50.978742Z",
     "shell.execute_reply": "2022-10-22T12:35:50.977284Z",
     "shell.execute_reply.started": "2022-10-22T12:35:50.970695Z"
    },
    "jupyter": {
     "outputs_hidden": false
    },
    "papermill": {
     "duration": 0.018635,
     "end_time": "2023-01-05T11:55:32.325277",
     "exception": false,
     "start_time": "2023-01-05T11:55:32.306642",
     "status": "completed"
    },
    "tags": []
   },
   "source": [
    "<div style=\"text-align:left;\">\n",
    "  <span style=\"font-size:12pt; font-family:'Times New Roman', Times, serif; color:#000000; font-weight:bold; \">Data path extraction</span>\n",
    "  </div>"
   ]
  },
  {
   "cell_type": "code",
   "execution_count": 1,
   "id": "0666d3a5",
   "metadata": {
    "_cell_guid": "62fb960c-34fc-4925-906a-7bccf2f974ef",
    "_uuid": "a1bcf865-5bb1-4566-92b0-dfb198d8e58a",
    "collapsed": false,
    "execution": {
     "iopub.execute_input": "2023-01-05T11:55:32.371181Z",
     "iopub.status.busy": "2023-01-05T11:55:32.370205Z",
     "iopub.status.idle": "2023-01-05T11:55:32.397550Z",
     "shell.execute_reply": "2023-01-05T11:55:32.396376Z"
    },
    "jupyter": {
     "outputs_hidden": false
    },
    "papermill": {
     "duration": 0.055683,
     "end_time": "2023-01-05T11:55:32.401027",
     "exception": false,
     "start_time": "2023-01-05T11:55:32.345344",
     "status": "completed"
    },
    "tags": []
   },
   "outputs": [
    {
     "name": "stdout",
     "output_type": "stream",
     "text": [
      "/kaggle/input/car-details-dataset/CAR DETAILS FROM CAR DEKHO.csv\n"
     ]
    }
   ],
   "source": [
    "# data path extraction\n",
    "import os\n",
    "for dirname, _, filenames in os.walk('/kaggle/input'):\n",
    "    for filename in filenames:\n",
    "        print(os.path.join(dirname, filename))"
   ]
  },
  {
   "cell_type": "markdown",
   "id": "fbed1e4d",
   "metadata": {
    "_cell_guid": "0326d2e0-b7e6-4723-a6f3-2f7578e55982",
    "_uuid": "4e14d471-3837-4a80-930c-707b15dffaa4",
    "execution": {
     "iopub.execute_input": "2022-10-22T12:36:29.927412Z",
     "iopub.status.busy": "2022-10-22T12:36:29.927069Z",
     "iopub.status.idle": "2022-10-22T12:36:29.934738Z",
     "shell.execute_reply": "2022-10-22T12:36:29.933307Z",
     "shell.execute_reply.started": "2022-10-22T12:36:29.927376Z"
    },
    "jupyter": {
     "outputs_hidden": false
    },
    "papermill": {
     "duration": 0.018827,
     "end_time": "2023-01-05T11:55:32.443696",
     "exception": false,
     "start_time": "2023-01-05T11:55:32.424869",
     "status": "completed"
    },
    "tags": []
   },
   "source": [
    "<div style=\"text-align:left;\">\n",
    "  <span style=\"font-size:12pt; font-family:'Times New Roman', Times, serif; color:#000000; font-weight:bold; \">Now we know the path of the data, we will use it later in the code that read the dataset</span>\n",
    "  </div>"
   ]
  },
  {
   "cell_type": "markdown",
   "id": "976808e4",
   "metadata": {
    "papermill": {
     "duration": 0.01823,
     "end_time": "2023-01-05T11:55:32.480817",
     "exception": false,
     "start_time": "2023-01-05T11:55:32.462587",
     "status": "completed"
    },
    "tags": []
   },
   "source": [
    "<div style=\"text-align:left;\">\n",
    "  <span style=\"font-size:12pt; font-family:'Times New Roman', Times, serif; color:#000000; font-weight:bold; \">Import libraries that we will need in the beginning</span>\n",
    "  </div>"
   ]
  },
  {
   "cell_type": "code",
   "execution_count": 2,
   "id": "e03e98a9",
   "metadata": {
    "_cell_guid": "c5bf1f1f-3389-4dd5-9e89-305e3ebb33c0",
    "_uuid": "fe2c0ee6-34c9-47ed-81fc-cd76eb628533",
    "collapsed": false,
    "execution": {
     "iopub.execute_input": "2023-01-05T11:55:32.520274Z",
     "iopub.status.busy": "2023-01-05T11:55:32.519863Z",
     "iopub.status.idle": "2023-01-05T11:55:33.547784Z",
     "shell.execute_reply": "2023-01-05T11:55:33.546803Z"
    },
    "jupyter": {
     "outputs_hidden": false
    },
    "papermill": {
     "duration": 1.050861,
     "end_time": "2023-01-05T11:55:33.550459",
     "exception": false,
     "start_time": "2023-01-05T11:55:32.499598",
     "status": "completed"
    },
    "tags": []
   },
   "outputs": [],
   "source": [
    "#Import libraries What will be needed for data analysis?\n",
    "import numpy as np #to deal with data\n",
    "import pandas as pd #to deal with data\n",
    "import matplotlib.pyplot as plt#to deal with graphic charts\n",
    "import seaborn as sns #to deal with graphic charts"
   ]
  },
  {
   "cell_type": "markdown",
   "id": "5c829b48",
   "metadata": {
    "_cell_guid": "59895194-8f54-4457-838b-a2e407e39b4a",
    "_uuid": "bf8353bc-74a0-4963-9e62-882641079a52",
    "execution": {
     "iopub.execute_input": "2022-10-22T12:44:19.388361Z",
     "iopub.status.busy": "2022-10-22T12:44:19.388059Z",
     "iopub.status.idle": "2022-10-22T12:44:19.400000Z",
     "shell.execute_reply": "2022-10-22T12:44:19.399301Z",
     "shell.execute_reply.started": "2022-10-22T12:44:19.388337Z"
    },
    "jupyter": {
     "outputs_hidden": false
    },
    "papermill": {
     "duration": 0.019791,
     "end_time": "2023-01-05T11:55:33.589275",
     "exception": false,
     "start_time": "2023-01-05T11:55:33.569484",
     "status": "completed"
    },
    "tags": []
   },
   "source": [
    "<div style=\"text-align:left;\">\n",
    "  <span style=\"font-size:12pt; font-family:'Times New Roman', Times, serif; color:#000000; font-weight:bold; \">By use  pandas we will read our data </span>\n",
    "  </div>"
   ]
  },
  {
   "cell_type": "code",
   "execution_count": 3,
   "id": "15709e85",
   "metadata": {
    "_cell_guid": "f6750f1b-d7f1-484a-96bf-ac6911b389b6",
    "_uuid": "dc2130d5-2514-42c2-9eff-7245a48ee28a",
    "collapsed": false,
    "execution": {
     "iopub.execute_input": "2023-01-05T11:55:33.627900Z",
     "iopub.status.busy": "2023-01-05T11:55:33.627516Z",
     "iopub.status.idle": "2023-01-05T11:55:33.660854Z",
     "shell.execute_reply": "2023-01-05T11:55:33.659758Z"
    },
    "jupyter": {
     "outputs_hidden": false
    },
    "papermill": {
     "duration": 0.056249,
     "end_time": "2023-01-05T11:55:33.663709",
     "exception": false,
     "start_time": "2023-01-05T11:55:33.607460",
     "status": "completed"
    },
    "tags": []
   },
   "outputs": [],
   "source": [
    "# by use of pandas we will read our data from CSV file\n",
    "df = pd.read_csv('/kaggle/input/car-details-dataset/CAR DETAILS FROM CAR DEKHO.csv')"
   ]
  },
  {
   "cell_type": "markdown",
   "id": "c716b856",
   "metadata": {
    "_cell_guid": "85bdec7c-cb94-46f6-a8f6-6d505070cea7",
    "_uuid": "8027b3c3-8975-4533-a9dd-436456481573",
    "execution": {
     "iopub.execute_input": "2022-10-22T12:52:15.798103Z",
     "iopub.status.busy": "2022-10-22T12:52:15.797768Z",
     "iopub.status.idle": "2022-10-22T12:52:15.817379Z",
     "shell.execute_reply": "2022-10-22T12:52:15.816216Z",
     "shell.execute_reply.started": "2022-10-22T12:52:15.798077Z"
    },
    "jupyter": {
     "outputs_hidden": false
    },
    "papermill": {
     "duration": 0.018788,
     "end_time": "2023-01-05T11:55:33.701667",
     "exception": false,
     "start_time": "2023-01-05T11:55:33.682879",
     "status": "completed"
    },
    "tags": []
   },
   "source": [
    "<div style=\"text-align:left;\">\n",
    "  <span style=\"font-size:12pt; font-family:'Times New Roman', Times, serif; color:#000000; font-weight:bold; \">The first step, we want to know what dataset contains</span>\n",
    "  </div>"
   ]
  },
  {
   "cell_type": "code",
   "execution_count": 4,
   "id": "450a8be1",
   "metadata": {
    "_cell_guid": "d718ae79-337d-4674-911b-28e6bccd1f1c",
    "_uuid": "66d59354-656f-4a8c-979d-527efd8a4ba6",
    "collapsed": false,
    "execution": {
     "iopub.execute_input": "2023-01-05T11:55:33.741355Z",
     "iopub.status.busy": "2023-01-05T11:55:33.740930Z",
     "iopub.status.idle": "2023-01-05T11:55:33.762766Z",
     "shell.execute_reply": "2023-01-05T11:55:33.761503Z"
    },
    "jupyter": {
     "outputs_hidden": false
    },
    "papermill": {
     "duration": 0.044614,
     "end_time": "2023-01-05T11:55:33.765158",
     "exception": false,
     "start_time": "2023-01-05T11:55:33.720544",
     "status": "completed"
    },
    "tags": []
   },
   "outputs": [
    {
     "data": {
      "text/html": [
       "<div>\n",
       "<style scoped>\n",
       "    .dataframe tbody tr th:only-of-type {\n",
       "        vertical-align: middle;\n",
       "    }\n",
       "\n",
       "    .dataframe tbody tr th {\n",
       "        vertical-align: top;\n",
       "    }\n",
       "\n",
       "    .dataframe thead th {\n",
       "        text-align: right;\n",
       "    }\n",
       "</style>\n",
       "<table border=\"1\" class=\"dataframe\">\n",
       "  <thead>\n",
       "    <tr style=\"text-align: right;\">\n",
       "      <th></th>\n",
       "      <th>name</th>\n",
       "      <th>year</th>\n",
       "      <th>selling_price</th>\n",
       "      <th>km_driven</th>\n",
       "      <th>fuel</th>\n",
       "      <th>seller_type</th>\n",
       "      <th>transmission</th>\n",
       "      <th>owner</th>\n",
       "    </tr>\n",
       "  </thead>\n",
       "  <tbody>\n",
       "    <tr>\n",
       "      <th>0</th>\n",
       "      <td>Maruti 800 AC</td>\n",
       "      <td>2007</td>\n",
       "      <td>60000</td>\n",
       "      <td>70000</td>\n",
       "      <td>Petrol</td>\n",
       "      <td>Individual</td>\n",
       "      <td>Manual</td>\n",
       "      <td>First Owner</td>\n",
       "    </tr>\n",
       "    <tr>\n",
       "      <th>1</th>\n",
       "      <td>Maruti Wagon R LXI Minor</td>\n",
       "      <td>2007</td>\n",
       "      <td>135000</td>\n",
       "      <td>50000</td>\n",
       "      <td>Petrol</td>\n",
       "      <td>Individual</td>\n",
       "      <td>Manual</td>\n",
       "      <td>First Owner</td>\n",
       "    </tr>\n",
       "    <tr>\n",
       "      <th>2</th>\n",
       "      <td>Hyundai Verna 1.6 SX</td>\n",
       "      <td>2012</td>\n",
       "      <td>600000</td>\n",
       "      <td>100000</td>\n",
       "      <td>Diesel</td>\n",
       "      <td>Individual</td>\n",
       "      <td>Manual</td>\n",
       "      <td>First Owner</td>\n",
       "    </tr>\n",
       "    <tr>\n",
       "      <th>3</th>\n",
       "      <td>Datsun RediGO T Option</td>\n",
       "      <td>2017</td>\n",
       "      <td>250000</td>\n",
       "      <td>46000</td>\n",
       "      <td>Petrol</td>\n",
       "      <td>Individual</td>\n",
       "      <td>Manual</td>\n",
       "      <td>First Owner</td>\n",
       "    </tr>\n",
       "    <tr>\n",
       "      <th>4</th>\n",
       "      <td>Honda Amaze VX i-DTEC</td>\n",
       "      <td>2014</td>\n",
       "      <td>450000</td>\n",
       "      <td>141000</td>\n",
       "      <td>Diesel</td>\n",
       "      <td>Individual</td>\n",
       "      <td>Manual</td>\n",
       "      <td>Second Owner</td>\n",
       "    </tr>\n",
       "  </tbody>\n",
       "</table>\n",
       "</div>"
      ],
      "text/plain": [
       "                       name  year  selling_price  km_driven    fuel  \\\n",
       "0             Maruti 800 AC  2007          60000      70000  Petrol   \n",
       "1  Maruti Wagon R LXI Minor  2007         135000      50000  Petrol   \n",
       "2      Hyundai Verna 1.6 SX  2012         600000     100000  Diesel   \n",
       "3    Datsun RediGO T Option  2017         250000      46000  Petrol   \n",
       "4     Honda Amaze VX i-DTEC  2014         450000     141000  Diesel   \n",
       "\n",
       "  seller_type transmission         owner  \n",
       "0  Individual       Manual   First Owner  \n",
       "1  Individual       Manual   First Owner  \n",
       "2  Individual       Manual   First Owner  \n",
       "3  Individual       Manual   First Owner  \n",
       "4  Individual       Manual  Second Owner  "
      ]
     },
     "execution_count": 4,
     "metadata": {},
     "output_type": "execute_result"
    }
   ],
   "source": [
    "# we want to know about data \n",
    "df.head()"
   ]
  },
  {
   "cell_type": "markdown",
   "id": "484e7713",
   "metadata": {
    "_cell_guid": "97077a7f-5744-4775-a3b6-e05e37935af7",
    "_uuid": "d8d03bf6-9073-4387-a60d-79c4e6a5b1e7",
    "execution": {
     "iopub.execute_input": "2022-10-22T13:24:01.440639Z",
     "iopub.status.busy": "2022-10-22T13:24:01.440312Z",
     "iopub.status.idle": "2022-10-22T13:24:01.711708Z",
     "shell.execute_reply": "2022-10-22T13:24:01.710746Z",
     "shell.execute_reply.started": "2022-10-22T13:24:01.440615Z"
    },
    "jupyter": {
     "outputs_hidden": false
    },
    "papermill": {
     "duration": 0.019092,
     "end_time": "2023-01-05T11:55:33.803432",
     "exception": false,
     "start_time": "2023-01-05T11:55:33.784340",
     "status": "completed"
    },
    "tags": []
   },
   "source": [
    "<div style=\"text-align:left;\">\n",
    "  <span style=\"font-size:12pt; font-family:'Times New Roman', Times, serif; color:#000000; font-weight:bold; \">Now we know some information about the data and we extracted the first five rows from it</span>\n",
    "  </div>"
   ]
  },
  {
   "cell_type": "markdown",
   "id": "83a374a9",
   "metadata": {
    "_cell_guid": "9c038bf7-634e-4db0-97bf-b351f48e8ae3",
    "_uuid": "a054e3a7-36c7-495a-aaa7-315f4350690b",
    "execution": {
     "iopub.execute_input": "2022-10-22T13:27:22.581252Z",
     "iopub.status.busy": "2022-10-22T13:27:22.580948Z",
     "iopub.status.idle": "2022-10-22T13:27:22.737523Z",
     "shell.execute_reply": "2022-10-22T13:27:22.736135Z",
     "shell.execute_reply.started": "2022-10-22T13:27:22.581229Z"
    },
    "jupyter": {
     "outputs_hidden": false
    },
    "papermill": {
     "duration": 0.018539,
     "end_time": "2023-01-05T11:55:33.840791",
     "exception": false,
     "start_time": "2023-01-05T11:55:33.822252",
     "status": "completed"
    },
    "tags": []
   },
   "source": [
    "<div style=\"text-align:left;\">\n",
    "  <span style=\"font-size:12pt; font-family:'Times New Roman', Times, serif; color:#000000; font-weight:bold; \">Description of the data</span>\n",
    "  </div>"
   ]
  },
  {
   "cell_type": "code",
   "execution_count": 5,
   "id": "282f4cca",
   "metadata": {
    "_cell_guid": "16b751ad-da77-49bf-8ba5-0b7550a9114a",
    "_uuid": "4c7673c1-bb09-400e-ba54-2554b9f22c49",
    "collapsed": false,
    "execution": {
     "iopub.execute_input": "2023-01-05T11:55:33.881362Z",
     "iopub.status.busy": "2023-01-05T11:55:33.880611Z",
     "iopub.status.idle": "2023-01-05T11:55:33.914029Z",
     "shell.execute_reply": "2023-01-05T11:55:33.912760Z"
    },
    "jupyter": {
     "outputs_hidden": false
    },
    "papermill": {
     "duration": 0.056601,
     "end_time": "2023-01-05T11:55:33.916501",
     "exception": false,
     "start_time": "2023-01-05T11:55:33.859900",
     "status": "completed"
    },
    "tags": []
   },
   "outputs": [
    {
     "data": {
      "text/html": [
       "<div>\n",
       "<style scoped>\n",
       "    .dataframe tbody tr th:only-of-type {\n",
       "        vertical-align: middle;\n",
       "    }\n",
       "\n",
       "    .dataframe tbody tr th {\n",
       "        vertical-align: top;\n",
       "    }\n",
       "\n",
       "    .dataframe thead th {\n",
       "        text-align: right;\n",
       "    }\n",
       "</style>\n",
       "<table border=\"1\" class=\"dataframe\">\n",
       "  <thead>\n",
       "    <tr style=\"text-align: right;\">\n",
       "      <th></th>\n",
       "      <th>count</th>\n",
       "      <th>mean</th>\n",
       "      <th>std</th>\n",
       "      <th>min</th>\n",
       "      <th>25%</th>\n",
       "      <th>50%</th>\n",
       "      <th>75%</th>\n",
       "      <th>max</th>\n",
       "    </tr>\n",
       "  </thead>\n",
       "  <tbody>\n",
       "    <tr>\n",
       "      <th>year</th>\n",
       "      <td>4340.0</td>\n",
       "      <td>2013.090783</td>\n",
       "      <td>4.215344</td>\n",
       "      <td>1992.0</td>\n",
       "      <td>2011.00</td>\n",
       "      <td>2014.0</td>\n",
       "      <td>2016.0</td>\n",
       "      <td>2020.0</td>\n",
       "    </tr>\n",
       "    <tr>\n",
       "      <th>selling_price</th>\n",
       "      <td>4340.0</td>\n",
       "      <td>504127.311751</td>\n",
       "      <td>578548.736139</td>\n",
       "      <td>20000.0</td>\n",
       "      <td>208749.75</td>\n",
       "      <td>350000.0</td>\n",
       "      <td>600000.0</td>\n",
       "      <td>8900000.0</td>\n",
       "    </tr>\n",
       "    <tr>\n",
       "      <th>km_driven</th>\n",
       "      <td>4340.0</td>\n",
       "      <td>66215.777419</td>\n",
       "      <td>46644.102194</td>\n",
       "      <td>1.0</td>\n",
       "      <td>35000.00</td>\n",
       "      <td>60000.0</td>\n",
       "      <td>90000.0</td>\n",
       "      <td>806599.0</td>\n",
       "    </tr>\n",
       "  </tbody>\n",
       "</table>\n",
       "</div>"
      ],
      "text/plain": [
       "                count           mean            std      min        25%  \\\n",
       "year           4340.0    2013.090783       4.215344   1992.0    2011.00   \n",
       "selling_price  4340.0  504127.311751  578548.736139  20000.0  208749.75   \n",
       "km_driven      4340.0   66215.777419   46644.102194      1.0   35000.00   \n",
       "\n",
       "                    50%       75%        max  \n",
       "year             2014.0    2016.0     2020.0  \n",
       "selling_price  350000.0  600000.0  8900000.0  \n",
       "km_driven       60000.0   90000.0   806599.0  "
      ]
     },
     "execution_count": 5,
     "metadata": {},
     "output_type": "execute_result"
    }
   ],
   "source": [
    "#Description of the data\n",
    "df.describe().T"
   ]
  },
  {
   "cell_type": "markdown",
   "id": "2d639b89",
   "metadata": {
    "_cell_guid": "1ca1a948-cb28-4be3-aa21-58b1fe0ff4f6",
    "_uuid": "b1b8a938-2766-4087-8e25-66e57029a3ea",
    "execution": {
     "iopub.execute_input": "2022-10-22T13:28:05.381504Z",
     "iopub.status.busy": "2022-10-22T13:28:05.381145Z",
     "iopub.status.idle": "2022-10-22T13:28:05.511659Z",
     "shell.execute_reply": "2022-10-22T13:28:05.510889Z",
     "shell.execute_reply.started": "2022-10-22T13:28:05.381479Z"
    },
    "jupyter": {
     "outputs_hidden": false
    },
    "papermill": {
     "duration": 0.019829,
     "end_time": "2023-01-05T11:55:33.956552",
     "exception": false,
     "start_time": "2023-01-05T11:55:33.936723",
     "status": "completed"
    },
    "tags": []
   },
   "source": [
    "<div style=\"text-align:left;\">\n",
    "  <span style=\"font-size:12pt; font-family:'Times New Roman', Times, serif; color:#000000; font-weight:bold; \">This gave us some more information</span>\n",
    "  </div>"
   ]
  },
  {
   "cell_type": "markdown",
   "id": "df699478",
   "metadata": {
    "_cell_guid": "6e6429bd-cb82-4444-b9da-d3c1b6360776",
    "_uuid": "a4015d9d-8986-4176-b1d4-a1edc6a1827e",
    "execution": {
     "iopub.execute_input": "2022-10-22T13:26:50.387460Z",
     "iopub.status.busy": "2022-10-22T13:26:50.387127Z",
     "iopub.status.idle": "2022-10-22T13:26:50.508101Z",
     "shell.execute_reply": "2022-10-22T13:26:50.507275Z",
     "shell.execute_reply.started": "2022-10-22T13:26:50.387435Z"
    },
    "jupyter": {
     "outputs_hidden": false
    },
    "papermill": {
     "duration": 0.019654,
     "end_time": "2023-01-05T11:55:33.996253",
     "exception": false,
     "start_time": "2023-01-05T11:55:33.976599",
     "status": "completed"
    },
    "tags": []
   },
   "source": [
    "<div style=\"text-align:left;\">\n",
    "  <span style=\"font-size:12pt; font-family:'Times New Roman', Times, serif; color:#000000; font-weight:bold; \">We want to know the size of the data and the number of rows and columns</span>\n",
    "  </div>"
   ]
  },
  {
   "cell_type": "code",
   "execution_count": 6,
   "id": "a6aebe9d",
   "metadata": {
    "_cell_guid": "344698c5-e31e-474b-8ffe-5383796d1df8",
    "_uuid": "06788d6b-5a45-4e12-8ff1-9f9236e43328",
    "collapsed": false,
    "execution": {
     "iopub.execute_input": "2023-01-05T11:55:34.038385Z",
     "iopub.status.busy": "2023-01-05T11:55:34.037973Z",
     "iopub.status.idle": "2023-01-05T11:55:34.045004Z",
     "shell.execute_reply": "2023-01-05T11:55:34.043752Z"
    },
    "jupyter": {
     "outputs_hidden": false
    },
    "papermill": {
     "duration": 0.030507,
     "end_time": "2023-01-05T11:55:34.047313",
     "exception": false,
     "start_time": "2023-01-05T11:55:34.016806",
     "status": "completed"
    },
    "tags": []
   },
   "outputs": [
    {
     "data": {
      "text/plain": [
       "(4340, 8)"
      ]
     },
     "execution_count": 6,
     "metadata": {},
     "output_type": "execute_result"
    }
   ],
   "source": [
    "# to know shape of data \n",
    "df.shape"
   ]
  },
  {
   "cell_type": "markdown",
   "id": "fb40c1b6",
   "metadata": {
    "_cell_guid": "95225787-8263-4d83-8c9c-62987dced8c7",
    "_uuid": "4d417378-0cf8-4f99-9d00-3480d15117ad",
    "execution": {
     "iopub.execute_input": "2022-10-22T13:39:10.647888Z",
     "iopub.status.busy": "2022-10-22T13:39:10.647549Z",
     "iopub.status.idle": "2022-10-22T13:39:10.840137Z",
     "shell.execute_reply": "2022-10-22T13:39:10.838712Z",
     "shell.execute_reply.started": "2022-10-22T13:39:10.647864Z"
    },
    "jupyter": {
     "outputs_hidden": false
    },
    "papermill": {
     "duration": 0.019565,
     "end_time": "2023-01-05T11:55:34.086747",
     "exception": false,
     "start_time": "2023-01-05T11:55:34.067182",
     "status": "completed"
    },
    "tags": []
   },
   "source": [
    "<div style=\"text-align:left;\">\n",
    "  <span style=\"font-size:12pt; font-family:'Times New Roman', Times, serif; color:#000000; font-weight:bold; \">Data contains (4340, 8) coulmns and rows </span>\n",
    "  </div>"
   ]
  },
  {
   "cell_type": "code",
   "execution_count": 7,
   "id": "ca75e7f9",
   "metadata": {
    "_cell_guid": "715275fe-576e-401a-b966-3257ea5cd791",
    "_uuid": "554da55c-0203-4bee-9ada-20f6bacbc423",
    "collapsed": false,
    "execution": {
     "iopub.execute_input": "2023-01-05T11:55:34.129845Z",
     "iopub.status.busy": "2023-01-05T11:55:34.128735Z",
     "iopub.status.idle": "2023-01-05T11:55:34.146296Z",
     "shell.execute_reply": "2023-01-05T11:55:34.144856Z"
    },
    "jupyter": {
     "outputs_hidden": false
    },
    "papermill": {
     "duration": 0.041895,
     "end_time": "2023-01-05T11:55:34.148780",
     "exception": false,
     "start_time": "2023-01-05T11:55:34.106885",
     "status": "completed"
    },
    "tags": []
   },
   "outputs": [
    {
     "name": "stdout",
     "output_type": "stream",
     "text": [
      "<class 'pandas.core.frame.DataFrame'>\n",
      "RangeIndex: 4340 entries, 0 to 4339\n",
      "Data columns (total 8 columns):\n",
      " #   Column         Non-Null Count  Dtype \n",
      "---  ------         --------------  ----- \n",
      " 0   name           4340 non-null   object\n",
      " 1   year           4340 non-null   int64 \n",
      " 2   selling_price  4340 non-null   int64 \n",
      " 3   km_driven      4340 non-null   int64 \n",
      " 4   fuel           4340 non-null   object\n",
      " 5   seller_type    4340 non-null   object\n",
      " 6   transmission   4340 non-null   object\n",
      " 7   owner          4340 non-null   object\n",
      "dtypes: int64(3), object(5)\n",
      "memory usage: 271.4+ KB\n"
     ]
    }
   ],
   "source": [
    "# to know more more information about the data\n",
    "df.info()"
   ]
  },
  {
   "cell_type": "markdown",
   "id": "f784f231",
   "metadata": {
    "papermill": {
     "duration": 0.018913,
     "end_time": "2023-01-05T11:55:34.187495",
     "exception": false,
     "start_time": "2023-01-05T11:55:34.168582",
     "status": "completed"
    },
    "tags": []
   },
   "source": [
    "<div style=\"text-align:left;\">\n",
    "  <span style=\"font-size:12pt; font-family:'Times New Roman', Times, serif; color:#000000; font-weight:bold; \">We want to get the column names</span>\n",
    "  </div>"
   ]
  },
  {
   "cell_type": "code",
   "execution_count": 8,
   "id": "902c0ca6",
   "metadata": {
    "execution": {
     "iopub.execute_input": "2023-01-05T11:55:34.229599Z",
     "iopub.status.busy": "2023-01-05T11:55:34.228658Z",
     "iopub.status.idle": "2023-01-05T11:55:34.235740Z",
     "shell.execute_reply": "2023-01-05T11:55:34.234647Z"
    },
    "papermill": {
     "duration": 0.030777,
     "end_time": "2023-01-05T11:55:34.238016",
     "exception": false,
     "start_time": "2023-01-05T11:55:34.207239",
     "status": "completed"
    },
    "tags": []
   },
   "outputs": [
    {
     "data": {
      "text/plain": [
       "Index(['name', 'year', 'selling_price', 'km_driven', 'fuel', 'seller_type',\n",
       "       'transmission', 'owner'],\n",
       "      dtype='object')"
      ]
     },
     "execution_count": 8,
     "metadata": {},
     "output_type": "execute_result"
    }
   ],
   "source": [
    "#To get the column names \n",
    "df.columns"
   ]
  },
  {
   "cell_type": "markdown",
   "id": "7dcfd962",
   "metadata": {
    "papermill": {
     "duration": 0.019074,
     "end_time": "2023-01-05T11:55:34.276750",
     "exception": false,
     "start_time": "2023-01-05T11:55:34.257676",
     "status": "completed"
    },
    "tags": []
   },
   "source": [
    "<div style=\"text-align:left;\">\n",
    "  <span style=\"font-size:12pt; font-family:'Times New Roman', Times, serif; color:#000000; font-weight:bold; \">We want to extract column types</span>\n",
    "  </div>"
   ]
  },
  {
   "cell_type": "code",
   "execution_count": 9,
   "id": "f9afdf51",
   "metadata": {
    "execution": {
     "iopub.execute_input": "2023-01-05T11:55:34.317763Z",
     "iopub.status.busy": "2023-01-05T11:55:34.317388Z",
     "iopub.status.idle": "2023-01-05T11:55:34.325619Z",
     "shell.execute_reply": "2023-01-05T11:55:34.324479Z"
    },
    "papermill": {
     "duration": 0.031466,
     "end_time": "2023-01-05T11:55:34.327725",
     "exception": false,
     "start_time": "2023-01-05T11:55:34.296259",
     "status": "completed"
    },
    "tags": []
   },
   "outputs": [
    {
     "data": {
      "text/plain": [
       "name             object\n",
       "year              int64\n",
       "selling_price     int64\n",
       "km_driven         int64\n",
       "fuel             object\n",
       "seller_type      object\n",
       "transmission     object\n",
       "owner            object\n",
       "dtype: object"
      ]
     },
     "execution_count": 9,
     "metadata": {},
     "output_type": "execute_result"
    }
   ],
   "source": [
    "#To get the column types  \n",
    "df.dtypes"
   ]
  },
  {
   "cell_type": "markdown",
   "id": "89916d7c",
   "metadata": {
    "papermill": {
     "duration": 0.024551,
     "end_time": "2023-01-05T11:55:34.374592",
     "exception": false,
     "start_time": "2023-01-05T11:55:34.350041",
     "status": "completed"
    },
    "tags": []
   },
   "source": [
    "<div style=\"text-align:left;\">\n",
    "  <span style=\"font-size:12pt; font-family:'Times New Roman', Times, serif; color:#000000; font-weight:bold; \">We want to extract unique values</span>\n",
    "  </div>"
   ]
  },
  {
   "cell_type": "code",
   "execution_count": 10,
   "id": "fc0bc7b5",
   "metadata": {
    "execution": {
     "iopub.execute_input": "2023-01-05T11:55:34.428701Z",
     "iopub.status.busy": "2023-01-05T11:55:34.427770Z",
     "iopub.status.idle": "2023-01-05T11:55:34.442920Z",
     "shell.execute_reply": "2023-01-05T11:55:34.441650Z"
    },
    "papermill": {
     "duration": 0.040368,
     "end_time": "2023-01-05T11:55:34.445220",
     "exception": false,
     "start_time": "2023-01-05T11:55:34.404852",
     "status": "completed"
    },
    "tags": []
   },
   "outputs": [
    {
     "name": "stdout",
     "output_type": "stream",
     "text": [
      "['Maruti 800 AC' 'Maruti Wagon R LXI Minor' 'Hyundai Verna 1.6 SX' ...\n",
      " 'Mahindra Verito 1.5 D6 BSIII'\n",
      " 'Toyota Innova 2.5 VX (Diesel) 8 Seater BS IV'\n",
      " 'Hyundai i20 Magna 1.4 CRDi']\n",
      "[1992, 1995, 1996, 1997, 1998, 1999, 2000, 2001, 2002, 2003, 2004, 2005, 2006, 2007, 2008, 2009, 2010, 2011, 2012, 2013, 2014, 2015, 2016, 2017, 2018, 2019, 2020]\n",
      "['Petrol' 'Diesel' 'CNG' 'LPG' 'Electric']\n",
      "['Individual' 'Dealer' 'Trustmark Dealer']\n",
      "['Manual' 'Automatic']\n",
      "['First Owner' 'Second Owner' 'Fourth & Above Owner' 'Third Owner'\n",
      " 'Test Drive Car']\n"
     ]
    }
   ],
   "source": [
    "# to know unique values\n",
    "print(df.name.unique())\n",
    "print(sorted(df.year.unique()))\n",
    "print(df.fuel.unique())\n",
    "print(df.seller_type.unique())\n",
    "print(df.transmission.unique())\n",
    "print(df.owner.unique())"
   ]
  },
  {
   "cell_type": "markdown",
   "id": "cd7744bb",
   "metadata": {
    "papermill": {
     "duration": 0.019486,
     "end_time": "2023-01-05T11:55:34.484371",
     "exception": false,
     "start_time": "2023-01-05T11:55:34.464885",
     "status": "completed"
    },
    "tags": []
   },
   "source": [
    "<div style=\"text-align:left;\">\n",
    "  <span style=\"font-size:12pt; font-family:'Times New Roman', Times, serif; color:#000000; font-weight:bold; \">To find if there are null values or not</span>\n",
    "  </div>"
   ]
  },
  {
   "cell_type": "code",
   "execution_count": 11,
   "id": "155d250e",
   "metadata": {
    "execution": {
     "iopub.execute_input": "2023-01-05T11:55:34.525548Z",
     "iopub.status.busy": "2023-01-05T11:55:34.525086Z",
     "iopub.status.idle": "2023-01-05T11:55:34.535711Z",
     "shell.execute_reply": "2023-01-05T11:55:34.534718Z"
    },
    "papermill": {
     "duration": 0.033966,
     "end_time": "2023-01-05T11:55:34.537911",
     "exception": false,
     "start_time": "2023-01-05T11:55:34.503945",
     "status": "completed"
    },
    "tags": []
   },
   "outputs": [
    {
     "data": {
      "text/plain": [
       "name             0\n",
       "year             0\n",
       "selling_price    0\n",
       "km_driven        0\n",
       "fuel             0\n",
       "seller_type      0\n",
       "transmission     0\n",
       "owner            0\n",
       "dtype: int64"
      ]
     },
     "execution_count": 11,
     "metadata": {},
     "output_type": "execute_result"
    }
   ],
   "source": [
    "# find null values\n",
    "df.isnull().sum()"
   ]
  },
  {
   "cell_type": "markdown",
   "id": "7c24f038",
   "metadata": {
    "papermill": {
     "duration": 0.01972,
     "end_time": "2023-01-05T11:55:34.577440",
     "exception": false,
     "start_time": "2023-01-05T11:55:34.557720",
     "status": "completed"
    },
    "tags": []
   },
   "source": [
    "<div style=\"text-align:left;\">\n",
    "  <span style=\"font-size:12pt; font-family:'Times New Roman', Times, serif; color:#000000; font-weight:bold; \">To see if there are duplicate values</span>\n",
    "  </div>"
   ]
  },
  {
   "cell_type": "code",
   "execution_count": 12,
   "id": "b0888578",
   "metadata": {
    "execution": {
     "iopub.execute_input": "2023-01-05T11:55:34.620447Z",
     "iopub.status.busy": "2023-01-05T11:55:34.619466Z",
     "iopub.status.idle": "2023-01-05T11:55:34.629931Z",
     "shell.execute_reply": "2023-01-05T11:55:34.629199Z"
    },
    "papermill": {
     "duration": 0.033601,
     "end_time": "2023-01-05T11:55:34.632158",
     "exception": false,
     "start_time": "2023-01-05T11:55:34.598557",
     "status": "completed"
    },
    "tags": []
   },
   "outputs": [
    {
     "data": {
      "text/plain": [
       "763"
      ]
     },
     "execution_count": 12,
     "metadata": {},
     "output_type": "execute_result"
    }
   ],
   "source": [
    "#find duplicate values\n",
    "df.duplicated().sum()"
   ]
  },
  {
   "cell_type": "markdown",
   "id": "3abf3ff4",
   "metadata": {
    "papermill": {
     "duration": 0.020789,
     "end_time": "2023-01-05T11:55:34.673688",
     "exception": false,
     "start_time": "2023-01-05T11:55:34.652899",
     "status": "completed"
    },
    "tags": []
   },
   "source": [
    "<div style=\"text-align:left;\">\n",
    "  <span style=\"font-size:12pt; font-family:'Times New Roman', Times, serif; color:#000000; font-weight:bold; \">To view duplicate values</span>\n",
    "  </div>"
   ]
  },
  {
   "cell_type": "code",
   "execution_count": 13,
   "id": "df2bdf22",
   "metadata": {
    "execution": {
     "iopub.execute_input": "2023-01-05T11:55:34.716427Z",
     "iopub.status.busy": "2023-01-05T11:55:34.715788Z",
     "iopub.status.idle": "2023-01-05T11:55:34.735364Z",
     "shell.execute_reply": "2023-01-05T11:55:34.734562Z"
    },
    "papermill": {
     "duration": 0.043779,
     "end_time": "2023-01-05T11:55:34.737489",
     "exception": false,
     "start_time": "2023-01-05T11:55:34.693710",
     "status": "completed"
    },
    "tags": []
   },
   "outputs": [
    {
     "data": {
      "text/html": [
       "<div>\n",
       "<style scoped>\n",
       "    .dataframe tbody tr th:only-of-type {\n",
       "        vertical-align: middle;\n",
       "    }\n",
       "\n",
       "    .dataframe tbody tr th {\n",
       "        vertical-align: top;\n",
       "    }\n",
       "\n",
       "    .dataframe thead th {\n",
       "        text-align: right;\n",
       "    }\n",
       "</style>\n",
       "<table border=\"1\" class=\"dataframe\">\n",
       "  <thead>\n",
       "    <tr style=\"text-align: right;\">\n",
       "      <th></th>\n",
       "      <th>name</th>\n",
       "      <th>year</th>\n",
       "      <th>selling_price</th>\n",
       "      <th>km_driven</th>\n",
       "      <th>fuel</th>\n",
       "      <th>seller_type</th>\n",
       "      <th>transmission</th>\n",
       "      <th>owner</th>\n",
       "    </tr>\n",
       "  </thead>\n",
       "  <tbody>\n",
       "    <tr>\n",
       "      <th>13</th>\n",
       "      <td>Maruti 800 AC</td>\n",
       "      <td>2007</td>\n",
       "      <td>60000</td>\n",
       "      <td>70000</td>\n",
       "      <td>Petrol</td>\n",
       "      <td>Individual</td>\n",
       "      <td>Manual</td>\n",
       "      <td>First Owner</td>\n",
       "    </tr>\n",
       "    <tr>\n",
       "      <th>14</th>\n",
       "      <td>Maruti Wagon R LXI Minor</td>\n",
       "      <td>2007</td>\n",
       "      <td>135000</td>\n",
       "      <td>50000</td>\n",
       "      <td>Petrol</td>\n",
       "      <td>Individual</td>\n",
       "      <td>Manual</td>\n",
       "      <td>First Owner</td>\n",
       "    </tr>\n",
       "    <tr>\n",
       "      <th>15</th>\n",
       "      <td>Hyundai Verna 1.6 SX</td>\n",
       "      <td>2012</td>\n",
       "      <td>600000</td>\n",
       "      <td>100000</td>\n",
       "      <td>Diesel</td>\n",
       "      <td>Individual</td>\n",
       "      <td>Manual</td>\n",
       "      <td>First Owner</td>\n",
       "    </tr>\n",
       "    <tr>\n",
       "      <th>16</th>\n",
       "      <td>Datsun RediGO T Option</td>\n",
       "      <td>2017</td>\n",
       "      <td>250000</td>\n",
       "      <td>46000</td>\n",
       "      <td>Petrol</td>\n",
       "      <td>Individual</td>\n",
       "      <td>Manual</td>\n",
       "      <td>First Owner</td>\n",
       "    </tr>\n",
       "    <tr>\n",
       "      <th>17</th>\n",
       "      <td>Honda Amaze VX i-DTEC</td>\n",
       "      <td>2014</td>\n",
       "      <td>450000</td>\n",
       "      <td>141000</td>\n",
       "      <td>Diesel</td>\n",
       "      <td>Individual</td>\n",
       "      <td>Manual</td>\n",
       "      <td>Second Owner</td>\n",
       "    </tr>\n",
       "    <tr>\n",
       "      <th>...</th>\n",
       "      <td>...</td>\n",
       "      <td>...</td>\n",
       "      <td>...</td>\n",
       "      <td>...</td>\n",
       "      <td>...</td>\n",
       "      <td>...</td>\n",
       "      <td>...</td>\n",
       "      <td>...</td>\n",
       "    </tr>\n",
       "    <tr>\n",
       "      <th>4307</th>\n",
       "      <td>Mahindra Xylo H4</td>\n",
       "      <td>2019</td>\n",
       "      <td>599000</td>\n",
       "      <td>15000</td>\n",
       "      <td>Diesel</td>\n",
       "      <td>Individual</td>\n",
       "      <td>Manual</td>\n",
       "      <td>Third Owner</td>\n",
       "    </tr>\n",
       "    <tr>\n",
       "      <th>4308</th>\n",
       "      <td>Maruti Alto 800 LXI</td>\n",
       "      <td>2018</td>\n",
       "      <td>200000</td>\n",
       "      <td>35000</td>\n",
       "      <td>Petrol</td>\n",
       "      <td>Individual</td>\n",
       "      <td>Manual</td>\n",
       "      <td>First Owner</td>\n",
       "    </tr>\n",
       "    <tr>\n",
       "      <th>4309</th>\n",
       "      <td>Datsun GO Plus T</td>\n",
       "      <td>2017</td>\n",
       "      <td>350000</td>\n",
       "      <td>10171</td>\n",
       "      <td>Petrol</td>\n",
       "      <td>Dealer</td>\n",
       "      <td>Manual</td>\n",
       "      <td>First Owner</td>\n",
       "    </tr>\n",
       "    <tr>\n",
       "      <th>4310</th>\n",
       "      <td>Renault Duster 110PS Diesel RxL</td>\n",
       "      <td>2015</td>\n",
       "      <td>465000</td>\n",
       "      <td>41123</td>\n",
       "      <td>Diesel</td>\n",
       "      <td>Dealer</td>\n",
       "      <td>Manual</td>\n",
       "      <td>First Owner</td>\n",
       "    </tr>\n",
       "    <tr>\n",
       "      <th>4311</th>\n",
       "      <td>Toyota Camry Hybrid 2.5</td>\n",
       "      <td>2017</td>\n",
       "      <td>1900000</td>\n",
       "      <td>20118</td>\n",
       "      <td>Petrol</td>\n",
       "      <td>Dealer</td>\n",
       "      <td>Automatic</td>\n",
       "      <td>First Owner</td>\n",
       "    </tr>\n",
       "  </tbody>\n",
       "</table>\n",
       "<p>763 rows × 8 columns</p>\n",
       "</div>"
      ],
      "text/plain": [
       "                                 name  year  selling_price  km_driven    fuel  \\\n",
       "13                      Maruti 800 AC  2007          60000      70000  Petrol   \n",
       "14           Maruti Wagon R LXI Minor  2007         135000      50000  Petrol   \n",
       "15               Hyundai Verna 1.6 SX  2012         600000     100000  Diesel   \n",
       "16             Datsun RediGO T Option  2017         250000      46000  Petrol   \n",
       "17              Honda Amaze VX i-DTEC  2014         450000     141000  Diesel   \n",
       "...                               ...   ...            ...        ...     ...   \n",
       "4307                 Mahindra Xylo H4  2019         599000      15000  Diesel   \n",
       "4308              Maruti Alto 800 LXI  2018         200000      35000  Petrol   \n",
       "4309                 Datsun GO Plus T  2017         350000      10171  Petrol   \n",
       "4310  Renault Duster 110PS Diesel RxL  2015         465000      41123  Diesel   \n",
       "4311          Toyota Camry Hybrid 2.5  2017        1900000      20118  Petrol   \n",
       "\n",
       "     seller_type transmission         owner  \n",
       "13    Individual       Manual   First Owner  \n",
       "14    Individual       Manual   First Owner  \n",
       "15    Individual       Manual   First Owner  \n",
       "16    Individual       Manual   First Owner  \n",
       "17    Individual       Manual  Second Owner  \n",
       "...          ...          ...           ...  \n",
       "4307  Individual       Manual   Third Owner  \n",
       "4308  Individual       Manual   First Owner  \n",
       "4309      Dealer       Manual   First Owner  \n",
       "4310      Dealer       Manual   First Owner  \n",
       "4311      Dealer    Automatic   First Owner  \n",
       "\n",
       "[763 rows x 8 columns]"
      ]
     },
     "execution_count": 13,
     "metadata": {},
     "output_type": "execute_result"
    }
   ],
   "source": [
    "# view duplicate values\n",
    "df[df.duplicated()]"
   ]
  },
  {
   "cell_type": "markdown",
   "id": "9ceca454",
   "metadata": {
    "papermill": {
     "duration": 0.020414,
     "end_time": "2023-01-05T11:55:34.778729",
     "exception": false,
     "start_time": "2023-01-05T11:55:34.758315",
     "status": "completed"
    },
    "tags": []
   },
   "source": [
    "<div style=\"text-align:left;\">\n",
    "  <span style=\"font-size:12pt; font-family:'Times New Roman', Times, serif; color:#000000; font-weight:bold; \">There are duplicate values, but we will not delete them because it is natural that there are duplicate values, \n",
    "normal same model car was sold many times</span>\n",
    "  </div>"
   ]
  },
  {
   "cell_type": "markdown",
   "id": "1f784f09",
   "metadata": {
    "papermill": {
     "duration": 0.021204,
     "end_time": "2023-01-05T11:55:34.821053",
     "exception": false,
     "start_time": "2023-01-05T11:55:34.799849",
     "status": "completed"
    },
    "tags": []
   },
   "source": [
    "<div style=\"color:white;\n",
    "            display:fill;\n",
    "            border-radius:15px;\n",
    "            background-color:#9248A5;\n",
    "            font-size:70%;\n",
    "            font-family:Verdana;\n",
    "            letter-spacing:1px\">\n",
    "            <div id=\"data2\">\n",
    "    <h1 style='padding: 20px;\n",
    "              color:#B2B223;\n",
    "              text-align:center;'>\n",
    "        📊Data Analysis 1\n",
    "            </h1>\n",
    "    </div>"
   ]
  },
  {
   "cell_type": "markdown",
   "id": "91a60016",
   "metadata": {
    "papermill": {
     "duration": 0.020745,
     "end_time": "2023-01-05T11:55:34.862055",
     "exception": false,
     "start_time": "2023-01-05T11:55:34.841310",
     "status": "completed"
    },
    "tags": []
   },
   "source": [
    "<div style=\"text-align:left;\">\n",
    "  <span style=\"font-size:12pt; font-family:'Times New Roman', Times, serif; color:#000000; font-weight:bold; \">Now we move on to the next stage, which is data analysis<br/>\n",
    "Let's start trying to find out What is the most sold car??\n",
    "</span>\n",
    "  </div>"
   ]
  },
  {
   "cell_type": "code",
   "execution_count": 14,
   "id": "9ead971b",
   "metadata": {
    "execution": {
     "iopub.execute_input": "2023-01-05T11:55:34.904532Z",
     "iopub.status.busy": "2023-01-05T11:55:34.904084Z",
     "iopub.status.idle": "2023-01-05T11:55:35.097029Z",
     "shell.execute_reply": "2023-01-05T11:55:35.095971Z"
    },
    "papermill": {
     "duration": 0.217136,
     "end_time": "2023-01-05T11:55:35.099580",
     "exception": false,
     "start_time": "2023-01-05T11:55:34.882444",
     "status": "completed"
    },
    "tags": []
   },
   "outputs": [
    {
     "data": {
      "image/png": "[encoded data removed]",
      "text/plain": [
       "<Figure size 432x288 with 1 Axes>"
      ]
     },
     "metadata": {
      "needs_background": "light"
     },
     "output_type": "display_data"
    }
   ],
   "source": [
    "#we use (value_counts) to know to know the sold numbers of each car use (plot) to draw the graph\n",
    "df[\"name\"].value_counts(normalize = True)[:5].plot(kind = 'bar') \n",
    "plt.show() "
   ]
  },
  {
   "cell_type": "markdown",
   "id": "9259d942",
   "metadata": {
    "papermill": {
     "duration": 0.020777,
     "end_time": "2023-01-05T11:55:35.141631",
     "exception": false,
     "start_time": "2023-01-05T11:55:35.120854",
     "status": "completed"
    },
    "tags": []
   },
   "source": [
    "<div style=\"text-align:left;\">\n",
    "  <span style=\"font-size:12pt; font-family:'Times New Roman', Times, serif; color:#000000; font-weight:bold; \">Now we have a note on the names of the cars in detail<br/>We want to extract reports based on the brands,so we will add a column contain the brand for each car <br/>and we will build it by separating the first part of the name of each car in to create a new column with the brands only</span>\n",
    "  </div>"
   ]
  },
  {
   "cell_type": "code",
   "execution_count": 15,
   "id": "fa6e468c",
   "metadata": {
    "execution": {
     "iopub.execute_input": "2023-01-05T11:55:35.184481Z",
     "iopub.status.busy": "2023-01-05T11:55:35.184062Z",
     "iopub.status.idle": "2023-01-05T11:55:35.198116Z",
     "shell.execute_reply": "2023-01-05T11:55:35.196967Z"
    },
    "papermill": {
     "duration": 0.038183,
     "end_time": "2023-01-05T11:55:35.200502",
     "exception": false,
     "start_time": "2023-01-05T11:55:35.162319",
     "status": "completed"
    },
    "tags": []
   },
   "outputs": [
    {
     "data": {
      "text/plain": [
       "0        Maruti\n",
       "1        Maruti\n",
       "2       Hyundai\n",
       "3        Datsun\n",
       "4         Honda\n",
       "         ...   \n",
       "4335    Hyundai\n",
       "4336    Hyundai\n",
       "4337     Maruti\n",
       "4338    Hyundai\n",
       "4339    Renault\n",
       "Name: brand, Length: 4340, dtype: object"
      ]
     },
     "execution_count": 15,
     "metadata": {},
     "output_type": "execute_result"
    }
   ],
   "source": [
    "#add new coulmn by brand name split first part  \n",
    "df[\"brand\"] = df.name.apply(lambda x : ' '.join(x.split(' ')[:1]))#Cuts first word only(car brand)from name column\n",
    "df['brand'] # New column review"
   ]
  },
  {
   "cell_type": "markdown",
   "id": "3a647f29",
   "metadata": {
    "papermill": {
     "duration": 0.020612,
     "end_time": "2023-01-05T11:55:35.241702",
     "exception": false,
     "start_time": "2023-01-05T11:55:35.221090",
     "status": "completed"
    },
    "tags": []
   },
   "source": [
    "<div style=\"text-align:left;\">\n",
    "  <span style=\"font-size:12pt; font-family:'Times New Roman', Times, serif; color:#000000; font-weight:bold; \">We want to know the number of values in the column</span>\n",
    "  </div>"
   ]
  },
  {
   "cell_type": "code",
   "execution_count": 16,
   "id": "b58a24b6",
   "metadata": {
    "execution": {
     "iopub.execute_input": "2023-01-05T11:55:35.285643Z",
     "iopub.status.busy": "2023-01-05T11:55:35.285225Z",
     "iopub.status.idle": "2023-01-05T11:55:35.293903Z",
     "shell.execute_reply": "2023-01-05T11:55:35.293133Z"
    },
    "papermill": {
     "duration": 0.033198,
     "end_time": "2023-01-05T11:55:35.295894",
     "exception": false,
     "start_time": "2023-01-05T11:55:35.262696",
     "status": "completed"
    },
    "tags": []
   },
   "outputs": [
    {
     "data": {
      "text/plain": [
       "Maruti           1280\n",
       "Hyundai           821\n",
       "Mahindra          365\n",
       "Tata              361\n",
       "Honda             252\n",
       "Ford              238\n",
       "Toyota            206\n",
       "Chevrolet         188\n",
       "Renault           146\n",
       "Volkswagen        107\n",
       "Skoda              68\n",
       "Nissan             64\n",
       "Audi               60\n",
       "BMW                39\n",
       "Fiat               37\n",
       "Datsun             37\n",
       "Mercedes-Benz      35\n",
       "Jaguar              6\n",
       "Mitsubishi          6\n",
       "Land                5\n",
       "Volvo               4\n",
       "Ambassador          4\n",
       "Jeep                3\n",
       "MG                  2\n",
       "OpelCorsa           2\n",
       "Daewoo              1\n",
       "Force               1\n",
       "Isuzu               1\n",
       "Kia                 1\n",
       "Name: brand, dtype: int64"
      ]
     },
     "execution_count": 16,
     "metadata": {},
     "output_type": "execute_result"
    }
   ],
   "source": [
    "#To know countnvalue in coulmn\n",
    "df.brand.value_counts()"
   ]
  },
  {
   "cell_type": "markdown",
   "id": "7d74f300",
   "metadata": {
    "papermill": {
     "duration": 0.021017,
     "end_time": "2023-01-05T11:55:35.337851",
     "exception": false,
     "start_time": "2023-01-05T11:55:35.316834",
     "status": "completed"
    },
    "tags": []
   },
   "source": [
    "<div style=\"text-align:left;\">\n",
    "  <span style=\"font-size:12pt; font-family:'Times New Roman', Times, serif; color:#000000; font-weight:bold; \">We want to know the average prices of the brands</span>\n",
    "  </div>"
   ]
  },
  {
   "cell_type": "code",
   "execution_count": 17,
   "id": "0579db60",
   "metadata": {
    "execution": {
     "iopub.execute_input": "2023-01-05T11:55:35.382635Z",
     "iopub.status.busy": "2023-01-05T11:55:35.381926Z",
     "iopub.status.idle": "2023-01-05T11:55:36.089927Z",
     "shell.execute_reply": "2023-01-05T11:55:36.089085Z"
    },
    "papermill": {
     "duration": 0.732637,
     "end_time": "2023-01-05T11:55:36.092157",
     "exception": false,
     "start_time": "2023-01-05T11:55:35.359520",
     "status": "completed"
    },
    "tags": []
   },
   "outputs": [
    {
     "data": {
      "image/png": "[encoded data removed]",
      "text/plain": [
       "<Figure size 720x1152 with 1 Axes>"
      ]
     },
     "metadata": {
      "needs_background": "light"
     },
     "output_type": "display_data"
    }
   ],
   "source": [
    "#we use groupby and mean to extract values and plot to draw the graph\n",
    "price = df.groupby(['brand'])[['selling_price']].mean()\n",
    "price.sort_values(by='selling_price', ascending=True, inplace=True)\n",
    "ax   = price.plot(kind='barh', cmap='PRGn' , figsize=(10,16) ,title= 'Avarege Selling Price Car Brand')\n",
    "for c in ax.containers:\n",
    "        # set the bar label\n",
    "    ax.bar_label(c, fmt='%.0f',label_type='center', color='w',rotation=0)"
   ]
  },
  {
   "cell_type": "markdown",
   "id": "3b265e55",
   "metadata": {
    "papermill": {
     "duration": 0.022223,
     "end_time": "2023-01-05T11:55:36.136443",
     "exception": false,
     "start_time": "2023-01-05T11:55:36.114220",
     "status": "completed"
    },
    "tags": []
   },
   "source": [
    "<div style=\"text-align:left;\">\n",
    "  <span style=\"font-size:12pt; font-family:'Times New Roman', Times, serif; color:#000000; font-weight:bold; \">Now trying to find out the sales classified by brand</span>\n",
    "  </div>"
   ]
  },
  {
   "cell_type": "code",
   "execution_count": 18,
   "id": "e60d448e",
   "metadata": {
    "execution": {
     "iopub.execute_input": "2023-01-05T11:55:36.182345Z",
     "iopub.status.busy": "2023-01-05T11:55:36.181638Z",
     "iopub.status.idle": "2023-01-05T11:55:37.041550Z",
     "shell.execute_reply": "2023-01-05T11:55:37.040424Z"
    },
    "papermill": {
     "duration": 0.885539,
     "end_time": "2023-01-05T11:55:37.043988",
     "exception": false,
     "start_time": "2023-01-05T11:55:36.158449",
     "status": "completed"
    },
    "tags": []
   },
   "outputs": [
    {
     "data": {
      "image/png": "[encoded data removed]",
      "text/plain": [
       "<Figure size 432x288 with 2 Axes>"
      ]
     },
     "metadata": {
      "needs_background": "light"
     },
     "output_type": "display_data"
    }
   ],
   "source": [
    "# We will display sales by count and value in separate graphs\n",
    "\n",
    "#plot 1:\n",
    "data = df.groupby(['brand'])['brand'].count().sort_values(ascending=False) #to extract the count \n",
    "x = data.index # to extract the brand name\n",
    "y = data.values # to extract the count to brand \n",
    "plt.subplot(2, 1, 1)#The location of the first graph 2 1 1 \n",
    "#the figure has 2 row, 1 columns, and this plot is the first plot.\n",
    "plt.bar(x, y, color ='blue',width = 0.4)#Fomat to plt.bar\n",
    "plt.rcParams['axes.facecolor'] = '#FFFFFF'#background color\n",
    "plt.xticks(rotation=90) #Make the text of the label Make the text of the label at  angle 90 \n",
    "plt.xlabel(\"Name\",fontsize=10,color=\"black\")#Fomat and name to x\n",
    "plt.ylabel(\"Sales\",fontsize=10,color=\"black\")#Fomat and name to y\n",
    "plt.title(\"ٍSales Gount\",color=\"black\")#Fomat and name to title\n",
    "plt.legend([\"count\"], loc =\"upper right\" ,facecolor='green', labelcolor='black')#Fomat and name to legend\n",
    "plt.rcParams['figure.figsize'] = [10, 10]#Determine the size of the graph\n",
    "plt.grid(color='grey', linestyle='-', linewidth=.1)#Fomat grid network that appears in graph background \n",
    "#plt.xlim([0, 1]) #\n",
    "#plt.ylim([0, 2000])#\n",
    "#plt.locator_params(axis='x', nbins=20)#\n",
    "plt.locator_params(axis='y', nbins=20)# to make y texts 100-200-300-- like that  \n",
    "    \n",
    "#plot 2:\n",
    "plt.subplot(2, 1, 2)#The location of the second graph 2 1 2\n",
    "#the figure has 2 row, 1 columns, and this plot is the second plot.\n",
    "data = df.groupby(['brand'])['selling_price'].sum().sort_values(ascending=False) \n",
    "x = data.index # to extract the brand name\n",
    "y = data.values #to extract the sum to brand \n",
    "plt.bar(x, y, color ='blue',width = 0.4)\n",
    "plt.rcParams['axes.facecolor'] = '#FFFFFF'\n",
    "plt.xticks(rotation=90)\n",
    "plt.xlabel(\"Name\",fontsize=10,color=\"black\")\n",
    "plt.ylabel(\"Sales\",fontsize=10,color=\"black\")\n",
    "plt.title(\"ٍSales Values\",color=\"black\")\n",
    "plt.legend([\"Values\"], loc =\"upper right\" ,facecolor='green', labelcolor='black')\n",
    "plt.rcParams['figure.figsize'] = [10, 10]\n",
    "plt.grid(color='grey', linestyle='-', linewidth=.1)\n",
    "#plt.xlim([0, 1]) \n",
    "#plt.ylim([0, 2000])\n",
    "#plt.locator_params(axis='x', nbins=20)\n",
    "plt.locator_params(axis='y', nbins=20)\n",
    "#plt.margins(x=0, y=0)\n",
    "plt.yticks(ticks=plt.yticks()[0], labels=plt.yticks()[0])# Show real values,numbers big without it appear short\n",
    "plt.subplots_adjust(left=0.1, bottom=0.1, right=0.9,top=0.9,wspace=0.5, hspace=0.6)# set the spacing between subplots\n",
    "plt.suptitle(\"Sales\")#Name for the whole graph\n",
    "plt.show()#view"
   ]
  },
  {
   "cell_type": "markdown",
   "id": "4b48a1da",
   "metadata": {
    "papermill": {
     "duration": 0.023095,
     "end_time": "2023-01-05T11:55:37.090394",
     "exception": false,
     "start_time": "2023-01-05T11:55:37.067299",
     "status": "completed"
    },
    "tags": []
   },
   "source": [
    "<div style=\"text-align:left;\">\n",
    "  <span style=\"font-size:12pt; font-family:'Times New Roman', Times, serif; color:#000000; font-weight:bold; \">We will try another graph to display sales</span>\n",
    "  </div>"
   ]
  },
  {
   "cell_type": "code",
   "execution_count": 19,
   "id": "a01abba9",
   "metadata": {
    "execution": {
     "iopub.execute_input": "2023-01-05T11:55:37.140027Z",
     "iopub.status.busy": "2023-01-05T11:55:37.139579Z",
     "iopub.status.idle": "2023-01-05T11:55:37.541276Z",
     "shell.execute_reply": "2023-01-05T11:55:37.540442Z"
    },
    "papermill": {
     "duration": 0.429362,
     "end_time": "2023-01-05T11:55:37.543490",
     "exception": false,
     "start_time": "2023-01-05T11:55:37.114128",
     "status": "completed"
    },
    "tags": []
   },
   "outputs": [
    {
     "data": {
      "image/png": "[encoded data removed]",
      "text/plain": [
       "<Figure size 576x576 with 1 Axes>"
      ]
     },
     "metadata": {},
     "output_type": "display_data"
    }
   ],
   "source": [
    "## We will display sales by count in pie graphs\n",
    "labels = df[\"brand\"][:20].value_counts().index #We chose only twenty\n",
    "sizes = df[\"brand\"][:20].value_counts() # We chose only twenty\n",
    "data = df.groupby(['brand'])['brand'].count().sort_values(ascending=False)#to extract the count\n",
    "x = data.index #to extract the brand name\n",
    "y = data.values#to extract the count to brand \n",
    "colors = ['#F8EEFB','#66b3ff','#8000FF','#ffcc99',\"#00FF1B\",\"#FF8040\",\"#F8AEF8\"]#color choice\n",
    "plt.figure(figsize = (8,8))#Determine the size of the graph\n",
    "# Creating explode data\n",
    "#explode = (0.1, 0.0, 0.2, 0.3, 0.0, 0.0)\n",
    "plt.pie(sizes, labels=labels, rotatelabels=False, autopct='%1.1f%%',colors=colors,shadow=True, startangle=45)#Fomat pie\n",
    "plt.title('name',color = 'black',fontsize = 15)#Fomat title\n",
    "#plt.legend()#\n",
    "plt.legend(title = \"Cars\")#title legend\n",
    "#plt.legend(wedges, cars, title =\"Cars\",loc =\"center left\",bbox_to_anchor =(1, 0, 0.5, 1))\n",
    "#myexplode = [0.2, 0, 0, 0]\n",
    "plt.show()#view"
   ]
  },
  {
   "cell_type": "markdown",
   "id": "ac9faa53",
   "metadata": {
    "papermill": {
     "duration": 0.023238,
     "end_time": "2023-01-05T11:55:37.590081",
     "exception": false,
     "start_time": "2023-01-05T11:55:37.566843",
     "status": "completed"
    },
    "tags": []
   },
   "source": [
    "<div style=\"text-align:left;\">\n",
    "  <span style=\"font-size:12pt; font-family:'Times New Roman', Times, serif; color:#000000; font-weight:bold; \">We note that Maruti Hyundai best selling brands now from just looking at the graphs<br/>we have information about what is the most best selling brand , by  count , by  value<br/>we have now an idea about the sales, categorized by car brand but we also want analyze the data from another point of view for more comprehensive vision</span>\n",
    "  </div>"
   ]
  },
  {
   "cell_type": "markdown",
   "id": "86201ec3",
   "metadata": {
    "papermill": {
     "duration": 0.023526,
     "end_time": "2023-01-05T11:55:37.637059",
     "exception": false,
     "start_time": "2023-01-05T11:55:37.613533",
     "status": "completed"
    },
    "tags": []
   },
   "source": [
    "<div style=\"text-align:left;\">\n",
    "  <span style=\"font-size:12pt; font-family:'Times New Roman', Times, serif; color:#000000; font-weight:bold; \">Analysis by year</span>\n",
    "  </div>"
   ]
  },
  {
   "cell_type": "code",
   "execution_count": 20,
   "id": "ff337e41",
   "metadata": {
    "execution": {
     "iopub.execute_input": "2023-01-05T11:55:37.687164Z",
     "iopub.status.busy": "2023-01-05T11:55:37.686419Z",
     "iopub.status.idle": "2023-01-05T11:55:37.693774Z",
     "shell.execute_reply": "2023-01-05T11:55:37.693050Z"
    },
    "papermill": {
     "duration": 0.034796,
     "end_time": "2023-01-05T11:55:37.695865",
     "exception": false,
     "start_time": "2023-01-05T11:55:37.661069",
     "status": "completed"
    },
    "tags": []
   },
   "outputs": [
    {
     "data": {
      "text/plain": [
       "2017    466\n",
       "2015    421\n",
       "2012    415\n",
       "2013    386\n",
       "2014    367\n",
       "2018    366\n",
       "2016    357\n",
       "2011    271\n",
       "2010    234\n",
       "2019    195\n",
       "2009    193\n",
       "2008    145\n",
       "2007    134\n",
       "2006    110\n",
       "2005     85\n",
       "2020     48\n",
       "2004     42\n",
       "2003     23\n",
       "2002     21\n",
       "2001     20\n",
       "1998     12\n",
       "2000     12\n",
       "1999     10\n",
       "1997      3\n",
       "1996      2\n",
       "1995      1\n",
       "1992      1\n",
       "Name: year, dtype: int64"
      ]
     },
     "execution_count": 20,
     "metadata": {},
     "output_type": "execute_result"
    }
   ],
   "source": [
    "#To know countnvalue in year coulmn\n",
    "df.year.value_counts()"
   ]
  },
  {
   "cell_type": "code",
   "execution_count": 21,
   "id": "91c96619",
   "metadata": {
    "execution": {
     "iopub.execute_input": "2023-01-05T11:55:37.746591Z",
     "iopub.status.busy": "2023-01-05T11:55:37.745846Z",
     "iopub.status.idle": "2023-01-05T11:55:38.091179Z",
     "shell.execute_reply": "2023-01-05T11:55:38.090400Z"
    },
    "papermill": {
     "duration": 0.373724,
     "end_time": "2023-01-05T11:55:38.093678",
     "exception": false,
     "start_time": "2023-01-05T11:55:37.719954",
     "status": "completed"
    },
    "tags": []
   },
   "outputs": [
    {
     "data": {
      "image/png": "[encoded data removed]",
      "text/plain": [
       "<Figure size 720x720 with 1 Axes>"
      ]
     },
     "metadata": {
      "needs_background": "light"
     },
     "output_type": "display_data"
    }
   ],
   "source": [
    "#Here I am using another way to display the graph by seaborn we imported it in the beginning\n",
    "sns.countplot(data=df,x=\"year\",palette=\"icefire\")\n",
    "plt.xticks(rotation=90)\n",
    "plt.xlabel(\"YEAR\",fontsize=10,color=\"RED\")\n",
    "plt.ylabel(\"COUNT\",fontsize=10,color=\"RED\")\n",
    "plt.title(\"YEAR COUNT\",color=\"RED\")\n",
    "plt.show()"
   ]
  },
  {
   "cell_type": "markdown",
   "id": "f23b608f",
   "metadata": {
    "papermill": {
     "duration": 0.024852,
     "end_time": "2023-01-05T11:55:38.143632",
     "exception": false,
     "start_time": "2023-01-05T11:55:38.118780",
     "status": "completed"
    },
    "tags": []
   },
   "source": [
    "<div style=\"text-align:left;\">\n",
    "  <span style=\"font-size:12pt; font-family:'Times New Roman', Times, serif; color:#000000; font-weight:bold; \">Just by looking at the graph we know which year sales in it the highest, and see the variance between sales over the years</span>\n",
    "  </div>"
   ]
  },
  {
   "cell_type": "code",
   "execution_count": 22,
   "id": "17af67a2",
   "metadata": {
    "execution": {
     "iopub.execute_input": "2023-01-05T11:55:38.197036Z",
     "iopub.status.busy": "2023-01-05T11:55:38.196327Z",
     "iopub.status.idle": "2023-01-05T11:55:38.685766Z",
     "shell.execute_reply": "2023-01-05T11:55:38.684537Z"
    },
    "papermill": {
     "duration": 0.52012,
     "end_time": "2023-01-05T11:55:38.689072",
     "exception": false,
     "start_time": "2023-01-05T11:55:38.168952",
     "status": "completed"
    },
    "tags": []
   },
   "outputs": [
    {
     "data": {
      "image/png": "[encoded data removed]",
      "text/plain": [
       "<Figure size 576x576 with 1 Axes>"
      ]
     },
     "metadata": {},
     "output_type": "display_data"
    }
   ],
   "source": [
    "#We will display pie graphs\n",
    "labels = df[\"year\"].value_counts().index\n",
    "sizes = df[\"year\"].value_counts()\n",
    "colors = ['#ff9999','#66b3ff','#99ff99','#ffcc99',\"pink\",\"yellow\"]\n",
    "plt.figure(figsize = (8,8))\n",
    "plt.pie(sizes, labels=labels , rotatelabels=False, autopct=None,colors=colors,shadow=True, startangle=45, labeldistance=None)\n",
    "plt.title('Year',color = 'red',fontsize = 15)\n",
    "plt.legend(title = \"Years\", loc='upper right')#title legend\n",
    "plt.show()"
   ]
  },
  {
   "cell_type": "markdown",
   "id": "c4dd08d8",
   "metadata": {
    "papermill": {
     "duration": 0.026452,
     "end_time": "2023-01-05T11:55:38.742822",
     "exception": false,
     "start_time": "2023-01-05T11:55:38.716370",
     "status": "completed"
    },
    "tags": []
   },
   "source": [
    "<div style=\"text-align:left;\">\n",
    "  <span style=\"font-size:12pt; font-family:'Times New Roman', Times, serif; color:#000000; font-weight:bold; \">If it is noticed that sales are not stable during the years, they were increase during the first years, but last two years decreased a lot</span>\n",
    "  </div>"
   ]
  },
  {
   "cell_type": "markdown",
   "id": "bfe9c1e5",
   "metadata": {
    "papermill": {
     "duration": 0.026144,
     "end_time": "2023-01-05T11:55:38.795840",
     "exception": false,
     "start_time": "2023-01-05T11:55:38.769696",
     "status": "completed"
    },
    "tags": []
   },
   "source": [
    "<div style=\"text-align:left;\">\n",
    "  <span style=\"font-size:12pt; font-family:'Times New Roman', Times, serif; color:#000000; font-weight:bold; \">Another graph to view sales classified by fuel</span>\n",
    "  </div>"
   ]
  },
  {
   "cell_type": "code",
   "execution_count": 23,
   "id": "9e1846e7",
   "metadata": {
    "execution": {
     "iopub.execute_input": "2023-01-05T11:55:38.852637Z",
     "iopub.status.busy": "2023-01-05T11:55:38.851709Z",
     "iopub.status.idle": "2023-01-05T11:55:39.051500Z",
     "shell.execute_reply": "2023-01-05T11:55:39.050076Z"
    },
    "papermill": {
     "duration": 0.230648,
     "end_time": "2023-01-05T11:55:39.054135",
     "exception": false,
     "start_time": "2023-01-05T11:55:38.823487",
     "status": "completed"
    },
    "tags": []
   },
   "outputs": [
    {
     "data": {
      "image/png": "[encoded data removed]",
      "text/plain": [
       "<Figure size 576x288 with 1 Axes>"
      ]
     },
     "metadata": {
      "needs_background": "light"
     },
     "output_type": "display_data"
    }
   ],
   "source": [
    "#We will display bar graphs\n",
    "df[\"fuel\"].value_counts(sort =True).plot(kind=\"bar\", color=[\"green\"], figsize=(8, 4) , title='Fuel');"
   ]
  },
  {
   "cell_type": "markdown",
   "id": "3a6a97e4",
   "metadata": {
    "papermill": {
     "duration": 0.02702,
     "end_time": "2023-01-05T11:55:39.108464",
     "exception": false,
     "start_time": "2023-01-05T11:55:39.081444",
     "status": "completed"
    },
    "tags": []
   },
   "source": [
    "<div style=\"text-align:left;\">\n",
    "  <span style=\"font-size:12pt; font-family:'Times New Roman', Times, serif; color:#000000; font-weight:bold; \">Best sales diesel and petrol it is clear that the type of fuel affects on sales </span>\n",
    "  </div>"
   ]
  },
  {
   "cell_type": "markdown",
   "id": "aee108ca",
   "metadata": {
    "papermill": {
     "duration": 0.027725,
     "end_time": "2023-01-05T11:55:39.163856",
     "exception": false,
     "start_time": "2023-01-05T11:55:39.136131",
     "status": "completed"
    },
    "tags": []
   },
   "source": [
    "<div style=\"text-align:left;\">\n",
    "  <span style=\"font-size:12pt; font-family:'Times New Roman', Times, serif; color:#000000; font-weight:bold; \">Graph to view sales classified by seller type</span>\n",
    "  </div>"
   ]
  },
  {
   "cell_type": "code",
   "execution_count": 24,
   "id": "51b3abdf",
   "metadata": {
    "execution": {
     "iopub.execute_input": "2023-01-05T11:55:39.220445Z",
     "iopub.status.busy": "2023-01-05T11:55:39.220009Z",
     "iopub.status.idle": "2023-01-05T11:55:39.421998Z",
     "shell.execute_reply": "2023-01-05T11:55:39.420894Z"
    },
    "papermill": {
     "duration": 0.232819,
     "end_time": "2023-01-05T11:55:39.424305",
     "exception": false,
     "start_time": "2023-01-05T11:55:39.191486",
     "status": "completed"
    },
    "tags": []
   },
   "outputs": [
    {
     "data": {
      "image/png": "[encoded data removed]",
      "text/plain": [
       "<Figure size 576x288 with 1 Axes>"
      ]
     },
     "metadata": {
      "needs_background": "light"
     },
     "output_type": "display_data"
    }
   ],
   "source": [
    "#We will display bar graphs\n",
    "df[\"seller_type\"].value_counts(sort = True).plot(kind=\"bar\", color=[\"green\"], figsize=(8, 4) , title='Seller type');"
   ]
  },
  {
   "cell_type": "markdown",
   "id": "52033828",
   "metadata": {
    "papermill": {
     "duration": 0.0268,
     "end_time": "2023-01-05T11:55:39.478844",
     "exception": false,
     "start_time": "2023-01-05T11:55:39.452044",
     "status": "completed"
    },
    "tags": []
   },
   "source": [
    "<div style=\"text-align:left;\">\n",
    "  <span style=\"font-size:12pt; font-family:'Times New Roman', Times, serif; color:#000000; font-weight:bold; \">Best sales come from individual this note is important maybe unexpected</span>\n",
    "  </div>"
   ]
  },
  {
   "cell_type": "markdown",
   "id": "37bbb3b7",
   "metadata": {
    "papermill": {
     "duration": 0.02697,
     "end_time": "2023-01-05T11:55:39.533225",
     "exception": false,
     "start_time": "2023-01-05T11:55:39.506255",
     "status": "completed"
    },
    "tags": []
   },
   "source": [
    "<div style=\"text-align:left;\">\n",
    "  <span style=\"font-size:12pt; font-family:'Times New Roman', Times, serif; color:#000000; font-weight:bold; \">Graph to view sales classified by transmission</span>\n",
    "  </div>"
   ]
  },
  {
   "cell_type": "code",
   "execution_count": 25,
   "id": "1c6c08ae",
   "metadata": {
    "execution": {
     "iopub.execute_input": "2023-01-05T11:55:39.589432Z",
     "iopub.status.busy": "2023-01-05T11:55:39.589050Z",
     "iopub.status.idle": "2023-01-05T11:55:39.795992Z",
     "shell.execute_reply": "2023-01-05T11:55:39.794923Z"
    },
    "papermill": {
     "duration": 0.237918,
     "end_time": "2023-01-05T11:55:39.798447",
     "exception": false,
     "start_time": "2023-01-05T11:55:39.560529",
     "status": "completed"
    },
    "tags": []
   },
   "outputs": [
    {
     "data": {
      "image/png": "[encoded data removed]",
      "text/plain": [
       "<Figure size 576x288 with 1 Axes>"
      ]
     },
     "metadata": {
      "needs_background": "light"
     },
     "output_type": "display_data"
    }
   ],
   "source": [
    "#We will display bar graphs\n",
    "df[\"transmission\"].value_counts(sort = True).plot(kind=\"bar\", color=[\"green\"], figsize=(8, 4) , title='Transmission');"
   ]
  },
  {
   "cell_type": "markdown",
   "id": "6719ad59",
   "metadata": {
    "papermill": {
     "duration": 0.027422,
     "end_time": "2023-01-05T11:55:39.854861",
     "exception": false,
     "start_time": "2023-01-05T11:55:39.827439",
     "status": "completed"
    },
    "tags": []
   },
   "source": [
    "<div style=\"text-align:left;\">\n",
    "  <span style=\"font-size:12pt; font-family:'Times New Roman', Times, serif; color:#000000; font-weight:bold; \">Best sales come from manual or automatic this is a strange thing<br/>Expected that the automatic sell more, but what happened is that the manual is the sell more<br/>so we should search and ask for the reason </span>\n",
    "  </div>"
   ]
  },
  {
   "cell_type": "code",
   "execution_count": 26,
   "id": "29151758",
   "metadata": {
    "execution": {
     "iopub.execute_input": "2023-01-05T11:55:39.912173Z",
     "iopub.status.busy": "2023-01-05T11:55:39.911032Z",
     "iopub.status.idle": "2023-01-05T11:55:40.270140Z",
     "shell.execute_reply": "2023-01-05T11:55:40.268930Z"
    },
    "papermill": {
     "duration": 0.390247,
     "end_time": "2023-01-05T11:55:40.272644",
     "exception": false,
     "start_time": "2023-01-05T11:55:39.882397",
     "status": "completed"
    },
    "tags": []
   },
   "outputs": [
    {
     "data": {
      "image/png": "[encoded data removed]",
      "text/plain": [
       "<Figure size 576x288 with 1 Axes>"
      ]
     },
     "metadata": {
      "needs_background": "light"
     },
     "output_type": "display_data"
    }
   ],
   "source": [
    "#We will display bar graphs\n",
    "df[\"owner\"].value_counts(sort = True).plot(kind=\"bar\", color=[\"green\"], figsize=(8, 4) , title='Owner');"
   ]
  },
  {
   "cell_type": "markdown",
   "id": "356362ec",
   "metadata": {
    "papermill": {
     "duration": 0.029339,
     "end_time": "2023-01-05T11:55:40.330508",
     "exception": false,
     "start_time": "2023-01-05T11:55:40.301169",
     "status": "completed"
    },
    "tags": []
   },
   "source": [
    "<div style=\"text-align:left;\">\n",
    "  <span style=\"font-size:12pt; font-family:'Times New Roman', Times, serif; color:#000000; font-weight:bold; \">Best sales be the first owner this is expected and normal</span>\n",
    "  </div>"
   ]
  },
  {
   "cell_type": "markdown",
   "id": "8c985ea6",
   "metadata": {
    "papermill": {
     "duration": 0.027393,
     "end_time": "2023-01-05T11:55:40.386700",
     "exception": false,
     "start_time": "2023-01-05T11:55:40.359307",
     "status": "completed"
    },
    "tags": []
   },
   "source": [
    "<div style=\"color:white;\n",
    "            display:fill;\n",
    "            border-radius:15px;\n",
    "            background-color:#9248A5;\n",
    "            font-size:70%;\n",
    "            font-family:Verdana;\n",
    "            letter-spacing:1px\">\n",
    "            <div id=\"data3\">\n",
    "    <h1 style='padding: 20px;\n",
    "              color:#B2B223;\n",
    "              text-align:center;'>\n",
    "        📈Data Analysis 2\n",
    "            </h1>\n",
    "    </div>"
   ]
  },
  {
   "cell_type": "markdown",
   "id": "926da130",
   "metadata": {
    "papermill": {
     "duration": 0.027497,
     "end_time": "2023-01-05T11:55:40.442004",
     "exception": false,
     "start_time": "2023-01-05T11:55:40.414507",
     "status": "completed"
    },
    "tags": []
   },
   "source": [
    "<div style=\"text-align:left;\">\n",
    "  <span style=\"font-size:12pt; font-family:'Times New Roman', Times, serif; color:#000000; font-weight:bold; \">Let's now move to another stage of data analysis<br/>I want to know a little about the relationships between different factors and the price of a car<br/>I want to know about the relationship between the various factors and price of the car <br/>What is the most important factor affecting the price of a car?</span>\n",
    "  </div>"
   ]
  },
  {
   "cell_type": "markdown",
   "id": "ee161e72",
   "metadata": {
    "papermill": {
     "duration": 0.027664,
     "end_time": "2023-01-05T11:55:40.497591",
     "exception": false,
     "start_time": "2023-01-05T11:55:40.469927",
     "status": "completed"
    },
    "tags": []
   },
   "source": [
    "<div style=\"text-align:left;\">\n",
    "  <span style=\"font-size:12pt; font-family:'Times New Roman', Times, serif; color:#000000; font-weight:bold; \">Let's draw a graph linking the year to the selling price</span>\n",
    "  </div>"
   ]
  },
  {
   "cell_type": "code",
   "execution_count": 27,
   "id": "258322e4",
   "metadata": {
    "execution": {
     "iopub.execute_input": "2023-01-05T11:55:40.555683Z",
     "iopub.status.busy": "2023-01-05T11:55:40.554872Z",
     "iopub.status.idle": "2023-01-05T11:55:40.831171Z",
     "shell.execute_reply": "2023-01-05T11:55:40.829972Z"
    },
    "papermill": {
     "duration": 0.307958,
     "end_time": "2023-01-05T11:55:40.833503",
     "exception": false,
     "start_time": "2023-01-05T11:55:40.525545",
     "status": "completed"
    },
    "tags": []
   },
   "outputs": [
    {
     "data": {
      "image/png": "[encoded data removed]",
      "text/plain": [
       "<Figure size 576x288 with 1 Axes>"
      ]
     },
     "metadata": {
      "needs_background": "light"
     },
     "output_type": "display_data"
    }
   ],
   "source": [
    "#We will display bar graphs line\n",
    "def line_plot(data, title ,xlabel, ylabel):\n",
    "    plt.figure(figsize=(8, 4))\n",
    "    sns.lineplot(data=data , palette=\"tab10\", linewidth=3.0)\n",
    "    plt.title(title, fontsize=12)\n",
    "    plt.ylabel(ylabel, size=14)\n",
    "    plt.xlabel(xlabel, size=16)\n",
    "    \n",
    "df_price_move = df.groupby(['year'])[['selling_price']].mean()\n",
    "line_plot(df_price_move,'Price Move', 'Year', \"Price\")"
   ]
  },
  {
   "cell_type": "markdown",
   "id": "71358059",
   "metadata": {
    "papermill": {
     "duration": 0.027963,
     "end_time": "2023-01-05T11:55:40.890125",
     "exception": false,
     "start_time": "2023-01-05T11:55:40.862162",
     "status": "completed"
    },
    "tags": []
   },
   "source": [
    "<div style=\"text-align:left;\">\n",
    "  <span style=\"font-size:12pt; font-family:'Times New Roman', Times, serif; color:#000000; font-weight:bold; \">The price always increases over the years, and this is normal and expected, but the last years get down<br/>and this is not normal<br/>We should ask about and research about this matter.</span>\n",
    "  </div>"
   ]
  },
  {
   "cell_type": "markdown",
   "id": "0937a1f7",
   "metadata": {
    "papermill": {
     "duration": 0.028297,
     "end_time": "2023-01-05T11:55:40.946946",
     "exception": false,
     "start_time": "2023-01-05T11:55:40.918649",
     "status": "completed"
    },
    "tags": []
   },
   "source": [
    "<div style=\"text-align:left;\">\n",
    "  <span style=\"font-size:12pt; font-family:'Times New Roman', Times, serif; color:#000000; font-weight:bold; \">The relationship between km_driven and price</span>\n",
    "  </div>"
   ]
  },
  {
   "cell_type": "code",
   "execution_count": 28,
   "id": "dcf55cf3",
   "metadata": {
    "execution": {
     "iopub.execute_input": "2023-01-05T11:55:41.006916Z",
     "iopub.status.busy": "2023-01-05T11:55:41.005716Z",
     "iopub.status.idle": "2023-01-05T11:55:41.257731Z",
     "shell.execute_reply": "2023-01-05T11:55:41.256620Z"
    },
    "papermill": {
     "duration": 0.284632,
     "end_time": "2023-01-05T11:55:41.260325",
     "exception": false,
     "start_time": "2023-01-05T11:55:40.975693",
     "status": "completed"
    },
    "tags": []
   },
   "outputs": [
    {
     "data": {
      "image/png": "[encoded data removed]",
      "text/plain": [
       "<Figure size 576x288 with 1 Axes>"
      ]
     },
     "metadata": {
      "needs_background": "light"
     },
     "output_type": "display_data"
    }
   ],
   "source": [
    "#We will display bar graphs scatter\n",
    "df.plot(x=\"km_driven\", y=\"selling_price\", kind=\"scatter\", figsize=(8, 4), title=\"Price & km_driven\", color=\"green\");"
   ]
  },
  {
   "cell_type": "markdown",
   "id": "0699b6d3",
   "metadata": {
    "papermill": {
     "duration": 0.030268,
     "end_time": "2023-01-05T11:55:41.320629",
     "exception": false,
     "start_time": "2023-01-05T11:55:41.290361",
     "status": "completed"
    },
    "tags": []
   },
   "source": [
    "<div style=\"text-align:left;\">\n",
    "  <span style=\"font-size:12pt; font-family:'Times New Roman', Times, serif; color:#000000; font-weight:bold; \">An expected result, kilometers more mean the price of the car get down</span>\n",
    "  </div>"
   ]
  },
  {
   "cell_type": "markdown",
   "id": "4b5a84ac",
   "metadata": {
    "papermill": {
     "duration": 0.028797,
     "end_time": "2023-01-05T11:55:41.378749",
     "exception": false,
     "start_time": "2023-01-05T11:55:41.349952",
     "status": "completed"
    },
    "tags": []
   },
   "source": [
    "<div style=\"text-align:left;\">\n",
    "  <span style=\"font-size:12pt; font-family:'Times New Roman', Times, serif; color:#000000; font-weight:bold; \">The relationship between km_driven and year</span>\n",
    "  </div>"
   ]
  },
  {
   "cell_type": "code",
   "execution_count": 29,
   "id": "e0af49fa",
   "metadata": {
    "execution": {
     "iopub.execute_input": "2023-01-05T11:55:41.439644Z",
     "iopub.status.busy": "2023-01-05T11:55:41.439247Z",
     "iopub.status.idle": "2023-01-05T11:55:41.674359Z",
     "shell.execute_reply": "2023-01-05T11:55:41.673327Z"
    },
    "papermill": {
     "duration": 0.268894,
     "end_time": "2023-01-05T11:55:41.676998",
     "exception": false,
     "start_time": "2023-01-05T11:55:41.408104",
     "status": "completed"
    },
    "tags": []
   },
   "outputs": [
    {
     "data": {
      "image/png": "[encoded data removed]",
      "text/plain": [
       "<Figure size 576x288 with 1 Axes>"
      ]
     },
     "metadata": {
      "needs_background": "light"
     },
     "output_type": "display_data"
    }
   ],
   "source": [
    "#We will display bar graphs scatter\n",
    "df.plot(x=\"year\", y=\"selling_price\", kind=\"scatter\", figsize=(8, 4), title=\"Price & Year\", color=\"green\");"
   ]
  },
  {
   "cell_type": "markdown",
   "id": "c6bb7938",
   "metadata": {
    "papermill": {
     "duration": 0.029008,
     "end_time": "2023-01-05T11:55:41.735501",
     "exception": false,
     "start_time": "2023-01-05T11:55:41.706493",
     "status": "completed"
    },
    "tags": []
   },
   "source": [
    "<div style=\"text-align:left;\">\n",
    "  <span style=\"font-size:12pt; font-family:'Times New Roman', Times, serif; color:#000000; font-weight:bold; \">This result we got before from an different graph , but here we just Show it by different graph</span>\n",
    "  </div>"
   ]
  },
  {
   "cell_type": "markdown",
   "id": "fd7fcb97",
   "metadata": {
    "papermill": {
     "duration": 0.02918,
     "end_time": "2023-01-05T11:55:41.794352",
     "exception": false,
     "start_time": "2023-01-05T11:55:41.765172",
     "status": "completed"
    },
    "tags": []
   },
   "source": [
    "<div style=\"text-align:left;\">\n",
    "  <span style=\"font-size:12pt; font-family:'Times New Roman', Times, serif; color:#000000; font-weight:bold; \">Now examine the correlation between the different factors</span>\n",
    "  </div>"
   ]
  },
  {
   "cell_type": "code",
   "execution_count": 30,
   "id": "a9aebda2",
   "metadata": {
    "execution": {
     "iopub.execute_input": "2023-01-05T11:55:41.857405Z",
     "iopub.status.busy": "2023-01-05T11:55:41.856926Z",
     "iopub.status.idle": "2023-01-05T11:55:41.868332Z",
     "shell.execute_reply": "2023-01-05T11:55:41.867187Z"
    },
    "papermill": {
     "duration": 0.046534,
     "end_time": "2023-01-05T11:55:41.870647",
     "exception": false,
     "start_time": "2023-01-05T11:55:41.824113",
     "status": "completed"
    },
    "tags": []
   },
   "outputs": [
    {
     "data": {
      "text/html": [
       "<div>\n",
       "<style scoped>\n",
       "    .dataframe tbody tr th:only-of-type {\n",
       "        vertical-align: middle;\n",
       "    }\n",
       "\n",
       "    .dataframe tbody tr th {\n",
       "        vertical-align: top;\n",
       "    }\n",
       "\n",
       "    .dataframe thead th {\n",
       "        text-align: right;\n",
       "    }\n",
       "</style>\n",
       "<table border=\"1\" class=\"dataframe\">\n",
       "  <thead>\n",
       "    <tr style=\"text-align: right;\">\n",
       "      <th></th>\n",
       "      <th>year</th>\n",
       "      <th>selling_price</th>\n",
       "      <th>km_driven</th>\n",
       "    </tr>\n",
       "  </thead>\n",
       "  <tbody>\n",
       "    <tr>\n",
       "      <th>year</th>\n",
       "      <td>1.000000</td>\n",
       "      <td>0.413922</td>\n",
       "      <td>-0.419688</td>\n",
       "    </tr>\n",
       "    <tr>\n",
       "      <th>selling_price</th>\n",
       "      <td>0.413922</td>\n",
       "      <td>1.000000</td>\n",
       "      <td>-0.192289</td>\n",
       "    </tr>\n",
       "    <tr>\n",
       "      <th>km_driven</th>\n",
       "      <td>-0.419688</td>\n",
       "      <td>-0.192289</td>\n",
       "      <td>1.000000</td>\n",
       "    </tr>\n",
       "  </tbody>\n",
       "</table>\n",
       "</div>"
      ],
      "text/plain": [
       "                   year  selling_price  km_driven\n",
       "year           1.000000       0.413922  -0.419688\n",
       "selling_price  0.413922       1.000000  -0.192289\n",
       "km_driven     -0.419688      -0.192289   1.000000"
      ]
     },
     "execution_count": 30,
     "metadata": {},
     "output_type": "execute_result"
    }
   ],
   "source": [
    "# finds the correlation\n",
    "df.corr()"
   ]
  },
  {
   "cell_type": "markdown",
   "id": "f5c2dcb8",
   "metadata": {
    "papermill": {
     "duration": 0.030581,
     "end_time": "2023-01-05T11:55:41.932861",
     "exception": false,
     "start_time": "2023-01-05T11:55:41.902280",
     "status": "completed"
    },
    "tags": []
   },
   "source": [
    "<div style=\"text-align:left;\">\n",
    "  <span style=\"font-size:12pt; font-family:'Times New Roman', Times, serif; color:#000000; font-weight:bold; \">we extracted the numeric factors and ignored the other factors because they are texts and this is a problem<br/>\n",
    "Note here the positive correlation between the year and the price, meaning that every new year the price increases<br/>and a negative correlation between kilometers abnd price when it increases, the price decreases Let's show that in heatmap</span>\n",
    "  </div>"
   ]
  },
  {
   "cell_type": "code",
   "execution_count": 31,
   "id": "59b30b46",
   "metadata": {
    "execution": {
     "iopub.execute_input": "2023-01-05T11:55:41.995229Z",
     "iopub.status.busy": "2023-01-05T11:55:41.994589Z",
     "iopub.status.idle": "2023-01-05T11:55:42.281031Z",
     "shell.execute_reply": "2023-01-05T11:55:42.279887Z"
    },
    "papermill": {
     "duration": 0.320279,
     "end_time": "2023-01-05T11:55:42.283570",
     "exception": false,
     "start_time": "2023-01-05T11:55:41.963291",
     "status": "completed"
    },
    "tags": []
   },
   "outputs": [
    {
     "data": {
      "image/png": "[encoded data removed]",
      "text/plain": [
       "<Figure size 720x720 with 2 Axes>"
      ]
     },
     "metadata": {
      "needs_background": "light"
     },
     "output_type": "display_data"
    }
   ],
   "source": [
    "#We will display heatmap\n",
    "corr = df.corr()\n",
    "corr = corr['selling_price']\n",
    "corr = corr.sort_values(ascending=False)\n",
    "sns.heatmap(df.corr(), annot=True)\n",
    "plt.show()"
   ]
  },
  {
   "cell_type": "markdown",
   "id": "cf35f32e",
   "metadata": {
    "papermill": {
     "duration": 0.030796,
     "end_time": "2023-01-05T11:55:42.345814",
     "exception": false,
     "start_time": "2023-01-05T11:55:42.315018",
     "status": "completed"
    },
    "tags": []
   },
   "source": [
    "<div style=\"text-align:left;\">\n",
    "  <span style=\"font-size:12pt; font-family:'Times New Roman', Times, serif; color:#000000; font-weight:bold; \">Now we will try to find solution to the problem that there are many factors that affect on price but they are not numerical<br/>\n",
    "Therefore, we need to modify them, they should be numbers so that we can draw another different heat map that includes all factors.</span>\n",
    "  </div>"
   ]
  },
  {
   "cell_type": "markdown",
   "id": "67d05a8d",
   "metadata": {
    "papermill": {
     "duration": 0.029659,
     "end_time": "2023-01-05T11:55:42.407598",
     "exception": false,
     "start_time": "2023-01-05T11:55:42.377939",
     "status": "completed"
    },
    "tags": []
   },
   "source": [
    "<div style=\"text-align:left;\">\n",
    "  <span style=\"font-size:12pt; font-family:'Times New Roman', Times, serif; color:#000000; font-weight:bold; \">Extracting non-numeric columns</span>\n",
    "  </div>"
   ]
  },
  {
   "cell_type": "code",
   "execution_count": 32,
   "id": "6d443fdc",
   "metadata": {
    "execution": {
     "iopub.execute_input": "2023-01-05T11:55:42.469208Z",
     "iopub.status.busy": "2023-01-05T11:55:42.468716Z",
     "iopub.status.idle": "2023-01-05T11:55:42.598555Z",
     "shell.execute_reply": "2023-01-05T11:55:42.597478Z"
    },
    "papermill": {
     "duration": 0.163313,
     "end_time": "2023-01-05T11:55:42.600755",
     "exception": false,
     "start_time": "2023-01-05T11:55:42.437442",
     "status": "completed"
    },
    "tags": []
   },
   "outputs": [
    {
     "data": {
      "text/html": [
       "<div>\n",
       "<style scoped>\n",
       "    .dataframe tbody tr th:only-of-type {\n",
       "        vertical-align: middle;\n",
       "    }\n",
       "\n",
       "    .dataframe tbody tr th {\n",
       "        vertical-align: top;\n",
       "    }\n",
       "\n",
       "    .dataframe thead th {\n",
       "        text-align: right;\n",
       "    }\n",
       "</style>\n",
       "<table border=\"1\" class=\"dataframe\">\n",
       "  <thead>\n",
       "    <tr style=\"text-align: right;\">\n",
       "      <th></th>\n",
       "      <th>name</th>\n",
       "      <th>fuel</th>\n",
       "      <th>seller_type</th>\n",
       "      <th>transmission</th>\n",
       "      <th>owner</th>\n",
       "      <th>brand</th>\n",
       "    </tr>\n",
       "  </thead>\n",
       "  <tbody>\n",
       "    <tr>\n",
       "      <th>0</th>\n",
       "      <td>Maruti 800 AC</td>\n",
       "      <td>Petrol</td>\n",
       "      <td>Individual</td>\n",
       "      <td>Manual</td>\n",
       "      <td>First Owner</td>\n",
       "      <td>Maruti</td>\n",
       "    </tr>\n",
       "    <tr>\n",
       "      <th>1</th>\n",
       "      <td>Maruti Wagon R LXI Minor</td>\n",
       "      <td>Petrol</td>\n",
       "      <td>Individual</td>\n",
       "      <td>Manual</td>\n",
       "      <td>First Owner</td>\n",
       "      <td>Maruti</td>\n",
       "    </tr>\n",
       "    <tr>\n",
       "      <th>2</th>\n",
       "      <td>Hyundai Verna 1.6 SX</td>\n",
       "      <td>Diesel</td>\n",
       "      <td>Individual</td>\n",
       "      <td>Manual</td>\n",
       "      <td>First Owner</td>\n",
       "      <td>Hyundai</td>\n",
       "    </tr>\n",
       "  </tbody>\n",
       "</table>\n",
       "</div>"
      ],
      "text/plain": [
       "                       name    fuel seller_type transmission        owner  \\\n",
       "0             Maruti 800 AC  Petrol  Individual       Manual  First Owner   \n",
       "1  Maruti Wagon R LXI Minor  Petrol  Individual       Manual  First Owner   \n",
       "2      Hyundai Verna 1.6 SX  Diesel  Individual       Manual  First Owner   \n",
       "\n",
       "     brand  \n",
       "0   Maruti  \n",
       "1   Maruti  \n",
       "2  Hyundai  "
      ]
     },
     "execution_count": 32,
     "metadata": {},
     "output_type": "execute_result"
    }
   ],
   "source": [
    "# import preprocessing from sklearn\n",
    "from sklearn import preprocessing\n",
    "from sklearn.preprocessing import OneHotEncoder\n",
    "# limit to categorical data using df.select_dtypes()\n",
    "data2 = df.select_dtypes(include=[object])#Extracting non-numeric columns\n",
    "data2.head(3)"
   ]
  },
  {
   "cell_type": "markdown",
   "id": "ab57702c",
   "metadata": {
    "papermill": {
     "duration": 0.029766,
     "end_time": "2023-01-05T11:55:42.660892",
     "exception": false,
     "start_time": "2023-01-05T11:55:42.631126",
     "status": "completed"
    },
    "tags": []
   },
   "source": [
    "<div style=\"text-align:left;\">\n",
    "  <span style=\"font-size:12pt; font-family:'Times New Roman', Times, serif; color:#000000; font-weight:bold; \">We will convert these columns to numbers (name--owner--brand) something like that {\"First Owner\" : 1, \"Second Owner\" : 2, \"Third Owner\" : 3, \"Fourth & Above Owner\" : 4, \"Test Drive Car\" : 0}</span>\n",
    "  </div>"
   ]
  },
  {
   "cell_type": "code",
   "execution_count": 33,
   "id": "9dca4226",
   "metadata": {
    "execution": {
     "iopub.execute_input": "2023-01-05T11:55:42.723131Z",
     "iopub.status.busy": "2023-01-05T11:55:42.722675Z",
     "iopub.status.idle": "2023-01-05T11:55:42.745532Z",
     "shell.execute_reply": "2023-01-05T11:55:42.744735Z"
    },
    "papermill": {
     "duration": 0.056382,
     "end_time": "2023-01-05T11:55:42.747498",
     "exception": false,
     "start_time": "2023-01-05T11:55:42.691116",
     "status": "completed"
    },
    "tags": []
   },
   "outputs": [
    {
     "data": {
      "text/html": [
       "<div>\n",
       "<style scoped>\n",
       "    .dataframe tbody tr th:only-of-type {\n",
       "        vertical-align: middle;\n",
       "    }\n",
       "\n",
       "    .dataframe tbody tr th {\n",
       "        vertical-align: top;\n",
       "    }\n",
       "\n",
       "    .dataframe thead th {\n",
       "        text-align: right;\n",
       "    }\n",
       "</style>\n",
       "<table border=\"1\" class=\"dataframe\">\n",
       "  <thead>\n",
       "    <tr style=\"text-align: right;\">\n",
       "      <th></th>\n",
       "      <th>name</th>\n",
       "      <th>year</th>\n",
       "      <th>selling_price</th>\n",
       "      <th>km_driven</th>\n",
       "      <th>fuel</th>\n",
       "      <th>seller_type</th>\n",
       "      <th>transmission</th>\n",
       "      <th>owner</th>\n",
       "      <th>brand</th>\n",
       "    </tr>\n",
       "  </thead>\n",
       "  <tbody>\n",
       "    <tr>\n",
       "      <th>0</th>\n",
       "      <td>775</td>\n",
       "      <td>2007</td>\n",
       "      <td>60000</td>\n",
       "      <td>70000</td>\n",
       "      <td>Petrol</td>\n",
       "      <td>Individual</td>\n",
       "      <td>Manual</td>\n",
       "      <td>0</td>\n",
       "      <td>18</td>\n",
       "    </tr>\n",
       "    <tr>\n",
       "      <th>1</th>\n",
       "      <td>1041</td>\n",
       "      <td>2007</td>\n",
       "      <td>135000</td>\n",
       "      <td>50000</td>\n",
       "      <td>Petrol</td>\n",
       "      <td>Individual</td>\n",
       "      <td>Manual</td>\n",
       "      <td>0</td>\n",
       "      <td>18</td>\n",
       "    </tr>\n",
       "    <tr>\n",
       "      <th>2</th>\n",
       "      <td>505</td>\n",
       "      <td>2012</td>\n",
       "      <td>600000</td>\n",
       "      <td>100000</td>\n",
       "      <td>Diesel</td>\n",
       "      <td>Individual</td>\n",
       "      <td>Manual</td>\n",
       "      <td>0</td>\n",
       "      <td>10</td>\n",
       "    </tr>\n",
       "    <tr>\n",
       "      <th>3</th>\n",
       "      <td>118</td>\n",
       "      <td>2017</td>\n",
       "      <td>250000</td>\n",
       "      <td>46000</td>\n",
       "      <td>Petrol</td>\n",
       "      <td>Individual</td>\n",
       "      <td>Manual</td>\n",
       "      <td>0</td>\n",
       "      <td>5</td>\n",
       "    </tr>\n",
       "    <tr>\n",
       "      <th>4</th>\n",
       "      <td>279</td>\n",
       "      <td>2014</td>\n",
       "      <td>450000</td>\n",
       "      <td>141000</td>\n",
       "      <td>Diesel</td>\n",
       "      <td>Individual</td>\n",
       "      <td>Manual</td>\n",
       "      <td>2</td>\n",
       "      <td>9</td>\n",
       "    </tr>\n",
       "  </tbody>\n",
       "</table>\n",
       "</div>"
      ],
      "text/plain": [
       "   name  year  selling_price  km_driven    fuel seller_type transmission  \\\n",
       "0   775  2007          60000      70000  Petrol  Individual       Manual   \n",
       "1  1041  2007         135000      50000  Petrol  Individual       Manual   \n",
       "2   505  2012         600000     100000  Diesel  Individual       Manual   \n",
       "3   118  2017         250000      46000  Petrol  Individual       Manual   \n",
       "4   279  2014         450000     141000  Diesel  Individual       Manual   \n",
       "\n",
       "   owner  brand  \n",
       "0      0     18  \n",
       "1      0     18  \n",
       "2      0     10  \n",
       "3      0      5  \n",
       "4      2      9  "
      ]
     },
     "execution_count": 33,
     "metadata": {},
     "output_type": "execute_result"
    }
   ],
   "source": [
    "#name--owner--brand convert these columns to numbers\n",
    "le = preprocessing.LabelEncoder()\n",
    "df['name']= le.fit_transform(df['name'])\n",
    "df['owner']= le.fit_transform(df['owner'])\n",
    "df['brand']= le.fit_transform(df['brand'])\n",
    "df.head()"
   ]
  },
  {
   "cell_type": "markdown",
   "id": "0a73bceb",
   "metadata": {
    "papermill": {
     "duration": 0.030541,
     "end_time": "2023-01-05T11:55:42.809476",
     "exception": false,
     "start_time": "2023-01-05T11:55:42.778935",
     "status": "completed"
    },
    "tags": []
   },
   "source": [
    "<div style=\"text-align:left;\">\n",
    "  <span style=\"font-size:12pt; font-family:'Times New Roman', Times, serif; color:#000000; font-weight:bold; \">By use OneHotEncoder convert these columns (fuel, seller_type, transmission) to numbers and divide them separately and made new columns from it to be more clear, wait for the final result</span>\n",
    "  </div>"
   ]
  },
  {
   "cell_type": "code",
   "execution_count": 34,
   "id": "2af6b0c2",
   "metadata": {
    "execution": {
     "iopub.execute_input": "2023-01-05T11:55:42.873282Z",
     "iopub.status.busy": "2023-01-05T11:55:42.872588Z",
     "iopub.status.idle": "2023-01-05T11:55:42.907248Z",
     "shell.execute_reply": "2023-01-05T11:55:42.906193Z"
    },
    "papermill": {
     "duration": 0.069902,
     "end_time": "2023-01-05T11:55:42.909541",
     "exception": false,
     "start_time": "2023-01-05T11:55:42.839639",
     "status": "completed"
    },
    "tags": []
   },
   "outputs": [
    {
     "data": {
      "text/html": [
       "<div>\n",
       "<style scoped>\n",
       "    .dataframe tbody tr th:only-of-type {\n",
       "        vertical-align: middle;\n",
       "    }\n",
       "\n",
       "    .dataframe tbody tr th {\n",
       "        vertical-align: top;\n",
       "    }\n",
       "\n",
       "    .dataframe thead th {\n",
       "        text-align: right;\n",
       "    }\n",
       "</style>\n",
       "<table border=\"1\" class=\"dataframe\">\n",
       "  <thead>\n",
       "    <tr style=\"text-align: right;\">\n",
       "      <th></th>\n",
       "      <th>name</th>\n",
       "      <th>year</th>\n",
       "      <th>selling_price</th>\n",
       "      <th>km_driven</th>\n",
       "      <th>fuel</th>\n",
       "      <th>seller_type</th>\n",
       "      <th>transmission</th>\n",
       "      <th>owner</th>\n",
       "      <th>brand</th>\n",
       "      <th>fuel_CNG</th>\n",
       "      <th>fuel_Diesel</th>\n",
       "      <th>fuel_Electric</th>\n",
       "      <th>fuel_LPG</th>\n",
       "      <th>fuel_Petrol</th>\n",
       "      <th>seller_type_Dealer</th>\n",
       "      <th>seller_type_Individual</th>\n",
       "      <th>seller_type_Trustmark Dealer</th>\n",
       "      <th>transmission_Automatic</th>\n",
       "      <th>transmission_Manual</th>\n",
       "    </tr>\n",
       "  </thead>\n",
       "  <tbody>\n",
       "    <tr>\n",
       "      <th>0</th>\n",
       "      <td>775</td>\n",
       "      <td>2007</td>\n",
       "      <td>60000</td>\n",
       "      <td>70000</td>\n",
       "      <td>Petrol</td>\n",
       "      <td>Individual</td>\n",
       "      <td>Manual</td>\n",
       "      <td>0</td>\n",
       "      <td>18</td>\n",
       "      <td>0.0</td>\n",
       "      <td>0.0</td>\n",
       "      <td>0.0</td>\n",
       "      <td>0.0</td>\n",
       "      <td>1.0</td>\n",
       "      <td>0.0</td>\n",
       "      <td>1.0</td>\n",
       "      <td>0.0</td>\n",
       "      <td>0.0</td>\n",
       "      <td>1.0</td>\n",
       "    </tr>\n",
       "    <tr>\n",
       "      <th>1</th>\n",
       "      <td>1041</td>\n",
       "      <td>2007</td>\n",
       "      <td>135000</td>\n",
       "      <td>50000</td>\n",
       "      <td>Petrol</td>\n",
       "      <td>Individual</td>\n",
       "      <td>Manual</td>\n",
       "      <td>0</td>\n",
       "      <td>18</td>\n",
       "      <td>0.0</td>\n",
       "      <td>0.0</td>\n",
       "      <td>0.0</td>\n",
       "      <td>0.0</td>\n",
       "      <td>1.0</td>\n",
       "      <td>0.0</td>\n",
       "      <td>1.0</td>\n",
       "      <td>0.0</td>\n",
       "      <td>0.0</td>\n",
       "      <td>1.0</td>\n",
       "    </tr>\n",
       "    <tr>\n",
       "      <th>2</th>\n",
       "      <td>505</td>\n",
       "      <td>2012</td>\n",
       "      <td>600000</td>\n",
       "      <td>100000</td>\n",
       "      <td>Diesel</td>\n",
       "      <td>Individual</td>\n",
       "      <td>Manual</td>\n",
       "      <td>0</td>\n",
       "      <td>10</td>\n",
       "      <td>0.0</td>\n",
       "      <td>1.0</td>\n",
       "      <td>0.0</td>\n",
       "      <td>0.0</td>\n",
       "      <td>0.0</td>\n",
       "      <td>0.0</td>\n",
       "      <td>1.0</td>\n",
       "      <td>0.0</td>\n",
       "      <td>0.0</td>\n",
       "      <td>1.0</td>\n",
       "    </tr>\n",
       "    <tr>\n",
       "      <th>3</th>\n",
       "      <td>118</td>\n",
       "      <td>2017</td>\n",
       "      <td>250000</td>\n",
       "      <td>46000</td>\n",
       "      <td>Petrol</td>\n",
       "      <td>Individual</td>\n",
       "      <td>Manual</td>\n",
       "      <td>0</td>\n",
       "      <td>5</td>\n",
       "      <td>0.0</td>\n",
       "      <td>0.0</td>\n",
       "      <td>0.0</td>\n",
       "      <td>0.0</td>\n",
       "      <td>1.0</td>\n",
       "      <td>0.0</td>\n",
       "      <td>1.0</td>\n",
       "      <td>0.0</td>\n",
       "      <td>0.0</td>\n",
       "      <td>1.0</td>\n",
       "    </tr>\n",
       "    <tr>\n",
       "      <th>4</th>\n",
       "      <td>279</td>\n",
       "      <td>2014</td>\n",
       "      <td>450000</td>\n",
       "      <td>141000</td>\n",
       "      <td>Diesel</td>\n",
       "      <td>Individual</td>\n",
       "      <td>Manual</td>\n",
       "      <td>2</td>\n",
       "      <td>9</td>\n",
       "      <td>0.0</td>\n",
       "      <td>1.0</td>\n",
       "      <td>0.0</td>\n",
       "      <td>0.0</td>\n",
       "      <td>0.0</td>\n",
       "      <td>0.0</td>\n",
       "      <td>1.0</td>\n",
       "      <td>0.0</td>\n",
       "      <td>0.0</td>\n",
       "      <td>1.0</td>\n",
       "    </tr>\n",
       "  </tbody>\n",
       "</table>\n",
       "</div>"
      ],
      "text/plain": [
       "   name  year  selling_price  km_driven    fuel seller_type transmission  \\\n",
       "0   775  2007          60000      70000  Petrol  Individual       Manual   \n",
       "1  1041  2007         135000      50000  Petrol  Individual       Manual   \n",
       "2   505  2012         600000     100000  Diesel  Individual       Manual   \n",
       "3   118  2017         250000      46000  Petrol  Individual       Manual   \n",
       "4   279  2014         450000     141000  Diesel  Individual       Manual   \n",
       "\n",
       "   owner  brand  fuel_CNG  fuel_Diesel  fuel_Electric  fuel_LPG  fuel_Petrol  \\\n",
       "0      0     18       0.0          0.0            0.0       0.0          1.0   \n",
       "1      0     18       0.0          0.0            0.0       0.0          1.0   \n",
       "2      0     10       0.0          1.0            0.0       0.0          0.0   \n",
       "3      0      5       0.0          0.0            0.0       0.0          1.0   \n",
       "4      2      9       0.0          1.0            0.0       0.0          0.0   \n",
       "\n",
       "   seller_type_Dealer  seller_type_Individual  seller_type_Trustmark Dealer  \\\n",
       "0                 0.0                     1.0                           0.0   \n",
       "1                 0.0                     1.0                           0.0   \n",
       "2                 0.0                     1.0                           0.0   \n",
       "3                 0.0                     1.0                           0.0   \n",
       "4                 0.0                     1.0                           0.0   \n",
       "\n",
       "   transmission_Automatic  transmission_Manual  \n",
       "0                     0.0                  1.0  \n",
       "1                     0.0                  1.0  \n",
       "2                     0.0                  1.0  \n",
       "3                     0.0                  1.0  \n",
       "4                     0.0                  1.0  "
      ]
     },
     "execution_count": 34,
     "metadata": {},
     "output_type": "execute_result"
    }
   ],
   "source": [
    "#convert these columns (fuel, seller_type, transmission)\n",
    "enc = OneHotEncoder(sparse = False)\n",
    "X4 = df[[\"fuel\", \"seller_type\", \"transmission\"]]\n",
    "X5 = enc.fit_transform(X4)\n",
    "new_col = enc.get_feature_names_out([\"fuel\",\"seller_type\",\"transmission\"])\n",
    "df[new_col] = X5\n",
    "df.head()"
   ]
  },
  {
   "cell_type": "markdown",
   "id": "c43e054c",
   "metadata": {
    "papermill": {
     "duration": 0.030313,
     "end_time": "2023-01-05T11:55:42.971441",
     "exception": false,
     "start_time": "2023-01-05T11:55:42.941128",
     "status": "completed"
    },
    "tags": []
   },
   "source": [
    "<div style=\"text-align:left;\">\n",
    "  <span style=\"font-size:12pt; font-family:'Times New Roman', Times, serif; color:#000000; font-weight:bold; \">Note the new columns and the way they are created now I can create heat map that includes all factors</span>\n",
    "  </div>"
   ]
  },
  {
   "cell_type": "code",
   "execution_count": 35,
   "id": "2d95e6f8",
   "metadata": {
    "execution": {
     "iopub.execute_input": "2023-01-05T11:55:43.035845Z",
     "iopub.status.busy": "2023-01-05T11:55:43.035436Z",
     "iopub.status.idle": "2023-01-05T11:55:43.426629Z",
     "shell.execute_reply": "2023-01-05T11:55:43.425563Z"
    },
    "papermill": {
     "duration": 0.425964,
     "end_time": "2023-01-05T11:55:43.428975",
     "exception": false,
     "start_time": "2023-01-05T11:55:43.003011",
     "status": "completed"
    },
    "tags": []
   },
   "outputs": [
    {
     "data": {
      "image/png": "[encoded data removed]",
      "text/plain": [
       "<Figure size 720x720 with 2 Axes>"
      ]
     },
     "metadata": {
      "needs_background": "light"
     },
     "output_type": "display_data"
    }
   ],
   "source": [
    "#new heatmap\n",
    "fig, ax = plt.subplots(figsize = (10,10))\n",
    "sns.heatmap(df.corr()[[\"selling_price\"]].sort_values(\"selling_price\", ascending = False),vmin = -1, vmax = +1, annot = True, ax = ax)\n",
    "plt.show()"
   ]
  },
  {
   "cell_type": "code",
   "execution_count": 36,
   "id": "c7064705",
   "metadata": {
    "execution": {
     "iopub.execute_input": "2023-01-05T11:55:43.495007Z",
     "iopub.status.busy": "2023-01-05T11:55:43.494570Z",
     "iopub.status.idle": "2023-01-05T11:55:43.506987Z",
     "shell.execute_reply": "2023-01-05T11:55:43.506184Z"
    },
    "papermill": {
     "duration": 0.048072,
     "end_time": "2023-01-05T11:55:43.509364",
     "exception": false,
     "start_time": "2023-01-05T11:55:43.461292",
     "status": "completed"
    },
    "tags": []
   },
   "outputs": [],
   "source": [
    "sta1 = df['selling_price'].mean()\n",
    "sta2 = df['selling_price'].count()\n",
    "sta3 = df['selling_price'].std()\n",
    "sta4 = df['selling_price'].min()\n",
    "sta5 = df['selling_price'].quantile(q=0.25)\n",
    "sta6 = df['selling_price'].quantile(q=0.50)\n",
    "sta7 = df['selling_price'].quantile(q=0.75)\n",
    "sta8 = df['selling_price'].max()\n",
    "sta9 = df['selling_price'].median()"
   ]
  },
  {
   "cell_type": "markdown",
   "id": "dc110f05",
   "metadata": {
    "papermill": {
     "duration": 0.031123,
     "end_time": "2023-01-05T11:55:43.572024",
     "exception": false,
     "start_time": "2023-01-05T11:55:43.540901",
     "status": "completed"
    },
    "tags": []
   },
   "source": [
    "<div style=\"text-align:left;\">\n",
    "  <span style=\"font-size:12pt; font-family:'Times New Roman', Times, serif; color:#000000; font-weight:bold; \">The heatmap may be inaccurate because it is a little different from what we have previously extracted, but it gives us an indication of the impact of all the different factors on the price of the car. There are no surprises. The results were expected and identical to what we find before.</span>\n",
    "  </div>"
   ]
  },
  {
   "cell_type": "markdown",
   "id": "a1d3056f",
   "metadata": {
    "papermill": {
     "duration": 0.030762,
     "end_time": "2023-01-05T11:55:43.634269",
     "exception": false,
     "start_time": "2023-01-05T11:55:43.603507",
     "status": "completed"
    },
    "tags": []
   },
   "source": [
    "<div style=\"color:white;\n",
    "            display:fill;\n",
    "            border-radius:15px;\n",
    "            background-color:#9248A5;\n",
    "            font-size:70%;\n",
    "            font-family:Verdana;\n",
    "            letter-spacing:1px\">\n",
    "            <div id=\"report\">\n",
    "    <h1 style='padding: 20px;\n",
    "              color:#B2B223;\n",
    "              text-align:center;'>\n",
    "        📄 Report\n",
    "            </h1>\n",
    "    </div>"
   ]
  },
  {
   "cell_type": "markdown",
   "id": "4af9225f",
   "metadata": {
    "papermill": {
     "duration": 0.031427,
     "end_time": "2023-01-05T11:55:43.696905",
     "exception": false,
     "start_time": "2023-01-05T11:55:43.665478",
     "status": "completed"
    },
    "tags": []
   },
   "source": [
    "<div style=\"text-align:left;\">\n",
    "  <span style=\"font-size:12pt; font-family:Arial, Helvetica, sans-serif; color:#400000; font-weight:bold; \">I will make things brief. Through our journey in analyzing the data, we found that<br/><br/></span>\n",
    "<span style=\"font-size:10pt; font-family:Arial, Helvetica, sans-serif; color:#400000; font-weight:bold; \">    1.Best selling brand is Maruti then Hyundai<br/>    2.Manuals sell more than automatics<br/>    3.The newer the car the better it sells<br/>    4.Individual sell more<br/>    5.Petrol and Diesel sell more<br/>    6.Most sales were made in 2017</span><span style=\"font-size:12pt; font-family:Arial, Helvetica, sans-serif; color:#400000; font-weight:bold; \"><br/><br/>There are factors that affect on car price<br/><br/>  </span>  <span style=\"font-size:10pt; font-family:Arial, Helvetica, sans-serif; color:#400000; font-weight:bold; \">   1.The year, the newer the year, the higher the price<br/>     2.The KM Driving when increase price of car decreased<br/>     3.Brand and model of the car<br/>     </span>\n",
    "  <span style=\"font-size:12pt; font-family:Arial, Helvetica, sans-serif; color:#400000; font-weight:bold; \"><br/>Other factors important but these are the main factors</span>\n",
    "  </div>"
   ]
  },
  {
   "cell_type": "markdown",
   "id": "2241907b",
   "metadata": {
    "papermill": {
     "duration": 0.03123,
     "end_time": "2023-01-05T11:55:43.759754",
     "exception": false,
     "start_time": "2023-01-05T11:55:43.728524",
     "status": "completed"
    },
    "tags": []
   },
   "source": [
    "<div style=\"color:white;\n",
    "            display:fill;\n",
    "            border-radius:15px;\n",
    "            background-color:#9248A5;\n",
    "            font-size:70%;\n",
    "            font-family:Verdana;\n",
    "            letter-spacing:1px\">\n",
    "            <div id=\"finally\">\n",
    "    <h1 style='padding: 20px;\n",
    "              color:#B2B223;\n",
    "              text-align:center;'>\n",
    "        ✉️ Finally\n",
    "            </h1>\n",
    "    </div>"
   ]
  },
  {
   "cell_type": "markdown",
   "id": "38be77e5",
   "metadata": {
    "papermill": {
     "duration": 0.030924,
     "end_time": "2023-01-05T11:55:43.822304",
     "exception": false,
     "start_time": "2023-01-05T11:55:43.791380",
     "status": "completed"
    },
    "tags": []
   },
   "source": [
    "<div style=\"text-align:left;\">\n",
    "  <span style=\"font-size:12pt; font-family:'Comic Sans MS', 'Chalkboard SE', 'Comic Neue', sans-serif; color:#000000; font-weight:bold; \">Please, if you have any ideas or modifications can improve the code or analysis tell me about it in the comments.<br/>I want to constantly develop this notebook . I am here to learn and develop my skills and my experiences.<br/><br/>Also, if you have any questions or inquiries related to this code or analysis or anything not clear in this notebook tell me about it the comments<br/><br/>I tried as much as possible to make the code clear and easy to be useful to those who see it and be able to learn from it<br/><br/>We are all here to help each other and learn from each other<br/><br/>So I will wait your advice to improve my skills and experience<br/>and also feel free to ask about anything is not clear to you to improve your skills and experience<br/></span>\n",
    "  </div>"
   ]
  }
 ],
 "metadata": {
  "kernelspec": {
   "display_name": "Python 3",
   "language": "python",
   "name": "python3"
  },
  "language_info": {
   "codemirror_mode": {
    "name": "ipython",
    "version": 3
   },
   "file_extension": ".py",
   "mimetype": "text/x-python",
   "name": "python",
   "nbconvert_exporter": "python",
   "pygments_lexer": "ipython3",
   "version": "3.7.12"
  },
  "papermill": {
   "default_parameters": {},
   "duration": 20.994247,
   "end_time": "2023-01-05T11:55:44.574838",
   "environment_variables": {},
   "exception": null,
   "input_path": "__notebook__.ipynb",
   "output_path": "__notebook__.ipynb",
   "parameters": {},
   "start_time": "2023-01-05T11:55:23.580591",
   "version": "2.3.4"
  }
 },
 "nbformat": 4,
 "nbformat_minor": 5
}
