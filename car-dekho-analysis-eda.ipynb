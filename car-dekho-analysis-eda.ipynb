{
 "cells": [
  {
   "cell_type": "code",
   "execution_count": 1,
   "id": "a9168709",
   "metadata": {
    "_cell_guid": "b1076dfc-b9ad-4769-8c92-a6c4dae69d19",
    "_uuid": "8f2839f25d086af736a60e9eeb907d3b93b6e0e5",
    "execution": {
     "iopub.execute_input": "2022-12-19T21:05:29.898286Z",
     "iopub.status.busy": "2022-12-19T21:05:29.897267Z",
     "iopub.status.idle": "2022-12-19T21:05:31.113679Z",
     "shell.execute_reply": "2022-12-19T21:05:31.112138Z"
    },
    "papermill": {
     "duration": 1.233918,
     "end_time": "2022-12-19T21:05:31.116923",
     "exception": false,
     "start_time": "2022-12-19T21:05:29.883005",
     "status": "completed"
    },
    "tags": []
   },
   "outputs": [],
   "source": [
    "import pandas as pd\n",
    "import numpy as np\n",
    "import matplotlib.pyplot as plt\n",
    "import seaborn as sns"
   ]
  },
  {
   "cell_type": "markdown",
   "id": "b0496a8e",
   "metadata": {
    "papermill": {
     "duration": 0.009625,
     "end_time": "2022-12-19T21:05:31.136799",
     "exception": false,
     "start_time": "2022-12-19T21:05:31.127174",
     "status": "completed"
    },
    "tags": []
   },
   "source": [
    "# Load & Understad Data"
   ]
  },
  {
   "cell_type": "code",
   "execution_count": 2,
   "id": "64ce01a5",
   "metadata": {
    "execution": {
     "iopub.execute_input": "2022-12-19T21:05:31.171509Z",
     "iopub.status.busy": "2022-12-19T21:05:31.170438Z",
     "iopub.status.idle": "2022-12-19T21:05:31.243834Z",
     "shell.execute_reply": "2022-12-19T21:05:31.241990Z"
    },
    "papermill": {
     "duration": 0.095372,
     "end_time": "2022-12-19T21:05:31.249605",
     "exception": false,
     "start_time": "2022-12-19T21:05:31.154233",
     "status": "completed"
    },
    "tags": []
   },
   "outputs": [
    {
     "data": {
      "text/html": [
       "<div>\n",
       "<style scoped>\n",
       "    .dataframe tbody tr th:only-of-type {\n",
       "        vertical-align: middle;\n",
       "    }\n",
       "\n",
       "    .dataframe tbody tr th {\n",
       "        vertical-align: top;\n",
       "    }\n",
       "\n",
       "    .dataframe thead th {\n",
       "        text-align: right;\n",
       "    }\n",
       "</style>\n",
       "<table border=\"1\" class=\"dataframe\">\n",
       "  <thead>\n",
       "    <tr style=\"text-align: right;\">\n",
       "      <th></th>\n",
       "      <th>name</th>\n",
       "      <th>year</th>\n",
       "      <th>selling_price</th>\n",
       "      <th>km_driven</th>\n",
       "      <th>fuel</th>\n",
       "      <th>seller_type</th>\n",
       "      <th>transmission</th>\n",
       "      <th>owner</th>\n",
       "    </tr>\n",
       "  </thead>\n",
       "  <tbody>\n",
       "    <tr>\n",
       "      <th>0</th>\n",
       "      <td>Maruti 800 AC</td>\n",
       "      <td>2007</td>\n",
       "      <td>60000</td>\n",
       "      <td>70000</td>\n",
       "      <td>Petrol</td>\n",
       "      <td>Individual</td>\n",
       "      <td>Manual</td>\n",
       "      <td>First Owner</td>\n",
       "    </tr>\n",
       "    <tr>\n",
       "      <th>1</th>\n",
       "      <td>Maruti Wagon R LXI Minor</td>\n",
       "      <td>2007</td>\n",
       "      <td>135000</td>\n",
       "      <td>50000</td>\n",
       "      <td>Petrol</td>\n",
       "      <td>Individual</td>\n",
       "      <td>Manual</td>\n",
       "      <td>First Owner</td>\n",
       "    </tr>\n",
       "    <tr>\n",
       "      <th>2</th>\n",
       "      <td>Hyundai Verna 1.6 SX</td>\n",
       "      <td>2012</td>\n",
       "      <td>600000</td>\n",
       "      <td>100000</td>\n",
       "      <td>Diesel</td>\n",
       "      <td>Individual</td>\n",
       "      <td>Manual</td>\n",
       "      <td>First Owner</td>\n",
       "    </tr>\n",
       "  </tbody>\n",
       "</table>\n",
       "</div>"
      ],
      "text/plain": [
       "                       name  year  selling_price  km_driven    fuel  \\\n",
       "0             Maruti 800 AC  2007          60000      70000  Petrol   \n",
       "1  Maruti Wagon R LXI Minor  2007         135000      50000  Petrol   \n",
       "2      Hyundai Verna 1.6 SX  2012         600000     100000  Diesel   \n",
       "\n",
       "  seller_type transmission        owner  \n",
       "0  Individual       Manual  First Owner  \n",
       "1  Individual       Manual  First Owner  \n",
       "2  Individual       Manual  First Owner  "
      ]
     },
     "execution_count": 2,
     "metadata": {},
     "output_type": "execute_result"
    }
   ],
   "source": [
    "df = pd.read_csv('/kaggle/input/car-details-dataset/CAR DETAILS FROM CAR DEKHO.csv', sep=',')\n",
    "df.head(3)"
   ]
  },
  {
   "cell_type": "code",
   "execution_count": 3,
   "id": "0aae8460",
   "metadata": {
    "execution": {
     "iopub.execute_input": "2022-12-19T21:05:31.279087Z",
     "iopub.status.busy": "2022-12-19T21:05:31.278066Z",
     "iopub.status.idle": "2022-12-19T21:05:31.313624Z",
     "shell.execute_reply": "2022-12-19T21:05:31.312151Z"
    },
    "papermill": {
     "duration": 0.05444,
     "end_time": "2022-12-19T21:05:31.318575",
     "exception": false,
     "start_time": "2022-12-19T21:05:31.264135",
     "status": "completed"
    },
    "tags": []
   },
   "outputs": [
    {
     "name": "stdout",
     "output_type": "stream",
     "text": [
      "Row =  4340 Col =  8\n",
      "<class 'pandas.core.frame.DataFrame'>\n",
      "RangeIndex: 4340 entries, 0 to 4339\n",
      "Data columns (total 8 columns):\n",
      " #   Column         Non-Null Count  Dtype \n",
      "---  ------         --------------  ----- \n",
      " 0   name           4340 non-null   object\n",
      " 1   year           4340 non-null   int64 \n",
      " 2   selling_price  4340 non-null   int64 \n",
      " 3   km_driven      4340 non-null   int64 \n",
      " 4   fuel           4340 non-null   object\n",
      " 5   seller_type    4340 non-null   object\n",
      " 6   transmission   4340 non-null   object\n",
      " 7   owner          4340 non-null   object\n",
      "dtypes: int64(3), object(5)\n",
      "memory usage: 271.4+ KB\n"
     ]
    }
   ],
   "source": [
    "# View the shape and info of the dataset\n",
    "row, col = df.shape\n",
    "print('Row = ', row, 'Col = ', col)\n",
    "\n",
    "df.info()"
   ]
  },
  {
   "cell_type": "code",
   "execution_count": 4,
   "id": "aa5fa627",
   "metadata": {
    "execution": {
     "iopub.execute_input": "2022-12-19T21:05:31.346809Z",
     "iopub.status.busy": "2022-12-19T21:05:31.345967Z",
     "iopub.status.idle": "2022-12-19T21:05:31.360907Z",
     "shell.execute_reply": "2022-12-19T21:05:31.359870Z"
    },
    "papermill": {
     "duration": 0.031945,
     "end_time": "2022-12-19T21:05:31.363757",
     "exception": false,
     "start_time": "2022-12-19T21:05:31.331812",
     "status": "completed"
    },
    "tags": []
   },
   "outputs": [
    {
     "data": {
      "text/plain": [
       "Maruti           1280\n",
       "Hyundai           821\n",
       "Mahindra          365\n",
       "Tata              361\n",
       "Honda             252\n",
       "Ford              238\n",
       "Toyota            206\n",
       "Chevrolet         188\n",
       "Renault           146\n",
       "Volkswagen        107\n",
       "Skoda              68\n",
       "Nissan             64\n",
       "Audi               60\n",
       "BMW                39\n",
       "Fiat               37\n",
       "Datsun             37\n",
       "Mercedes-Benz      35\n",
       "Jaguar              6\n",
       "Mitsubishi          6\n",
       "Land                5\n",
       "Volvo               4\n",
       "Ambassador          4\n",
       "Jeep                3\n",
       "MG                  2\n",
       "OpelCorsa           2\n",
       "Daewoo              1\n",
       "Force               1\n",
       "Isuzu               1\n",
       "Kia                 1\n",
       "Name: model, dtype: int64"
      ]
     },
     "execution_count": 4,
     "metadata": {},
     "output_type": "execute_result"
    }
   ],
   "source": [
    "# Split the column name to get the model of the car\n",
    "df[\"model\"] = df.name.apply(lambda x : ' '.join(x.split(' ')[:1]))\n",
    "df['model'].value_counts()"
   ]
  },
  {
   "cell_type": "code",
   "execution_count": 5,
   "id": "35002205",
   "metadata": {
    "execution": {
     "iopub.execute_input": "2022-12-19T21:05:31.391114Z",
     "iopub.status.busy": "2022-12-19T21:05:31.390112Z",
     "iopub.status.idle": "2022-12-19T21:05:31.404007Z",
     "shell.execute_reply": "2022-12-19T21:05:31.401648Z"
    },
    "papermill": {
     "duration": 0.030776,
     "end_time": "2022-12-19T21:05:31.407149",
     "exception": false,
     "start_time": "2022-12-19T21:05:31.376373",
     "status": "completed"
    },
    "tags": []
   },
   "outputs": [
    {
     "data": {
      "text/plain": [
       "name             0\n",
       "year             0\n",
       "selling_price    0\n",
       "km_driven        0\n",
       "fuel             0\n",
       "seller_type      0\n",
       "transmission     0\n",
       "owner            0\n",
       "model            0\n",
       "dtype: int64"
      ]
     },
     "execution_count": 5,
     "metadata": {},
     "output_type": "execute_result"
    }
   ],
   "source": [
    "# Check null values in dataset\n",
    "df.isnull().sum()"
   ]
  },
  {
   "cell_type": "code",
   "execution_count": 6,
   "id": "2d74052c",
   "metadata": {
    "execution": {
     "iopub.execute_input": "2022-12-19T21:05:31.434311Z",
     "iopub.status.busy": "2022-12-19T21:05:31.433524Z",
     "iopub.status.idle": "2022-12-19T21:05:31.463774Z",
     "shell.execute_reply": "2022-12-19T21:05:31.461939Z"
    },
    "papermill": {
     "duration": 0.047563,
     "end_time": "2022-12-19T21:05:31.466959",
     "exception": false,
     "start_time": "2022-12-19T21:05:31.419396",
     "status": "completed"
    },
    "tags": []
   },
   "outputs": [
    {
     "data": {
      "text/html": [
       "<div>\n",
       "<style scoped>\n",
       "    .dataframe tbody tr th:only-of-type {\n",
       "        vertical-align: middle;\n",
       "    }\n",
       "\n",
       "    .dataframe tbody tr th {\n",
       "        vertical-align: top;\n",
       "    }\n",
       "\n",
       "    .dataframe thead th {\n",
       "        text-align: right;\n",
       "    }\n",
       "</style>\n",
       "<table border=\"1\" class=\"dataframe\">\n",
       "  <thead>\n",
       "    <tr style=\"text-align: right;\">\n",
       "      <th></th>\n",
       "      <th>name</th>\n",
       "      <th>year</th>\n",
       "      <th>selling_price</th>\n",
       "      <th>km_driven</th>\n",
       "      <th>fuel</th>\n",
       "      <th>seller_type</th>\n",
       "      <th>transmission</th>\n",
       "      <th>owner</th>\n",
       "      <th>model</th>\n",
       "    </tr>\n",
       "  </thead>\n",
       "  <tbody>\n",
       "    <tr>\n",
       "      <th>13</th>\n",
       "      <td>Maruti 800 AC</td>\n",
       "      <td>2007</td>\n",
       "      <td>60000</td>\n",
       "      <td>70000</td>\n",
       "      <td>Petrol</td>\n",
       "      <td>Individual</td>\n",
       "      <td>Manual</td>\n",
       "      <td>First Owner</td>\n",
       "      <td>Maruti</td>\n",
       "    </tr>\n",
       "    <tr>\n",
       "      <th>14</th>\n",
       "      <td>Maruti Wagon R LXI Minor</td>\n",
       "      <td>2007</td>\n",
       "      <td>135000</td>\n",
       "      <td>50000</td>\n",
       "      <td>Petrol</td>\n",
       "      <td>Individual</td>\n",
       "      <td>Manual</td>\n",
       "      <td>First Owner</td>\n",
       "      <td>Maruti</td>\n",
       "    </tr>\n",
       "    <tr>\n",
       "      <th>15</th>\n",
       "      <td>Hyundai Verna 1.6 SX</td>\n",
       "      <td>2012</td>\n",
       "      <td>600000</td>\n",
       "      <td>100000</td>\n",
       "      <td>Diesel</td>\n",
       "      <td>Individual</td>\n",
       "      <td>Manual</td>\n",
       "      <td>First Owner</td>\n",
       "      <td>Hyundai</td>\n",
       "    </tr>\n",
       "    <tr>\n",
       "      <th>16</th>\n",
       "      <td>Datsun RediGO T Option</td>\n",
       "      <td>2017</td>\n",
       "      <td>250000</td>\n",
       "      <td>46000</td>\n",
       "      <td>Petrol</td>\n",
       "      <td>Individual</td>\n",
       "      <td>Manual</td>\n",
       "      <td>First Owner</td>\n",
       "      <td>Datsun</td>\n",
       "    </tr>\n",
       "    <tr>\n",
       "      <th>17</th>\n",
       "      <td>Honda Amaze VX i-DTEC</td>\n",
       "      <td>2014</td>\n",
       "      <td>450000</td>\n",
       "      <td>141000</td>\n",
       "      <td>Diesel</td>\n",
       "      <td>Individual</td>\n",
       "      <td>Manual</td>\n",
       "      <td>Second Owner</td>\n",
       "      <td>Honda</td>\n",
       "    </tr>\n",
       "    <tr>\n",
       "      <th>...</th>\n",
       "      <td>...</td>\n",
       "      <td>...</td>\n",
       "      <td>...</td>\n",
       "      <td>...</td>\n",
       "      <td>...</td>\n",
       "      <td>...</td>\n",
       "      <td>...</td>\n",
       "      <td>...</td>\n",
       "      <td>...</td>\n",
       "    </tr>\n",
       "    <tr>\n",
       "      <th>4307</th>\n",
       "      <td>Mahindra Xylo H4</td>\n",
       "      <td>2019</td>\n",
       "      <td>599000</td>\n",
       "      <td>15000</td>\n",
       "      <td>Diesel</td>\n",
       "      <td>Individual</td>\n",
       "      <td>Manual</td>\n",
       "      <td>Third Owner</td>\n",
       "      <td>Mahindra</td>\n",
       "    </tr>\n",
       "    <tr>\n",
       "      <th>4308</th>\n",
       "      <td>Maruti Alto 800 LXI</td>\n",
       "      <td>2018</td>\n",
       "      <td>200000</td>\n",
       "      <td>35000</td>\n",
       "      <td>Petrol</td>\n",
       "      <td>Individual</td>\n",
       "      <td>Manual</td>\n",
       "      <td>First Owner</td>\n",
       "      <td>Maruti</td>\n",
       "    </tr>\n",
       "    <tr>\n",
       "      <th>4309</th>\n",
       "      <td>Datsun GO Plus T</td>\n",
       "      <td>2017</td>\n",
       "      <td>350000</td>\n",
       "      <td>10171</td>\n",
       "      <td>Petrol</td>\n",
       "      <td>Dealer</td>\n",
       "      <td>Manual</td>\n",
       "      <td>First Owner</td>\n",
       "      <td>Datsun</td>\n",
       "    </tr>\n",
       "    <tr>\n",
       "      <th>4310</th>\n",
       "      <td>Renault Duster 110PS Diesel RxL</td>\n",
       "      <td>2015</td>\n",
       "      <td>465000</td>\n",
       "      <td>41123</td>\n",
       "      <td>Diesel</td>\n",
       "      <td>Dealer</td>\n",
       "      <td>Manual</td>\n",
       "      <td>First Owner</td>\n",
       "      <td>Renault</td>\n",
       "    </tr>\n",
       "    <tr>\n",
       "      <th>4311</th>\n",
       "      <td>Toyota Camry Hybrid 2.5</td>\n",
       "      <td>2017</td>\n",
       "      <td>1900000</td>\n",
       "      <td>20118</td>\n",
       "      <td>Petrol</td>\n",
       "      <td>Dealer</td>\n",
       "      <td>Automatic</td>\n",
       "      <td>First Owner</td>\n",
       "      <td>Toyota</td>\n",
       "    </tr>\n",
       "  </tbody>\n",
       "</table>\n",
       "<p>763 rows × 9 columns</p>\n",
       "</div>"
      ],
      "text/plain": [
       "                                 name  year  selling_price  km_driven    fuel  \\\n",
       "13                      Maruti 800 AC  2007          60000      70000  Petrol   \n",
       "14           Maruti Wagon R LXI Minor  2007         135000      50000  Petrol   \n",
       "15               Hyundai Verna 1.6 SX  2012         600000     100000  Diesel   \n",
       "16             Datsun RediGO T Option  2017         250000      46000  Petrol   \n",
       "17              Honda Amaze VX i-DTEC  2014         450000     141000  Diesel   \n",
       "...                               ...   ...            ...        ...     ...   \n",
       "4307                 Mahindra Xylo H4  2019         599000      15000  Diesel   \n",
       "4308              Maruti Alto 800 LXI  2018         200000      35000  Petrol   \n",
       "4309                 Datsun GO Plus T  2017         350000      10171  Petrol   \n",
       "4310  Renault Duster 110PS Diesel RxL  2015         465000      41123  Diesel   \n",
       "4311          Toyota Camry Hybrid 2.5  2017        1900000      20118  Petrol   \n",
       "\n",
       "     seller_type transmission         owner     model  \n",
       "13    Individual       Manual   First Owner    Maruti  \n",
       "14    Individual       Manual   First Owner    Maruti  \n",
       "15    Individual       Manual   First Owner   Hyundai  \n",
       "16    Individual       Manual   First Owner    Datsun  \n",
       "17    Individual       Manual  Second Owner     Honda  \n",
       "...          ...          ...           ...       ...  \n",
       "4307  Individual       Manual   Third Owner  Mahindra  \n",
       "4308  Individual       Manual   First Owner    Maruti  \n",
       "4309      Dealer       Manual   First Owner    Datsun  \n",
       "4310      Dealer       Manual   First Owner   Renault  \n",
       "4311      Dealer    Automatic   First Owner    Toyota  \n",
       "\n",
       "[763 rows x 9 columns]"
      ]
     },
     "execution_count": 6,
     "metadata": {},
     "output_type": "execute_result"
    }
   ],
   "source": [
    "# Check duplicated row in dataset\n",
    "df[df.duplicated()]"
   ]
  },
  {
   "cell_type": "code",
   "execution_count": 7,
   "id": "3b7a6a07",
   "metadata": {
    "execution": {
     "iopub.execute_input": "2022-12-19T21:05:31.492553Z",
     "iopub.status.busy": "2022-12-19T21:05:31.492140Z",
     "iopub.status.idle": "2022-12-19T21:05:31.511597Z",
     "shell.execute_reply": "2022-12-19T21:05:31.509561Z"
    },
    "papermill": {
     "duration": 0.036194,
     "end_time": "2022-12-19T21:05:31.514591",
     "exception": false,
     "start_time": "2022-12-19T21:05:31.478397",
     "status": "completed"
    },
    "tags": []
   },
   "outputs": [
    {
     "data": {
      "text/plain": [
       "(3577, 9)"
      ]
     },
     "execution_count": 7,
     "metadata": {},
     "output_type": "execute_result"
    }
   ],
   "source": [
    "# Drop all duplicated row\n",
    "df = df.drop_duplicates()\n",
    "\n",
    "df.shape"
   ]
  },
  {
   "cell_type": "code",
   "execution_count": 8,
   "id": "3daf78fa",
   "metadata": {
    "execution": {
     "iopub.execute_input": "2022-12-19T21:05:31.542684Z",
     "iopub.status.busy": "2022-12-19T21:05:31.542255Z",
     "iopub.status.idle": "2022-12-19T21:05:31.554113Z",
     "shell.execute_reply": "2022-12-19T21:05:31.552589Z"
    },
    "papermill": {
     "duration": 0.030646,
     "end_time": "2022-12-19T21:05:31.558082",
     "exception": false,
     "start_time": "2022-12-19T21:05:31.527436",
     "status": "completed"
    },
    "tags": []
   },
   "outputs": [
    {
     "name": "stdout",
     "output_type": "stream",
     "text": [
      "['Maruti 800 AC' 'Maruti Wagon R LXI Minor' 'Hyundai Verna 1.6 SX' ...\n",
      " 'Mahindra Verito 1.5 D6 BSIII'\n",
      " 'Toyota Innova 2.5 VX (Diesel) 8 Seater BS IV'\n",
      " 'Hyundai i20 Magna 1.4 CRDi']\n",
      "['Petrol' 'Diesel' 'CNG' 'LPG' 'Electric']\n",
      "['Individual' 'Dealer' 'Trustmark Dealer']\n",
      "['Manual' 'Automatic']\n",
      "['First Owner' 'Second Owner' 'Fourth & Above Owner' 'Third Owner'\n",
      " 'Test Drive Car']\n",
      "['Maruti' 'Hyundai' 'Datsun' 'Honda' 'Tata' 'Chevrolet' 'Toyota' 'Jaguar'\n",
      " 'Mercedes-Benz' 'Audi' 'Skoda' 'Jeep' 'BMW' 'Mahindra' 'Ford' 'Nissan'\n",
      " 'Renault' 'Fiat' 'Volkswagen' 'Volvo' 'Mitsubishi' 'Land' 'Daewoo' 'MG'\n",
      " 'Force' 'Isuzu' 'OpelCorsa' 'Ambassador' 'Kia']\n"
     ]
    }
   ],
   "source": [
    "# View unique values from categorical features\n",
    "categorical = [col for col in df.columns if df[col].dtypes == 'O']\n",
    "\n",
    "for col in categorical:\n",
    "  print(df[col].unique())"
   ]
  },
  {
   "cell_type": "code",
   "execution_count": 9,
   "id": "3fa6ffa6",
   "metadata": {
    "execution": {
     "iopub.execute_input": "2022-12-19T21:05:31.584322Z",
     "iopub.status.busy": "2022-12-19T21:05:31.583901Z",
     "iopub.status.idle": "2022-12-19T21:05:31.614237Z",
     "shell.execute_reply": "2022-12-19T21:05:31.612812Z"
    },
    "papermill": {
     "duration": 0.046465,
     "end_time": "2022-12-19T21:05:31.617381",
     "exception": false,
     "start_time": "2022-12-19T21:05:31.570916",
     "status": "completed"
    },
    "tags": []
   },
   "outputs": [
    {
     "data": {
      "text/html": [
       "<div>\n",
       "<style scoped>\n",
       "    .dataframe tbody tr th:only-of-type {\n",
       "        vertical-align: middle;\n",
       "    }\n",
       "\n",
       "    .dataframe tbody tr th {\n",
       "        vertical-align: top;\n",
       "    }\n",
       "\n",
       "    .dataframe thead th {\n",
       "        text-align: right;\n",
       "    }\n",
       "</style>\n",
       "<table border=\"1\" class=\"dataframe\">\n",
       "  <thead>\n",
       "    <tr style=\"text-align: right;\">\n",
       "      <th></th>\n",
       "      <th>year</th>\n",
       "      <th>selling_price</th>\n",
       "      <th>km_driven</th>\n",
       "    </tr>\n",
       "  </thead>\n",
       "  <tbody>\n",
       "    <tr>\n",
       "      <th>count</th>\n",
       "      <td>3577.000000</td>\n",
       "      <td>3.577000e+03</td>\n",
       "      <td>3577.000000</td>\n",
       "    </tr>\n",
       "    <tr>\n",
       "      <th>mean</th>\n",
       "      <td>2012.962538</td>\n",
       "      <td>4.739125e+05</td>\n",
       "      <td>69250.545709</td>\n",
       "    </tr>\n",
       "    <tr>\n",
       "      <th>std</th>\n",
       "      <td>4.251759</td>\n",
       "      <td>5.093018e+05</td>\n",
       "      <td>47579.940016</td>\n",
       "    </tr>\n",
       "    <tr>\n",
       "      <th>min</th>\n",
       "      <td>1992.000000</td>\n",
       "      <td>2.000000e+04</td>\n",
       "      <td>1.000000</td>\n",
       "    </tr>\n",
       "    <tr>\n",
       "      <th>25%</th>\n",
       "      <td>2010.000000</td>\n",
       "      <td>2.000000e+05</td>\n",
       "      <td>36000.000000</td>\n",
       "    </tr>\n",
       "    <tr>\n",
       "      <th>50%</th>\n",
       "      <td>2013.000000</td>\n",
       "      <td>3.500000e+05</td>\n",
       "      <td>60000.000000</td>\n",
       "    </tr>\n",
       "    <tr>\n",
       "      <th>75%</th>\n",
       "      <td>2016.000000</td>\n",
       "      <td>6.000000e+05</td>\n",
       "      <td>90000.000000</td>\n",
       "    </tr>\n",
       "    <tr>\n",
       "      <th>max</th>\n",
       "      <td>2020.000000</td>\n",
       "      <td>8.900000e+06</td>\n",
       "      <td>806599.000000</td>\n",
       "    </tr>\n",
       "  </tbody>\n",
       "</table>\n",
       "</div>"
      ],
      "text/plain": [
       "              year  selling_price      km_driven\n",
       "count  3577.000000   3.577000e+03    3577.000000\n",
       "mean   2012.962538   4.739125e+05   69250.545709\n",
       "std       4.251759   5.093018e+05   47579.940016\n",
       "min    1992.000000   2.000000e+04       1.000000\n",
       "25%    2010.000000   2.000000e+05   36000.000000\n",
       "50%    2013.000000   3.500000e+05   60000.000000\n",
       "75%    2016.000000   6.000000e+05   90000.000000\n",
       "max    2020.000000   8.900000e+06  806599.000000"
      ]
     },
     "execution_count": 9,
     "metadata": {},
     "output_type": "execute_result"
    }
   ],
   "source": [
    "# Summary of the data set\n",
    "df.describe()"
   ]
  },
  {
   "cell_type": "markdown",
   "id": "48e0d0a0",
   "metadata": {
    "papermill": {
     "duration": 0.011487,
     "end_time": "2022-12-19T21:05:31.642101",
     "exception": false,
     "start_time": "2022-12-19T21:05:31.630614",
     "status": "completed"
    },
    "tags": []
   },
   "source": [
    "# Exploratory Data Analysis"
   ]
  },
  {
   "cell_type": "code",
   "execution_count": 10,
   "id": "13811f7a",
   "metadata": {
    "execution": {
     "iopub.execute_input": "2022-12-19T21:05:31.667417Z",
     "iopub.status.busy": "2022-12-19T21:05:31.667015Z",
     "iopub.status.idle": "2022-12-19T21:05:31.672682Z",
     "shell.execute_reply": "2022-12-19T21:05:31.671735Z"
    },
    "papermill": {
     "duration": 0.021599,
     "end_time": "2022-12-19T21:05:31.675037",
     "exception": false,
     "start_time": "2022-12-19T21:05:31.653438",
     "status": "completed"
    },
    "tags": []
   },
   "outputs": [],
   "source": [
    "car = df.copy()"
   ]
  },
  {
   "cell_type": "markdown",
   "id": "04a1cebb",
   "metadata": {
    "papermill": {
     "duration": 0.011898,
     "end_time": "2022-12-19T21:05:31.699934",
     "exception": false,
     "start_time": "2022-12-19T21:05:31.688036",
     "status": "completed"
    },
    "tags": []
   },
   "source": [
    "## Model Distribution"
   ]
  },
  {
   "cell_type": "code",
   "execution_count": 11,
   "id": "7d6d9dfa",
   "metadata": {
    "execution": {
     "iopub.execute_input": "2022-12-19T21:05:31.727938Z",
     "iopub.status.busy": "2022-12-19T21:05:31.726682Z",
     "iopub.status.idle": "2022-12-19T21:05:31.737566Z",
     "shell.execute_reply": "2022-12-19T21:05:31.736317Z"
    },
    "papermill": {
     "duration": 0.028577,
     "end_time": "2022-12-19T21:05:31.740834",
     "exception": false,
     "start_time": "2022-12-19T21:05:31.712257",
     "status": "completed"
    },
    "tags": []
   },
   "outputs": [
    {
     "data": {
      "text/plain": [
       "Index(['Maruti', 'Hyundai', 'Mahindra', 'Tata', 'Ford', 'Honda', 'Toyota',\n",
       "       'Chevrolet', 'Renault', 'Volkswagen', 'Nissan', 'Skoda', 'Fiat', 'Audi',\n",
       "       'Datsun', 'BMW', 'Mercedes-Benz', 'Jaguar', 'Mitsubishi', 'Land',\n",
       "       'Volvo', 'Jeep', 'Ambassador', 'MG', 'OpelCorsa', 'Daewoo', 'Force',\n",
       "       'Isuzu', 'Kia'],\n",
       "      dtype='object')"
      ]
     },
     "execution_count": 11,
     "metadata": {},
     "output_type": "execute_result"
    }
   ],
   "source": [
    "car[\"model\"].value_counts().index"
   ]
  },
  {
   "cell_type": "code",
   "execution_count": 12,
   "id": "55b3379c",
   "metadata": {
    "execution": {
     "iopub.execute_input": "2022-12-19T21:05:31.766551Z",
     "iopub.status.busy": "2022-12-19T21:05:31.766145Z",
     "iopub.status.idle": "2022-12-19T21:05:31.774352Z",
     "shell.execute_reply": "2022-12-19T21:05:31.772987Z"
    },
    "papermill": {
     "duration": 0.023763,
     "end_time": "2022-12-19T21:05:31.776816",
     "exception": false,
     "start_time": "2022-12-19T21:05:31.753053",
     "status": "completed"
    },
    "tags": []
   },
   "outputs": [],
   "source": [
    "def percent(ax):\n",
    "    heightlst = []\n",
    "    for i in ax.patches:\n",
    "        heightlst.append(i.get_height())\n",
    "    total = sum(heightlst)\n",
    "    \n",
    "    for i in ax.patches:\n",
    "        x = i.get_x()+0.2\n",
    "        height = i.get_height()+4.3 \n",
    "        value = (\"{0:.2f}\".format((i.get_height()/total)*100)+'%')\n",
    "        \n",
    "        ax.text(x, height, value, fontsize=14,color='black')"
   ]
  },
  {
   "cell_type": "code",
   "execution_count": 13,
   "id": "5e732ff3",
   "metadata": {
    "execution": {
     "iopub.execute_input": "2022-12-19T21:05:31.802104Z",
     "iopub.status.busy": "2022-12-19T21:05:31.801699Z",
     "iopub.status.idle": "2022-12-19T21:05:32.063926Z",
     "shell.execute_reply": "2022-12-19T21:05:32.062005Z"
    },
    "papermill": {
     "duration": 0.278789,
     "end_time": "2022-12-19T21:05:32.067426",
     "exception": false,
     "start_time": "2022-12-19T21:05:31.788637",
     "status": "completed"
    },
    "tags": []
   },
   "outputs": [
    {
     "data": {
      "image/png": "[encoded data removed]",
      "text/plain": [
       "<Figure size 864x576 with 1 Axes>"
      ]
     },
     "metadata": {
      "needs_background": "light"
     },
     "output_type": "display_data"
    }
   ],
   "source": [
    "# Plot of Car Models Distribution\n",
    "figure = plt.figure(figsize=(12,8))\n",
    "plt.title('Car Models Distribution', fontsize=18)\n",
    "plot = sns.countplot(x=\"model\", data=car, order = car['model'].value_counts().index[:5], palette='Blues_r')\n",
    "percent(plot)\n",
    "\n",
    "plt.show()"
   ]
  },
  {
   "cell_type": "markdown",
   "id": "6e324704",
   "metadata": {
    "papermill": {
     "duration": 0.012352,
     "end_time": "2022-12-19T21:05:32.092274",
     "exception": false,
     "start_time": "2022-12-19T21:05:32.079922",
     "status": "completed"
    },
    "tags": []
   },
   "source": [
    "In the Car Dekho dataset, cars with the Maruti model are the most numerous models in the dataset after Hyundai and Mahindra."
   ]
  },
  {
   "cell_type": "markdown",
   "id": "60e47632",
   "metadata": {
    "papermill": {
     "duration": 0.012641,
     "end_time": "2022-12-19T21:05:32.117089",
     "exception": false,
     "start_time": "2022-12-19T21:05:32.104448",
     "status": "completed"
    },
    "tags": []
   },
   "source": [
    "## Categorical Summary"
   ]
  },
  {
   "cell_type": "code",
   "execution_count": 14,
   "id": "7046ee13",
   "metadata": {
    "execution": {
     "iopub.execute_input": "2022-12-19T21:05:32.144928Z",
     "iopub.status.busy": "2022-12-19T21:05:32.144464Z",
     "iopub.status.idle": "2022-12-19T21:05:32.153181Z",
     "shell.execute_reply": "2022-12-19T21:05:32.151933Z"
    },
    "papermill": {
     "duration": 0.026149,
     "end_time": "2022-12-19T21:05:32.155648",
     "exception": false,
     "start_time": "2022-12-19T21:05:32.129499",
     "status": "completed"
    },
    "tags": []
   },
   "outputs": [],
   "source": [
    "def categorical_summarized(dataframe, x=None, y=None, hue=None, palette='Blues_r', verbose=True):\n",
    "    '''\n",
    "    Helper function that gives a quick summary of a given column of categorical data\n",
    "    Arguments\n",
    "    =========\n",
    "    dataframe: pandas dataframe\n",
    "    x: str. horizontal axis to plot the labels of categorical data, y would be the count\n",
    "    y: str. vertical axis to plot the labels of categorical data, x would be the count\n",
    "    hue: str. if you want to compare it another variable (usually the target variable)\n",
    "    palette: array-like. Colour of the plot\n",
    "    Returns\n",
    "    =======\n",
    "    Quick Stats of the data and also the count plot\n",
    "    '''\n",
    "    if x == None:\n",
    "        column_interested = y\n",
    "    else:\n",
    "        column_interested = x\n",
    "    series = dataframe[column_interested]\n",
    "    print(series.describe())\n",
    "    print('mode: ', series.mode())\n",
    "    if verbose:\n",
    "        print('='*80)\n",
    "        print(series.value_counts())\n",
    "\n",
    "    sns.countplot(x=x, y=y, hue=hue, data=dataframe, palette=palette)\n",
    "    plt.show()"
   ]
  },
  {
   "cell_type": "code",
   "execution_count": 15,
   "id": "e064ebac",
   "metadata": {
    "execution": {
     "iopub.execute_input": "2022-12-19T21:05:32.181313Z",
     "iopub.status.busy": "2022-12-19T21:05:32.180896Z",
     "iopub.status.idle": "2022-12-19T21:05:32.398823Z",
     "shell.execute_reply": "2022-12-19T21:05:32.396743Z"
    },
    "papermill": {
     "duration": 0.234374,
     "end_time": "2022-12-19T21:05:32.401960",
     "exception": false,
     "start_time": "2022-12-19T21:05:32.167586",
     "status": "completed"
    },
    "tags": []
   },
   "outputs": [
    {
     "name": "stdout",
     "output_type": "stream",
     "text": [
      "count       3577\n",
      "unique         5\n",
      "top       Diesel\n",
      "freq        1800\n",
      "Name: fuel, dtype: object\n",
      "mode:  0    Diesel\n",
      "dtype: object\n",
      "================================================================================\n",
      "Diesel      1800\n",
      "Petrol      1717\n",
      "CNG           37\n",
      "LPG           22\n",
      "Electric       1\n",
      "Name: fuel, dtype: int64\n"
     ]
    },
    {
     "data": {
      "image/png": "[encoded data removed]",
      "text/plain": [
       "<Figure size 432x288 with 1 Axes>"
      ]
     },
     "metadata": {
      "needs_background": "light"
     },
     "output_type": "display_data"
    }
   ],
   "source": [
    "categorical_summarized(car, x='fuel')"
   ]
  },
  {
   "cell_type": "code",
   "execution_count": 16,
   "id": "5d992aa2",
   "metadata": {
    "execution": {
     "iopub.execute_input": "2022-12-19T21:05:32.430987Z",
     "iopub.status.busy": "2022-12-19T21:05:32.430207Z",
     "iopub.status.idle": "2022-12-19T21:05:32.630613Z",
     "shell.execute_reply": "2022-12-19T21:05:32.629231Z"
    },
    "papermill": {
     "duration": 0.218744,
     "end_time": "2022-12-19T21:05:32.633353",
     "exception": false,
     "start_time": "2022-12-19T21:05:32.414609",
     "status": "completed"
    },
    "tags": []
   },
   "outputs": [
    {
     "name": "stdout",
     "output_type": "stream",
     "text": [
      "count           3577\n",
      "unique             3\n",
      "top       Individual\n",
      "freq            2832\n",
      "Name: seller_type, dtype: object\n",
      "mode:  0    Individual\n",
      "dtype: object\n",
      "================================================================================\n",
      "Individual          2832\n",
      "Dealer               712\n",
      "Trustmark Dealer      33\n",
      "Name: seller_type, dtype: int64\n"
     ]
    },
    {
     "data": {
      "image/png": "[encoded data removed]",
      "text/plain": [
       "<Figure size 432x288 with 1 Axes>"
      ]
     },
     "metadata": {
      "needs_background": "light"
     },
     "output_type": "display_data"
    }
   ],
   "source": [
    "categorical_summarized(car, x='seller_type')"
   ]
  },
  {
   "cell_type": "code",
   "execution_count": 17,
   "id": "4d11a9ee",
   "metadata": {
    "execution": {
     "iopub.execute_input": "2022-12-19T21:05:32.660759Z",
     "iopub.status.busy": "2022-12-19T21:05:32.660331Z",
     "iopub.status.idle": "2022-12-19T21:05:32.863181Z",
     "shell.execute_reply": "2022-12-19T21:05:32.861736Z"
    },
    "papermill": {
     "duration": 0.21985,
     "end_time": "2022-12-19T21:05:32.865980",
     "exception": false,
     "start_time": "2022-12-19T21:05:32.646130",
     "status": "completed"
    },
    "tags": []
   },
   "outputs": [
    {
     "name": "stdout",
     "output_type": "stream",
     "text": [
      "count       3577\n",
      "unique         2\n",
      "top       Manual\n",
      "freq        3265\n",
      "Name: transmission, dtype: object\n",
      "mode:  0    Manual\n",
      "dtype: object\n",
      "================================================================================\n",
      "Manual       3265\n",
      "Automatic     312\n",
      "Name: transmission, dtype: int64\n"
     ]
    },
    {
     "data": {
      "image/png": "[encoded data removed]",
      "text/plain": [
       "<Figure size 432x288 with 1 Axes>"
      ]
     },
     "metadata": {
      "needs_background": "light"
     },
     "output_type": "display_data"
    }
   ],
   "source": [
    "categorical_summarized(car, x='transmission')"
   ]
  },
  {
   "cell_type": "code",
   "execution_count": 18,
   "id": "fb7068c8",
   "metadata": {
    "execution": {
     "iopub.execute_input": "2022-12-19T21:05:32.895227Z",
     "iopub.status.busy": "2022-12-19T21:05:32.894785Z",
     "iopub.status.idle": "2022-12-19T21:05:33.103590Z",
     "shell.execute_reply": "2022-12-19T21:05:33.101914Z"
    },
    "papermill": {
     "duration": 0.227233,
     "end_time": "2022-12-19T21:05:33.106737",
     "exception": false,
     "start_time": "2022-12-19T21:05:32.879504",
     "status": "completed"
    },
    "tags": []
   },
   "outputs": [
    {
     "name": "stdout",
     "output_type": "stream",
     "text": [
      "count            3577\n",
      "unique              5\n",
      "top       First Owner\n",
      "freq             2218\n",
      "Name: owner, dtype: object\n",
      "mode:  0    First Owner\n",
      "dtype: object\n",
      "================================================================================\n",
      "First Owner             2218\n",
      "Second Owner             978\n",
      "Third Owner              289\n",
      "Fourth & Above Owner      75\n",
      "Test Drive Car            17\n",
      "Name: owner, dtype: int64\n"
     ]
    },
    {
     "data": {
      "image/png": "[encoded data removed]",
      "text/plain": [
       "<Figure size 432x288 with 1 Axes>"
      ]
     },
     "metadata": {
      "needs_background": "light"
     },
     "output_type": "display_data"
    }
   ],
   "source": [
    "categorical_summarized(car, x='owner')"
   ]
  },
  {
   "cell_type": "code",
   "execution_count": 19,
   "id": "0d63b538",
   "metadata": {
    "execution": {
     "iopub.execute_input": "2022-12-19T21:05:33.134603Z",
     "iopub.status.busy": "2022-12-19T21:05:33.134184Z",
     "iopub.status.idle": "2022-12-19T21:05:33.753923Z",
     "shell.execute_reply": "2022-12-19T21:05:33.752690Z"
    },
    "papermill": {
     "duration": 0.636724,
     "end_time": "2022-12-19T21:05:33.756456",
     "exception": false,
     "start_time": "2022-12-19T21:05:33.119732",
     "status": "completed"
    },
    "tags": []
   },
   "outputs": [
    {
     "data": {
      "image/png": "[encoded data removed]",
      "text/plain": [
       "<Figure size 1296x576 with 4 Axes>"
      ]
     },
     "metadata": {
      "needs_background": "light"
     },
     "output_type": "display_data"
    }
   ],
   "source": [
    "# Subplot of Categorical Summary\n",
    "plt.figure(figsize=(18,8))\n",
    "\n",
    "plt.subplot(2,2,1)\n",
    "plt.title('Fuel Summary', fontsize=18)\n",
    "sns.countplot(data=car, x='fuel', palette='Blues_r')\n",
    "plt.xlabel('')\n",
    "plt.subplot(2,2,2)\n",
    "plt.title('Transmission Summary', fontsize=18)\n",
    "sns.countplot(data=car, x='transmission', palette='Blues_r')\n",
    "plt.xlabel('')\n",
    "plt.subplot(2,2,3)\n",
    "plt.title('Owner Summary', fontsize=18)\n",
    "sns.countplot(data=car, x='owner', palette='Blues_r')\n",
    "plt.xlabel('')\n",
    "plt.subplot(2,2,4)\n",
    "plt.title('Seller Type Summary', fontsize=18)\n",
    "sns.countplot(data=car, x='seller_type', palette='Blues_r')\n",
    "plt.xlabel('')\n",
    "\n",
    "plt.tight_layout()\n",
    "plt.show()"
   ]
  },
  {
   "cell_type": "markdown",
   "id": "f88b7450",
   "metadata": {
    "papermill": {
     "duration": 0.014112,
     "end_time": "2022-12-19T21:05:33.784323",
     "exception": false,
     "start_time": "2022-12-19T21:05:33.770211",
     "status": "completed"
    },
    "tags": []
   },
   "source": [
    "Based on the plot above, if we look at the Fuel from cars with the Diesel type, it has the same amount as the Transmission Manual, First Owner Car, and Individual Seller."
   ]
  },
  {
   "cell_type": "markdown",
   "id": "44c05a63",
   "metadata": {
    "papermill": {
     "duration": 0.013143,
     "end_time": "2022-12-19T21:05:33.811053",
     "exception": false,
     "start_time": "2022-12-19T21:05:33.797910",
     "status": "completed"
    },
    "tags": []
   },
   "source": [
    "## Correlation Matrix"
   ]
  },
  {
   "cell_type": "code",
   "execution_count": 20,
   "id": "5de5fa71",
   "metadata": {
    "execution": {
     "iopub.execute_input": "2022-12-19T21:05:33.840647Z",
     "iopub.status.busy": "2022-12-19T21:05:33.839430Z",
     "iopub.status.idle": "2022-12-19T21:05:34.168480Z",
     "shell.execute_reply": "2022-12-19T21:05:34.167509Z"
    },
    "papermill": {
     "duration": 0.346468,
     "end_time": "2022-12-19T21:05:34.170939",
     "exception": false,
     "start_time": "2022-12-19T21:05:33.824471",
     "status": "completed"
    },
    "tags": []
   },
   "outputs": [
    {
     "data": {
      "text/plain": [
       "<AxesSubplot:title={'center':'Correlation Matrix'}>"
      ]
     },
     "execution_count": 20,
     "metadata": {},
     "output_type": "execute_result"
    },
    {
     "data": {
      "image/png": "[encoded data removed]",
      "text/plain": [
       "<Figure size 720x720 with 2 Axes>"
      ]
     },
     "metadata": {
      "needs_background": "light"
     },
     "output_type": "display_data"
    }
   ],
   "source": [
    "plt.figure(figsize=(10,10))\n",
    "plt.title('Correlation Matrix', fontsize=18)\n",
    "sns.heatmap(car.corr(), cbar=True, annot=True, cmap='Blues')"
   ]
  },
  {
   "cell_type": "markdown",
   "id": "d0bd66e3",
   "metadata": {
    "papermill": {
     "duration": 0.017382,
     "end_time": "2022-12-19T21:05:34.202559",
     "exception": false,
     "start_time": "2022-12-19T21:05:34.185177",
     "status": "completed"
    },
    "tags": []
   },
   "source": [
    "Based on the Correlation Matrix above, it provides information that if there is a new car, the selling price will be high, and if the car is the latest, the KM Driven will be low."
   ]
  },
  {
   "cell_type": "markdown",
   "id": "09e78487",
   "metadata": {
    "papermill": {
     "duration": 0.013901,
     "end_time": "2022-12-19T21:05:34.231189",
     "exception": false,
     "start_time": "2022-12-19T21:05:34.217288",
     "status": "completed"
    },
    "tags": []
   },
   "source": [
    "## Correlation Between selling_price and km_driven"
   ]
  },
  {
   "cell_type": "code",
   "execution_count": 21,
   "id": "e0b025c6",
   "metadata": {
    "execution": {
     "iopub.execute_input": "2022-12-19T21:05:34.261957Z",
     "iopub.status.busy": "2022-12-19T21:05:34.261129Z",
     "iopub.status.idle": "2022-12-19T21:05:34.580786Z",
     "shell.execute_reply": "2022-12-19T21:05:34.579820Z"
    },
    "papermill": {
     "duration": 0.338175,
     "end_time": "2022-12-19T21:05:34.583253",
     "exception": false,
     "start_time": "2022-12-19T21:05:34.245078",
     "status": "completed"
    },
    "tags": []
   },
   "outputs": [
    {
     "data": {
      "image/png": "[encoded data removed]",
      "text/plain": [
       "<Figure size 1296x576 with 1 Axes>"
      ]
     },
     "metadata": {
      "needs_background": "light"
     },
     "output_type": "display_data"
    }
   ],
   "source": [
    "plt.figure(figsize=(18,8))\n",
    "plt.title('km_driven by selling_price Distribution', fontsize=18)\n",
    "sns.scatterplot(data=car, x='km_driven', y='selling_price')\n",
    "\n",
    "plt.ticklabel_format(style='plain', axis='y')"
   ]
  },
  {
   "cell_type": "markdown",
   "id": "554fca08",
   "metadata": {
    "papermill": {
     "duration": 0.014521,
     "end_time": "2022-12-19T21:05:34.612885",
     "exception": false,
     "start_time": "2022-12-19T21:05:34.598364",
     "status": "completed"
    },
    "tags": []
   },
   "source": [
    "The plot above provides information that on Car Dekho, Cars have a Selling Price below 2,000,000 with KM Driven conditions below 100,000 KM."
   ]
  },
  {
   "cell_type": "markdown",
   "id": "4b144efc",
   "metadata": {
    "papermill": {
     "duration": 0.014417,
     "end_time": "2022-12-19T21:05:34.642009",
     "exception": false,
     "start_time": "2022-12-19T21:05:34.627592",
     "status": "completed"
    },
    "tags": []
   },
   "source": [
    "## Correlation Between selling_price and year"
   ]
  },
  {
   "cell_type": "code",
   "execution_count": 22,
   "id": "d76747d6",
   "metadata": {
    "execution": {
     "iopub.execute_input": "2022-12-19T21:05:34.674391Z",
     "iopub.status.busy": "2022-12-19T21:05:34.673635Z",
     "iopub.status.idle": "2022-12-19T21:05:34.963944Z",
     "shell.execute_reply": "2022-12-19T21:05:34.962567Z"
    },
    "papermill": {
     "duration": 0.309508,
     "end_time": "2022-12-19T21:05:34.966677",
     "exception": false,
     "start_time": "2022-12-19T21:05:34.657169",
     "status": "completed"
    },
    "tags": []
   },
   "outputs": [
    {
     "data": {
      "image/png": "[encoded data removed]",
      "text/plain": [
       "<Figure size 1296x576 with 1 Axes>"
      ]
     },
     "metadata": {
      "needs_background": "light"
     },
     "output_type": "display_data"
    }
   ],
   "source": [
    "plt.figure(figsize=(18,8))\n",
    "plt.title('year by selling_price Distribution', fontsize=18)\n",
    "sns.scatterplot(data=car, x='year', y='selling_price')\n",
    "\n",
    "plt.ticklabel_format(style='plain', axis='y')"
   ]
  },
  {
   "cell_type": "markdown",
   "id": "bde4d76e",
   "metadata": {
    "papermill": {
     "duration": 0.015482,
     "end_time": "2022-12-19T21:05:34.998679",
     "exception": false,
     "start_time": "2022-12-19T21:05:34.983197",
     "status": "completed"
    },
    "tags": []
   },
   "source": [
    "The plot above provides information if the distribution of selling prices for cars in Car Dekho is the highest between 2016-2019."
   ]
  },
  {
   "cell_type": "markdown",
   "id": "fdd573f6",
   "metadata": {
    "papermill": {
     "duration": 0.016059,
     "end_time": "2022-12-19T21:05:35.031050",
     "exception": false,
     "start_time": "2022-12-19T21:05:35.014991",
     "status": "completed"
    },
    "tags": []
   },
   "source": [
    "## How does year affects km_driven?"
   ]
  },
  {
   "cell_type": "code",
   "execution_count": 23,
   "id": "9237cbf4",
   "metadata": {
    "execution": {
     "iopub.execute_input": "2022-12-19T21:05:35.065465Z",
     "iopub.status.busy": "2022-12-19T21:05:35.065056Z",
     "iopub.status.idle": "2022-12-19T21:05:35.380810Z",
     "shell.execute_reply": "2022-12-19T21:05:35.379365Z"
    },
    "papermill": {
     "duration": 0.336425,
     "end_time": "2022-12-19T21:05:35.383777",
     "exception": false,
     "start_time": "2022-12-19T21:05:35.047352",
     "status": "completed"
    },
    "tags": []
   },
   "outputs": [
    {
     "data": {
      "text/plain": [
       "<AxesSubplot:title={'center':'year by km_driven Distribution'}, xlabel='year', ylabel='km_driven'>"
      ]
     },
     "execution_count": 23,
     "metadata": {},
     "output_type": "execute_result"
    },
    {
     "data": {
      "image/png": "[encoded data removed]",
      "text/plain": [
       "<Figure size 864x720 with 1 Axes>"
      ]
     },
     "metadata": {
      "needs_background": "light"
     },
     "output_type": "display_data"
    }
   ],
   "source": [
    "plt.figure(figsize=(12,10))\n",
    "plt.title('year by km_driven Distribution', fontsize=18)\n",
    "sns.histplot(data=car, x='year', y='km_driven', bins=100)\n",
    "#plt.ticklabel_format(style='plain', axis='x')"
   ]
  },
  {
   "cell_type": "markdown",
   "id": "9e706aea",
   "metadata": {
    "papermill": {
     "duration": 0.015687,
     "end_time": "2022-12-19T21:05:35.415759",
     "exception": false,
     "start_time": "2022-12-19T21:05:35.400072",
     "status": "completed"
    },
    "tags": []
   },
   "source": [
    "The plot above provides information that on Car Dekho, most cars are still under 100,000 KM and the best car choices are in cars with years between 2017-2019 because the number of KM tends to be small and the number of units is large."
   ]
  },
  {
   "cell_type": "markdown",
   "id": "03436941",
   "metadata": {
    "papermill": {
     "duration": 0.016089,
     "end_time": "2022-12-19T21:05:35.447830",
     "exception": false,
     "start_time": "2022-12-19T21:05:35.431741",
     "status": "completed"
    },
    "tags": []
   },
   "source": [
    "## Detailed Analysis in selling_price, km_driven, year"
   ]
  },
  {
   "cell_type": "code",
   "execution_count": 24,
   "id": "ecdd9d10",
   "metadata": {
    "execution": {
     "iopub.execute_input": "2022-12-19T21:05:35.482211Z",
     "iopub.status.busy": "2022-12-19T21:05:35.481748Z",
     "iopub.status.idle": "2022-12-19T21:05:35.515567Z",
     "shell.execute_reply": "2022-12-19T21:05:35.514406Z"
    },
    "papermill": {
     "duration": 0.053747,
     "end_time": "2022-12-19T21:05:35.518142",
     "exception": false,
     "start_time": "2022-12-19T21:05:35.464395",
     "status": "completed"
    },
    "tags": []
   },
   "outputs": [
    {
     "data": {
      "text/html": [
       "<div>\n",
       "<style scoped>\n",
       "    .dataframe tbody tr th:only-of-type {\n",
       "        vertical-align: middle;\n",
       "    }\n",
       "\n",
       "    .dataframe tbody tr th {\n",
       "        vertical-align: top;\n",
       "    }\n",
       "\n",
       "    .dataframe thead th {\n",
       "        text-align: right;\n",
       "    }\n",
       "</style>\n",
       "<table border=\"1\" class=\"dataframe\">\n",
       "  <thead>\n",
       "    <tr style=\"text-align: right;\">\n",
       "      <th></th>\n",
       "      <th>km_driven</th>\n",
       "      <th>selling_price</th>\n",
       "      <th>year</th>\n",
       "    </tr>\n",
       "    <tr>\n",
       "      <th>name</th>\n",
       "      <th></th>\n",
       "      <th></th>\n",
       "      <th></th>\n",
       "    </tr>\n",
       "  </thead>\n",
       "  <tbody>\n",
       "    <tr>\n",
       "      <th>Audi RS7 2015-2019 Sportback Performance</th>\n",
       "      <td>13000.0</td>\n",
       "      <td>8900000.0</td>\n",
       "      <td>2016.0</td>\n",
       "    </tr>\n",
       "    <tr>\n",
       "      <th>Mercedes-Benz S-Class S 350d Connoisseurs Edition</th>\n",
       "      <td>6500.0</td>\n",
       "      <td>8150000.0</td>\n",
       "      <td>2017.0</td>\n",
       "    </tr>\n",
       "    <tr>\n",
       "      <th>Mercedes-Benz GLS 2016-2020 350d 4MATIC</th>\n",
       "      <td>77350.0</td>\n",
       "      <td>5500000.0</td>\n",
       "      <td>2016.0</td>\n",
       "    </tr>\n",
       "    <tr>\n",
       "      <th>BMW X5 xDrive 30d xLine</th>\n",
       "      <td>30000.0</td>\n",
       "      <td>4950000.0</td>\n",
       "      <td>2019.0</td>\n",
       "    </tr>\n",
       "    <tr>\n",
       "      <th>Audi A5 Sportback</th>\n",
       "      <td>1500.0</td>\n",
       "      <td>4700000.0</td>\n",
       "      <td>2020.0</td>\n",
       "    </tr>\n",
       "    <tr>\n",
       "      <th>...</th>\n",
       "      <td>...</td>\n",
       "      <td>...</td>\n",
       "      <td>...</td>\n",
       "    </tr>\n",
       "    <tr>\n",
       "      <th>Tata Nano Std BSII</th>\n",
       "      <td>50000.0</td>\n",
       "      <td>35000.0</td>\n",
       "      <td>2009.0</td>\n",
       "    </tr>\n",
       "    <tr>\n",
       "      <th>OpelCorsa 1.4 GL</th>\n",
       "      <td>100000.0</td>\n",
       "      <td>35000.0</td>\n",
       "      <td>2002.0</td>\n",
       "    </tr>\n",
       "    <tr>\n",
       "      <th>Maruti 800 EX</th>\n",
       "      <td>45000.0</td>\n",
       "      <td>35000.0</td>\n",
       "      <td>2002.5</td>\n",
       "    </tr>\n",
       "    <tr>\n",
       "      <th>Ford Ikon 1.4 ZXi</th>\n",
       "      <td>42743.0</td>\n",
       "      <td>22000.0</td>\n",
       "      <td>2000.0</td>\n",
       "    </tr>\n",
       "    <tr>\n",
       "      <th>Ford Ikon 1.6 ZXI NXt</th>\n",
       "      <td>25000.0</td>\n",
       "      <td>20000.0</td>\n",
       "      <td>2005.0</td>\n",
       "    </tr>\n",
       "  </tbody>\n",
       "</table>\n",
       "<p>1491 rows × 3 columns</p>\n",
       "</div>"
      ],
      "text/plain": [
       "                                                   km_driven  selling_price  \\\n",
       "name                                                                          \n",
       "Audi RS7 2015-2019 Sportback Performance             13000.0      8900000.0   \n",
       "Mercedes-Benz S-Class S 350d Connoisseurs Edition     6500.0      8150000.0   \n",
       "Mercedes-Benz GLS 2016-2020 350d 4MATIC              77350.0      5500000.0   \n",
       "BMW X5 xDrive 30d xLine                              30000.0      4950000.0   \n",
       "Audi A5 Sportback                                     1500.0      4700000.0   \n",
       "...                                                      ...            ...   \n",
       "Tata Nano Std BSII                                   50000.0        35000.0   \n",
       "OpelCorsa 1.4 GL                                    100000.0        35000.0   \n",
       "Maruti 800 EX                                        45000.0        35000.0   \n",
       "Ford Ikon 1.4 ZXi                                    42743.0        22000.0   \n",
       "Ford Ikon 1.6 ZXI NXt                                25000.0        20000.0   \n",
       "\n",
       "                                                     year  \n",
       "name                                                       \n",
       "Audi RS7 2015-2019 Sportback Performance           2016.0  \n",
       "Mercedes-Benz S-Class S 350d Connoisseurs Edition  2017.0  \n",
       "Mercedes-Benz GLS 2016-2020 350d 4MATIC            2016.0  \n",
       "BMW X5 xDrive 30d xLine                            2019.0  \n",
       "Audi A5 Sportback                                  2020.0  \n",
       "...                                                   ...  \n",
       "Tata Nano Std BSII                                 2009.0  \n",
       "OpelCorsa 1.4 GL                                   2002.0  \n",
       "Maruti 800 EX                                      2002.5  \n",
       "Ford Ikon 1.4 ZXi                                  2000.0  \n",
       "Ford Ikon 1.6 ZXI NXt                              2005.0  \n",
       "\n",
       "[1491 rows x 3 columns]"
      ]
     },
     "execution_count": 24,
     "metadata": {},
     "output_type": "execute_result"
    }
   ],
   "source": [
    "pd.pivot_table(data=car, index=['name'], values=['selling_price','km_driven','year']).sort_values(by='selling_price', ascending=False)"
   ]
  },
  {
   "cell_type": "code",
   "execution_count": 25,
   "id": "006aacd6",
   "metadata": {
    "execution": {
     "iopub.execute_input": "2022-12-19T21:05:35.553418Z",
     "iopub.status.busy": "2022-12-19T21:05:35.552284Z",
     "iopub.status.idle": "2022-12-19T21:05:35.579913Z",
     "shell.execute_reply": "2022-12-19T21:05:35.578679Z"
    },
    "papermill": {
     "duration": 0.048284,
     "end_time": "2022-12-19T21:05:35.582782",
     "exception": false,
     "start_time": "2022-12-19T21:05:35.534498",
     "status": "completed"
    },
    "tags": []
   },
   "outputs": [
    {
     "data": {
      "text/html": [
       "<div>\n",
       "<style scoped>\n",
       "    .dataframe tbody tr th:only-of-type {\n",
       "        vertical-align: middle;\n",
       "    }\n",
       "\n",
       "    .dataframe tbody tr th {\n",
       "        vertical-align: top;\n",
       "    }\n",
       "\n",
       "    .dataframe thead th {\n",
       "        text-align: right;\n",
       "    }\n",
       "</style>\n",
       "<table border=\"1\" class=\"dataframe\">\n",
       "  <thead>\n",
       "    <tr style=\"text-align: right;\">\n",
       "      <th></th>\n",
       "      <th>km_driven</th>\n",
       "      <th>selling_price</th>\n",
       "      <th>year</th>\n",
       "    </tr>\n",
       "    <tr>\n",
       "      <th>name</th>\n",
       "      <th></th>\n",
       "      <th></th>\n",
       "      <th></th>\n",
       "    </tr>\n",
       "  </thead>\n",
       "  <tbody>\n",
       "    <tr>\n",
       "      <th>Chevrolet Tavera Neo LS B3 - 7(C) seats BSIII</th>\n",
       "      <td>350000.0</td>\n",
       "      <td>280000.0</td>\n",
       "      <td>2010.0</td>\n",
       "    </tr>\n",
       "    <tr>\n",
       "      <th>Maruti SX4 S Cross DDiS 320 Delta</th>\n",
       "      <td>320000.0</td>\n",
       "      <td>495000.0</td>\n",
       "      <td>2015.5</td>\n",
       "    </tr>\n",
       "    <tr>\n",
       "      <th>Volkswagen Jetta 2.0 TDI Comfortline</th>\n",
       "      <td>312000.0</td>\n",
       "      <td>350000.0</td>\n",
       "      <td>2011.0</td>\n",
       "    </tr>\n",
       "    <tr>\n",
       "      <th>Mahindra Xylo E9</th>\n",
       "      <td>295000.0</td>\n",
       "      <td>300000.0</td>\n",
       "      <td>2012.0</td>\n",
       "    </tr>\n",
       "    <tr>\n",
       "      <th>Toyota Innova 2.5 G (Diesel) 7 Seater BS IV</th>\n",
       "      <td>281500.0</td>\n",
       "      <td>550000.0</td>\n",
       "      <td>2008.0</td>\n",
       "    </tr>\n",
       "    <tr>\n",
       "      <th>...</th>\n",
       "      <td>...</td>\n",
       "      <td>...</td>\n",
       "      <td>...</td>\n",
       "    </tr>\n",
       "    <tr>\n",
       "      <th>Renault KWID Climber 1.0 MT Opt BSIV</th>\n",
       "      <td>1000.0</td>\n",
       "      <td>541000.0</td>\n",
       "      <td>2020.0</td>\n",
       "    </tr>\n",
       "    <tr>\n",
       "      <th>Honda Amaze S Petrol BSIV</th>\n",
       "      <td>1000.0</td>\n",
       "      <td>614000.0</td>\n",
       "      <td>2020.0</td>\n",
       "    </tr>\n",
       "    <tr>\n",
       "      <th>Ford Ecosport Sports Petrol</th>\n",
       "      <td>1000.0</td>\n",
       "      <td>1100000.0</td>\n",
       "      <td>2020.0</td>\n",
       "    </tr>\n",
       "    <tr>\n",
       "      <th>Tata Harrier XE</th>\n",
       "      <td>1000.0</td>\n",
       "      <td>426000.0</td>\n",
       "      <td>2020.0</td>\n",
       "    </tr>\n",
       "    <tr>\n",
       "      <th>Ford Figo Titanium</th>\n",
       "      <td>606.0</td>\n",
       "      <td>690500.0</td>\n",
       "      <td>2020.0</td>\n",
       "    </tr>\n",
       "  </tbody>\n",
       "</table>\n",
       "<p>1491 rows × 3 columns</p>\n",
       "</div>"
      ],
      "text/plain": [
       "                                               km_driven  selling_price  \\\n",
       "name                                                                      \n",
       "Chevrolet Tavera Neo LS B3 - 7(C) seats BSIII   350000.0       280000.0   \n",
       "Maruti SX4 S Cross DDiS 320 Delta               320000.0       495000.0   \n",
       "Volkswagen Jetta 2.0 TDI Comfortline            312000.0       350000.0   \n",
       "Mahindra Xylo E9                                295000.0       300000.0   \n",
       "Toyota Innova 2.5 G (Diesel) 7 Seater BS IV     281500.0       550000.0   \n",
       "...                                                  ...            ...   \n",
       "Renault KWID Climber 1.0 MT Opt BSIV              1000.0       541000.0   \n",
       "Honda Amaze S Petrol BSIV                         1000.0       614000.0   \n",
       "Ford Ecosport Sports Petrol                       1000.0      1100000.0   \n",
       "Tata Harrier XE                                   1000.0       426000.0   \n",
       "Ford Figo Titanium                                 606.0       690500.0   \n",
       "\n",
       "                                                 year  \n",
       "name                                                   \n",
       "Chevrolet Tavera Neo LS B3 - 7(C) seats BSIII  2010.0  \n",
       "Maruti SX4 S Cross DDiS 320 Delta              2015.5  \n",
       "Volkswagen Jetta 2.0 TDI Comfortline           2011.0  \n",
       "Mahindra Xylo E9                               2012.0  \n",
       "Toyota Innova 2.5 G (Diesel) 7 Seater BS IV    2008.0  \n",
       "...                                               ...  \n",
       "Renault KWID Climber 1.0 MT Opt BSIV           2020.0  \n",
       "Honda Amaze S Petrol BSIV                      2020.0  \n",
       "Ford Ecosport Sports Petrol                    2020.0  \n",
       "Tata Harrier XE                                2020.0  \n",
       "Ford Figo Titanium                             2020.0  \n",
       "\n",
       "[1491 rows x 3 columns]"
      ]
     },
     "execution_count": 25,
     "metadata": {},
     "output_type": "execute_result"
    }
   ],
   "source": [
    "pd.pivot_table(data=car, index=['name'], values=['selling_price','km_driven','year']).sort_values(by='km_driven', ascending=False)"
   ]
  },
  {
   "cell_type": "code",
   "execution_count": 26,
   "id": "593c4f42",
   "metadata": {
    "execution": {
     "iopub.execute_input": "2022-12-19T21:05:35.618653Z",
     "iopub.status.busy": "2022-12-19T21:05:35.618222Z",
     "iopub.status.idle": "2022-12-19T21:05:35.645482Z",
     "shell.execute_reply": "2022-12-19T21:05:35.644498Z"
    },
    "papermill": {
     "duration": 0.047939,
     "end_time": "2022-12-19T21:05:35.647774",
     "exception": false,
     "start_time": "2022-12-19T21:05:35.599835",
     "status": "completed"
    },
    "tags": []
   },
   "outputs": [
    {
     "data": {
      "text/html": [
       "<div>\n",
       "<style scoped>\n",
       "    .dataframe tbody tr th:only-of-type {\n",
       "        vertical-align: middle;\n",
       "    }\n",
       "\n",
       "    .dataframe tbody tr th {\n",
       "        vertical-align: top;\n",
       "    }\n",
       "\n",
       "    .dataframe thead th {\n",
       "        text-align: right;\n",
       "    }\n",
       "</style>\n",
       "<table border=\"1\" class=\"dataframe\">\n",
       "  <thead>\n",
       "    <tr style=\"text-align: right;\">\n",
       "      <th></th>\n",
       "      <th>km_driven</th>\n",
       "      <th>selling_price</th>\n",
       "      <th>year</th>\n",
       "    </tr>\n",
       "    <tr>\n",
       "      <th>name</th>\n",
       "      <th></th>\n",
       "      <th></th>\n",
       "      <th></th>\n",
       "    </tr>\n",
       "  </thead>\n",
       "  <tbody>\n",
       "    <tr>\n",
       "      <th>Ford Freestyle Titanium Plus</th>\n",
       "      <td>1010.0</td>\n",
       "      <td>852000.0</td>\n",
       "      <td>2020.0</td>\n",
       "    </tr>\n",
       "    <tr>\n",
       "      <th>Mahindra Scorpio S5 BSIV</th>\n",
       "      <td>11000.0</td>\n",
       "      <td>1200000.0</td>\n",
       "      <td>2020.0</td>\n",
       "    </tr>\n",
       "    <tr>\n",
       "      <th>Honda Amaze S Petrol BSIV</th>\n",
       "      <td>1000.0</td>\n",
       "      <td>614000.0</td>\n",
       "      <td>2020.0</td>\n",
       "    </tr>\n",
       "    <tr>\n",
       "      <th>Hyundai Grand i10 Nios Sportz</th>\n",
       "      <td>5000.0</td>\n",
       "      <td>600000.0</td>\n",
       "      <td>2020.0</td>\n",
       "    </tr>\n",
       "    <tr>\n",
       "      <th>Hyundai Elite i20 Magna Plus BSIV</th>\n",
       "      <td>7300.0</td>\n",
       "      <td>545000.0</td>\n",
       "      <td>2020.0</td>\n",
       "    </tr>\n",
       "    <tr>\n",
       "      <th>...</th>\n",
       "      <td>...</td>\n",
       "      <td>...</td>\n",
       "      <td>...</td>\n",
       "    </tr>\n",
       "    <tr>\n",
       "      <th>Maruti Omni 5 Str STD</th>\n",
       "      <td>60000.0</td>\n",
       "      <td>65000.0</td>\n",
       "      <td>1998.0</td>\n",
       "    </tr>\n",
       "    <tr>\n",
       "      <th>Mercedes-Benz E-Class 230</th>\n",
       "      <td>35000.0</td>\n",
       "      <td>1000000.0</td>\n",
       "      <td>1998.0</td>\n",
       "    </tr>\n",
       "    <tr>\n",
       "      <th>Maruti Esteem AX</th>\n",
       "      <td>70000.0</td>\n",
       "      <td>79000.0</td>\n",
       "      <td>1997.0</td>\n",
       "    </tr>\n",
       "    <tr>\n",
       "      <th>Mahindra Jeep CL 500 MDI</th>\n",
       "      <td>77500.0</td>\n",
       "      <td>200000.0</td>\n",
       "      <td>1996.5</td>\n",
       "    </tr>\n",
       "    <tr>\n",
       "      <th>Maruti Gypsy E MG410W ST</th>\n",
       "      <td>100000.0</td>\n",
       "      <td>95000.0</td>\n",
       "      <td>1995.0</td>\n",
       "    </tr>\n",
       "  </tbody>\n",
       "</table>\n",
       "<p>1491 rows × 3 columns</p>\n",
       "</div>"
      ],
      "text/plain": [
       "                                   km_driven  selling_price    year\n",
       "name                                                               \n",
       "Ford Freestyle Titanium Plus          1010.0       852000.0  2020.0\n",
       "Mahindra Scorpio S5 BSIV             11000.0      1200000.0  2020.0\n",
       "Honda Amaze S Petrol BSIV             1000.0       614000.0  2020.0\n",
       "Hyundai Grand i10 Nios Sportz         5000.0       600000.0  2020.0\n",
       "Hyundai Elite i20 Magna Plus BSIV     7300.0       545000.0  2020.0\n",
       "...                                      ...            ...     ...\n",
       "Maruti Omni 5 Str STD                60000.0        65000.0  1998.0\n",
       "Mercedes-Benz E-Class 230            35000.0      1000000.0  1998.0\n",
       "Maruti Esteem AX                     70000.0        79000.0  1997.0\n",
       "Mahindra Jeep CL 500 MDI             77500.0       200000.0  1996.5\n",
       "Maruti Gypsy E MG410W ST            100000.0        95000.0  1995.0\n",
       "\n",
       "[1491 rows x 3 columns]"
      ]
     },
     "execution_count": 26,
     "metadata": {},
     "output_type": "execute_result"
    }
   ],
   "source": [
    "pd.pivot_table(data=car, index=['name'], values=['selling_price','km_driven','year']).sort_values(by='year', ascending=False)"
   ]
  },
  {
   "cell_type": "markdown",
   "id": "b93cb641",
   "metadata": {
    "papermill": {
     "duration": 0.016501,
     "end_time": "2022-12-19T21:05:35.681168",
     "exception": false,
     "start_time": "2022-12-19T21:05:35.664667",
     "status": "completed"
    },
    "tags": []
   },
   "source": [
    "The Audi RS7 2015-2019 Sportback Performance is the car model with the highest selling price, reaching 8,900,000 with a relatively small number of KM. In contrast, the Ford Icon 1.6 ZXI NXt is a car model with the lowest selling price of 20,000 but has a fairly high KM Driven, reaching 25,000 KM because it was purchased in 2005.\n",
    "\n",
    "Chevrolet Tavera Neo LS B3 - 7(C) seats BSIII is the car model with the highest KM Driven, reaching 350,000 KM with a selling price of 280,000 purchased in 2010. On the other hand, the Ford Figo Titanium is the car model with the lowest KM Driven with 606 KM with a selling price of 690,500 purchased in 2020."
   ]
  },
  {
   "cell_type": "markdown",
   "id": "7f36f122",
   "metadata": {
    "papermill": {
     "duration": 0.017417,
     "end_time": "2022-12-19T21:05:35.716240",
     "exception": false,
     "start_time": "2022-12-19T21:05:35.698823",
     "status": "completed"
    },
    "tags": []
   },
   "source": [
    "## How does Categorical Feature affects selling_price"
   ]
  },
  {
   "cell_type": "code",
   "execution_count": 27,
   "id": "ef60e6a6",
   "metadata": {
    "execution": {
     "iopub.execute_input": "2022-12-19T21:05:35.753848Z",
     "iopub.status.busy": "2022-12-19T21:05:35.752565Z",
     "iopub.status.idle": "2022-12-19T21:05:36.773008Z",
     "shell.execute_reply": "2022-12-19T21:05:36.771882Z"
    },
    "papermill": {
     "duration": 1.042639,
     "end_time": "2022-12-19T21:05:36.776115",
     "exception": false,
     "start_time": "2022-12-19T21:05:35.733476",
     "status": "completed"
    },
    "tags": []
   },
   "outputs": [
    {
     "data": {
      "image/png": "[encoded data removed]",
      "text/plain": [
       "<Figure size 1728x1152 with 4 Axes>"
      ]
     },
     "metadata": {
      "needs_background": "light"
     },
     "output_type": "display_data"
    }
   ],
   "source": [
    "plt.figure(figsize=(24,16))\n",
    "\n",
    "plt.subplot(2,2,1)\n",
    "plt.title('Fuel by selling_price Distribution', fontsize=18)\n",
    "sns.boxplot(data=car, x='selling_price', y='fuel', palette='Set2')\n",
    "plt.ticklabel_format(style='plain', axis='x')\n",
    "plt.subplot(2,2,2)\n",
    "plt.title('Transmission by selling_price Distribution', fontsize=18)\n",
    "sns.boxplot(data=car, x='selling_price', y='transmission', palette='Set2')\n",
    "plt.ticklabel_format(style='plain', axis='x')\n",
    "plt.subplot(2,2,3)\n",
    "plt.title('Owner by selling_price Distribution', fontsize=18)\n",
    "sns.boxplot(data=car, x='selling_price', y='owner', palette='Set2')\n",
    "plt.ticklabel_format(style='plain', axis='x')\n",
    "plt.subplot(2,2,4)\n",
    "plt.title('Seller_type by selling_price Distribution', fontsize=18)\n",
    "sns.boxplot(data=car, x='selling_price', y='seller_type', palette='Set2')\n",
    "plt.ticklabel_format(style='plain', axis='x')\n"
   ]
  },
  {
   "cell_type": "markdown",
   "id": "f826ca6a",
   "metadata": {
    "papermill": {
     "duration": 0.017774,
     "end_time": "2022-12-19T21:05:36.815178",
     "exception": false,
     "start_time": "2022-12-19T21:05:36.797404",
     "status": "completed"
    },
    "tags": []
   },
   "source": [
    "In the Car Dekho dataset, Cars with the Diesel Fuel type have more influence on Selling Prices, just like the Transmission Automatic type which has more influence on Selling prices than Manual, First Owner also has a high influence on Selling Prices, and Seller Type Dealer also has a high influence on Selling Price."
   ]
  },
  {
   "cell_type": "markdown",
   "id": "be2d087a",
   "metadata": {
    "papermill": {
     "duration": 0.018644,
     "end_time": "2022-12-19T21:05:36.852333",
     "exception": false,
     "start_time": "2022-12-19T21:05:36.833689",
     "status": "completed"
    },
    "tags": []
   },
   "source": [
    "# Conclusion"
   ]
  },
  {
   "cell_type": "markdown",
   "id": "2d826812",
   "metadata": {
    "papermill": {
     "duration": 0.0204,
     "end_time": "2022-12-19T21:05:36.891472",
     "exception": false,
     "start_time": "2022-12-19T21:05:36.871072",
     "status": "completed"
    },
    "tags": []
   },
   "source": [
    "1. The Maruti model car has higher units in the Car Dekho dataset after Hyundai and Mahindra.\n",
    "2. Fuel from cars with the Diesel type has a higher amount, the same as Manual Transmissions, First Owner Cars, and Individual Sellers.\n",
    "3. IF there is a new car, the selling price will be high, and if the car is the latest, the KM Driven will be low.\n",
    "4. Look for a quality car by looking at the number of KM Driven cars and the year the car was purchased. You also need to know the Owner Type and Seller Type because both of them can affect the Selling Price apart from KM Driven and Year."
   ]
  },
  {
   "cell_type": "markdown",
   "id": "6f095d26",
   "metadata": {
    "papermill": {
     "duration": 0.018277,
     "end_time": "2022-12-19T21:05:36.929351",
     "exception": false,
     "start_time": "2022-12-19T21:05:36.911074",
     "status": "completed"
    },
    "tags": []
   },
   "source": [
    "<h4><center>Thank You!</center></h4>"
   ]
  }
 ],
 "metadata": {
  "kernelspec": {
   "display_name": "Python 3",
   "language": "python",
   "name": "python3"
  },
  "language_info": {
   "codemirror_mode": {
    "name": "ipython",
    "version": 3
   },
   "file_extension": ".py",
   "mimetype": "text/x-python",
   "name": "python",
   "nbconvert_exporter": "python",
   "pygments_lexer": "ipython3",
   "version": "3.7.12"
  },
  "papermill": {
   "default_parameters": {},
   "duration": 17.557276,
   "end_time": "2022-12-19T21:05:37.773055",
   "environment_variables": {},
   "exception": null,
   "input_path": "__notebook__.ipynb",
   "output_path": "__notebook__.ipynb",
   "parameters": {},
   "start_time": "2022-12-19T21:05:20.215779",
   "version": "2.3.4"
  }
 },
 "nbformat": 4,
 "nbformat_minor": 5
}
