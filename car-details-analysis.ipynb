{
 "cells": [
  {
   "cell_type": "markdown",
   "id": "cae1f89a",
   "metadata": {
    "papermill": {
     "duration": 0.006871,
     "end_time": "2022-10-22T02:39:37.959762",
     "exception": false,
     "start_time": "2022-10-22T02:39:37.952891",
     "status": "completed"
    },
    "tags": []
   },
   "source": [
    "# Car Details Analysis, EDA and Prediction using RFR\n",
    "\n",
    "What is the problem statement?\n",
    "\n",
    "The problem statement is to predict the price of the car based on the features of the car. The dataset contains the details of the car like the year of manufacture, the number of kilometers driven, the fuel type, the number of owners, the transmission.\n",
    "\n"
   ]
  },
  {
   "cell_type": "code",
   "execution_count": 1,
   "id": "9e354895",
   "metadata": {
    "execution": {
     "iopub.execute_input": "2022-10-22T02:39:37.972896Z",
     "iopub.status.busy": "2022-10-22T02:39:37.972358Z",
     "iopub.status.idle": "2022-10-22T02:39:39.093811Z",
     "shell.execute_reply": "2022-10-22T02:39:39.092701Z"
    },
    "papermill": {
     "duration": 1.131593,
     "end_time": "2022-10-22T02:39:39.096910",
     "exception": false,
     "start_time": "2022-10-22T02:39:37.965317",
     "status": "completed"
    },
    "tags": []
   },
   "outputs": [],
   "source": [
    "# import libraries\n",
    "import pandas as pd\n",
    "import numpy as np\n",
    "import matplotlib.pyplot as plt\n",
    "import seaborn as sns\n",
    "%matplotlib inline\n"
   ]
  },
  {
   "cell_type": "code",
   "execution_count": 2,
   "id": "76b6b11d",
   "metadata": {
    "execution": {
     "iopub.execute_input": "2022-10-22T02:39:39.109847Z",
     "iopub.status.busy": "2022-10-22T02:39:39.109389Z",
     "iopub.status.idle": "2022-10-22T02:39:39.160875Z",
     "shell.execute_reply": "2022-10-22T02:39:39.159671Z"
    },
    "papermill": {
     "duration": 0.060696,
     "end_time": "2022-10-22T02:39:39.163379",
     "exception": false,
     "start_time": "2022-10-22T02:39:39.102683",
     "status": "completed"
    },
    "tags": []
   },
   "outputs": [
    {
     "data": {
      "text/html": [
       "<div>\n",
       "<style scoped>\n",
       "    .dataframe tbody tr th:only-of-type {\n",
       "        vertical-align: middle;\n",
       "    }\n",
       "\n",
       "    .dataframe tbody tr th {\n",
       "        vertical-align: top;\n",
       "    }\n",
       "\n",
       "    .dataframe thead th {\n",
       "        text-align: right;\n",
       "    }\n",
       "</style>\n",
       "<table border=\"1\" class=\"dataframe\">\n",
       "  <thead>\n",
       "    <tr style=\"text-align: right;\">\n",
       "      <th></th>\n",
       "      <th>name</th>\n",
       "      <th>year</th>\n",
       "      <th>selling_price</th>\n",
       "      <th>km_driven</th>\n",
       "      <th>fuel</th>\n",
       "      <th>seller_type</th>\n",
       "      <th>transmission</th>\n",
       "      <th>owner</th>\n",
       "    </tr>\n",
       "  </thead>\n",
       "  <tbody>\n",
       "    <tr>\n",
       "      <th>1067</th>\n",
       "      <td>Toyota Corolla Altis 1.8 VL AT</td>\n",
       "      <td>2010</td>\n",
       "      <td>350000</td>\n",
       "      <td>80000</td>\n",
       "      <td>Petrol</td>\n",
       "      <td>Individual</td>\n",
       "      <td>Automatic</td>\n",
       "      <td>Third Owner</td>\n",
       "    </tr>\n",
       "    <tr>\n",
       "      <th>1757</th>\n",
       "      <td>Honda City Corporate Edition</td>\n",
       "      <td>2013</td>\n",
       "      <td>495000</td>\n",
       "      <td>45241</td>\n",
       "      <td>Petrol</td>\n",
       "      <td>Dealer</td>\n",
       "      <td>Manual</td>\n",
       "      <td>First Owner</td>\n",
       "    </tr>\n",
       "    <tr>\n",
       "      <th>4292</th>\n",
       "      <td>Nissan Sunny Diesel XL</td>\n",
       "      <td>2012</td>\n",
       "      <td>300000</td>\n",
       "      <td>110000</td>\n",
       "      <td>Diesel</td>\n",
       "      <td>Individual</td>\n",
       "      <td>Manual</td>\n",
       "      <td>First Owner</td>\n",
       "    </tr>\n",
       "    <tr>\n",
       "      <th>158</th>\n",
       "      <td>Maruti Wagon R LXI</td>\n",
       "      <td>2020</td>\n",
       "      <td>240000</td>\n",
       "      <td>120000</td>\n",
       "      <td>Petrol</td>\n",
       "      <td>Individual</td>\n",
       "      <td>Manual</td>\n",
       "      <td>First Owner</td>\n",
       "    </tr>\n",
       "    <tr>\n",
       "      <th>1903</th>\n",
       "      <td>Ford Figo 1.5P Titanium AT</td>\n",
       "      <td>2017</td>\n",
       "      <td>774000</td>\n",
       "      <td>1758</td>\n",
       "      <td>Petrol</td>\n",
       "      <td>Dealer</td>\n",
       "      <td>Automatic</td>\n",
       "      <td>First Owner</td>\n",
       "    </tr>\n",
       "  </tbody>\n",
       "</table>\n",
       "</div>"
      ],
      "text/plain": [
       "                                name  year  selling_price  km_driven    fuel  \\\n",
       "1067  Toyota Corolla Altis 1.8 VL AT  2010         350000      80000  Petrol   \n",
       "1757    Honda City Corporate Edition  2013         495000      45241  Petrol   \n",
       "4292          Nissan Sunny Diesel XL  2012         300000     110000  Diesel   \n",
       "158               Maruti Wagon R LXI  2020         240000     120000  Petrol   \n",
       "1903      Ford Figo 1.5P Titanium AT  2017         774000       1758  Petrol   \n",
       "\n",
       "     seller_type transmission        owner  \n",
       "1067  Individual    Automatic  Third Owner  \n",
       "1757      Dealer       Manual  First Owner  \n",
       "4292  Individual       Manual  First Owner  \n",
       "158   Individual       Manual  First Owner  \n",
       "1903      Dealer    Automatic  First Owner  "
      ]
     },
     "execution_count": 2,
     "metadata": {},
     "output_type": "execute_result"
    }
   ],
   "source": [
    "# read the data\n",
    "df = pd.read_csv('../input/car-details-dataset/CAR DETAILS FROM CAR DEKHO.csv')\n",
    "df.sample(5)"
   ]
  },
  {
   "cell_type": "code",
   "execution_count": 3,
   "id": "9229efaf",
   "metadata": {
    "execution": {
     "iopub.execute_input": "2022-10-22T02:39:39.177631Z",
     "iopub.status.busy": "2022-10-22T02:39:39.177147Z",
     "iopub.status.idle": "2022-10-22T02:39:39.186369Z",
     "shell.execute_reply": "2022-10-22T02:39:39.185347Z"
    },
    "papermill": {
     "duration": 0.02011,
     "end_time": "2022-10-22T02:39:39.189178",
     "exception": false,
     "start_time": "2022-10-22T02:39:39.169068",
     "status": "completed"
    },
    "tags": []
   },
   "outputs": [
    {
     "data": {
      "text/plain": [
       "(4340, 8)"
      ]
     },
     "execution_count": 3,
     "metadata": {},
     "output_type": "execute_result"
    }
   ],
   "source": [
    "# check the shape of the data\n",
    "df.shape"
   ]
  },
  {
   "cell_type": "code",
   "execution_count": 4,
   "id": "214923b3",
   "metadata": {
    "execution": {
     "iopub.execute_input": "2022-10-22T02:39:39.203260Z",
     "iopub.status.busy": "2022-10-22T02:39:39.202446Z",
     "iopub.status.idle": "2022-10-22T02:39:39.213590Z",
     "shell.execute_reply": "2022-10-22T02:39:39.212757Z"
    },
    "papermill": {
     "duration": 0.02062,
     "end_time": "2022-10-22T02:39:39.215793",
     "exception": false,
     "start_time": "2022-10-22T02:39:39.195173",
     "status": "completed"
    },
    "tags": []
   },
   "outputs": [
    {
     "data": {
      "text/plain": [
       "name             0\n",
       "year             0\n",
       "selling_price    0\n",
       "km_driven        0\n",
       "fuel             0\n",
       "seller_type      0\n",
       "transmission     0\n",
       "owner            0\n",
       "dtype: int64"
      ]
     },
     "execution_count": 4,
     "metadata": {},
     "output_type": "execute_result"
    }
   ],
   "source": [
    "# check for missing values\n",
    "df.isnull().sum().sort_values(ascending=False)"
   ]
  },
  {
   "cell_type": "code",
   "execution_count": 5,
   "id": "6fc1fe48",
   "metadata": {
    "execution": {
     "iopub.execute_input": "2022-10-22T02:39:39.228961Z",
     "iopub.status.busy": "2022-10-22T02:39:39.228319Z",
     "iopub.status.idle": "2022-10-22T02:39:39.245777Z",
     "shell.execute_reply": "2022-10-22T02:39:39.244696Z"
    },
    "papermill": {
     "duration": 0.02669,
     "end_time": "2022-10-22T02:39:39.248344",
     "exception": false,
     "start_time": "2022-10-22T02:39:39.221654",
     "status": "completed"
    },
    "tags": []
   },
   "outputs": [
    {
     "data": {
      "text/plain": [
       "763"
      ]
     },
     "execution_count": 5,
     "metadata": {},
     "output_type": "execute_result"
    }
   ],
   "source": [
    "# check for duplicates\n",
    "df.duplicated().sum()"
   ]
  },
  {
   "cell_type": "code",
   "execution_count": 6,
   "id": "6dda047b",
   "metadata": {
    "execution": {
     "iopub.execute_input": "2022-10-22T02:39:39.262477Z",
     "iopub.status.busy": "2022-10-22T02:39:39.262016Z",
     "iopub.status.idle": "2022-10-22T02:39:39.285544Z",
     "shell.execute_reply": "2022-10-22T02:39:39.284391Z"
    },
    "papermill": {
     "duration": 0.033409,
     "end_time": "2022-10-22T02:39:39.287900",
     "exception": false,
     "start_time": "2022-10-22T02:39:39.254491",
     "status": "completed"
    },
    "tags": []
   },
   "outputs": [
    {
     "data": {
      "text/html": [
       "<div>\n",
       "<style scoped>\n",
       "    .dataframe tbody tr th:only-of-type {\n",
       "        vertical-align: middle;\n",
       "    }\n",
       "\n",
       "    .dataframe tbody tr th {\n",
       "        vertical-align: top;\n",
       "    }\n",
       "\n",
       "    .dataframe thead th {\n",
       "        text-align: right;\n",
       "    }\n",
       "</style>\n",
       "<table border=\"1\" class=\"dataframe\">\n",
       "  <thead>\n",
       "    <tr style=\"text-align: right;\">\n",
       "      <th></th>\n",
       "      <th>name</th>\n",
       "      <th>year</th>\n",
       "      <th>selling_price</th>\n",
       "      <th>km_driven</th>\n",
       "      <th>fuel</th>\n",
       "      <th>seller_type</th>\n",
       "      <th>transmission</th>\n",
       "      <th>owner</th>\n",
       "    </tr>\n",
       "  </thead>\n",
       "  <tbody>\n",
       "    <tr>\n",
       "      <th>13</th>\n",
       "      <td>Maruti 800 AC</td>\n",
       "      <td>2007</td>\n",
       "      <td>60000</td>\n",
       "      <td>70000</td>\n",
       "      <td>Petrol</td>\n",
       "      <td>Individual</td>\n",
       "      <td>Manual</td>\n",
       "      <td>First Owner</td>\n",
       "    </tr>\n",
       "    <tr>\n",
       "      <th>14</th>\n",
       "      <td>Maruti Wagon R LXI Minor</td>\n",
       "      <td>2007</td>\n",
       "      <td>135000</td>\n",
       "      <td>50000</td>\n",
       "      <td>Petrol</td>\n",
       "      <td>Individual</td>\n",
       "      <td>Manual</td>\n",
       "      <td>First Owner</td>\n",
       "    </tr>\n",
       "    <tr>\n",
       "      <th>15</th>\n",
       "      <td>Hyundai Verna 1.6 SX</td>\n",
       "      <td>2012</td>\n",
       "      <td>600000</td>\n",
       "      <td>100000</td>\n",
       "      <td>Diesel</td>\n",
       "      <td>Individual</td>\n",
       "      <td>Manual</td>\n",
       "      <td>First Owner</td>\n",
       "    </tr>\n",
       "    <tr>\n",
       "      <th>16</th>\n",
       "      <td>Datsun RediGO T Option</td>\n",
       "      <td>2017</td>\n",
       "      <td>250000</td>\n",
       "      <td>46000</td>\n",
       "      <td>Petrol</td>\n",
       "      <td>Individual</td>\n",
       "      <td>Manual</td>\n",
       "      <td>First Owner</td>\n",
       "    </tr>\n",
       "    <tr>\n",
       "      <th>17</th>\n",
       "      <td>Honda Amaze VX i-DTEC</td>\n",
       "      <td>2014</td>\n",
       "      <td>450000</td>\n",
       "      <td>141000</td>\n",
       "      <td>Diesel</td>\n",
       "      <td>Individual</td>\n",
       "      <td>Manual</td>\n",
       "      <td>Second Owner</td>\n",
       "    </tr>\n",
       "    <tr>\n",
       "      <th>...</th>\n",
       "      <td>...</td>\n",
       "      <td>...</td>\n",
       "      <td>...</td>\n",
       "      <td>...</td>\n",
       "      <td>...</td>\n",
       "      <td>...</td>\n",
       "      <td>...</td>\n",
       "      <td>...</td>\n",
       "    </tr>\n",
       "    <tr>\n",
       "      <th>4307</th>\n",
       "      <td>Mahindra Xylo H4</td>\n",
       "      <td>2019</td>\n",
       "      <td>599000</td>\n",
       "      <td>15000</td>\n",
       "      <td>Diesel</td>\n",
       "      <td>Individual</td>\n",
       "      <td>Manual</td>\n",
       "      <td>Third Owner</td>\n",
       "    </tr>\n",
       "    <tr>\n",
       "      <th>4308</th>\n",
       "      <td>Maruti Alto 800 LXI</td>\n",
       "      <td>2018</td>\n",
       "      <td>200000</td>\n",
       "      <td>35000</td>\n",
       "      <td>Petrol</td>\n",
       "      <td>Individual</td>\n",
       "      <td>Manual</td>\n",
       "      <td>First Owner</td>\n",
       "    </tr>\n",
       "    <tr>\n",
       "      <th>4309</th>\n",
       "      <td>Datsun GO Plus T</td>\n",
       "      <td>2017</td>\n",
       "      <td>350000</td>\n",
       "      <td>10171</td>\n",
       "      <td>Petrol</td>\n",
       "      <td>Dealer</td>\n",
       "      <td>Manual</td>\n",
       "      <td>First Owner</td>\n",
       "    </tr>\n",
       "    <tr>\n",
       "      <th>4310</th>\n",
       "      <td>Renault Duster 110PS Diesel RxL</td>\n",
       "      <td>2015</td>\n",
       "      <td>465000</td>\n",
       "      <td>41123</td>\n",
       "      <td>Diesel</td>\n",
       "      <td>Dealer</td>\n",
       "      <td>Manual</td>\n",
       "      <td>First Owner</td>\n",
       "    </tr>\n",
       "    <tr>\n",
       "      <th>4311</th>\n",
       "      <td>Toyota Camry Hybrid 2.5</td>\n",
       "      <td>2017</td>\n",
       "      <td>1900000</td>\n",
       "      <td>20118</td>\n",
       "      <td>Petrol</td>\n",
       "      <td>Dealer</td>\n",
       "      <td>Automatic</td>\n",
       "      <td>First Owner</td>\n",
       "    </tr>\n",
       "  </tbody>\n",
       "</table>\n",
       "<p>763 rows × 8 columns</p>\n",
       "</div>"
      ],
      "text/plain": [
       "                                 name  year  selling_price  km_driven    fuel  \\\n",
       "13                      Maruti 800 AC  2007          60000      70000  Petrol   \n",
       "14           Maruti Wagon R LXI Minor  2007         135000      50000  Petrol   \n",
       "15               Hyundai Verna 1.6 SX  2012         600000     100000  Diesel   \n",
       "16             Datsun RediGO T Option  2017         250000      46000  Petrol   \n",
       "17              Honda Amaze VX i-DTEC  2014         450000     141000  Diesel   \n",
       "...                               ...   ...            ...        ...     ...   \n",
       "4307                 Mahindra Xylo H4  2019         599000      15000  Diesel   \n",
       "4308              Maruti Alto 800 LXI  2018         200000      35000  Petrol   \n",
       "4309                 Datsun GO Plus T  2017         350000      10171  Petrol   \n",
       "4310  Renault Duster 110PS Diesel RxL  2015         465000      41123  Diesel   \n",
       "4311          Toyota Camry Hybrid 2.5  2017        1900000      20118  Petrol   \n",
       "\n",
       "     seller_type transmission         owner  \n",
       "13    Individual       Manual   First Owner  \n",
       "14    Individual       Manual   First Owner  \n",
       "15    Individual       Manual   First Owner  \n",
       "16    Individual       Manual   First Owner  \n",
       "17    Individual       Manual  Second Owner  \n",
       "...          ...          ...           ...  \n",
       "4307  Individual       Manual   Third Owner  \n",
       "4308  Individual       Manual   First Owner  \n",
       "4309      Dealer       Manual   First Owner  \n",
       "4310      Dealer       Manual   First Owner  \n",
       "4311      Dealer    Automatic   First Owner  \n",
       "\n",
       "[763 rows x 8 columns]"
      ]
     },
     "execution_count": 6,
     "metadata": {},
     "output_type": "execute_result"
    }
   ],
   "source": [
    "# show duplicates\n",
    "df[df.duplicated()]"
   ]
  },
  {
   "cell_type": "code",
   "execution_count": 7,
   "id": "a440f0b9",
   "metadata": {
    "execution": {
     "iopub.execute_input": "2022-10-22T02:39:39.302691Z",
     "iopub.status.busy": "2022-10-22T02:39:39.302196Z",
     "iopub.status.idle": "2022-10-22T02:39:39.313426Z",
     "shell.execute_reply": "2022-10-22T02:39:39.312258Z"
    },
    "papermill": {
     "duration": 0.021506,
     "end_time": "2022-10-22T02:39:39.315912",
     "exception": false,
     "start_time": "2022-10-22T02:39:39.294406",
     "status": "completed"
    },
    "tags": []
   },
   "outputs": [],
   "source": [
    "df = df.drop_duplicates()"
   ]
  },
  {
   "cell_type": "code",
   "execution_count": 8,
   "id": "9b88454d",
   "metadata": {
    "execution": {
     "iopub.execute_input": "2022-10-22T02:39:39.332180Z",
     "iopub.status.busy": "2022-10-22T02:39:39.331719Z",
     "iopub.status.idle": "2022-10-22T02:39:39.538853Z",
     "shell.execute_reply": "2022-10-22T02:39:39.537577Z"
    },
    "papermill": {
     "duration": 0.217563,
     "end_time": "2022-10-22T02:39:39.541630",
     "exception": false,
     "start_time": "2022-10-22T02:39:39.324067",
     "status": "completed"
    },
    "tags": []
   },
   "outputs": [
    {
     "data": {
      "image/png": "[encoded data removed]",
      "text/plain": [
       "<Figure size 720x432 with 1 Axes>"
      ]
     },
     "metadata": {
      "needs_background": "light"
     },
     "output_type": "display_data"
    }
   ],
   "source": [
    "# EDA - Exploratory Data Analysis\n",
    "\n",
    "df[\"transmission\"].value_counts().plot(kind=\"bar\", color=[\"salmon\", \"lightblue\"], figsize=(10, 6));"
   ]
  },
  {
   "cell_type": "code",
   "execution_count": 9,
   "id": "395f9e45",
   "metadata": {
    "execution": {
     "iopub.execute_input": "2022-10-22T02:39:39.561587Z",
     "iopub.status.busy": "2022-10-22T02:39:39.560503Z",
     "iopub.status.idle": "2022-10-22T02:39:39.755269Z",
     "shell.execute_reply": "2022-10-22T02:39:39.754000Z"
    },
    "papermill": {
     "duration": 0.209265,
     "end_time": "2022-10-22T02:39:39.757940",
     "exception": false,
     "start_time": "2022-10-22T02:39:39.548675",
     "status": "completed"
    },
    "tags": []
   },
   "outputs": [
    {
     "data": {
      "image/png": "[encoded data removed]",
      "text/plain": [
       "<Figure size 720x432 with 1 Axes>"
      ]
     },
     "metadata": {
      "needs_background": "light"
     },
     "output_type": "display_data"
    }
   ],
   "source": [
    "plt.title(\"Transmission Type\")\n",
    "plt.xlabel(\"Transmission Type\")\n",
    "plt.ylabel(\"Number of cars\")\n",
    "df[\"fuel\"].value_counts().plot(kind=\"bar\", color=[\"salmon\", \"lightblue\", \"green\", \"lightgreen\", \"pink\"], figsize=(10, 6));"
   ]
  },
  {
   "cell_type": "code",
   "execution_count": 10,
   "id": "2cbfbe1e",
   "metadata": {
    "execution": {
     "iopub.execute_input": "2022-10-22T02:39:39.774855Z",
     "iopub.status.busy": "2022-10-22T02:39:39.773631Z",
     "iopub.status.idle": "2022-10-22T02:39:40.072338Z",
     "shell.execute_reply": "2022-10-22T02:39:40.071118Z"
    },
    "papermill": {
     "duration": 0.310412,
     "end_time": "2022-10-22T02:39:40.075414",
     "exception": false,
     "start_time": "2022-10-22T02:39:39.765002",
     "status": "completed"
    },
    "tags": []
   },
   "outputs": [
    {
     "data": {
      "image/png": "[encoded data removed]",
      "text/plain": [
       "<Figure size 720x432 with 1 Axes>"
      ]
     },
     "metadata": {
      "needs_background": "light"
     },
     "output_type": "display_data"
    }
   ],
   "source": [
    "# transmision vs fuel type\n",
    "pd.crosstab(df[\"transmission\"], df[\"fuel\"]).plot(kind=\"bar\", figsize=(10, 6), color=[\"salmon\", \"lightblue\", \"green\", \"lightgreen\", \"pink\"], title=\"Transmission vs Fuel Type\");"
   ]
  },
  {
   "cell_type": "code",
   "execution_count": 11,
   "id": "7568e15e",
   "metadata": {
    "execution": {
     "iopub.execute_input": "2022-10-22T02:39:40.092427Z",
     "iopub.status.busy": "2022-10-22T02:39:40.091235Z",
     "iopub.status.idle": "2022-10-22T02:39:40.344670Z",
     "shell.execute_reply": "2022-10-22T02:39:40.343663Z"
    },
    "papermill": {
     "duration": 0.264729,
     "end_time": "2022-10-22T02:39:40.347421",
     "exception": false,
     "start_time": "2022-10-22T02:39:40.082692",
     "status": "completed"
    },
    "tags": []
   },
   "outputs": [
    {
     "data": {
      "image/png": "[encoded data removed]",
      "text/plain": [
       "<Figure size 720x432 with 1 Axes>"
      ]
     },
     "metadata": {
      "needs_background": "light"
     },
     "output_type": "display_data"
    }
   ],
   "source": [
    "# price vs mileage\n",
    "df.plot(x=\"km_driven\", y=\"selling_price\", kind=\"scatter\", figsize=(10, 6), title=\"Price vs Mileage\", color=\"salmon\");\n"
   ]
  },
  {
   "cell_type": "code",
   "execution_count": 12,
   "id": "ef81e94c",
   "metadata": {
    "execution": {
     "iopub.execute_input": "2022-10-22T02:39:40.365431Z",
     "iopub.status.busy": "2022-10-22T02:39:40.364231Z",
     "iopub.status.idle": "2022-10-22T02:39:40.605277Z",
     "shell.execute_reply": "2022-10-22T02:39:40.604295Z"
    },
    "papermill": {
     "duration": 0.252538,
     "end_time": "2022-10-22T02:39:40.607707",
     "exception": false,
     "start_time": "2022-10-22T02:39:40.355169",
     "status": "completed"
    },
    "tags": []
   },
   "outputs": [
    {
     "data": {
      "image/png": "[encoded data removed]",
      "text/plain": [
       "<Figure size 720x432 with 1 Axes>"
      ]
     },
     "metadata": {
      "needs_background": "light"
     },
     "output_type": "display_data"
    }
   ],
   "source": [
    "# year vs price\n",
    "df.plot(x=\"year\", y=\"selling_price\", kind=\"scatter\", figsize=(10, 6), title=\"Price vs Year\", color=\"salmon\");"
   ]
  },
  {
   "cell_type": "code",
   "execution_count": 13,
   "id": "d5423e4a",
   "metadata": {
    "execution": {
     "iopub.execute_input": "2022-10-22T02:39:40.625637Z",
     "iopub.status.busy": "2022-10-22T02:39:40.625131Z",
     "iopub.status.idle": "2022-10-22T02:39:40.927537Z",
     "shell.execute_reply": "2022-10-22T02:39:40.926426Z"
    },
    "papermill": {
     "duration": 0.314479,
     "end_time": "2022-10-22T02:39:40.930266",
     "exception": false,
     "start_time": "2022-10-22T02:39:40.615787",
     "status": "completed"
    },
    "tags": []
   },
   "outputs": [
    {
     "data": {
      "image/png": "[encoded data removed]",
      "text/plain": [
       "<Figure size 720x432 with 1 Axes>"
      ]
     },
     "metadata": {
      "needs_background": "light"
     },
     "output_type": "display_data"
    }
   ],
   "source": [
    "# seller type vs owner\n",
    "pd.crosstab(df[\"seller_type\"], df[\"owner\"]).plot(kind=\"bar\", figsize=(10, 6), color=[\"salmon\", \"lightblue\", \"green\"], title=\"Seller Type vs Owner\");\n"
   ]
  },
  {
   "cell_type": "code",
   "execution_count": 14,
   "id": "063ed299",
   "metadata": {
    "execution": {
     "iopub.execute_input": "2022-10-22T02:39:40.948866Z",
     "iopub.status.busy": "2022-10-22T02:39:40.948438Z",
     "iopub.status.idle": "2022-10-22T02:39:41.105393Z",
     "shell.execute_reply": "2022-10-22T02:39:41.104186Z"
    },
    "papermill": {
     "duration": 0.169273,
     "end_time": "2022-10-22T02:39:41.107892",
     "exception": false,
     "start_time": "2022-10-22T02:39:40.938619",
     "status": "completed"
    },
    "tags": []
   },
   "outputs": [
    {
     "data": {
      "text/html": [
       "<div>\n",
       "<style scoped>\n",
       "    .dataframe tbody tr th:only-of-type {\n",
       "        vertical-align: middle;\n",
       "    }\n",
       "\n",
       "    .dataframe tbody tr th {\n",
       "        vertical-align: top;\n",
       "    }\n",
       "\n",
       "    .dataframe thead th {\n",
       "        text-align: right;\n",
       "    }\n",
       "</style>\n",
       "<table border=\"1\" class=\"dataframe\">\n",
       "  <thead>\n",
       "    <tr style=\"text-align: right;\">\n",
       "      <th></th>\n",
       "      <th>year</th>\n",
       "      <th>selling_price</th>\n",
       "      <th>km_driven</th>\n",
       "      <th>fuel</th>\n",
       "      <th>seller_type</th>\n",
       "      <th>transmission</th>\n",
       "      <th>owner</th>\n",
       "    </tr>\n",
       "  </thead>\n",
       "  <tbody>\n",
       "    <tr>\n",
       "      <th>1882</th>\n",
       "      <td>2017</td>\n",
       "      <td>750000</td>\n",
       "      <td>15000</td>\n",
       "      <td>4</td>\n",
       "      <td>1</td>\n",
       "      <td>1</td>\n",
       "      <td>0</td>\n",
       "    </tr>\n",
       "    <tr>\n",
       "      <th>161</th>\n",
       "      <td>2014</td>\n",
       "      <td>620000</td>\n",
       "      <td>36000</td>\n",
       "      <td>4</td>\n",
       "      <td>1</td>\n",
       "      <td>1</td>\n",
       "      <td>0</td>\n",
       "    </tr>\n",
       "    <tr>\n",
       "      <th>726</th>\n",
       "      <td>2010</td>\n",
       "      <td>265000</td>\n",
       "      <td>47564</td>\n",
       "      <td>4</td>\n",
       "      <td>0</td>\n",
       "      <td>1</td>\n",
       "      <td>2</td>\n",
       "    </tr>\n",
       "    <tr>\n",
       "      <th>2641</th>\n",
       "      <td>2002</td>\n",
       "      <td>150000</td>\n",
       "      <td>50000</td>\n",
       "      <td>1</td>\n",
       "      <td>1</td>\n",
       "      <td>1</td>\n",
       "      <td>4</td>\n",
       "    </tr>\n",
       "    <tr>\n",
       "      <th>3969</th>\n",
       "      <td>2016</td>\n",
       "      <td>5500000</td>\n",
       "      <td>77350</td>\n",
       "      <td>1</td>\n",
       "      <td>0</td>\n",
       "      <td>0</td>\n",
       "      <td>0</td>\n",
       "    </tr>\n",
       "  </tbody>\n",
       "</table>\n",
       "</div>"
      ],
      "text/plain": [
       "      year  selling_price  km_driven  fuel  seller_type  transmission  owner\n",
       "1882  2017         750000      15000     4            1             1      0\n",
       "161   2014         620000      36000     4            1             1      0\n",
       "726   2010         265000      47564     4            0             1      2\n",
       "2641  2002         150000      50000     1            1             1      4\n",
       "3969  2016        5500000      77350     1            0             0      0"
      ]
     },
     "execution_count": 14,
     "metadata": {},
     "output_type": "execute_result"
    }
   ],
   "source": [
    "# encoding categorical variables\n",
    "df.drop(\"name\", axis=1, inplace=True)\n",
    "categorical_columns = df.select_dtypes(include=\"object\").columns\n",
    "\n",
    "from sklearn.preprocessing import LabelEncoder\n",
    "label = LabelEncoder()\n",
    "\n",
    "for col in categorical_columns:\n",
    "    df[col] = label.fit_transform(df[col])\n",
    "\n",
    "df.sample(5)"
   ]
  },
  {
   "cell_type": "code",
   "execution_count": 15,
   "id": "fcda20a0",
   "metadata": {
    "execution": {
     "iopub.execute_input": "2022-10-22T02:39:41.127498Z",
     "iopub.status.busy": "2022-10-22T02:39:41.126538Z",
     "iopub.status.idle": "2022-10-22T02:39:41.383563Z",
     "shell.execute_reply": "2022-10-22T02:39:41.382478Z"
    },
    "papermill": {
     "duration": 0.270522,
     "end_time": "2022-10-22T02:39:41.387081",
     "exception": false,
     "start_time": "2022-10-22T02:39:41.116559",
     "status": "completed"
    },
    "tags": []
   },
   "outputs": [],
   "source": [
    "# Using Random Forest Regressor to predict the selling price\n",
    "from sklearn.ensemble import RandomForestRegressor\n",
    "from sklearn.model_selection import train_test_split\n",
    "from sklearn.metrics import mean_absolute_error, mean_squared_error, r2_score\n",
    "\n",
    "# split the data into X and y\n",
    "\n",
    "X = df.drop(\"selling_price\", axis=1)\n",
    "\n",
    "y = df[\"selling_price\"]\n",
    "\n",
    "# split the data into train and test sets\n",
    "\n",
    "X_train, X_test, y_train, y_test = train_test_split(X, y, test_size=0.2, random_state=42)\n",
    "\n",
    "# instantiate the model\n",
    "\n",
    "rf = RandomForestRegressor()\n",
    "\n",
    "\n"
   ]
  },
  {
   "cell_type": "code",
   "execution_count": 16,
   "id": "2ac0fc73",
   "metadata": {
    "execution": {
     "iopub.execute_input": "2022-10-22T02:39:41.411365Z",
     "iopub.status.busy": "2022-10-22T02:39:41.410059Z",
     "iopub.status.idle": "2022-10-22T02:39:41.980238Z",
     "shell.execute_reply": "2022-10-22T02:39:41.979303Z"
    },
    "papermill": {
     "duration": 0.58323,
     "end_time": "2022-10-22T02:39:41.982994",
     "exception": false,
     "start_time": "2022-10-22T02:39:41.399764",
     "status": "completed"
    },
    "tags": []
   },
   "outputs": [
    {
     "data": {
      "text/plain": [
       "RandomForestRegressor()"
      ]
     },
     "execution_count": 16,
     "metadata": {},
     "output_type": "execute_result"
    }
   ],
   "source": [
    "# fit the model\n",
    "\n",
    "rf.fit(X_train, y_train)\n"
   ]
  },
  {
   "cell_type": "code",
   "execution_count": 17,
   "id": "efc83a2f",
   "metadata": {
    "execution": {
     "iopub.execute_input": "2022-10-22T02:39:42.003245Z",
     "iopub.status.busy": "2022-10-22T02:39:42.002586Z",
     "iopub.status.idle": "2022-10-22T02:39:42.044554Z",
     "shell.execute_reply": "2022-10-22T02:39:42.043296Z"
    },
    "papermill": {
     "duration": 0.055113,
     "end_time": "2022-10-22T02:39:42.047267",
     "exception": false,
     "start_time": "2022-10-22T02:39:41.992154",
     "status": "completed"
    },
    "tags": []
   },
   "outputs": [
    {
     "name": "stdout",
     "output_type": "stream",
     "text": [
      "Mean Absolute Error:  194960.22543328285\n",
      "Mean Squared Error:  185642257363.62738\n",
      "Root Mean Squared Error:  430862.22550094523\n",
      "R2 Score:  0.42370991773649125\n"
     ]
    }
   ],
   "source": [
    "# predict the selling price\n",
    "\n",
    "y_preds = rf.predict(X_test)\n",
    "\n",
    "# evaluate the model\n",
    "\n",
    "print(\"Mean Absolute Error: \", mean_absolute_error(y_test, y_preds))\n",
    "print(\"Mean Squared Error: \", mean_squared_error(y_test, y_preds))\n",
    "print(\"Root Mean Squared Error: \", np.sqrt(mean_squared_error(y_test, y_preds)))\n",
    "print(\"R2 Score: \", r2_score(y_test, y_preds))\n"
   ]
  },
  {
   "cell_type": "code",
   "execution_count": 18,
   "id": "ebfc4634",
   "metadata": {
    "execution": {
     "iopub.execute_input": "2022-10-22T02:39:42.067295Z",
     "iopub.status.busy": "2022-10-22T02:39:42.066493Z",
     "iopub.status.idle": "2022-10-22T02:39:42.289624Z",
     "shell.execute_reply": "2022-10-22T02:39:42.288399Z"
    },
    "papermill": {
     "duration": 0.236193,
     "end_time": "2022-10-22T02:39:42.292299",
     "exception": false,
     "start_time": "2022-10-22T02:39:42.056106",
     "status": "completed"
    },
    "tags": []
   },
   "outputs": [
    {
     "data": {
      "image/png": "[encoded data removed]",
      "text/plain": [
       "<Figure size 432x288 with 1 Axes>"
      ]
     },
     "metadata": {
      "needs_background": "light"
     },
     "output_type": "display_data"
    }
   ],
   "source": [
    "# plot the feature importance sns\n",
    "\n",
    "feature_importance = pd.DataFrame({\"feature\": X.columns, \"importance\": rf.feature_importances_})\n",
    "\n",
    "feature_importance.sort_values(by=\"importance\", ascending=False, inplace=True)\n",
    "\n",
    "sns.barplot(x=\"importance\", y=\"feature\", data=feature_importance);"
   ]
  },
  {
   "cell_type": "markdown",
   "id": "3e7a1727",
   "metadata": {
    "papermill": {
     "duration": 0.008894,
     "end_time": "2022-10-22T02:39:42.310236",
     "exception": false,
     "start_time": "2022-10-22T02:39:42.301342",
     "status": "completed"
    },
    "tags": []
   },
   "source": [
    "# Conclusion\n",
    "\n",
    "Checking the plot of feature importance, the most important feature is km_drive, this is not surprising as the more the car is driven more wastage it will have so price is directly proportional to the km_drive."
   ]
  }
 ],
 "metadata": {
  "kernelspec": {
   "display_name": "Python 3",
   "language": "python",
   "name": "python3"
  },
  "language_info": {
   "codemirror_mode": {
    "name": "ipython",
    "version": 3
   },
   "file_extension": ".py",
   "mimetype": "text/x-python",
   "name": "python",
   "nbconvert_exporter": "python",
   "pygments_lexer": "ipython3",
   "version": "3.7.12"
  },
  "papermill": {
   "default_parameters": {},
   "duration": 14.127717,
   "end_time": "2022-10-22T02:39:43.342461",
   "environment_variables": {},
   "exception": null,
   "input_path": "__notebook__.ipynb",
   "output_path": "__notebook__.ipynb",
   "parameters": {},
   "start_time": "2022-10-22T02:39:29.214744",
   "version": "2.3.4"
  }
 },
 "nbformat": 4,
 "nbformat_minor": 5
}
