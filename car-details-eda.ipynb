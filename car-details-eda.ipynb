{
 "cells": [
  {
   "cell_type": "code",
   "execution_count": 1,
   "id": "31f54763",
   "metadata": {
    "_cell_guid": "b1076dfc-b9ad-4769-8c92-a6c4dae69d19",
    "_uuid": "8f2839f25d086af736a60e9eeb907d3b93b6e0e5",
    "execution": {
     "iopub.execute_input": "2022-11-13T07:10:06.964345Z",
     "iopub.status.busy": "2022-11-13T07:10:06.963336Z",
     "iopub.status.idle": "2022-11-13T07:10:06.988211Z",
     "shell.execute_reply": "2022-11-13T07:10:06.986788Z"
    },
    "papermill": {
     "duration": 0.04358,
     "end_time": "2022-11-13T07:10:06.992328",
     "exception": false,
     "start_time": "2022-11-13T07:10:06.948748",
     "status": "completed"
    },
    "tags": []
   },
   "outputs": [
    {
     "name": "stdout",
     "output_type": "stream",
     "text": [
      "/kaggle/input/car-details-dataset/CAR DETAILS FROM CAR DEKHO.csv\n"
     ]
    }
   ],
   "source": [
    "# This Python 3 environment comes with many helpful analytics libraries installed\n",
    "# It is defined by the kaggle/python Docker image: https://github.com/kaggle/docker-python\n",
    "# For example, here's several helpful packages to load\n",
    "\n",
    "import numpy as np # linear algebra\n",
    "import pandas as pd # data processing, CSV file I/O (e.g. pd.read_csv)\n",
    "\n",
    "# Input data files are available in the read-only \"../input/\" directory\n",
    "# For example, running this (by clicking run or pressing Shift+Enter) will list all files under the input directory\n",
    "\n",
    "import os\n",
    "for dirname, _, filenames in os.walk('/kaggle/input'):\n",
    "    for filename in filenames:\n",
    "        print(os.path.join(dirname, filename))\n",
    "\n",
    "# You can write up to 20GB to the current directory (/kaggle/working/) that gets preserved as output when you create a version using \"Save & Run All\" \n",
    "# You can also write temporary files to /kaggle/temp/, but they won't be saved outside of the current session"
   ]
  },
  {
   "cell_type": "code",
   "execution_count": 2,
   "id": "c5fe60b4",
   "metadata": {
    "execution": {
     "iopub.execute_input": "2022-11-13T07:10:07.019788Z",
     "iopub.status.busy": "2022-11-13T07:10:07.019397Z",
     "iopub.status.idle": "2022-11-13T07:10:07.081043Z",
     "shell.execute_reply": "2022-11-13T07:10:07.080156Z"
    },
    "papermill": {
     "duration": 0.07795,
     "end_time": "2022-11-13T07:10:07.083440",
     "exception": false,
     "start_time": "2022-11-13T07:10:07.005490",
     "status": "completed"
    },
    "tags": []
   },
   "outputs": [
    {
     "data": {
      "text/html": [
       "<div>\n",
       "<style scoped>\n",
       "    .dataframe tbody tr th:only-of-type {\n",
       "        vertical-align: middle;\n",
       "    }\n",
       "\n",
       "    .dataframe tbody tr th {\n",
       "        vertical-align: top;\n",
       "    }\n",
       "\n",
       "    .dataframe thead th {\n",
       "        text-align: right;\n",
       "    }\n",
       "</style>\n",
       "<table border=\"1\" class=\"dataframe\">\n",
       "  <thead>\n",
       "    <tr style=\"text-align: right;\">\n",
       "      <th></th>\n",
       "      <th>name</th>\n",
       "      <th>year</th>\n",
       "      <th>selling_price</th>\n",
       "      <th>km_driven</th>\n",
       "      <th>fuel</th>\n",
       "      <th>seller_type</th>\n",
       "      <th>transmission</th>\n",
       "      <th>owner</th>\n",
       "    </tr>\n",
       "  </thead>\n",
       "  <tbody>\n",
       "    <tr>\n",
       "      <th>0</th>\n",
       "      <td>Maruti 800 AC</td>\n",
       "      <td>2007</td>\n",
       "      <td>60000</td>\n",
       "      <td>70000</td>\n",
       "      <td>Petrol</td>\n",
       "      <td>Individual</td>\n",
       "      <td>Manual</td>\n",
       "      <td>First Owner</td>\n",
       "    </tr>\n",
       "    <tr>\n",
       "      <th>1</th>\n",
       "      <td>Maruti Wagon R LXI Minor</td>\n",
       "      <td>2007</td>\n",
       "      <td>135000</td>\n",
       "      <td>50000</td>\n",
       "      <td>Petrol</td>\n",
       "      <td>Individual</td>\n",
       "      <td>Manual</td>\n",
       "      <td>First Owner</td>\n",
       "    </tr>\n",
       "    <tr>\n",
       "      <th>2</th>\n",
       "      <td>Hyundai Verna 1.6 SX</td>\n",
       "      <td>2012</td>\n",
       "      <td>600000</td>\n",
       "      <td>100000</td>\n",
       "      <td>Diesel</td>\n",
       "      <td>Individual</td>\n",
       "      <td>Manual</td>\n",
       "      <td>First Owner</td>\n",
       "    </tr>\n",
       "    <tr>\n",
       "      <th>3</th>\n",
       "      <td>Datsun RediGO T Option</td>\n",
       "      <td>2017</td>\n",
       "      <td>250000</td>\n",
       "      <td>46000</td>\n",
       "      <td>Petrol</td>\n",
       "      <td>Individual</td>\n",
       "      <td>Manual</td>\n",
       "      <td>First Owner</td>\n",
       "    </tr>\n",
       "    <tr>\n",
       "      <th>4</th>\n",
       "      <td>Honda Amaze VX i-DTEC</td>\n",
       "      <td>2014</td>\n",
       "      <td>450000</td>\n",
       "      <td>141000</td>\n",
       "      <td>Diesel</td>\n",
       "      <td>Individual</td>\n",
       "      <td>Manual</td>\n",
       "      <td>Second Owner</td>\n",
       "    </tr>\n",
       "    <tr>\n",
       "      <th>...</th>\n",
       "      <td>...</td>\n",
       "      <td>...</td>\n",
       "      <td>...</td>\n",
       "      <td>...</td>\n",
       "      <td>...</td>\n",
       "      <td>...</td>\n",
       "      <td>...</td>\n",
       "      <td>...</td>\n",
       "    </tr>\n",
       "    <tr>\n",
       "      <th>4335</th>\n",
       "      <td>Hyundai i20 Magna 1.4 CRDi (Diesel)</td>\n",
       "      <td>2014</td>\n",
       "      <td>409999</td>\n",
       "      <td>80000</td>\n",
       "      <td>Diesel</td>\n",
       "      <td>Individual</td>\n",
       "      <td>Manual</td>\n",
       "      <td>Second Owner</td>\n",
       "    </tr>\n",
       "    <tr>\n",
       "      <th>4336</th>\n",
       "      <td>Hyundai i20 Magna 1.4 CRDi</td>\n",
       "      <td>2014</td>\n",
       "      <td>409999</td>\n",
       "      <td>80000</td>\n",
       "      <td>Diesel</td>\n",
       "      <td>Individual</td>\n",
       "      <td>Manual</td>\n",
       "      <td>Second Owner</td>\n",
       "    </tr>\n",
       "    <tr>\n",
       "      <th>4337</th>\n",
       "      <td>Maruti 800 AC BSIII</td>\n",
       "      <td>2009</td>\n",
       "      <td>110000</td>\n",
       "      <td>83000</td>\n",
       "      <td>Petrol</td>\n",
       "      <td>Individual</td>\n",
       "      <td>Manual</td>\n",
       "      <td>Second Owner</td>\n",
       "    </tr>\n",
       "    <tr>\n",
       "      <th>4338</th>\n",
       "      <td>Hyundai Creta 1.6 CRDi SX Option</td>\n",
       "      <td>2016</td>\n",
       "      <td>865000</td>\n",
       "      <td>90000</td>\n",
       "      <td>Diesel</td>\n",
       "      <td>Individual</td>\n",
       "      <td>Manual</td>\n",
       "      <td>First Owner</td>\n",
       "    </tr>\n",
       "    <tr>\n",
       "      <th>4339</th>\n",
       "      <td>Renault KWID RXT</td>\n",
       "      <td>2016</td>\n",
       "      <td>225000</td>\n",
       "      <td>40000</td>\n",
       "      <td>Petrol</td>\n",
       "      <td>Individual</td>\n",
       "      <td>Manual</td>\n",
       "      <td>First Owner</td>\n",
       "    </tr>\n",
       "  </tbody>\n",
       "</table>\n",
       "<p>4340 rows × 8 columns</p>\n",
       "</div>"
      ],
      "text/plain": [
       "                                     name  year  selling_price  km_driven  \\\n",
       "0                           Maruti 800 AC  2007          60000      70000   \n",
       "1                Maruti Wagon R LXI Minor  2007         135000      50000   \n",
       "2                    Hyundai Verna 1.6 SX  2012         600000     100000   \n",
       "3                  Datsun RediGO T Option  2017         250000      46000   \n",
       "4                   Honda Amaze VX i-DTEC  2014         450000     141000   \n",
       "...                                   ...   ...            ...        ...   \n",
       "4335  Hyundai i20 Magna 1.4 CRDi (Diesel)  2014         409999      80000   \n",
       "4336           Hyundai i20 Magna 1.4 CRDi  2014         409999      80000   \n",
       "4337                  Maruti 800 AC BSIII  2009         110000      83000   \n",
       "4338     Hyundai Creta 1.6 CRDi SX Option  2016         865000      90000   \n",
       "4339                     Renault KWID RXT  2016         225000      40000   \n",
       "\n",
       "        fuel seller_type transmission         owner  \n",
       "0     Petrol  Individual       Manual   First Owner  \n",
       "1     Petrol  Individual       Manual   First Owner  \n",
       "2     Diesel  Individual       Manual   First Owner  \n",
       "3     Petrol  Individual       Manual   First Owner  \n",
       "4     Diesel  Individual       Manual  Second Owner  \n",
       "...      ...         ...          ...           ...  \n",
       "4335  Diesel  Individual       Manual  Second Owner  \n",
       "4336  Diesel  Individual       Manual  Second Owner  \n",
       "4337  Petrol  Individual       Manual  Second Owner  \n",
       "4338  Diesel  Individual       Manual   First Owner  \n",
       "4339  Petrol  Individual       Manual   First Owner  \n",
       "\n",
       "[4340 rows x 8 columns]"
      ]
     },
     "execution_count": 2,
     "metadata": {},
     "output_type": "execute_result"
    }
   ],
   "source": [
    "df=pd.read_csv('/kaggle/input/car-details-dataset/CAR DETAILS FROM CAR DEKHO.csv')\n",
    "df"
   ]
  },
  {
   "cell_type": "code",
   "execution_count": 3,
   "id": "a38528cf",
   "metadata": {
    "execution": {
     "iopub.execute_input": "2022-11-13T07:10:07.108173Z",
     "iopub.status.busy": "2022-11-13T07:10:07.107407Z",
     "iopub.status.idle": "2022-11-13T07:10:07.114336Z",
     "shell.execute_reply": "2022-11-13T07:10:07.112976Z"
    },
    "papermill": {
     "duration": 0.021967,
     "end_time": "2022-11-13T07:10:07.116944",
     "exception": false,
     "start_time": "2022-11-13T07:10:07.094977",
     "status": "completed"
    },
    "tags": []
   },
   "outputs": [
    {
     "data": {
      "text/plain": [
       "(4340, 8)"
      ]
     },
     "execution_count": 3,
     "metadata": {},
     "output_type": "execute_result"
    }
   ],
   "source": [
    "df.shape"
   ]
  },
  {
   "cell_type": "code",
   "execution_count": 4,
   "id": "3b436891",
   "metadata": {
    "execution": {
     "iopub.execute_input": "2022-11-13T07:10:07.141750Z",
     "iopub.status.busy": "2022-11-13T07:10:07.141289Z",
     "iopub.status.idle": "2022-11-13T07:10:07.155997Z",
     "shell.execute_reply": "2022-11-13T07:10:07.154711Z"
    },
    "papermill": {
     "duration": 0.030406,
     "end_time": "2022-11-13T07:10:07.158643",
     "exception": false,
     "start_time": "2022-11-13T07:10:07.128237",
     "status": "completed"
    },
    "tags": []
   },
   "outputs": [
    {
     "data": {
      "text/html": [
       "<div>\n",
       "<style scoped>\n",
       "    .dataframe tbody tr th:only-of-type {\n",
       "        vertical-align: middle;\n",
       "    }\n",
       "\n",
       "    .dataframe tbody tr th {\n",
       "        vertical-align: top;\n",
       "    }\n",
       "\n",
       "    .dataframe thead th {\n",
       "        text-align: right;\n",
       "    }\n",
       "</style>\n",
       "<table border=\"1\" class=\"dataframe\">\n",
       "  <thead>\n",
       "    <tr style=\"text-align: right;\">\n",
       "      <th></th>\n",
       "      <th>name</th>\n",
       "      <th>year</th>\n",
       "      <th>selling_price</th>\n",
       "      <th>km_driven</th>\n",
       "      <th>fuel</th>\n",
       "      <th>seller_type</th>\n",
       "      <th>transmission</th>\n",
       "      <th>owner</th>\n",
       "    </tr>\n",
       "  </thead>\n",
       "  <tbody>\n",
       "    <tr>\n",
       "      <th>0</th>\n",
       "      <td>Maruti 800 AC</td>\n",
       "      <td>2007</td>\n",
       "      <td>60000</td>\n",
       "      <td>70000</td>\n",
       "      <td>Petrol</td>\n",
       "      <td>Individual</td>\n",
       "      <td>Manual</td>\n",
       "      <td>First Owner</td>\n",
       "    </tr>\n",
       "    <tr>\n",
       "      <th>1</th>\n",
       "      <td>Maruti Wagon R LXI Minor</td>\n",
       "      <td>2007</td>\n",
       "      <td>135000</td>\n",
       "      <td>50000</td>\n",
       "      <td>Petrol</td>\n",
       "      <td>Individual</td>\n",
       "      <td>Manual</td>\n",
       "      <td>First Owner</td>\n",
       "    </tr>\n",
       "    <tr>\n",
       "      <th>2</th>\n",
       "      <td>Hyundai Verna 1.6 SX</td>\n",
       "      <td>2012</td>\n",
       "      <td>600000</td>\n",
       "      <td>100000</td>\n",
       "      <td>Diesel</td>\n",
       "      <td>Individual</td>\n",
       "      <td>Manual</td>\n",
       "      <td>First Owner</td>\n",
       "    </tr>\n",
       "    <tr>\n",
       "      <th>3</th>\n",
       "      <td>Datsun RediGO T Option</td>\n",
       "      <td>2017</td>\n",
       "      <td>250000</td>\n",
       "      <td>46000</td>\n",
       "      <td>Petrol</td>\n",
       "      <td>Individual</td>\n",
       "      <td>Manual</td>\n",
       "      <td>First Owner</td>\n",
       "    </tr>\n",
       "    <tr>\n",
       "      <th>4</th>\n",
       "      <td>Honda Amaze VX i-DTEC</td>\n",
       "      <td>2014</td>\n",
       "      <td>450000</td>\n",
       "      <td>141000</td>\n",
       "      <td>Diesel</td>\n",
       "      <td>Individual</td>\n",
       "      <td>Manual</td>\n",
       "      <td>Second Owner</td>\n",
       "    </tr>\n",
       "  </tbody>\n",
       "</table>\n",
       "</div>"
      ],
      "text/plain": [
       "                       name  year  selling_price  km_driven    fuel  \\\n",
       "0             Maruti 800 AC  2007          60000      70000  Petrol   \n",
       "1  Maruti Wagon R LXI Minor  2007         135000      50000  Petrol   \n",
       "2      Hyundai Verna 1.6 SX  2012         600000     100000  Diesel   \n",
       "3    Datsun RediGO T Option  2017         250000      46000  Petrol   \n",
       "4     Honda Amaze VX i-DTEC  2014         450000     141000  Diesel   \n",
       "\n",
       "  seller_type transmission         owner  \n",
       "0  Individual       Manual   First Owner  \n",
       "1  Individual       Manual   First Owner  \n",
       "2  Individual       Manual   First Owner  \n",
       "3  Individual       Manual   First Owner  \n",
       "4  Individual       Manual  Second Owner  "
      ]
     },
     "execution_count": 4,
     "metadata": {},
     "output_type": "execute_result"
    }
   ],
   "source": [
    "df.head()"
   ]
  },
  {
   "cell_type": "code",
   "execution_count": 5,
   "id": "0c0fc283",
   "metadata": {
    "execution": {
     "iopub.execute_input": "2022-11-13T07:10:07.185028Z",
     "iopub.status.busy": "2022-11-13T07:10:07.184193Z",
     "iopub.status.idle": "2022-11-13T07:10:07.198567Z",
     "shell.execute_reply": "2022-11-13T07:10:07.197285Z"
    },
    "papermill": {
     "duration": 0.029981,
     "end_time": "2022-11-13T07:10:07.200900",
     "exception": false,
     "start_time": "2022-11-13T07:10:07.170919",
     "status": "completed"
    },
    "tags": []
   },
   "outputs": [
    {
     "data": {
      "text/html": [
       "<div>\n",
       "<style scoped>\n",
       "    .dataframe tbody tr th:only-of-type {\n",
       "        vertical-align: middle;\n",
       "    }\n",
       "\n",
       "    .dataframe tbody tr th {\n",
       "        vertical-align: top;\n",
       "    }\n",
       "\n",
       "    .dataframe thead th {\n",
       "        text-align: right;\n",
       "    }\n",
       "</style>\n",
       "<table border=\"1\" class=\"dataframe\">\n",
       "  <thead>\n",
       "    <tr style=\"text-align: right;\">\n",
       "      <th></th>\n",
       "      <th>name</th>\n",
       "      <th>year</th>\n",
       "      <th>selling_price</th>\n",
       "      <th>km_driven</th>\n",
       "      <th>fuel</th>\n",
       "      <th>seller_type</th>\n",
       "      <th>transmission</th>\n",
       "      <th>owner</th>\n",
       "    </tr>\n",
       "  </thead>\n",
       "  <tbody>\n",
       "    <tr>\n",
       "      <th>4335</th>\n",
       "      <td>Hyundai i20 Magna 1.4 CRDi (Diesel)</td>\n",
       "      <td>2014</td>\n",
       "      <td>409999</td>\n",
       "      <td>80000</td>\n",
       "      <td>Diesel</td>\n",
       "      <td>Individual</td>\n",
       "      <td>Manual</td>\n",
       "      <td>Second Owner</td>\n",
       "    </tr>\n",
       "    <tr>\n",
       "      <th>4336</th>\n",
       "      <td>Hyundai i20 Magna 1.4 CRDi</td>\n",
       "      <td>2014</td>\n",
       "      <td>409999</td>\n",
       "      <td>80000</td>\n",
       "      <td>Diesel</td>\n",
       "      <td>Individual</td>\n",
       "      <td>Manual</td>\n",
       "      <td>Second Owner</td>\n",
       "    </tr>\n",
       "    <tr>\n",
       "      <th>4337</th>\n",
       "      <td>Maruti 800 AC BSIII</td>\n",
       "      <td>2009</td>\n",
       "      <td>110000</td>\n",
       "      <td>83000</td>\n",
       "      <td>Petrol</td>\n",
       "      <td>Individual</td>\n",
       "      <td>Manual</td>\n",
       "      <td>Second Owner</td>\n",
       "    </tr>\n",
       "    <tr>\n",
       "      <th>4338</th>\n",
       "      <td>Hyundai Creta 1.6 CRDi SX Option</td>\n",
       "      <td>2016</td>\n",
       "      <td>865000</td>\n",
       "      <td>90000</td>\n",
       "      <td>Diesel</td>\n",
       "      <td>Individual</td>\n",
       "      <td>Manual</td>\n",
       "      <td>First Owner</td>\n",
       "    </tr>\n",
       "    <tr>\n",
       "      <th>4339</th>\n",
       "      <td>Renault KWID RXT</td>\n",
       "      <td>2016</td>\n",
       "      <td>225000</td>\n",
       "      <td>40000</td>\n",
       "      <td>Petrol</td>\n",
       "      <td>Individual</td>\n",
       "      <td>Manual</td>\n",
       "      <td>First Owner</td>\n",
       "    </tr>\n",
       "  </tbody>\n",
       "</table>\n",
       "</div>"
      ],
      "text/plain": [
       "                                     name  year  selling_price  km_driven  \\\n",
       "4335  Hyundai i20 Magna 1.4 CRDi (Diesel)  2014         409999      80000   \n",
       "4336           Hyundai i20 Magna 1.4 CRDi  2014         409999      80000   \n",
       "4337                  Maruti 800 AC BSIII  2009         110000      83000   \n",
       "4338     Hyundai Creta 1.6 CRDi SX Option  2016         865000      90000   \n",
       "4339                     Renault KWID RXT  2016         225000      40000   \n",
       "\n",
       "        fuel seller_type transmission         owner  \n",
       "4335  Diesel  Individual       Manual  Second Owner  \n",
       "4336  Diesel  Individual       Manual  Second Owner  \n",
       "4337  Petrol  Individual       Manual  Second Owner  \n",
       "4338  Diesel  Individual       Manual   First Owner  \n",
       "4339  Petrol  Individual       Manual   First Owner  "
      ]
     },
     "execution_count": 5,
     "metadata": {},
     "output_type": "execute_result"
    }
   ],
   "source": [
    "df.tail()"
   ]
  },
  {
   "cell_type": "code",
   "execution_count": 6,
   "id": "de84be5b",
   "metadata": {
    "execution": {
     "iopub.execute_input": "2022-11-13T07:10:07.226280Z",
     "iopub.status.busy": "2022-11-13T07:10:07.225890Z",
     "iopub.status.idle": "2022-11-13T07:10:07.250028Z",
     "shell.execute_reply": "2022-11-13T07:10:07.249013Z"
    },
    "papermill": {
     "duration": 0.039917,
     "end_time": "2022-11-13T07:10:07.252804",
     "exception": false,
     "start_time": "2022-11-13T07:10:07.212887",
     "status": "completed"
    },
    "tags": []
   },
   "outputs": [
    {
     "name": "stdout",
     "output_type": "stream",
     "text": [
      "<class 'pandas.core.frame.DataFrame'>\n",
      "RangeIndex: 4340 entries, 0 to 4339\n",
      "Data columns (total 8 columns):\n",
      " #   Column         Non-Null Count  Dtype \n",
      "---  ------         --------------  ----- \n",
      " 0   name           4340 non-null   object\n",
      " 1   year           4340 non-null   int64 \n",
      " 2   selling_price  4340 non-null   int64 \n",
      " 3   km_driven      4340 non-null   int64 \n",
      " 4   fuel           4340 non-null   object\n",
      " 5   seller_type    4340 non-null   object\n",
      " 6   transmission   4340 non-null   object\n",
      " 7   owner          4340 non-null   object\n",
      "dtypes: int64(3), object(5)\n",
      "memory usage: 271.4+ KB\n"
     ]
    }
   ],
   "source": [
    "df.info()"
   ]
  },
  {
   "cell_type": "code",
   "execution_count": 7,
   "id": "af179b24",
   "metadata": {
    "execution": {
     "iopub.execute_input": "2022-11-13T07:10:07.280788Z",
     "iopub.status.busy": "2022-11-13T07:10:07.280348Z",
     "iopub.status.idle": "2022-11-13T07:10:07.304264Z",
     "shell.execute_reply": "2022-11-13T07:10:07.302881Z"
    },
    "papermill": {
     "duration": 0.041437,
     "end_time": "2022-11-13T07:10:07.307203",
     "exception": false,
     "start_time": "2022-11-13T07:10:07.265766",
     "status": "completed"
    },
    "tags": []
   },
   "outputs": [
    {
     "data": {
      "text/html": [
       "<div>\n",
       "<style scoped>\n",
       "    .dataframe tbody tr th:only-of-type {\n",
       "        vertical-align: middle;\n",
       "    }\n",
       "\n",
       "    .dataframe tbody tr th {\n",
       "        vertical-align: top;\n",
       "    }\n",
       "\n",
       "    .dataframe thead th {\n",
       "        text-align: right;\n",
       "    }\n",
       "</style>\n",
       "<table border=\"1\" class=\"dataframe\">\n",
       "  <thead>\n",
       "    <tr style=\"text-align: right;\">\n",
       "      <th></th>\n",
       "      <th>year</th>\n",
       "      <th>selling_price</th>\n",
       "      <th>km_driven</th>\n",
       "    </tr>\n",
       "  </thead>\n",
       "  <tbody>\n",
       "    <tr>\n",
       "      <th>count</th>\n",
       "      <td>4340.000000</td>\n",
       "      <td>4.340000e+03</td>\n",
       "      <td>4340.000000</td>\n",
       "    </tr>\n",
       "    <tr>\n",
       "      <th>mean</th>\n",
       "      <td>2013.090783</td>\n",
       "      <td>5.041273e+05</td>\n",
       "      <td>66215.777419</td>\n",
       "    </tr>\n",
       "    <tr>\n",
       "      <th>std</th>\n",
       "      <td>4.215344</td>\n",
       "      <td>5.785487e+05</td>\n",
       "      <td>46644.102194</td>\n",
       "    </tr>\n",
       "    <tr>\n",
       "      <th>min</th>\n",
       "      <td>1992.000000</td>\n",
       "      <td>2.000000e+04</td>\n",
       "      <td>1.000000</td>\n",
       "    </tr>\n",
       "    <tr>\n",
       "      <th>25%</th>\n",
       "      <td>2011.000000</td>\n",
       "      <td>2.087498e+05</td>\n",
       "      <td>35000.000000</td>\n",
       "    </tr>\n",
       "    <tr>\n",
       "      <th>50%</th>\n",
       "      <td>2014.000000</td>\n",
       "      <td>3.500000e+05</td>\n",
       "      <td>60000.000000</td>\n",
       "    </tr>\n",
       "    <tr>\n",
       "      <th>75%</th>\n",
       "      <td>2016.000000</td>\n",
       "      <td>6.000000e+05</td>\n",
       "      <td>90000.000000</td>\n",
       "    </tr>\n",
       "    <tr>\n",
       "      <th>max</th>\n",
       "      <td>2020.000000</td>\n",
       "      <td>8.900000e+06</td>\n",
       "      <td>806599.000000</td>\n",
       "    </tr>\n",
       "  </tbody>\n",
       "</table>\n",
       "</div>"
      ],
      "text/plain": [
       "              year  selling_price      km_driven\n",
       "count  4340.000000   4.340000e+03    4340.000000\n",
       "mean   2013.090783   5.041273e+05   66215.777419\n",
       "std       4.215344   5.785487e+05   46644.102194\n",
       "min    1992.000000   2.000000e+04       1.000000\n",
       "25%    2011.000000   2.087498e+05   35000.000000\n",
       "50%    2014.000000   3.500000e+05   60000.000000\n",
       "75%    2016.000000   6.000000e+05   90000.000000\n",
       "max    2020.000000   8.900000e+06  806599.000000"
      ]
     },
     "execution_count": 7,
     "metadata": {},
     "output_type": "execute_result"
    }
   ],
   "source": [
    "df.describe()"
   ]
  },
  {
   "cell_type": "code",
   "execution_count": 8,
   "id": "5fce1866",
   "metadata": {
    "execution": {
     "iopub.execute_input": "2022-11-13T07:10:07.334839Z",
     "iopub.status.busy": "2022-11-13T07:10:07.334461Z",
     "iopub.status.idle": "2022-11-13T07:10:07.345251Z",
     "shell.execute_reply": "2022-11-13T07:10:07.344132Z"
    },
    "papermill": {
     "duration": 0.027327,
     "end_time": "2022-11-13T07:10:07.347564",
     "exception": false,
     "start_time": "2022-11-13T07:10:07.320237",
     "status": "completed"
    },
    "tags": []
   },
   "outputs": [
    {
     "data": {
      "text/plain": [
       "name             0\n",
       "year             0\n",
       "selling_price    0\n",
       "km_driven        0\n",
       "fuel             0\n",
       "seller_type      0\n",
       "transmission     0\n",
       "owner            0\n",
       "dtype: int64"
      ]
     },
     "execution_count": 8,
     "metadata": {},
     "output_type": "execute_result"
    }
   ],
   "source": [
    "df.isnull().sum()"
   ]
  },
  {
   "cell_type": "code",
   "execution_count": 9,
   "id": "9e57c74d",
   "metadata": {
    "execution": {
     "iopub.execute_input": "2022-11-13T07:10:07.374225Z",
     "iopub.status.busy": "2022-11-13T07:10:07.373718Z",
     "iopub.status.idle": "2022-11-13T07:10:07.384096Z",
     "shell.execute_reply": "2022-11-13T07:10:07.382884Z"
    },
    "papermill": {
     "duration": 0.026991,
     "end_time": "2022-11-13T07:10:07.386833",
     "exception": false,
     "start_time": "2022-11-13T07:10:07.359842",
     "status": "completed"
    },
    "tags": []
   },
   "outputs": [
    {
     "data": {
      "text/plain": [
       "0"
      ]
     },
     "execution_count": 9,
     "metadata": {},
     "output_type": "execute_result"
    }
   ],
   "source": [
    "df.isnull().sum().sum()"
   ]
  },
  {
   "cell_type": "code",
   "execution_count": 10,
   "id": "452867c0",
   "metadata": {
    "execution": {
     "iopub.execute_input": "2022-11-13T07:10:07.414125Z",
     "iopub.status.busy": "2022-11-13T07:10:07.413401Z",
     "iopub.status.idle": "2022-11-13T07:10:07.423113Z",
     "shell.execute_reply": "2022-11-13T07:10:07.421901Z"
    },
    "papermill": {
     "duration": 0.026343,
     "end_time": "2022-11-13T07:10:07.425580",
     "exception": false,
     "start_time": "2022-11-13T07:10:07.399237",
     "status": "completed"
    },
    "tags": []
   },
   "outputs": [
    {
     "data": {
      "text/plain": [
       "array(['Maruti 800 AC', 'Maruti Wagon R LXI Minor',\n",
       "       'Hyundai Verna 1.6 SX', ..., 'Mahindra Verito 1.5 D6 BSIII',\n",
       "       'Toyota Innova 2.5 VX (Diesel) 8 Seater BS IV',\n",
       "       'Hyundai i20 Magna 1.4 CRDi'], dtype=object)"
      ]
     },
     "execution_count": 10,
     "metadata": {},
     "output_type": "execute_result"
    }
   ],
   "source": [
    "df['name'].unique()"
   ]
  },
  {
   "cell_type": "code",
   "execution_count": 11,
   "id": "d9b43845",
   "metadata": {
    "execution": {
     "iopub.execute_input": "2022-11-13T07:10:07.451991Z",
     "iopub.status.busy": "2022-11-13T07:10:07.451597Z",
     "iopub.status.idle": "2022-11-13T07:10:07.459600Z",
     "shell.execute_reply": "2022-11-13T07:10:07.458649Z"
    },
    "papermill": {
     "duration": 0.023743,
     "end_time": "2022-11-13T07:10:07.461815",
     "exception": false,
     "start_time": "2022-11-13T07:10:07.438072",
     "status": "completed"
    },
    "tags": []
   },
   "outputs": [
    {
     "data": {
      "text/plain": [
       "array([2007, 2012, 2017, 2014, 2016, 2015, 2018, 2019, 2013, 2011, 2010,\n",
       "       2009, 2006, 1996, 2005, 2008, 2004, 1998, 2003, 2002, 2020, 2000,\n",
       "       1999, 2001, 1995, 1997, 1992])"
      ]
     },
     "execution_count": 11,
     "metadata": {},
     "output_type": "execute_result"
    }
   ],
   "source": [
    "df['year'].unique()"
   ]
  },
  {
   "cell_type": "code",
   "execution_count": 12,
   "id": "b2750c2a",
   "metadata": {
    "execution": {
     "iopub.execute_input": "2022-11-13T07:10:07.488893Z",
     "iopub.status.busy": "2022-11-13T07:10:07.488468Z",
     "iopub.status.idle": "2022-11-13T07:10:07.497268Z",
     "shell.execute_reply": "2022-11-13T07:10:07.496243Z"
    },
    "papermill": {
     "duration": 0.025277,
     "end_time": "2022-11-13T07:10:07.499927",
     "exception": false,
     "start_time": "2022-11-13T07:10:07.474650",
     "status": "completed"
    },
    "tags": []
   },
   "outputs": [
    {
     "data": {
      "text/plain": [
       "array([  60000,  135000,  600000,  250000,  450000,  140000,  550000,\n",
       "        240000,  850000,  365000,  260000, 1650000,  585000, 1195000,\n",
       "        390000, 1964999, 1425000,  975000, 1190000,  930000,  525000,\n",
       "       1735000, 1375000,  900000, 1300000, 1400000,  229999, 1550000,\n",
       "       1250000,  625000, 1050000,  560000,  290000,  275000,  411000,\n",
       "        150000,  500000,  100000,  725000,  401000,  750000,  310000,\n",
       "        665000,  465000,  160000,  675000,  300000,   70000,  151000,\n",
       "        280000,  350000,  570000,  125000,  130000,  925000,  200000,\n",
       "        248000,   80000,  650000,  495000,  371000, 1025000, 8150000,\n",
       "        325000, 1470000, 2800000,  210000, 1150000, 4500000, 2750000,\n",
       "       1975000,  175000, 2500000,  628000,  399000,  315000,  780000,\n",
       "        434000,  690000,  555000,  120000,  165000,   95000,  800000,\n",
       "        840000,  490000,  400000, 1000000,  530000,   40000,   75000,\n",
       "        540000,  700000,  430000,   65000,  195000,  170000,  225000,\n",
       "         99000,  620000, 2550000,  320000,  810000,  282000,   72000,\n",
       "        640000,  380000, 1500000,  434999,  190000, 2900000,  425000,\n",
       "        265000,  890000,  685000,  940000,  590000,  385000, 2000000,\n",
       "        235000,   52000,   89999,  180000,  285000, 1075000,   90000,\n",
       "        220000,  110000,  880000,  115999,  360000,  680000,  860000,\n",
       "        270000,  395000,  624000,  345000,  106000, 1800000,  575000,\n",
       "        370000,   50000,   55000,  755000,  720000, 1100000,  159000,\n",
       "        335000,  185000,  470000,  145000,  595000, 1600000,  105000,\n",
       "        409999,  215000,  475000,  330000, 1044999, 1350000,  420000,\n",
       "        760000,   43000, 1850000, 1125000,  133000,  352000,  520000,\n",
       "        509999,  556000,  484999,  565000,  295000, 2050000, 1475000,\n",
       "       4400000,  670000,  770000,  775000, 1725000, 2150000, 3800000,\n",
       "       1580000, 4950000,  535000,  239000, 2600000,  114999,  200999,\n",
       "        710000,  969999,  155000,  138000,  311000,   58000,  183000,\n",
       "        825000,  299000,  639000,  415000, 1199000,  699000,  269000,\n",
       "        249000, 1549000,  254999,  211000,  599000, 4000000, 1200000,\n",
       "         98000,  790000, 1700000,   68000,  875000, 1330000,  919999,\n",
       "        611000,  711000,  851000,  610000,  744000,  480000,  950000,\n",
       "         85000,  615000,  227000,  222000,  735000,  271000, 1490000,\n",
       "        455000,  421000, 2700000, 4700000, 1900000, 1770000,  660000,\n",
       "        716000,  147000, 1140000, 3050000,  375000, 1950000,  340000,\n",
       "       3100000,  245000,  715000, 1750000, 3500000,  835000, 2490000,\n",
       "       1015000,   91200, 2400000,  635000,  302000,  204999,  341000,\n",
       "        819999,  351000,  630000, 1085000,  580000,   78000, 3200000,\n",
       "        695000,  355000,  619000,   81000,  486000,  802000, 2300000,\n",
       "        287000,  250999,   45000, 1485000, 1825000, 3256000,  451000,\n",
       "        149000,  163000,  419000,  990000,  346000,  509000,   69000,\n",
       "       1380000,  256000,   97000,  199000, 2595000,  730000,  368000,\n",
       "        545000,  641000,  784000,  324000, 2100000,  305000,  221000,\n",
       "        828999, 1119000,  746000, 1030000, 1334000,  811999, 1331000,\n",
       "        852000,  830000,  213000,   35000,  869999,  178000,  515000,\n",
       "        312000,  111000,  774000,  148000,   57000,  284000,  349000,\n",
       "        458000,  381000,  751000,  782000,  321000,   92800,  291000,\n",
       "         73000,  655000,  263000,  217000,  539000,  142000,  910000,\n",
       "        740000,  164000,  999000,   56000, 3899000,  440000,  238000,\n",
       "       1295000,  541000,  894999,  844999,  288000, 1225000, 1010000,\n",
       "         30000,  396000,  281000,   93000,  459999,   88000,   22000,\n",
       "         79000,  198000,  182000,  861999,  836000,  696000,  596000,\n",
       "        612000,   20000,   61000,  511000, 1230000,  426000,   62000,\n",
       "       1450000,   71000, 2200000, 1249000, 1240000, 1068000, 1189000,\n",
       "        363000,  821000,  815000,  738000,  765000,  516000,  134000,\n",
       "        347000, 2650000, 2675000,  359000,  980000,  707000,  471000,\n",
       "        377000,  763000,  701000,  277000,  936999,   82000,  799000,\n",
       "       1451000, 1575000,   78692,  479000,   48000,  121000,  785000,\n",
       "        173000, 4800000,  587000,  123000, 1290000,  193000,  721000,\n",
       "       1040000, 2349000, 1165000,   42000, 1680000,  231999,  841000,\n",
       "       1280000, 1090000,  449000,  724000,  126000,  795000, 2575000,\n",
       "       1035000, 1260000, 8900000, 1860000, 4200000, 5500000,  430999,\n",
       "       1151000,  927999,   51111,  212000,  428000,  219000,  749000,\n",
       "        233000,  614000,   37500,  865000])"
      ]
     },
     "execution_count": 12,
     "metadata": {},
     "output_type": "execute_result"
    }
   ],
   "source": [
    "df['selling_price'].unique()"
   ]
  },
  {
   "cell_type": "code",
   "execution_count": 13,
   "id": "af95ee0e",
   "metadata": {
    "execution": {
     "iopub.execute_input": "2022-11-13T07:10:07.528230Z",
     "iopub.status.busy": "2022-11-13T07:10:07.527490Z",
     "iopub.status.idle": "2022-11-13T07:10:07.537599Z",
     "shell.execute_reply": "2022-11-13T07:10:07.536279Z"
    },
    "papermill": {
     "duration": 0.026888,
     "end_time": "2022-11-13T07:10:07.540180",
     "exception": false,
     "start_time": "2022-11-13T07:10:07.513292",
     "status": "completed"
    },
    "tags": []
   },
   "outputs": [
    {
     "data": {
      "text/plain": [
       "array([ 70000,  50000, 100000,  46000, 141000, 125000,  25000,  60000,\n",
       "        78000,  35000,  24000,   5000,  33000,  28000,  59000,   4500,\n",
       "       175900,  14500,  15000,  33800, 130400,  80000,  10000, 119000,\n",
       "        75800,  40000,  74000,  64000, 120000,  79000,  18500,  10200,\n",
       "        29000,  90000,  73300,  92000,  66764, 350000, 230000,  31000,\n",
       "        39000, 166000, 110000,  54000,  63000,  76000,  11958,  20000,\n",
       "         9000,   6500,  58000,  62200,  34000,  53000,  49000,  63500,\n",
       "         9800,  13000,  21000,  29173,  48000,  30000,  87000,  16000,\n",
       "        79350,  81000,   3600,  14272,  49213,  57000,   3240, 114000,\n",
       "        53772, 140000, 175000,  36000, 155500,  23000,  22155,  78380,\n",
       "       150000,  80362,  55000,   1136,  43000,   2650, 115962,  65000,\n",
       "        56000, 213000, 139000, 160000, 163000,  32000,  52000,  11240,\n",
       "        66000,  26500,  72000,  44000, 130000, 195000, 155000,   4000,\n",
       "        41000,  10832,  14681,  51000, 200000,  19600,  46730,  21170,\n",
       "       167223, 141440, 212814,  88635, 149674,   8000,  68000,  38000,\n",
       "        75000,  98000,  81925,  82080,  97000,  52047,  62009,  33100,\n",
       "       220000,  45000, 180000,  22000,  80577, 127500,  40903,  22288,\n",
       "        61690,  64484,  75976,  85962,  57035,  72104, 164000, 124439,\n",
       "        77000,   1250,  17152,  24005, 149000,  19000, 109000,  61000,\n",
       "        27633,  12586,  38083,  55328,  81632, 155201,  93283, 217871,\n",
       "        90165, 101504,  86017,  85036,  91086, 160254, 125531,  82000,\n",
       "        84000, 560000,  14365,  61083,  66363,  11700,   7104,  45974,\n",
       "        55340,  61585,  39415,  29654,  64672,  54634,  66521,  23974,\n",
       "         1000,  86000,  52600,  19890,  11918,  10510,  47162,  49824,\n",
       "        58500,  56580,  46507,  11451, 172000,  66508,  29900,   3000,\n",
       "        85000,   7900,  17500, 206500,  88600, 186000,  11000, 138000,\n",
       "        27974,  18000,   1400, 124000,  42000,  28205,  32670,  30093,\n",
       "        56228,  59319,  39503,  35299,  51687,  76259,  44049,  45087,\n",
       "        41125,  42215,  54206,  52547,  59110,  54565,  47564,  45143,\n",
       "        61624, 132000,  10980,  20629,  69782,  63654,  59385,  70378,\n",
       "        55425,  78413,  40890,  34823,  55545,  56541,  43700,  27483,\n",
       "        56207,   1440,  91195,  63657,  97248,  89000,  12000,  12997,\n",
       "        26430,  24600,  28481,  41988,  30375,   7658,  34400,  28942,\n",
       "        53600,  53652, 106000, 205000,  79500, 197000,   9161,  19077,\n",
       "       128000,  21302,  10500, 107000,  55300,  74300,  48781,  87620,\n",
       "        40219,  11473,   8352,   9745,   9748,  20694,  31080,  37605,\n",
       "        55850,  58850,  23839,  45454,  46957, 190000,   1500,  47000,\n",
       "       116000,  26350,  71042, 167870, 133564,  23038,  43608,  11212,\n",
       "        49217,  28838, 135000,  19571,  29600,  13500,  48600, 127643,\n",
       "       102354,  62237,  21394,  32686,   1001,  53261,  14000,  39895,\n",
       "        73000,  17000,  18591,  26766, 300000,  27620, 223000, 161327,\n",
       "         6000,  71000, 144000,  37000,  26000,  27000,  13250, 101000,\n",
       "         8500,  90246,  60400,  70950,   1100,  31491, 107143,  46412,\n",
       "       107500,  43826,  55838, 112880,  30300,  80659,  81324, 127884,\n",
       "        66755, 123084, 806599,  95851, 234000, 170000,  96000,  19014,\n",
       "        23262,  35925,  40771,  30500,  55800,  66569,  81358,  82695,\n",
       "        68293, 190621,  64700,  88470, 126000,  74183,      1, 192000,\n",
       "        83411,  13270,  88000,   7000,  13770, 102000, 143000, 115000,\n",
       "       136906, 133000,  28689,  80322,  61658, 185000,  30600, 235000,\n",
       "        67000,  74500, 118700, 223660,   2000,  73756,  16400,  41395,\n",
       "        71014, 181000,  89550, 149500,  83000,  44800, 156000, 146000,\n",
       "        99000,  37516,  25880, 136000,   2020,  94000,  88500,  52536,\n",
       "         1950, 118400,   6480,  32077,  19107,  18469,  28217,  72787,\n",
       "        31063,  79641,  58692,  54784,  64156,   9500,  81366, 244000,\n",
       "       312000, 145000,   7300,  72539,    101,  52328,  91505,  20500,\n",
       "       154000,  41723,  68745,  27289,  24662,  28245,  27005,  39227,\n",
       "        31367,  35008, 100005,  45264,  39093,  45241,   2769,  43128,\n",
       "        22255,  59213,   1010,   1111,  48965,   5166,  76290,  45766,\n",
       "        78771,  79357,  76736,  92645, 101849, 155836,  63230,   1758,\n",
       "         1452,  35122,  92621,  92198, 152000,  78322,  54309,  34600,\n",
       "        38217,  77073,  16584,  81257,   3917,  69069,  59059,  39039,\n",
       "        33033,  55168,  41041,  67067,  66066,  82082,  70070,  63063,\n",
       "         9528, 135200,  50300, 151624,  74820, 129000,  66778,  63400,\n",
       "       157000,  38500, 103921,  14825,  43377, 102307, 245244,  68500,\n",
       "         5007,  49600,  43100,  10171,  41123,  20118,  52517,  99117,\n",
       "         3700,  43500, 137250,   5400,  11200,  93000,  62000,   5800,\n",
       "       267000, 250000,  28635,  32114,  95149,  68458, 105546, 104000,\n",
       "       132343,  26134,  52895,  42324,  60236,  10300, 142000,  28643,\n",
       "         7600,  47253,   4432,  68523,  80251,  34500,  42743,  93900,\n",
       "        55766, 113600, 138925, 121764, 105429,  23122,  44500,  13599,\n",
       "         5200,  12700,  95000,  45839,  74510,  87293, 156040,  93415,\n",
       "       101159,  68519,  55130,  65239,  58182,  91245, 102989, 108000,\n",
       "       178000,  75118,   4637,  42655,  69000, 117000, 105000, 182000,\n",
       "        24585,  13900,  17563, 173000, 151000, 117780,  81595,   9700,\n",
       "       221000,  28740,  48500, 148620, 270000,  41090, 296823,  89255,\n",
       "       168000,   5550,   1700,  45217,  44440,  91365,  90010,  31800,\n",
       "        59100,  31200,  22700,  50900,   2417,  65500, 140300,  10211,\n",
       "       260000,  32933,  54551,  57112,  41025,  53122,  64111,  78892,\n",
       "        74113,  84775,  20778,  64441,  43192,  44416,  79991,  62601,\n",
       "        89600,  60800,  69111,  20969,  20194,  34982,  44588,  57904,\n",
       "        59258,  60826,   1300,  31707, 115992, 109052,  90658,  25552,\n",
       "        40700,  11174,  72500,  76600,  97700,  37500,  23800,  44077,\n",
       "       210000,   9422, 240000,  17100, 224642, 222435, 159000, 101100,\n",
       "         1200, 134444, 238000, 165000,  63700,  74800,  60516,  76731,\n",
       "        63840,  76400,  31489, 295000, 158000, 400000,  19495,  62668,\n",
       "        85710,  63356, 129627,   4400,  14987,  25061,  42494,  44875,\n",
       "        89741, 347089, 222252,  55250,  12500, 162000,  22038,   2500,\n",
       "        89126, 134000,  42500, 131365,  48980,  98900,  13800,  99700,\n",
       "        49654,  45457,  39221,  48220,  11114,  60208,  98600,  85441,\n",
       "        64541,  16267,  71500,  12999,  14700,  92686,  49359, 108731,\n",
       "        29976,  30646,  23600,  71318,  78098,  18054,  38406,  54350,\n",
       "        32260,  58231,  59858,  73350,  88473,  96987,  77350,  61187,\n",
       "        68350,  81150, 280000, 105700,  37091,  38900,   9400,  14100,\n",
       "        37555,  56600,  67580,  48238,  38365,  23670,  49834,  57353,\n",
       "        68308,  63240,  64916,  37161, 118000,  50852,  53500,  51500,\n",
       "        79800,   6590,  49957,  43235,  50699, 140730, 256000, 218000,\n",
       "        66782, 112198])"
      ]
     },
     "execution_count": 13,
     "metadata": {},
     "output_type": "execute_result"
    }
   ],
   "source": [
    "df['km_driven'].unique()"
   ]
  },
  {
   "cell_type": "code",
   "execution_count": 14,
   "id": "321ac38f",
   "metadata": {
    "execution": {
     "iopub.execute_input": "2022-11-13T07:10:07.567826Z",
     "iopub.status.busy": "2022-11-13T07:10:07.567403Z",
     "iopub.status.idle": "2022-11-13T07:10:07.574348Z",
     "shell.execute_reply": "2022-11-13T07:10:07.573432Z"
    },
    "papermill": {
     "duration": 0.022945,
     "end_time": "2022-11-13T07:10:07.576448",
     "exception": false,
     "start_time": "2022-11-13T07:10:07.553503",
     "status": "completed"
    },
    "tags": []
   },
   "outputs": [
    {
     "data": {
      "text/plain": [
       "array(['Petrol', 'Diesel', 'CNG', 'LPG', 'Electric'], dtype=object)"
      ]
     },
     "execution_count": 14,
     "metadata": {},
     "output_type": "execute_result"
    }
   ],
   "source": [
    "df['fuel'].unique()"
   ]
  },
  {
   "cell_type": "code",
   "execution_count": 15,
   "id": "84e235eb",
   "metadata": {
    "execution": {
     "iopub.execute_input": "2022-11-13T07:10:07.605356Z",
     "iopub.status.busy": "2022-11-13T07:10:07.604705Z",
     "iopub.status.idle": "2022-11-13T07:10:07.611909Z",
     "shell.execute_reply": "2022-11-13T07:10:07.610803Z"
    },
    "papermill": {
     "duration": 0.024805,
     "end_time": "2022-11-13T07:10:07.614530",
     "exception": false,
     "start_time": "2022-11-13T07:10:07.589725",
     "status": "completed"
    },
    "tags": []
   },
   "outputs": [
    {
     "data": {
      "text/plain": [
       "array(['Individual', 'Dealer', 'Trustmark Dealer'], dtype=object)"
      ]
     },
     "execution_count": 15,
     "metadata": {},
     "output_type": "execute_result"
    }
   ],
   "source": [
    "df['seller_type'].unique()"
   ]
  },
  {
   "cell_type": "code",
   "execution_count": 16,
   "id": "0b6d6696",
   "metadata": {
    "execution": {
     "iopub.execute_input": "2022-11-13T07:10:07.643109Z",
     "iopub.status.busy": "2022-11-13T07:10:07.642401Z",
     "iopub.status.idle": "2022-11-13T07:10:07.648861Z",
     "shell.execute_reply": "2022-11-13T07:10:07.647880Z"
    },
    "papermill": {
     "duration": 0.022951,
     "end_time": "2022-11-13T07:10:07.650988",
     "exception": false,
     "start_time": "2022-11-13T07:10:07.628037",
     "status": "completed"
    },
    "tags": []
   },
   "outputs": [
    {
     "data": {
      "text/plain": [
       "array(['Manual', 'Automatic'], dtype=object)"
      ]
     },
     "execution_count": 16,
     "metadata": {},
     "output_type": "execute_result"
    }
   ],
   "source": [
    "df['transmission'].unique()"
   ]
  },
  {
   "cell_type": "code",
   "execution_count": 17,
   "id": "d102a180",
   "metadata": {
    "execution": {
     "iopub.execute_input": "2022-11-13T07:10:07.679091Z",
     "iopub.status.busy": "2022-11-13T07:10:07.678679Z",
     "iopub.status.idle": "2022-11-13T07:10:07.686527Z",
     "shell.execute_reply": "2022-11-13T07:10:07.685338Z"
    },
    "papermill": {
     "duration": 0.024583,
     "end_time": "2022-11-13T07:10:07.688835",
     "exception": false,
     "start_time": "2022-11-13T07:10:07.664252",
     "status": "completed"
    },
    "tags": []
   },
   "outputs": [
    {
     "data": {
      "text/plain": [
       "array(['First Owner', 'Second Owner', 'Fourth & Above Owner',\n",
       "       'Third Owner', 'Test Drive Car'], dtype=object)"
      ]
     },
     "execution_count": 17,
     "metadata": {},
     "output_type": "execute_result"
    }
   ],
   "source": [
    "df['owner'].unique()"
   ]
  },
  {
   "cell_type": "code",
   "execution_count": 18,
   "id": "59dba2ef",
   "metadata": {
    "execution": {
     "iopub.execute_input": "2022-11-13T07:10:07.718721Z",
     "iopub.status.busy": "2022-11-13T07:10:07.717885Z",
     "iopub.status.idle": "2022-11-13T07:10:08.949212Z",
     "shell.execute_reply": "2022-11-13T07:10:08.947963Z"
    },
    "papermill": {
     "duration": 1.249321,
     "end_time": "2022-11-13T07:10:08.952075",
     "exception": false,
     "start_time": "2022-11-13T07:10:07.702754",
     "status": "completed"
    },
    "tags": []
   },
   "outputs": [],
   "source": [
    "import matplotlib.pyplot as plt\n",
    "import seaborn as sns"
   ]
  },
  {
   "cell_type": "code",
   "execution_count": 19,
   "id": "d75d7b12",
   "metadata": {
    "execution": {
     "iopub.execute_input": "2022-11-13T07:10:08.980245Z",
     "iopub.status.busy": "2022-11-13T07:10:08.979826Z",
     "iopub.status.idle": "2022-11-13T07:10:08.993701Z",
     "shell.execute_reply": "2022-11-13T07:10:08.992461Z"
    },
    "papermill": {
     "duration": 0.030764,
     "end_time": "2022-11-13T07:10:08.996169",
     "exception": false,
     "start_time": "2022-11-13T07:10:08.965405",
     "status": "completed"
    },
    "tags": []
   },
   "outputs": [
    {
     "data": {
      "text/html": [
       "<div>\n",
       "<style scoped>\n",
       "    .dataframe tbody tr th:only-of-type {\n",
       "        vertical-align: middle;\n",
       "    }\n",
       "\n",
       "    .dataframe tbody tr th {\n",
       "        vertical-align: top;\n",
       "    }\n",
       "\n",
       "    .dataframe thead th {\n",
       "        text-align: right;\n",
       "    }\n",
       "</style>\n",
       "<table border=\"1\" class=\"dataframe\">\n",
       "  <thead>\n",
       "    <tr style=\"text-align: right;\">\n",
       "      <th></th>\n",
       "      <th>name</th>\n",
       "      <th>year</th>\n",
       "      <th>selling_price</th>\n",
       "      <th>km_driven</th>\n",
       "      <th>fuel</th>\n",
       "      <th>seller_type</th>\n",
       "      <th>transmission</th>\n",
       "      <th>owner</th>\n",
       "    </tr>\n",
       "  </thead>\n",
       "  <tbody>\n",
       "    <tr>\n",
       "      <th>0</th>\n",
       "      <td>Maruti 800 AC</td>\n",
       "      <td>2007</td>\n",
       "      <td>60000</td>\n",
       "      <td>70000</td>\n",
       "      <td>Petrol</td>\n",
       "      <td>Individual</td>\n",
       "      <td>Manual</td>\n",
       "      <td>First Owner</td>\n",
       "    </tr>\n",
       "  </tbody>\n",
       "</table>\n",
       "</div>"
      ],
      "text/plain": [
       "            name  year  selling_price  km_driven    fuel seller_type  \\\n",
       "0  Maruti 800 AC  2007          60000      70000  Petrol  Individual   \n",
       "\n",
       "  transmission        owner  \n",
       "0       Manual  First Owner  "
      ]
     },
     "execution_count": 19,
     "metadata": {},
     "output_type": "execute_result"
    }
   ],
   "source": [
    "df.head(1)"
   ]
  },
  {
   "cell_type": "code",
   "execution_count": 20,
   "id": "912a728c",
   "metadata": {
    "execution": {
     "iopub.execute_input": "2022-11-13T07:10:09.025240Z",
     "iopub.status.busy": "2022-11-13T07:10:09.024507Z",
     "iopub.status.idle": "2022-11-13T07:10:09.250706Z",
     "shell.execute_reply": "2022-11-13T07:10:09.249546Z"
    },
    "papermill": {
     "duration": 0.243407,
     "end_time": "2022-11-13T07:10:09.253288",
     "exception": false,
     "start_time": "2022-11-13T07:10:09.009881",
     "status": "completed"
    },
    "tags": []
   },
   "outputs": [
    {
     "name": "stderr",
     "output_type": "stream",
     "text": [
      "/opt/conda/lib/python3.7/site-packages/seaborn/_decorators.py:43: FutureWarning: Pass the following variable as a keyword arg: x. From version 0.12, the only valid positional argument will be `data`, and passing other arguments without an explicit keyword will result in an error or misinterpretation.\n",
      "  FutureWarning\n"
     ]
    },
    {
     "data": {
      "text/plain": [
       "<AxesSubplot:xlabel='transmission', ylabel='count'>"
      ]
     },
     "execution_count": 20,
     "metadata": {},
     "output_type": "execute_result"
    },
    {
     "data": {
      "image/png": "[encoded data removed]",
      "text/plain": [
       "<Figure size 432x288 with 1 Axes>"
      ]
     },
     "metadata": {
      "needs_background": "light"
     },
     "output_type": "display_data"
    }
   ],
   "source": [
    "sns.countplot('transmission',data=df)"
   ]
  },
  {
   "cell_type": "code",
   "execution_count": 21,
   "id": "058644c5",
   "metadata": {
    "execution": {
     "iopub.execute_input": "2022-11-13T07:10:09.283442Z",
     "iopub.status.busy": "2022-11-13T07:10:09.283011Z",
     "iopub.status.idle": "2022-11-13T07:10:09.470000Z",
     "shell.execute_reply": "2022-11-13T07:10:09.468748Z"
    },
    "papermill": {
     "duration": 0.204884,
     "end_time": "2022-11-13T07:10:09.472793",
     "exception": false,
     "start_time": "2022-11-13T07:10:09.267909",
     "status": "completed"
    },
    "tags": []
   },
   "outputs": [
    {
     "name": "stderr",
     "output_type": "stream",
     "text": [
      "/opt/conda/lib/python3.7/site-packages/seaborn/_decorators.py:43: FutureWarning: Pass the following variable as a keyword arg: x. From version 0.12, the only valid positional argument will be `data`, and passing other arguments without an explicit keyword will result in an error or misinterpretation.\n",
      "  FutureWarning\n"
     ]
    },
    {
     "data": {
      "text/plain": [
       "<AxesSubplot:xlabel='fuel', ylabel='count'>"
      ]
     },
     "execution_count": 21,
     "metadata": {},
     "output_type": "execute_result"
    },
    {
     "data": {
      "image/png": "[encoded data removed]",
      "text/plain": [
       "<Figure size 432x288 with 1 Axes>"
      ]
     },
     "metadata": {
      "needs_background": "light"
     },
     "output_type": "display_data"
    }
   ],
   "source": [
    "sns.countplot('fuel',data=df)"
   ]
  },
  {
   "cell_type": "code",
   "execution_count": 22,
   "id": "5858b971",
   "metadata": {
    "execution": {
     "iopub.execute_input": "2022-11-13T07:10:09.503315Z",
     "iopub.status.busy": "2022-11-13T07:10:09.502909Z",
     "iopub.status.idle": "2022-11-13T07:10:09.709924Z",
     "shell.execute_reply": "2022-11-13T07:10:09.708716Z"
    },
    "papermill": {
     "duration": 0.225497,
     "end_time": "2022-11-13T07:10:09.712610",
     "exception": false,
     "start_time": "2022-11-13T07:10:09.487113",
     "status": "completed"
    },
    "tags": []
   },
   "outputs": [
    {
     "name": "stderr",
     "output_type": "stream",
     "text": [
      "/opt/conda/lib/python3.7/site-packages/seaborn/_decorators.py:43: FutureWarning: Pass the following variable as a keyword arg: x. From version 0.12, the only valid positional argument will be `data`, and passing other arguments without an explicit keyword will result in an error or misinterpretation.\n",
      "  FutureWarning\n"
     ]
    },
    {
     "data": {
      "text/plain": [
       "<AxesSubplot:xlabel='owner', ylabel='count'>"
      ]
     },
     "execution_count": 22,
     "metadata": {},
     "output_type": "execute_result"
    },
    {
     "data": {
      "image/png": "[encoded data removed]",
      "text/plain": [
       "<Figure size 720x360 with 1 Axes>"
      ]
     },
     "metadata": {
      "needs_background": "light"
     },
     "output_type": "display_data"
    }
   ],
   "source": [
    "plt.figure(figsize=(10,5))\n",
    "sns.countplot('owner',data=df)"
   ]
  },
  {
   "cell_type": "code",
   "execution_count": 23,
   "id": "39099fd7",
   "metadata": {
    "execution": {
     "iopub.execute_input": "2022-11-13T07:10:09.743599Z",
     "iopub.status.busy": "2022-11-13T07:10:09.743158Z",
     "iopub.status.idle": "2022-11-13T07:10:09.916577Z",
     "shell.execute_reply": "2022-11-13T07:10:09.915594Z"
    },
    "papermill": {
     "duration": 0.192561,
     "end_time": "2022-11-13T07:10:09.919826",
     "exception": false,
     "start_time": "2022-11-13T07:10:09.727265",
     "status": "completed"
    },
    "tags": []
   },
   "outputs": [
    {
     "name": "stderr",
     "output_type": "stream",
     "text": [
      "/opt/conda/lib/python3.7/site-packages/seaborn/_decorators.py:43: FutureWarning: Pass the following variable as a keyword arg: x. From version 0.12, the only valid positional argument will be `data`, and passing other arguments without an explicit keyword will result in an error or misinterpretation.\n",
      "  FutureWarning\n"
     ]
    },
    {
     "data": {
      "text/plain": [
       "<AxesSubplot:xlabel='year'>"
      ]
     },
     "execution_count": 23,
     "metadata": {},
     "output_type": "execute_result"
    },
    {
     "data": {
      "image/png": "[encoded data removed]",
      "text/plain": [
       "<Figure size 432x288 with 1 Axes>"
      ]
     },
     "metadata": {
      "needs_background": "light"
     },
     "output_type": "display_data"
    }
   ],
   "source": [
    "sns.boxplot('year',data=df)"
   ]
  },
  {
   "cell_type": "code",
   "execution_count": 24,
   "id": "45f44024",
   "metadata": {
    "execution": {
     "iopub.execute_input": "2022-11-13T07:10:09.956526Z",
     "iopub.status.busy": "2022-11-13T07:10:09.955778Z",
     "iopub.status.idle": "2022-11-13T07:10:09.961556Z",
     "shell.execute_reply": "2022-11-13T07:10:09.960727Z"
    },
    "papermill": {
     "duration": 0.024896,
     "end_time": "2022-11-13T07:10:09.963872",
     "exception": false,
     "start_time": "2022-11-13T07:10:09.938976",
     "status": "completed"
    },
    "tags": []
   },
   "outputs": [],
   "source": [
    "df1=df[df['year']<2005]"
   ]
  },
  {
   "cell_type": "code",
   "execution_count": 25,
   "id": "316990a2",
   "metadata": {
    "execution": {
     "iopub.execute_input": "2022-11-13T07:10:09.997017Z",
     "iopub.status.busy": "2022-11-13T07:10:09.996613Z",
     "iopub.status.idle": "2022-11-13T07:10:10.014832Z",
     "shell.execute_reply": "2022-11-13T07:10:10.013713Z"
    },
    "papermill": {
     "duration": 0.037686,
     "end_time": "2022-11-13T07:10:10.017339",
     "exception": false,
     "start_time": "2022-11-13T07:10:09.979653",
     "status": "completed"
    },
    "tags": []
   },
   "outputs": [
    {
     "data": {
      "text/html": [
       "<div>\n",
       "<style scoped>\n",
       "    .dataframe tbody tr th:only-of-type {\n",
       "        vertical-align: middle;\n",
       "    }\n",
       "\n",
       "    .dataframe tbody tr th {\n",
       "        vertical-align: top;\n",
       "    }\n",
       "\n",
       "    .dataframe thead th {\n",
       "        text-align: right;\n",
       "    }\n",
       "</style>\n",
       "<table border=\"1\" class=\"dataframe\">\n",
       "  <thead>\n",
       "    <tr style=\"text-align: right;\">\n",
       "      <th></th>\n",
       "      <th>name</th>\n",
       "      <th>year</th>\n",
       "      <th>selling_price</th>\n",
       "      <th>km_driven</th>\n",
       "      <th>fuel</th>\n",
       "      <th>seller_type</th>\n",
       "      <th>transmission</th>\n",
       "      <th>owner</th>\n",
       "    </tr>\n",
       "  </thead>\n",
       "  <tbody>\n",
       "    <tr>\n",
       "      <th>61</th>\n",
       "      <td>Mahindra Jeep CL 500 MDI</td>\n",
       "      <td>1996</td>\n",
       "      <td>250000</td>\n",
       "      <td>35000</td>\n",
       "      <td>Diesel</td>\n",
       "      <td>Individual</td>\n",
       "      <td>Manual</td>\n",
       "      <td>Second Owner</td>\n",
       "    </tr>\n",
       "    <tr>\n",
       "      <th>123</th>\n",
       "      <td>Maruti Zen LX</td>\n",
       "      <td>2004</td>\n",
       "      <td>95000</td>\n",
       "      <td>50000</td>\n",
       "      <td>Petrol</td>\n",
       "      <td>Individual</td>\n",
       "      <td>Manual</td>\n",
       "      <td>First Owner</td>\n",
       "    </tr>\n",
       "    <tr>\n",
       "      <th>137</th>\n",
       "      <td>Maruti 800 Std</td>\n",
       "      <td>1998</td>\n",
       "      <td>40000</td>\n",
       "      <td>40000</td>\n",
       "      <td>Petrol</td>\n",
       "      <td>Individual</td>\n",
       "      <td>Manual</td>\n",
       "      <td>Fourth &amp; Above Owner</td>\n",
       "    </tr>\n",
       "    <tr>\n",
       "      <th>141</th>\n",
       "      <td>Hyundai Santro LP zipPlus</td>\n",
       "      <td>2003</td>\n",
       "      <td>75000</td>\n",
       "      <td>57000</td>\n",
       "      <td>Petrol</td>\n",
       "      <td>Individual</td>\n",
       "      <td>Manual</td>\n",
       "      <td>First Owner</td>\n",
       "    </tr>\n",
       "    <tr>\n",
       "      <th>149</th>\n",
       "      <td>Hyundai Santro LE</td>\n",
       "      <td>2002</td>\n",
       "      <td>65000</td>\n",
       "      <td>70000</td>\n",
       "      <td>Petrol</td>\n",
       "      <td>Individual</td>\n",
       "      <td>Manual</td>\n",
       "      <td>First Owner</td>\n",
       "    </tr>\n",
       "    <tr>\n",
       "      <th>...</th>\n",
       "      <td>...</td>\n",
       "      <td>...</td>\n",
       "      <td>...</td>\n",
       "      <td>...</td>\n",
       "      <td>...</td>\n",
       "      <td>...</td>\n",
       "      <td>...</td>\n",
       "      <td>...</td>\n",
       "    </tr>\n",
       "    <tr>\n",
       "      <th>4153</th>\n",
       "      <td>Skoda Octavia Ambiente 1.9 TDI MT</td>\n",
       "      <td>2002</td>\n",
       "      <td>90000</td>\n",
       "      <td>116000</td>\n",
       "      <td>Diesel</td>\n",
       "      <td>Individual</td>\n",
       "      <td>Manual</td>\n",
       "      <td>Second Owner</td>\n",
       "    </tr>\n",
       "    <tr>\n",
       "      <th>4208</th>\n",
       "      <td>Toyota Qualis FS B3</td>\n",
       "      <td>2001</td>\n",
       "      <td>150000</td>\n",
       "      <td>256000</td>\n",
       "      <td>Diesel</td>\n",
       "      <td>Dealer</td>\n",
       "      <td>Manual</td>\n",
       "      <td>First Owner</td>\n",
       "    </tr>\n",
       "    <tr>\n",
       "      <th>4232</th>\n",
       "      <td>Hyundai Santro Xing XG AT</td>\n",
       "      <td>2004</td>\n",
       "      <td>125000</td>\n",
       "      <td>70000</td>\n",
       "      <td>Petrol</td>\n",
       "      <td>Individual</td>\n",
       "      <td>Automatic</td>\n",
       "      <td>Second Owner</td>\n",
       "    </tr>\n",
       "    <tr>\n",
       "      <th>4290</th>\n",
       "      <td>Maruti 800 Std</td>\n",
       "      <td>2004</td>\n",
       "      <td>37500</td>\n",
       "      <td>90000</td>\n",
       "      <td>Petrol</td>\n",
       "      <td>Individual</td>\n",
       "      <td>Manual</td>\n",
       "      <td>Second Owner</td>\n",
       "    </tr>\n",
       "    <tr>\n",
       "      <th>4325</th>\n",
       "      <td>Maruti Alto LXi</td>\n",
       "      <td>2000</td>\n",
       "      <td>65000</td>\n",
       "      <td>90000</td>\n",
       "      <td>Petrol</td>\n",
       "      <td>Individual</td>\n",
       "      <td>Manual</td>\n",
       "      <td>Second Owner</td>\n",
       "    </tr>\n",
       "  </tbody>\n",
       "</table>\n",
       "<p>147 rows × 8 columns</p>\n",
       "</div>"
      ],
      "text/plain": [
       "                                   name  year  selling_price  km_driven  \\\n",
       "61             Mahindra Jeep CL 500 MDI  1996         250000      35000   \n",
       "123                       Maruti Zen LX  2004          95000      50000   \n",
       "137                      Maruti 800 Std  1998          40000      40000   \n",
       "141           Hyundai Santro LP zipPlus  2003          75000      57000   \n",
       "149                   Hyundai Santro LE  2002          65000      70000   \n",
       "...                                 ...   ...            ...        ...   \n",
       "4153  Skoda Octavia Ambiente 1.9 TDI MT  2002          90000     116000   \n",
       "4208                Toyota Qualis FS B3  2001         150000     256000   \n",
       "4232          Hyundai Santro Xing XG AT  2004         125000      70000   \n",
       "4290                     Maruti 800 Std  2004          37500      90000   \n",
       "4325                    Maruti Alto LXi  2000          65000      90000   \n",
       "\n",
       "        fuel seller_type transmission                 owner  \n",
       "61    Diesel  Individual       Manual          Second Owner  \n",
       "123   Petrol  Individual       Manual           First Owner  \n",
       "137   Petrol  Individual       Manual  Fourth & Above Owner  \n",
       "141   Petrol  Individual       Manual           First Owner  \n",
       "149   Petrol  Individual       Manual           First Owner  \n",
       "...      ...         ...          ...                   ...  \n",
       "4153  Diesel  Individual       Manual          Second Owner  \n",
       "4208  Diesel      Dealer       Manual           First Owner  \n",
       "4232  Petrol  Individual    Automatic          Second Owner  \n",
       "4290  Petrol  Individual       Manual          Second Owner  \n",
       "4325  Petrol  Individual       Manual          Second Owner  \n",
       "\n",
       "[147 rows x 8 columns]"
      ]
     },
     "execution_count": 25,
     "metadata": {},
     "output_type": "execute_result"
    }
   ],
   "source": [
    "df1"
   ]
  },
  {
   "cell_type": "code",
   "execution_count": 26,
   "id": "34eaa0b7",
   "metadata": {
    "execution": {
     "iopub.execute_input": "2022-11-13T07:10:10.050903Z",
     "iopub.status.busy": "2022-11-13T07:10:10.050086Z",
     "iopub.status.idle": "2022-11-13T07:10:10.523400Z",
     "shell.execute_reply": "2022-11-13T07:10:10.522161Z"
    },
    "papermill": {
     "duration": 0.493092,
     "end_time": "2022-11-13T07:10:10.526061",
     "exception": false,
     "start_time": "2022-11-13T07:10:10.032969",
     "status": "completed"
    },
    "tags": []
   },
   "outputs": [
    {
     "data": {
      "text/plain": [
       "<AxesSubplot:xlabel='year', ylabel='selling_price'>"
      ]
     },
     "execution_count": 26,
     "metadata": {},
     "output_type": "execute_result"
    },
    {
     "data": {
      "image/png": "[encoded data removed]",
      "text/plain": [
       "<Figure size 432x288 with 1 Axes>"
      ]
     },
     "metadata": {
      "needs_background": "light"
     },
     "output_type": "display_data"
    }
   ],
   "source": [
    "sns.barplot(data=df1,x='year',y='selling_price')"
   ]
  },
  {
   "cell_type": "code",
   "execution_count": 27,
   "id": "9578fa27",
   "metadata": {
    "execution": {
     "iopub.execute_input": "2022-11-13T07:10:10.559443Z",
     "iopub.status.busy": "2022-11-13T07:10:10.559007Z",
     "iopub.status.idle": "2022-11-13T07:10:10.576863Z",
     "shell.execute_reply": "2022-11-13T07:10:10.576019Z"
    },
    "papermill": {
     "duration": 0.037014,
     "end_time": "2022-11-13T07:10:10.578856",
     "exception": false,
     "start_time": "2022-11-13T07:10:10.541842",
     "status": "completed"
    },
    "tags": []
   },
   "outputs": [
    {
     "data": {
      "text/html": [
       "<div>\n",
       "<style scoped>\n",
       "    .dataframe tbody tr th:only-of-type {\n",
       "        vertical-align: middle;\n",
       "    }\n",
       "\n",
       "    .dataframe tbody tr th {\n",
       "        vertical-align: top;\n",
       "    }\n",
       "\n",
       "    .dataframe thead th {\n",
       "        text-align: right;\n",
       "    }\n",
       "</style>\n",
       "<table border=\"1\" class=\"dataframe\">\n",
       "  <thead>\n",
       "    <tr style=\"text-align: right;\">\n",
       "      <th></th>\n",
       "      <th>name</th>\n",
       "      <th>year</th>\n",
       "      <th>selling_price</th>\n",
       "      <th>km_driven</th>\n",
       "      <th>fuel</th>\n",
       "      <th>seller_type</th>\n",
       "      <th>transmission</th>\n",
       "      <th>owner</th>\n",
       "    </tr>\n",
       "  </thead>\n",
       "  <tbody>\n",
       "    <tr>\n",
       "      <th>61</th>\n",
       "      <td>Mahindra Jeep CL 500 MDI</td>\n",
       "      <td>1996</td>\n",
       "      <td>250000</td>\n",
       "      <td>35000</td>\n",
       "      <td>Diesel</td>\n",
       "      <td>Individual</td>\n",
       "      <td>Manual</td>\n",
       "      <td>Second Owner</td>\n",
       "    </tr>\n",
       "    <tr>\n",
       "      <th>123</th>\n",
       "      <td>Maruti Zen LX</td>\n",
       "      <td>2004</td>\n",
       "      <td>95000</td>\n",
       "      <td>50000</td>\n",
       "      <td>Petrol</td>\n",
       "      <td>Individual</td>\n",
       "      <td>Manual</td>\n",
       "      <td>First Owner</td>\n",
       "    </tr>\n",
       "    <tr>\n",
       "      <th>137</th>\n",
       "      <td>Maruti 800 Std</td>\n",
       "      <td>1998</td>\n",
       "      <td>40000</td>\n",
       "      <td>40000</td>\n",
       "      <td>Petrol</td>\n",
       "      <td>Individual</td>\n",
       "      <td>Manual</td>\n",
       "      <td>Fourth &amp; Above Owner</td>\n",
       "    </tr>\n",
       "    <tr>\n",
       "      <th>141</th>\n",
       "      <td>Hyundai Santro LP zipPlus</td>\n",
       "      <td>2003</td>\n",
       "      <td>75000</td>\n",
       "      <td>57000</td>\n",
       "      <td>Petrol</td>\n",
       "      <td>Individual</td>\n",
       "      <td>Manual</td>\n",
       "      <td>First Owner</td>\n",
       "    </tr>\n",
       "    <tr>\n",
       "      <th>149</th>\n",
       "      <td>Hyundai Santro LE</td>\n",
       "      <td>2002</td>\n",
       "      <td>65000</td>\n",
       "      <td>70000</td>\n",
       "      <td>Petrol</td>\n",
       "      <td>Individual</td>\n",
       "      <td>Manual</td>\n",
       "      <td>First Owner</td>\n",
       "    </tr>\n",
       "    <tr>\n",
       "      <th>...</th>\n",
       "      <td>...</td>\n",
       "      <td>...</td>\n",
       "      <td>...</td>\n",
       "      <td>...</td>\n",
       "      <td>...</td>\n",
       "      <td>...</td>\n",
       "      <td>...</td>\n",
       "      <td>...</td>\n",
       "    </tr>\n",
       "    <tr>\n",
       "      <th>4153</th>\n",
       "      <td>Skoda Octavia Ambiente 1.9 TDI MT</td>\n",
       "      <td>2002</td>\n",
       "      <td>90000</td>\n",
       "      <td>116000</td>\n",
       "      <td>Diesel</td>\n",
       "      <td>Individual</td>\n",
       "      <td>Manual</td>\n",
       "      <td>Second Owner</td>\n",
       "    </tr>\n",
       "    <tr>\n",
       "      <th>4208</th>\n",
       "      <td>Toyota Qualis FS B3</td>\n",
       "      <td>2001</td>\n",
       "      <td>150000</td>\n",
       "      <td>256000</td>\n",
       "      <td>Diesel</td>\n",
       "      <td>Dealer</td>\n",
       "      <td>Manual</td>\n",
       "      <td>First Owner</td>\n",
       "    </tr>\n",
       "    <tr>\n",
       "      <th>4232</th>\n",
       "      <td>Hyundai Santro Xing XG AT</td>\n",
       "      <td>2004</td>\n",
       "      <td>125000</td>\n",
       "      <td>70000</td>\n",
       "      <td>Petrol</td>\n",
       "      <td>Individual</td>\n",
       "      <td>Automatic</td>\n",
       "      <td>Second Owner</td>\n",
       "    </tr>\n",
       "    <tr>\n",
       "      <th>4290</th>\n",
       "      <td>Maruti 800 Std</td>\n",
       "      <td>2004</td>\n",
       "      <td>37500</td>\n",
       "      <td>90000</td>\n",
       "      <td>Petrol</td>\n",
       "      <td>Individual</td>\n",
       "      <td>Manual</td>\n",
       "      <td>Second Owner</td>\n",
       "    </tr>\n",
       "    <tr>\n",
       "      <th>4325</th>\n",
       "      <td>Maruti Alto LXi</td>\n",
       "      <td>2000</td>\n",
       "      <td>65000</td>\n",
       "      <td>90000</td>\n",
       "      <td>Petrol</td>\n",
       "      <td>Individual</td>\n",
       "      <td>Manual</td>\n",
       "      <td>Second Owner</td>\n",
       "    </tr>\n",
       "  </tbody>\n",
       "</table>\n",
       "<p>147 rows × 8 columns</p>\n",
       "</div>"
      ],
      "text/plain": [
       "                                   name  year  selling_price  km_driven  \\\n",
       "61             Mahindra Jeep CL 500 MDI  1996         250000      35000   \n",
       "123                       Maruti Zen LX  2004          95000      50000   \n",
       "137                      Maruti 800 Std  1998          40000      40000   \n",
       "141           Hyundai Santro LP zipPlus  2003          75000      57000   \n",
       "149                   Hyundai Santro LE  2002          65000      70000   \n",
       "...                                 ...   ...            ...        ...   \n",
       "4153  Skoda Octavia Ambiente 1.9 TDI MT  2002          90000     116000   \n",
       "4208                Toyota Qualis FS B3  2001         150000     256000   \n",
       "4232          Hyundai Santro Xing XG AT  2004         125000      70000   \n",
       "4290                     Maruti 800 Std  2004          37500      90000   \n",
       "4325                    Maruti Alto LXi  2000          65000      90000   \n",
       "\n",
       "        fuel seller_type transmission                 owner  \n",
       "61    Diesel  Individual       Manual          Second Owner  \n",
       "123   Petrol  Individual       Manual           First Owner  \n",
       "137   Petrol  Individual       Manual  Fourth & Above Owner  \n",
       "141   Petrol  Individual       Manual           First Owner  \n",
       "149   Petrol  Individual       Manual           First Owner  \n",
       "...      ...         ...          ...                   ...  \n",
       "4153  Diesel  Individual       Manual          Second Owner  \n",
       "4208  Diesel      Dealer       Manual           First Owner  \n",
       "4232  Petrol  Individual    Automatic          Second Owner  \n",
       "4290  Petrol  Individual       Manual          Second Owner  \n",
       "4325  Petrol  Individual       Manual          Second Owner  \n",
       "\n",
       "[147 rows x 8 columns]"
      ]
     },
     "execution_count": 27,
     "metadata": {},
     "output_type": "execute_result"
    }
   ],
   "source": [
    "df1"
   ]
  },
  {
   "cell_type": "code",
   "execution_count": 28,
   "id": "21a8acbe",
   "metadata": {
    "execution": {
     "iopub.execute_input": "2022-11-13T07:10:10.613142Z",
     "iopub.status.busy": "2022-11-13T07:10:10.612451Z",
     "iopub.status.idle": "2022-11-13T07:10:11.173766Z",
     "shell.execute_reply": "2022-11-13T07:10:11.172300Z"
    },
    "papermill": {
     "duration": 0.581455,
     "end_time": "2022-11-13T07:10:11.176507",
     "exception": false,
     "start_time": "2022-11-13T07:10:10.595052",
     "status": "completed"
    },
    "tags": []
   },
   "outputs": [
    {
     "data": {
      "text/plain": [
       "<AxesSubplot:xlabel='year', ylabel='selling_price'>"
      ]
     },
     "execution_count": 28,
     "metadata": {},
     "output_type": "execute_result"
    },
    {
     "data": {
      "image/png": "[encoded data removed]",
      "text/plain": [
       "<Figure size 432x288 with 1 Axes>"
      ]
     },
     "metadata": {
      "needs_background": "light"
     },
     "output_type": "display_data"
    }
   ],
   "source": [
    "sns.lineplot(data=df1,x='year',y='selling_price',hue='fuel')"
   ]
  },
  {
   "cell_type": "code",
   "execution_count": 29,
   "id": "fe005480",
   "metadata": {
    "execution": {
     "iopub.execute_input": "2022-11-13T07:10:11.211898Z",
     "iopub.status.busy": "2022-11-13T07:10:11.211499Z",
     "iopub.status.idle": "2022-11-13T07:10:11.216725Z",
     "shell.execute_reply": "2022-11-13T07:10:11.215364Z"
    },
    "papermill": {
     "duration": 0.02587,
     "end_time": "2022-11-13T07:10:11.219347",
     "exception": false,
     "start_time": "2022-11-13T07:10:11.193477",
     "status": "completed"
    },
    "tags": []
   },
   "outputs": [],
   "source": [
    "# sns.lineplot(data=df2,x='year',y='selling_price',hue='fuel')"
   ]
  },
  {
   "cell_type": "code",
   "execution_count": 30,
   "id": "7ce4dfc6",
   "metadata": {
    "execution": {
     "iopub.execute_input": "2022-11-13T07:10:11.255020Z",
     "iopub.status.busy": "2022-11-13T07:10:11.254621Z",
     "iopub.status.idle": "2022-11-13T07:10:11.726761Z",
     "shell.execute_reply": "2022-11-13T07:10:11.725492Z"
    },
    "papermill": {
     "duration": 0.493288,
     "end_time": "2022-11-13T07:10:11.729477",
     "exception": false,
     "start_time": "2022-11-13T07:10:11.236189",
     "status": "completed"
    },
    "tags": []
   },
   "outputs": [
    {
     "data": {
      "text/plain": [
       "<AxesSubplot:xlabel='year', ylabel='km_driven'>"
      ]
     },
     "execution_count": 30,
     "metadata": {},
     "output_type": "execute_result"
    },
    {
     "data": {
      "image/png": "[encoded data removed]",
      "text/plain": [
       "<Figure size 432x288 with 1 Axes>"
      ]
     },
     "metadata": {
      "needs_background": "light"
     },
     "output_type": "display_data"
    }
   ],
   "source": [
    "sns.barplot(data=df1,x='year',y='km_driven')"
   ]
  },
  {
   "cell_type": "code",
   "execution_count": 31,
   "id": "463d117f",
   "metadata": {
    "execution": {
     "iopub.execute_input": "2022-11-13T07:10:11.765958Z",
     "iopub.status.busy": "2022-11-13T07:10:11.765208Z",
     "iopub.status.idle": "2022-11-13T07:10:11.947723Z",
     "shell.execute_reply": "2022-11-13T07:10:11.946499Z"
    },
    "papermill": {
     "duration": 0.203384,
     "end_time": "2022-11-13T07:10:11.950216",
     "exception": false,
     "start_time": "2022-11-13T07:10:11.746832",
     "status": "completed"
    },
    "tags": []
   },
   "outputs": [
    {
     "name": "stdout",
     "output_type": "stream",
     "text": [
      "fuel\n",
      "Diesel     28\n",
      "LPG         1\n",
      "Petrol    118\n",
      "Name: year, dtype: int64\n"
     ]
    },
    {
     "data": {
      "text/plain": [
       "<AxesSubplot:xlabel='year'>"
      ]
     },
     "execution_count": 31,
     "metadata": {},
     "output_type": "execute_result"
    },
    {
     "data": {
      "image/png": "[encoded data removed]",
      "text/plain": [
       "<Figure size 432x288 with 1 Axes>"
      ]
     },
     "metadata": {
      "needs_background": "light"
     },
     "output_type": "display_data"
    }
   ],
   "source": [
    "new_df=df1.groupby('fuel')['year'].count()\n",
    "print(new_df)\n",
    "sns.barplot(data=new_df,x=new_df.index,y=new_df.values)"
   ]
  },
  {
   "cell_type": "code",
   "execution_count": null,
   "id": "daf03718",
   "metadata": {
    "papermill": {
     "duration": 0.018836,
     "end_time": "2022-11-13T07:10:11.986823",
     "exception": false,
     "start_time": "2022-11-13T07:10:11.967987",
     "status": "completed"
    },
    "tags": []
   },
   "outputs": [],
   "source": []
  },
  {
   "cell_type": "code",
   "execution_count": 32,
   "id": "66774d71",
   "metadata": {
    "execution": {
     "iopub.execute_input": "2022-11-13T07:10:12.024473Z",
     "iopub.status.busy": "2022-11-13T07:10:12.024047Z",
     "iopub.status.idle": "2022-11-13T07:10:12.202621Z",
     "shell.execute_reply": "2022-11-13T07:10:12.201486Z"
    },
    "papermill": {
     "duration": 0.200471,
     "end_time": "2022-11-13T07:10:12.205240",
     "exception": false,
     "start_time": "2022-11-13T07:10:12.004769",
     "status": "completed"
    },
    "tags": []
   },
   "outputs": [
    {
     "data": {
      "text/plain": [
       "<AxesSubplot:xlabel='year'>"
      ]
     },
     "execution_count": 32,
     "metadata": {},
     "output_type": "execute_result"
    },
    {
     "data": {
      "image/png": "[encoded data removed]",
      "text/plain": [
       "<Figure size 432x288 with 1 Axes>"
      ]
     },
     "metadata": {
      "needs_background": "light"
     },
     "output_type": "display_data"
    }
   ],
   "source": [
    "new_df=df1.groupby('seller_type')['year'].count()\n",
    "new_df\n",
    "sns.barplot(data=new_df,x=new_df.index,y=new_df.values)\n",
    "# sns.countplot(data=df1,x='year',y='seller_type')"
   ]
  },
  {
   "cell_type": "code",
   "execution_count": 33,
   "id": "1a3199a6",
   "metadata": {
    "execution": {
     "iopub.execute_input": "2022-11-13T07:10:12.244566Z",
     "iopub.status.busy": "2022-11-13T07:10:12.244099Z",
     "iopub.status.idle": "2022-11-13T07:10:12.263708Z",
     "shell.execute_reply": "2022-11-13T07:10:12.262531Z"
    },
    "papermill": {
     "duration": 0.041514,
     "end_time": "2022-11-13T07:10:12.266342",
     "exception": false,
     "start_time": "2022-11-13T07:10:12.224828",
     "status": "completed"
    },
    "tags": []
   },
   "outputs": [
    {
     "data": {
      "text/html": [
       "<div>\n",
       "<style scoped>\n",
       "    .dataframe tbody tr th:only-of-type {\n",
       "        vertical-align: middle;\n",
       "    }\n",
       "\n",
       "    .dataframe tbody tr th {\n",
       "        vertical-align: top;\n",
       "    }\n",
       "\n",
       "    .dataframe thead th {\n",
       "        text-align: right;\n",
       "    }\n",
       "</style>\n",
       "<table border=\"1\" class=\"dataframe\">\n",
       "  <thead>\n",
       "    <tr style=\"text-align: right;\">\n",
       "      <th></th>\n",
       "      <th>name</th>\n",
       "      <th>year</th>\n",
       "      <th>selling_price</th>\n",
       "      <th>km_driven</th>\n",
       "      <th>fuel</th>\n",
       "      <th>seller_type</th>\n",
       "      <th>transmission</th>\n",
       "      <th>owner</th>\n",
       "    </tr>\n",
       "  </thead>\n",
       "  <tbody>\n",
       "    <tr>\n",
       "      <th>0</th>\n",
       "      <td>Maruti 800 AC</td>\n",
       "      <td>2007</td>\n",
       "      <td>60000</td>\n",
       "      <td>70000</td>\n",
       "      <td>Petrol</td>\n",
       "      <td>Individual</td>\n",
       "      <td>Manual</td>\n",
       "      <td>First Owner</td>\n",
       "    </tr>\n",
       "    <tr>\n",
       "      <th>1</th>\n",
       "      <td>Maruti Wagon R LXI Minor</td>\n",
       "      <td>2007</td>\n",
       "      <td>135000</td>\n",
       "      <td>50000</td>\n",
       "      <td>Petrol</td>\n",
       "      <td>Individual</td>\n",
       "      <td>Manual</td>\n",
       "      <td>First Owner</td>\n",
       "    </tr>\n",
       "    <tr>\n",
       "      <th>2</th>\n",
       "      <td>Hyundai Verna 1.6 SX</td>\n",
       "      <td>2012</td>\n",
       "      <td>600000</td>\n",
       "      <td>100000</td>\n",
       "      <td>Diesel</td>\n",
       "      <td>Individual</td>\n",
       "      <td>Manual</td>\n",
       "      <td>First Owner</td>\n",
       "    </tr>\n",
       "    <tr>\n",
       "      <th>3</th>\n",
       "      <td>Datsun RediGO T Option</td>\n",
       "      <td>2017</td>\n",
       "      <td>250000</td>\n",
       "      <td>46000</td>\n",
       "      <td>Petrol</td>\n",
       "      <td>Individual</td>\n",
       "      <td>Manual</td>\n",
       "      <td>First Owner</td>\n",
       "    </tr>\n",
       "    <tr>\n",
       "      <th>4</th>\n",
       "      <td>Honda Amaze VX i-DTEC</td>\n",
       "      <td>2014</td>\n",
       "      <td>450000</td>\n",
       "      <td>141000</td>\n",
       "      <td>Diesel</td>\n",
       "      <td>Individual</td>\n",
       "      <td>Manual</td>\n",
       "      <td>Second Owner</td>\n",
       "    </tr>\n",
       "    <tr>\n",
       "      <th>...</th>\n",
       "      <td>...</td>\n",
       "      <td>...</td>\n",
       "      <td>...</td>\n",
       "      <td>...</td>\n",
       "      <td>...</td>\n",
       "      <td>...</td>\n",
       "      <td>...</td>\n",
       "      <td>...</td>\n",
       "    </tr>\n",
       "    <tr>\n",
       "      <th>4335</th>\n",
       "      <td>Hyundai i20 Magna 1.4 CRDi (Diesel)</td>\n",
       "      <td>2014</td>\n",
       "      <td>409999</td>\n",
       "      <td>80000</td>\n",
       "      <td>Diesel</td>\n",
       "      <td>Individual</td>\n",
       "      <td>Manual</td>\n",
       "      <td>Second Owner</td>\n",
       "    </tr>\n",
       "    <tr>\n",
       "      <th>4336</th>\n",
       "      <td>Hyundai i20 Magna 1.4 CRDi</td>\n",
       "      <td>2014</td>\n",
       "      <td>409999</td>\n",
       "      <td>80000</td>\n",
       "      <td>Diesel</td>\n",
       "      <td>Individual</td>\n",
       "      <td>Manual</td>\n",
       "      <td>Second Owner</td>\n",
       "    </tr>\n",
       "    <tr>\n",
       "      <th>4337</th>\n",
       "      <td>Maruti 800 AC BSIII</td>\n",
       "      <td>2009</td>\n",
       "      <td>110000</td>\n",
       "      <td>83000</td>\n",
       "      <td>Petrol</td>\n",
       "      <td>Individual</td>\n",
       "      <td>Manual</td>\n",
       "      <td>Second Owner</td>\n",
       "    </tr>\n",
       "    <tr>\n",
       "      <th>4338</th>\n",
       "      <td>Hyundai Creta 1.6 CRDi SX Option</td>\n",
       "      <td>2016</td>\n",
       "      <td>865000</td>\n",
       "      <td>90000</td>\n",
       "      <td>Diesel</td>\n",
       "      <td>Individual</td>\n",
       "      <td>Manual</td>\n",
       "      <td>First Owner</td>\n",
       "    </tr>\n",
       "    <tr>\n",
       "      <th>4339</th>\n",
       "      <td>Renault KWID RXT</td>\n",
       "      <td>2016</td>\n",
       "      <td>225000</td>\n",
       "      <td>40000</td>\n",
       "      <td>Petrol</td>\n",
       "      <td>Individual</td>\n",
       "      <td>Manual</td>\n",
       "      <td>First Owner</td>\n",
       "    </tr>\n",
       "  </tbody>\n",
       "</table>\n",
       "<p>4193 rows × 8 columns</p>\n",
       "</div>"
      ],
      "text/plain": [
       "                                     name  year  selling_price  km_driven  \\\n",
       "0                           Maruti 800 AC  2007          60000      70000   \n",
       "1                Maruti Wagon R LXI Minor  2007         135000      50000   \n",
       "2                    Hyundai Verna 1.6 SX  2012         600000     100000   \n",
       "3                  Datsun RediGO T Option  2017         250000      46000   \n",
       "4                   Honda Amaze VX i-DTEC  2014         450000     141000   \n",
       "...                                   ...   ...            ...        ...   \n",
       "4335  Hyundai i20 Magna 1.4 CRDi (Diesel)  2014         409999      80000   \n",
       "4336           Hyundai i20 Magna 1.4 CRDi  2014         409999      80000   \n",
       "4337                  Maruti 800 AC BSIII  2009         110000      83000   \n",
       "4338     Hyundai Creta 1.6 CRDi SX Option  2016         865000      90000   \n",
       "4339                     Renault KWID RXT  2016         225000      40000   \n",
       "\n",
       "        fuel seller_type transmission         owner  \n",
       "0     Petrol  Individual       Manual   First Owner  \n",
       "1     Petrol  Individual       Manual   First Owner  \n",
       "2     Diesel  Individual       Manual   First Owner  \n",
       "3     Petrol  Individual       Manual   First Owner  \n",
       "4     Diesel  Individual       Manual  Second Owner  \n",
       "...      ...         ...          ...           ...  \n",
       "4335  Diesel  Individual       Manual  Second Owner  \n",
       "4336  Diesel  Individual       Manual  Second Owner  \n",
       "4337  Petrol  Individual       Manual  Second Owner  \n",
       "4338  Diesel  Individual       Manual   First Owner  \n",
       "4339  Petrol  Individual       Manual   First Owner  \n",
       "\n",
       "[4193 rows x 8 columns]"
      ]
     },
     "execution_count": 33,
     "metadata": {},
     "output_type": "execute_result"
    }
   ],
   "source": [
    "df2=df[df['year']>=2005]\n",
    "df2"
   ]
  },
  {
   "cell_type": "code",
   "execution_count": 34,
   "id": "a2bf952a",
   "metadata": {
    "execution": {
     "iopub.execute_input": "2022-11-13T07:10:12.304373Z",
     "iopub.status.busy": "2022-11-13T07:10:12.303799Z",
     "iopub.status.idle": "2022-11-13T07:10:13.034108Z",
     "shell.execute_reply": "2022-11-13T07:10:13.032758Z"
    },
    "papermill": {
     "duration": 0.752072,
     "end_time": "2022-11-13T07:10:13.036625",
     "exception": false,
     "start_time": "2022-11-13T07:10:12.284553",
     "status": "completed"
    },
    "tags": []
   },
   "outputs": [
    {
     "data": {
      "text/plain": [
       "<AxesSubplot:xlabel='year', ylabel='selling_price'>"
      ]
     },
     "execution_count": 34,
     "metadata": {},
     "output_type": "execute_result"
    },
    {
     "data": {
      "image/png": "[encoded data removed]",
      "text/plain": [
       "<Figure size 432x288 with 1 Axes>"
      ]
     },
     "metadata": {
      "needs_background": "light"
     },
     "output_type": "display_data"
    }
   ],
   "source": [
    "sns.barplot(data=df2,x='year',y='selling_price')"
   ]
  },
  {
   "cell_type": "code",
   "execution_count": 35,
   "id": "f3474511",
   "metadata": {
    "execution": {
     "iopub.execute_input": "2022-11-13T07:10:13.076547Z",
     "iopub.status.busy": "2022-11-13T07:10:13.075551Z",
     "iopub.status.idle": "2022-11-13T07:10:13.232296Z",
     "shell.execute_reply": "2022-11-13T07:10:13.231012Z"
    },
    "papermill": {
     "duration": 0.179172,
     "end_time": "2022-11-13T07:10:13.234647",
     "exception": false,
     "start_time": "2022-11-13T07:10:13.055475",
     "status": "completed"
    },
    "tags": []
   },
   "outputs": [
    {
     "name": "stderr",
     "output_type": "stream",
     "text": [
      "/opt/conda/lib/python3.7/site-packages/seaborn/_decorators.py:43: FutureWarning: Pass the following variable as a keyword arg: x. From version 0.12, the only valid positional argument will be `data`, and passing other arguments without an explicit keyword will result in an error or misinterpretation.\n",
      "  FutureWarning\n"
     ]
    },
    {
     "data": {
      "text/plain": [
       "<AxesSubplot:xlabel='selling_price'>"
      ]
     },
     "execution_count": 35,
     "metadata": {},
     "output_type": "execute_result"
    },
    {
     "data": {
      "image/png": "[encoded data removed]",
      "text/plain": [
       "<Figure size 432x288 with 1 Axes>"
      ]
     },
     "metadata": {
      "needs_background": "light"
     },
     "output_type": "display_data"
    }
   ],
   "source": [
    "sns.boxplot('selling_price',data=df)"
   ]
  },
  {
   "cell_type": "code",
   "execution_count": 36,
   "id": "e95662da",
   "metadata": {
    "execution": {
     "iopub.execute_input": "2022-11-13T07:10:13.274062Z",
     "iopub.status.busy": "2022-11-13T07:10:13.273275Z",
     "iopub.status.idle": "2022-11-13T07:10:13.281772Z",
     "shell.execute_reply": "2022-11-13T07:10:13.280646Z"
    },
    "papermill": {
     "duration": 0.03083,
     "end_time": "2022-11-13T07:10:13.284161",
     "exception": false,
     "start_time": "2022-11-13T07:10:13.253331",
     "status": "completed"
    },
    "tags": []
   },
   "outputs": [
    {
     "data": {
      "text/plain": [
       "(array([   0,   13,   64,   82,   92,  123,  137,  141,  149,  151,  160,\n",
       "         173,  175,  177,  178,  187,  221,  222,  225,  237,  259,  310,\n",
       "         315,  333,  334,  340,  372,  388,  391,  392,  401,  404,  413,\n",
       "         442,  446,  457,  476,  567,  586,  605,  624,  631,  641,  643,\n",
       "         664,  665,  682,  684,  729,  747,  761,  767,  820,  850,  851,\n",
       "         856,  877,  893,  912,  931,  949,  960,  970,  995,  998, 1025,\n",
       "        1050, 1051, 1054, 1101, 1110, 1111, 1126, 1131, 1173, 1174, 1211,\n",
       "        1213, 1228, 1247, 1259, 1283, 1284, 1296, 1301, 1307, 1318, 1319,\n",
       "        1320, 1321, 1326, 1327, 1329, 1334, 1350, 1363, 1380, 1398, 1400,\n",
       "        1404, 1433, 1446, 1450, 1466, 1468, 1503, 1572, 1590, 1592, 1597,\n",
       "        1598, 1600, 1611, 1627, 1640, 1657, 1675, 1680, 1692, 1699, 1702,\n",
       "        1711, 1754, 1762, 1782, 1791, 1822, 1832, 1848, 1892, 1894, 1922,\n",
       "        1927, 1928, 1937, 1938, 1939, 1943, 1948, 1972, 1993, 2006, 2019,\n",
       "        2028, 2045, 2047, 2054, 2055, 2056, 2065, 2097, 2098, 2111, 2118,\n",
       "        2156, 2160, 2193, 2198, 2205, 2218, 2232, 2251, 2270, 2283, 2285,\n",
       "        2287, 2292, 2308, 2338, 2340, 2342, 2345, 2373, 2398, 2444, 2486,\n",
       "        2488, 2493, 2495, 2497, 2518, 2541, 2546, 2570, 2585, 2588, 2595,\n",
       "        2601, 2603, 2642, 2644, 2645, 2662, 2667, 2670, 2681, 2690, 2698,\n",
       "        2730, 2751, 2759, 2766, 2777, 2780, 2783, 2821, 2828, 2837, 2849,\n",
       "        2870, 2878, 2904, 2908, 2929, 2946, 2960, 2987, 2990, 3001, 3014,\n",
       "        3039, 3043, 3087, 3088, 3105, 3111, 3118, 3119, 3132, 3140, 3169,\n",
       "        3196, 3206, 3215, 3217, 3218, 3219, 3224, 3237, 3241, 3252, 3259,\n",
       "        3263, 3267, 3271, 3303, 3314, 3315, 3323, 3334, 3349, 3361, 3367,\n",
       "        3368, 3371, 3384, 3393, 3396, 3404, 3445, 3457, 3497, 3503, 3507,\n",
       "        3508, 3512, 3532, 3550, 3570, 3579, 3621, 3622, 3632, 3645, 3651,\n",
       "        3652, 3661, 3666, 3667, 3709, 3738, 3740, 3767, 3771, 3781, 3826,\n",
       "        3849, 3856, 3889, 3898, 3902, 3907, 3917, 3943, 3984, 3992, 3994,\n",
       "        4006, 4011, 4021, 4036, 4038, 4043, 4084, 4102, 4115, 4120, 4132,\n",
       "        4143, 4153, 4158, 4233, 4290, 4293, 4296, 4301, 4318, 4321, 4325,\n",
       "        4326]),)"
      ]
     },
     "execution_count": 36,
     "metadata": {},
     "output_type": "execute_result"
    }
   ],
   "source": [
    "np.where(df['selling_price']<100000)"
   ]
  },
  {
   "cell_type": "code",
   "execution_count": 37,
   "id": "ba930a05",
   "metadata": {
    "execution": {
     "iopub.execute_input": "2022-11-13T07:10:13.324189Z",
     "iopub.status.busy": "2022-11-13T07:10:13.323177Z",
     "iopub.status.idle": "2022-11-13T07:10:13.459430Z",
     "shell.execute_reply": "2022-11-13T07:10:13.458508Z"
    },
    "papermill": {
     "duration": 0.158757,
     "end_time": "2022-11-13T07:10:13.461873",
     "exception": false,
     "start_time": "2022-11-13T07:10:13.303116",
     "status": "completed"
    },
    "tags": []
   },
   "outputs": [
    {
     "name": "stderr",
     "output_type": "stream",
     "text": [
      "/opt/conda/lib/python3.7/site-packages/seaborn/_decorators.py:43: FutureWarning: Pass the following variable as a keyword arg: x. From version 0.12, the only valid positional argument will be `data`, and passing other arguments without an explicit keyword will result in an error or misinterpretation.\n",
      "  FutureWarning\n"
     ]
    },
    {
     "data": {
      "text/plain": [
       "<AxesSubplot:xlabel='km_driven'>"
      ]
     },
     "execution_count": 37,
     "metadata": {},
     "output_type": "execute_result"
    },
    {
     "data": {
      "image/png": "[encoded data removed]",
      "text/plain": [
       "<Figure size 432x288 with 1 Axes>"
      ]
     },
     "metadata": {
      "needs_background": "light"
     },
     "output_type": "display_data"
    }
   ],
   "source": [
    "sns.boxplot('km_driven',data=df)"
   ]
  },
  {
   "cell_type": "code",
   "execution_count": 38,
   "id": "02e91728",
   "metadata": {
    "execution": {
     "iopub.execute_input": "2022-11-13T07:10:13.503167Z",
     "iopub.status.busy": "2022-11-13T07:10:13.502314Z",
     "iopub.status.idle": "2022-11-13T07:10:13.516062Z",
     "shell.execute_reply": "2022-11-13T07:10:13.514825Z"
    },
    "papermill": {
     "duration": 0.036912,
     "end_time": "2022-11-13T07:10:13.518460",
     "exception": false,
     "start_time": "2022-11-13T07:10:13.481548",
     "status": "completed"
    },
    "tags": []
   },
   "outputs": [
    {
     "data": {
      "text/html": [
       "<div>\n",
       "<style scoped>\n",
       "    .dataframe tbody tr th:only-of-type {\n",
       "        vertical-align: middle;\n",
       "    }\n",
       "\n",
       "    .dataframe tbody tr th {\n",
       "        vertical-align: top;\n",
       "    }\n",
       "\n",
       "    .dataframe thead th {\n",
       "        text-align: right;\n",
       "    }\n",
       "</style>\n",
       "<table border=\"1\" class=\"dataframe\">\n",
       "  <thead>\n",
       "    <tr style=\"text-align: right;\">\n",
       "      <th></th>\n",
       "      <th>name</th>\n",
       "      <th>year</th>\n",
       "      <th>selling_price</th>\n",
       "      <th>km_driven</th>\n",
       "      <th>fuel</th>\n",
       "      <th>seller_type</th>\n",
       "      <th>transmission</th>\n",
       "      <th>owner</th>\n",
       "    </tr>\n",
       "  </thead>\n",
       "  <tbody>\n",
       "    <tr>\n",
       "      <th>0</th>\n",
       "      <td>Maruti 800 AC</td>\n",
       "      <td>2007</td>\n",
       "      <td>60000</td>\n",
       "      <td>70000</td>\n",
       "      <td>Petrol</td>\n",
       "      <td>Individual</td>\n",
       "      <td>Manual</td>\n",
       "      <td>First Owner</td>\n",
       "    </tr>\n",
       "  </tbody>\n",
       "</table>\n",
       "</div>"
      ],
      "text/plain": [
       "            name  year  selling_price  km_driven    fuel seller_type  \\\n",
       "0  Maruti 800 AC  2007          60000      70000  Petrol  Individual   \n",
       "\n",
       "  transmission        owner  \n",
       "0       Manual  First Owner  "
      ]
     },
     "execution_count": 38,
     "metadata": {},
     "output_type": "execute_result"
    }
   ],
   "source": [
    "df.head(1)"
   ]
  },
  {
   "cell_type": "code",
   "execution_count": 39,
   "id": "197c6a3f",
   "metadata": {
    "execution": {
     "iopub.execute_input": "2022-11-13T07:10:13.559665Z",
     "iopub.status.busy": "2022-11-13T07:10:13.558998Z",
     "iopub.status.idle": "2022-11-13T07:10:15.336211Z",
     "shell.execute_reply": "2022-11-13T07:10:15.334351Z"
    },
    "papermill": {
     "duration": 1.800846,
     "end_time": "2022-11-13T07:10:15.338791",
     "exception": false,
     "start_time": "2022-11-13T07:10:13.537945",
     "status": "completed"
    },
    "tags": []
   },
   "outputs": [
    {
     "data": {
      "text/plain": [
       "<AxesSubplot:xlabel='year', ylabel='selling_price'>"
      ]
     },
     "execution_count": 39,
     "metadata": {},
     "output_type": "execute_result"
    },
    {
     "data": {
      "image/png": "[encoded data removed]",
      "text/plain": [
       "<Figure size 720x360 with 1 Axes>"
      ]
     },
     "metadata": {
      "needs_background": "light"
     },
     "output_type": "display_data"
    }
   ],
   "source": [
    "\n",
    "plt.figure(figsize=(10,5))\n",
    "sns.lineplot(data=df,x='year',y='selling_price',hue='fuel')"
   ]
  },
  {
   "cell_type": "code",
   "execution_count": 40,
   "id": "e3e4bf70",
   "metadata": {
    "execution": {
     "iopub.execute_input": "2022-11-13T07:10:15.382107Z",
     "iopub.status.busy": "2022-11-13T07:10:15.381274Z",
     "iopub.status.idle": "2022-11-13T07:10:16.586856Z",
     "shell.execute_reply": "2022-11-13T07:10:16.585679Z"
    },
    "papermill": {
     "duration": 1.229938,
     "end_time": "2022-11-13T07:10:16.589410",
     "exception": false,
     "start_time": "2022-11-13T07:10:15.359472",
     "status": "completed"
    },
    "tags": []
   },
   "outputs": [
    {
     "data": {
      "text/plain": [
       "<AxesSubplot:xlabel='year', ylabel='selling_price'>"
      ]
     },
     "execution_count": 40,
     "metadata": {},
     "output_type": "execute_result"
    },
    {
     "data": {
      "image/png": "[encoded data removed]",
      "text/plain": [
       "<Figure size 720x360 with 1 Axes>"
      ]
     },
     "metadata": {
      "needs_background": "light"
     },
     "output_type": "display_data"
    }
   ],
   "source": [
    "plt.figure(figsize=(10,5))\n",
    "sns.lineplot(data=df,x='year',y='selling_price',hue='transmission')"
   ]
  },
  {
   "cell_type": "code",
   "execution_count": 41,
   "id": "9cdfb852",
   "metadata": {
    "execution": {
     "iopub.execute_input": "2022-11-13T07:10:16.634112Z",
     "iopub.status.busy": "2022-11-13T07:10:16.633705Z",
     "iopub.status.idle": "2022-11-13T07:10:18.750672Z",
     "shell.execute_reply": "2022-11-13T07:10:18.749643Z"
    },
    "papermill": {
     "duration": 2.141702,
     "end_time": "2022-11-13T07:10:18.752990",
     "exception": false,
     "start_time": "2022-11-13T07:10:16.611288",
     "status": "completed"
    },
    "tags": []
   },
   "outputs": [
    {
     "data": {
      "text/plain": [
       "<AxesSubplot:xlabel='year', ylabel='selling_price'>"
      ]
     },
     "execution_count": 41,
     "metadata": {},
     "output_type": "execute_result"
    },
    {
     "data": {
      "image/png": "[encoded data removed]",
      "text/plain": [
       "<Figure size 720x360 with 1 Axes>"
      ]
     },
     "metadata": {
      "needs_background": "light"
     },
     "output_type": "display_data"
    }
   ],
   "source": [
    "plt.figure(figsize=(10,5))\n",
    "sns.lineplot(data=df,x='year',y='selling_price',hue='owner')"
   ]
  },
  {
   "cell_type": "code",
   "execution_count": 42,
   "id": "aef90369",
   "metadata": {
    "execution": {
     "iopub.execute_input": "2022-11-13T07:10:18.800410Z",
     "iopub.status.busy": "2022-11-13T07:10:18.800001Z",
     "iopub.status.idle": "2022-11-13T07:10:18.813781Z",
     "shell.execute_reply": "2022-11-13T07:10:18.812601Z"
    },
    "papermill": {
     "duration": 0.041055,
     "end_time": "2022-11-13T07:10:18.816400",
     "exception": false,
     "start_time": "2022-11-13T07:10:18.775345",
     "status": "completed"
    },
    "tags": []
   },
   "outputs": [
    {
     "data": {
      "text/html": [
       "<div>\n",
       "<style scoped>\n",
       "    .dataframe tbody tr th:only-of-type {\n",
       "        vertical-align: middle;\n",
       "    }\n",
       "\n",
       "    .dataframe tbody tr th {\n",
       "        vertical-align: top;\n",
       "    }\n",
       "\n",
       "    .dataframe thead th {\n",
       "        text-align: right;\n",
       "    }\n",
       "</style>\n",
       "<table border=\"1\" class=\"dataframe\">\n",
       "  <thead>\n",
       "    <tr style=\"text-align: right;\">\n",
       "      <th></th>\n",
       "      <th>name</th>\n",
       "      <th>year</th>\n",
       "      <th>selling_price</th>\n",
       "      <th>km_driven</th>\n",
       "      <th>fuel</th>\n",
       "      <th>seller_type</th>\n",
       "      <th>transmission</th>\n",
       "      <th>owner</th>\n",
       "    </tr>\n",
       "  </thead>\n",
       "  <tbody>\n",
       "    <tr>\n",
       "      <th>0</th>\n",
       "      <td>Maruti 800 AC</td>\n",
       "      <td>2007</td>\n",
       "      <td>60000</td>\n",
       "      <td>70000</td>\n",
       "      <td>Petrol</td>\n",
       "      <td>Individual</td>\n",
       "      <td>Manual</td>\n",
       "      <td>First Owner</td>\n",
       "    </tr>\n",
       "  </tbody>\n",
       "</table>\n",
       "</div>"
      ],
      "text/plain": [
       "            name  year  selling_price  km_driven    fuel seller_type  \\\n",
       "0  Maruti 800 AC  2007          60000      70000  Petrol  Individual   \n",
       "\n",
       "  transmission        owner  \n",
       "0       Manual  First Owner  "
      ]
     },
     "execution_count": 42,
     "metadata": {},
     "output_type": "execute_result"
    }
   ],
   "source": [
    "df.head(1)"
   ]
  },
  {
   "cell_type": "code",
   "execution_count": 43,
   "id": "be2bd65c",
   "metadata": {
    "execution": {
     "iopub.execute_input": "2022-11-13T07:10:18.863174Z",
     "iopub.status.busy": "2022-11-13T07:10:18.862774Z",
     "iopub.status.idle": "2022-11-13T07:10:18.875014Z",
     "shell.execute_reply": "2022-11-13T07:10:18.874043Z"
    },
    "papermill": {
     "duration": 0.038095,
     "end_time": "2022-11-13T07:10:18.877354",
     "exception": false,
     "start_time": "2022-11-13T07:10:18.839259",
     "status": "completed"
    },
    "tags": []
   },
   "outputs": [
    {
     "data": {
      "text/html": [
       "<div>\n",
       "<style scoped>\n",
       "    .dataframe tbody tr th:only-of-type {\n",
       "        vertical-align: middle;\n",
       "    }\n",
       "\n",
       "    .dataframe tbody tr th {\n",
       "        vertical-align: top;\n",
       "    }\n",
       "\n",
       "    .dataframe thead th {\n",
       "        text-align: right;\n",
       "    }\n",
       "</style>\n",
       "<table border=\"1\" class=\"dataframe\">\n",
       "  <thead>\n",
       "    <tr style=\"text-align: right;\">\n",
       "      <th></th>\n",
       "      <th>year</th>\n",
       "      <th>selling_price</th>\n",
       "      <th>km_driven</th>\n",
       "    </tr>\n",
       "  </thead>\n",
       "  <tbody>\n",
       "    <tr>\n",
       "      <th>year</th>\n",
       "      <td>1.000000</td>\n",
       "      <td>0.413922</td>\n",
       "      <td>-0.419688</td>\n",
       "    </tr>\n",
       "    <tr>\n",
       "      <th>selling_price</th>\n",
       "      <td>0.413922</td>\n",
       "      <td>1.000000</td>\n",
       "      <td>-0.192289</td>\n",
       "    </tr>\n",
       "    <tr>\n",
       "      <th>km_driven</th>\n",
       "      <td>-0.419688</td>\n",
       "      <td>-0.192289</td>\n",
       "      <td>1.000000</td>\n",
       "    </tr>\n",
       "  </tbody>\n",
       "</table>\n",
       "</div>"
      ],
      "text/plain": [
       "                   year  selling_price  km_driven\n",
       "year           1.000000       0.413922  -0.419688\n",
       "selling_price  0.413922       1.000000  -0.192289\n",
       "km_driven     -0.419688      -0.192289   1.000000"
      ]
     },
     "execution_count": 43,
     "metadata": {},
     "output_type": "execute_result"
    }
   ],
   "source": [
    "df.corr()"
   ]
  },
  {
   "cell_type": "code",
   "execution_count": 44,
   "id": "dd76d655",
   "metadata": {
    "execution": {
     "iopub.execute_input": "2022-11-13T07:10:18.925432Z",
     "iopub.status.busy": "2022-11-13T07:10:18.925003Z",
     "iopub.status.idle": "2022-11-13T07:10:19.301208Z",
     "shell.execute_reply": "2022-11-13T07:10:19.300065Z"
    },
    "papermill": {
     "duration": 0.403487,
     "end_time": "2022-11-13T07:10:19.304080",
     "exception": false,
     "start_time": "2022-11-13T07:10:18.900593",
     "status": "completed"
    },
    "tags": []
   },
   "outputs": [
    {
     "data": {
      "text/plain": [
       "<AxesSubplot:>"
      ]
     },
     "execution_count": 44,
     "metadata": {},
     "output_type": "execute_result"
    },
    {
     "data": {
      "image/png": "[encoded data removed]",
      "text/plain": [
       "<Figure size 432x288 with 2 Axes>"
      ]
     },
     "metadata": {
      "needs_background": "light"
     },
     "output_type": "display_data"
    }
   ],
   "source": [
    "sns.heatmap(df.corr())"
   ]
  },
  {
   "cell_type": "code",
   "execution_count": null,
   "id": "8b28fb4e",
   "metadata": {
    "papermill": {
     "duration": 0.022202,
     "end_time": "2022-11-13T07:10:19.348901",
     "exception": false,
     "start_time": "2022-11-13T07:10:19.326699",
     "status": "completed"
    },
    "tags": []
   },
   "outputs": [],
   "source": []
  },
  {
   "cell_type": "code",
   "execution_count": null,
   "id": "a6552b3b",
   "metadata": {
    "papermill": {
     "duration": 0.023268,
     "end_time": "2022-11-13T07:10:19.394990",
     "exception": false,
     "start_time": "2022-11-13T07:10:19.371722",
     "status": "completed"
    },
    "tags": []
   },
   "outputs": [],
   "source": []
  }
 ],
 "metadata": {
  "kernelspec": {
   "display_name": "Python 3",
   "language": "python",
   "name": "python3"
  },
  "language_info": {
   "codemirror_mode": {
    "name": "ipython",
    "version": 3
   },
   "file_extension": ".py",
   "mimetype": "text/x-python",
   "name": "python",
   "nbconvert_exporter": "python",
   "pygments_lexer": "ipython3",
   "version": "3.7.12"
  },
  "papermill": {
   "default_parameters": {},
   "duration": 22.347247,
   "end_time": "2022-11-13T07:10:20.239893",
   "environment_variables": {},
   "exception": null,
   "input_path": "__notebook__.ipynb",
   "output_path": "__notebook__.ipynb",
   "parameters": {},
   "start_time": "2022-11-13T07:09:57.892646",
   "version": "2.3.4"
  }
 },
 "nbformat": 4,
 "nbformat_minor": 5
}
