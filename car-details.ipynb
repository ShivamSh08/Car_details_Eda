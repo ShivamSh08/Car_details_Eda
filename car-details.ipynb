{
 "cells": [
  {
   "cell_type": "code",
   "execution_count": 1,
   "id": "a9631655",
   "metadata": {
    "_cell_guid": "b1076dfc-b9ad-4769-8c92-a6c4dae69d19",
    "_uuid": "8f2839f25d086af736a60e9eeb907d3b93b6e0e5",
    "execution": {
     "iopub.execute_input": "2022-11-07T08:32:56.760757Z",
     "iopub.status.busy": "2022-11-07T08:32:56.760393Z",
     "iopub.status.idle": "2022-11-07T08:32:57.668527Z",
     "shell.execute_reply": "2022-11-07T08:32:57.667245Z"
    },
    "papermill": {
     "duration": 0.918939,
     "end_time": "2022-11-07T08:32:57.670843",
     "exception": false,
     "start_time": "2022-11-07T08:32:56.751904",
     "status": "completed"
    },
    "tags": []
   },
   "outputs": [],
   "source": [
    "import numpy as np \n",
    "import pandas as pd\n",
    "import seaborn as sns\n",
    "import matplotlib.pyplot as plt\n",
    "\n",
    "pd.set_option('display.max_columns', None)\n",
    "# pd.set_option('display.max_rows', None)\n",
    "pd.set_option('display.expand_frame_repr', False)\n",
    "pd.set_option('display.float_format', lambda x: '%.5f' % x)"
   ]
  },
  {
   "cell_type": "code",
   "execution_count": 2,
   "id": "794909c9",
   "metadata": {
    "execution": {
     "iopub.execute_input": "2022-11-07T08:32:57.684902Z",
     "iopub.status.busy": "2022-11-07T08:32:57.684558Z",
     "iopub.status.idle": "2022-11-07T08:32:57.723800Z",
     "shell.execute_reply": "2022-11-07T08:32:57.723143Z"
    },
    "papermill": {
     "duration": 0.048672,
     "end_time": "2022-11-07T08:32:57.725851",
     "exception": false,
     "start_time": "2022-11-07T08:32:57.677179",
     "status": "completed"
    },
    "tags": []
   },
   "outputs": [],
   "source": [
    "df_ = pd.read_csv(\"../input/car-details-dataset/CAR DETAILS FROM CAR DEKHO.csv\")\n",
    "df = df_.copy()"
   ]
  },
  {
   "cell_type": "code",
   "execution_count": 3,
   "id": "d7e2dfad",
   "metadata": {
    "execution": {
     "iopub.execute_input": "2022-11-07T08:32:57.739516Z",
     "iopub.status.busy": "2022-11-07T08:32:57.738980Z",
     "iopub.status.idle": "2022-11-07T08:32:57.745459Z",
     "shell.execute_reply": "2022-11-07T08:32:57.744866Z"
    },
    "papermill": {
     "duration": 0.015602,
     "end_time": "2022-11-07T08:32:57.747444",
     "exception": false,
     "start_time": "2022-11-07T08:32:57.731842",
     "status": "completed"
    },
    "tags": []
   },
   "outputs": [
    {
     "data": {
      "text/plain": [
       "(4340, 8)"
      ]
     },
     "execution_count": 3,
     "metadata": {},
     "output_type": "execute_result"
    }
   ],
   "source": [
    "df.shape"
   ]
  },
  {
   "cell_type": "code",
   "execution_count": 4,
   "id": "5b983338",
   "metadata": {
    "execution": {
     "iopub.execute_input": "2022-11-07T08:32:57.761807Z",
     "iopub.status.busy": "2022-11-07T08:32:57.761256Z",
     "iopub.status.idle": "2022-11-07T08:32:57.785976Z",
     "shell.execute_reply": "2022-11-07T08:32:57.784271Z"
    },
    "papermill": {
     "duration": 0.034121,
     "end_time": "2022-11-07T08:32:57.787804",
     "exception": false,
     "start_time": "2022-11-07T08:32:57.753683",
     "status": "completed"
    },
    "tags": []
   },
   "outputs": [
    {
     "name": "stdout",
     "output_type": "stream",
     "text": [
      "<class 'pandas.core.frame.DataFrame'>\n",
      "RangeIndex: 4340 entries, 0 to 4339\n",
      "Data columns (total 8 columns):\n",
      " #   Column         Non-Null Count  Dtype \n",
      "---  ------         --------------  ----- \n",
      " 0   name           4340 non-null   object\n",
      " 1   year           4340 non-null   int64 \n",
      " 2   selling_price  4340 non-null   int64 \n",
      " 3   km_driven      4340 non-null   int64 \n",
      " 4   fuel           4340 non-null   object\n",
      " 5   seller_type    4340 non-null   object\n",
      " 6   transmission   4340 non-null   object\n",
      " 7   owner          4340 non-null   object\n",
      "dtypes: int64(3), object(5)\n",
      "memory usage: 271.4+ KB\n"
     ]
    }
   ],
   "source": [
    "df.info()"
   ]
  },
  {
   "cell_type": "code",
   "execution_count": 5,
   "id": "703c9a8c",
   "metadata": {
    "execution": {
     "iopub.execute_input": "2022-11-07T08:32:57.801429Z",
     "iopub.status.busy": "2022-11-07T08:32:57.801118Z",
     "iopub.status.idle": "2022-11-07T08:32:57.821523Z",
     "shell.execute_reply": "2022-11-07T08:32:57.820935Z"
    },
    "papermill": {
     "duration": 0.029924,
     "end_time": "2022-11-07T08:32:57.823826",
     "exception": false,
     "start_time": "2022-11-07T08:32:57.793902",
     "status": "completed"
    },
    "tags": []
   },
   "outputs": [
    {
     "data": {
      "text/html": [
       "<div>\n",
       "<style scoped>\n",
       "    .dataframe tbody tr th:only-of-type {\n",
       "        vertical-align: middle;\n",
       "    }\n",
       "\n",
       "    .dataframe tbody tr th {\n",
       "        vertical-align: top;\n",
       "    }\n",
       "\n",
       "    .dataframe thead th {\n",
       "        text-align: right;\n",
       "    }\n",
       "</style>\n",
       "<table border=\"1\" class=\"dataframe\">\n",
       "  <thead>\n",
       "    <tr style=\"text-align: right;\">\n",
       "      <th></th>\n",
       "      <th>count</th>\n",
       "      <th>mean</th>\n",
       "      <th>std</th>\n",
       "      <th>min</th>\n",
       "      <th>25%</th>\n",
       "      <th>50%</th>\n",
       "      <th>75%</th>\n",
       "      <th>max</th>\n",
       "    </tr>\n",
       "  </thead>\n",
       "  <tbody>\n",
       "    <tr>\n",
       "      <th>year</th>\n",
       "      <td>4340.00000</td>\n",
       "      <td>2013.09078</td>\n",
       "      <td>4.21534</td>\n",
       "      <td>1992.00000</td>\n",
       "      <td>2011.00000</td>\n",
       "      <td>2014.00000</td>\n",
       "      <td>2016.00000</td>\n",
       "      <td>2020.00000</td>\n",
       "    </tr>\n",
       "    <tr>\n",
       "      <th>selling_price</th>\n",
       "      <td>4340.00000</td>\n",
       "      <td>504127.31175</td>\n",
       "      <td>578548.73614</td>\n",
       "      <td>20000.00000</td>\n",
       "      <td>208749.75000</td>\n",
       "      <td>350000.00000</td>\n",
       "      <td>600000.00000</td>\n",
       "      <td>8900000.00000</td>\n",
       "    </tr>\n",
       "    <tr>\n",
       "      <th>km_driven</th>\n",
       "      <td>4340.00000</td>\n",
       "      <td>66215.77742</td>\n",
       "      <td>46644.10219</td>\n",
       "      <td>1.00000</td>\n",
       "      <td>35000.00000</td>\n",
       "      <td>60000.00000</td>\n",
       "      <td>90000.00000</td>\n",
       "      <td>806599.00000</td>\n",
       "    </tr>\n",
       "  </tbody>\n",
       "</table>\n",
       "</div>"
      ],
      "text/plain": [
       "                   count         mean          std         min          25%          50%          75%           max\n",
       "year          4340.00000   2013.09078      4.21534  1992.00000   2011.00000   2014.00000   2016.00000    2020.00000\n",
       "selling_price 4340.00000 504127.31175 578548.73614 20000.00000 208749.75000 350000.00000 600000.00000 8900000.00000\n",
       "km_driven     4340.00000  66215.77742  46644.10219     1.00000  35000.00000  60000.00000  90000.00000  806599.00000"
      ]
     },
     "execution_count": 5,
     "metadata": {},
     "output_type": "execute_result"
    }
   ],
   "source": [
    "df.describe().T"
   ]
  },
  {
   "cell_type": "code",
   "execution_count": 6,
   "id": "cf200c03",
   "metadata": {
    "execution": {
     "iopub.execute_input": "2022-11-07T08:32:57.839538Z",
     "iopub.status.busy": "2022-11-07T08:32:57.839032Z",
     "iopub.status.idle": "2022-11-07T08:32:57.849226Z",
     "shell.execute_reply": "2022-11-07T08:32:57.848199Z"
    },
    "papermill": {
     "duration": 0.020709,
     "end_time": "2022-11-07T08:32:57.851080",
     "exception": false,
     "start_time": "2022-11-07T08:32:57.830371",
     "status": "completed"
    },
    "tags": []
   },
   "outputs": [
    {
     "data": {
      "text/plain": [
       "name             0\n",
       "year             0\n",
       "selling_price    0\n",
       "km_driven        0\n",
       "fuel             0\n",
       "seller_type      0\n",
       "transmission     0\n",
       "owner            0\n",
       "dtype: int64"
      ]
     },
     "execution_count": 6,
     "metadata": {},
     "output_type": "execute_result"
    }
   ],
   "source": [
    "df.isnull().sum()"
   ]
  },
  {
   "cell_type": "code",
   "execution_count": 7,
   "id": "05186fb1",
   "metadata": {
    "execution": {
     "iopub.execute_input": "2022-11-07T08:32:57.866024Z",
     "iopub.status.busy": "2022-11-07T08:32:57.865584Z",
     "iopub.status.idle": "2022-11-07T08:32:57.878437Z",
     "shell.execute_reply": "2022-11-07T08:32:57.876675Z"
    },
    "papermill": {
     "duration": 0.023548,
     "end_time": "2022-11-07T08:32:57.881172",
     "exception": false,
     "start_time": "2022-11-07T08:32:57.857624",
     "status": "completed"
    },
    "tags": []
   },
   "outputs": [
    {
     "data": {
      "text/html": [
       "<div>\n",
       "<style scoped>\n",
       "    .dataframe tbody tr th:only-of-type {\n",
       "        vertical-align: middle;\n",
       "    }\n",
       "\n",
       "    .dataframe tbody tr th {\n",
       "        vertical-align: top;\n",
       "    }\n",
       "\n",
       "    .dataframe thead th {\n",
       "        text-align: right;\n",
       "    }\n",
       "</style>\n",
       "<table border=\"1\" class=\"dataframe\">\n",
       "  <thead>\n",
       "    <tr style=\"text-align: right;\">\n",
       "      <th></th>\n",
       "      <th>name</th>\n",
       "      <th>year</th>\n",
       "      <th>selling_price</th>\n",
       "      <th>km_driven</th>\n",
       "      <th>fuel</th>\n",
       "      <th>seller_type</th>\n",
       "      <th>transmission</th>\n",
       "      <th>owner</th>\n",
       "    </tr>\n",
       "  </thead>\n",
       "  <tbody>\n",
       "    <tr>\n",
       "      <th>0</th>\n",
       "      <td>Maruti 800 AC</td>\n",
       "      <td>2007</td>\n",
       "      <td>60000</td>\n",
       "      <td>70000</td>\n",
       "      <td>Petrol</td>\n",
       "      <td>Individual</td>\n",
       "      <td>Manual</td>\n",
       "      <td>First Owner</td>\n",
       "    </tr>\n",
       "    <tr>\n",
       "      <th>1</th>\n",
       "      <td>Maruti Wagon R LXI Minor</td>\n",
       "      <td>2007</td>\n",
       "      <td>135000</td>\n",
       "      <td>50000</td>\n",
       "      <td>Petrol</td>\n",
       "      <td>Individual</td>\n",
       "      <td>Manual</td>\n",
       "      <td>First Owner</td>\n",
       "    </tr>\n",
       "    <tr>\n",
       "      <th>2</th>\n",
       "      <td>Hyundai Verna 1.6 SX</td>\n",
       "      <td>2012</td>\n",
       "      <td>600000</td>\n",
       "      <td>100000</td>\n",
       "      <td>Diesel</td>\n",
       "      <td>Individual</td>\n",
       "      <td>Manual</td>\n",
       "      <td>First Owner</td>\n",
       "    </tr>\n",
       "    <tr>\n",
       "      <th>3</th>\n",
       "      <td>Datsun RediGO T Option</td>\n",
       "      <td>2017</td>\n",
       "      <td>250000</td>\n",
       "      <td>46000</td>\n",
       "      <td>Petrol</td>\n",
       "      <td>Individual</td>\n",
       "      <td>Manual</td>\n",
       "      <td>First Owner</td>\n",
       "    </tr>\n",
       "    <tr>\n",
       "      <th>4</th>\n",
       "      <td>Honda Amaze VX i-DTEC</td>\n",
       "      <td>2014</td>\n",
       "      <td>450000</td>\n",
       "      <td>141000</td>\n",
       "      <td>Diesel</td>\n",
       "      <td>Individual</td>\n",
       "      <td>Manual</td>\n",
       "      <td>Second Owner</td>\n",
       "    </tr>\n",
       "  </tbody>\n",
       "</table>\n",
       "</div>"
      ],
      "text/plain": [
       "                       name  year  selling_price  km_driven    fuel seller_type transmission         owner\n",
       "0             Maruti 800 AC  2007          60000      70000  Petrol  Individual       Manual   First Owner\n",
       "1  Maruti Wagon R LXI Minor  2007         135000      50000  Petrol  Individual       Manual   First Owner\n",
       "2      Hyundai Verna 1.6 SX  2012         600000     100000  Diesel  Individual       Manual   First Owner\n",
       "3    Datsun RediGO T Option  2017         250000      46000  Petrol  Individual       Manual   First Owner\n",
       "4     Honda Amaze VX i-DTEC  2014         450000     141000  Diesel  Individual       Manual  Second Owner"
      ]
     },
     "execution_count": 7,
     "metadata": {},
     "output_type": "execute_result"
    }
   ],
   "source": [
    "df.head()"
   ]
  },
  {
   "cell_type": "code",
   "execution_count": 8,
   "id": "f9c2d800",
   "metadata": {
    "execution": {
     "iopub.execute_input": "2022-11-07T08:32:57.896417Z",
     "iopub.status.busy": "2022-11-07T08:32:57.896121Z",
     "iopub.status.idle": "2022-11-07T08:32:57.918844Z",
     "shell.execute_reply": "2022-11-07T08:32:57.917778Z"
    },
    "papermill": {
     "duration": 0.032429,
     "end_time": "2022-11-07T08:32:57.920584",
     "exception": false,
     "start_time": "2022-11-07T08:32:57.888155",
     "status": "completed"
    },
    "tags": []
   },
   "outputs": [
    {
     "data": {
      "text/html": [
       "<div>\n",
       "<style scoped>\n",
       "    .dataframe tbody tr th:only-of-type {\n",
       "        vertical-align: middle;\n",
       "    }\n",
       "\n",
       "    .dataframe tbody tr th {\n",
       "        vertical-align: top;\n",
       "    }\n",
       "\n",
       "    .dataframe thead th {\n",
       "        text-align: right;\n",
       "    }\n",
       "</style>\n",
       "<table border=\"1\" class=\"dataframe\">\n",
       "  <thead>\n",
       "    <tr style=\"text-align: right;\">\n",
       "      <th></th>\n",
       "      <th>count</th>\n",
       "      <th>mean</th>\n",
       "      <th>std</th>\n",
       "      <th>min</th>\n",
       "      <th>25%</th>\n",
       "      <th>50%</th>\n",
       "      <th>75%</th>\n",
       "      <th>max</th>\n",
       "    </tr>\n",
       "  </thead>\n",
       "  <tbody>\n",
       "    <tr>\n",
       "      <th>year</th>\n",
       "      <td>4340.00000</td>\n",
       "      <td>2013.09078</td>\n",
       "      <td>4.21534</td>\n",
       "      <td>1992.00000</td>\n",
       "      <td>2011.00000</td>\n",
       "      <td>2014.00000</td>\n",
       "      <td>2016.00000</td>\n",
       "      <td>2020.00000</td>\n",
       "    </tr>\n",
       "    <tr>\n",
       "      <th>selling_price</th>\n",
       "      <td>4340.00000</td>\n",
       "      <td>504127.31175</td>\n",
       "      <td>578548.73614</td>\n",
       "      <td>20000.00000</td>\n",
       "      <td>208749.75000</td>\n",
       "      <td>350000.00000</td>\n",
       "      <td>600000.00000</td>\n",
       "      <td>8900000.00000</td>\n",
       "    </tr>\n",
       "    <tr>\n",
       "      <th>km_driven</th>\n",
       "      <td>4340.00000</td>\n",
       "      <td>66215.77742</td>\n",
       "      <td>46644.10219</td>\n",
       "      <td>1.00000</td>\n",
       "      <td>35000.00000</td>\n",
       "      <td>60000.00000</td>\n",
       "      <td>90000.00000</td>\n",
       "      <td>806599.00000</td>\n",
       "    </tr>\n",
       "  </tbody>\n",
       "</table>\n",
       "</div>"
      ],
      "text/plain": [
       "                   count         mean          std         min          25%          50%          75%           max\n",
       "year          4340.00000   2013.09078      4.21534  1992.00000   2011.00000   2014.00000   2016.00000    2020.00000\n",
       "selling_price 4340.00000 504127.31175 578548.73614 20000.00000 208749.75000 350000.00000 600000.00000 8900000.00000\n",
       "km_driven     4340.00000  66215.77742  46644.10219     1.00000  35000.00000  60000.00000  90000.00000  806599.00000"
      ]
     },
     "execution_count": 8,
     "metadata": {},
     "output_type": "execute_result"
    }
   ],
   "source": [
    "df[\"selling_price\"] = df[\"selling_price\"].apply(lambda x : int(x)) \n",
    "df.describe().T"
   ]
  },
  {
   "cell_type": "code",
   "execution_count": 9,
   "id": "6380dbd5",
   "metadata": {
    "execution": {
     "iopub.execute_input": "2022-11-07T08:32:57.935571Z",
     "iopub.status.busy": "2022-11-07T08:32:57.935234Z",
     "iopub.status.idle": "2022-11-07T08:32:57.942857Z",
     "shell.execute_reply": "2022-11-07T08:32:57.941895Z"
    },
    "papermill": {
     "duration": 0.017261,
     "end_time": "2022-11-07T08:32:57.944585",
     "exception": false,
     "start_time": "2022-11-07T08:32:57.927324",
     "status": "completed"
    },
    "tags": []
   },
   "outputs": [],
   "source": [
    "df.insert(loc=0, column=\"brand\", value=df.name.apply(lambda x : (x.split(' ')[0])))\n"
   ]
  },
  {
   "cell_type": "code",
   "execution_count": 10,
   "id": "3bfeb822",
   "metadata": {
    "execution": {
     "iopub.execute_input": "2022-11-07T08:32:57.959616Z",
     "iopub.status.busy": "2022-11-07T08:32:57.959300Z",
     "iopub.status.idle": "2022-11-07T08:32:57.971129Z",
     "shell.execute_reply": "2022-11-07T08:32:57.970110Z"
    },
    "papermill": {
     "duration": 0.021587,
     "end_time": "2022-11-07T08:32:57.972926",
     "exception": false,
     "start_time": "2022-11-07T08:32:57.951339",
     "status": "completed"
    },
    "tags": []
   },
   "outputs": [
    {
     "data": {
      "text/html": [
       "<div>\n",
       "<style scoped>\n",
       "    .dataframe tbody tr th:only-of-type {\n",
       "        vertical-align: middle;\n",
       "    }\n",
       "\n",
       "    .dataframe tbody tr th {\n",
       "        vertical-align: top;\n",
       "    }\n",
       "\n",
       "    .dataframe thead th {\n",
       "        text-align: right;\n",
       "    }\n",
       "</style>\n",
       "<table border=\"1\" class=\"dataframe\">\n",
       "  <thead>\n",
       "    <tr style=\"text-align: right;\">\n",
       "      <th></th>\n",
       "      <th>brand</th>\n",
       "      <th>name</th>\n",
       "      <th>year</th>\n",
       "      <th>selling_price</th>\n",
       "      <th>km_driven</th>\n",
       "      <th>fuel</th>\n",
       "      <th>seller_type</th>\n",
       "      <th>transmission</th>\n",
       "      <th>owner</th>\n",
       "    </tr>\n",
       "  </thead>\n",
       "  <tbody>\n",
       "    <tr>\n",
       "      <th>0</th>\n",
       "      <td>Maruti</td>\n",
       "      <td>Maruti 800 AC</td>\n",
       "      <td>2007</td>\n",
       "      <td>60000</td>\n",
       "      <td>70000</td>\n",
       "      <td>Petrol</td>\n",
       "      <td>Individual</td>\n",
       "      <td>Manual</td>\n",
       "      <td>First Owner</td>\n",
       "    </tr>\n",
       "    <tr>\n",
       "      <th>1</th>\n",
       "      <td>Maruti</td>\n",
       "      <td>Maruti Wagon R LXI Minor</td>\n",
       "      <td>2007</td>\n",
       "      <td>135000</td>\n",
       "      <td>50000</td>\n",
       "      <td>Petrol</td>\n",
       "      <td>Individual</td>\n",
       "      <td>Manual</td>\n",
       "      <td>First Owner</td>\n",
       "    </tr>\n",
       "    <tr>\n",
       "      <th>2</th>\n",
       "      <td>Hyundai</td>\n",
       "      <td>Hyundai Verna 1.6 SX</td>\n",
       "      <td>2012</td>\n",
       "      <td>600000</td>\n",
       "      <td>100000</td>\n",
       "      <td>Diesel</td>\n",
       "      <td>Individual</td>\n",
       "      <td>Manual</td>\n",
       "      <td>First Owner</td>\n",
       "    </tr>\n",
       "    <tr>\n",
       "      <th>3</th>\n",
       "      <td>Datsun</td>\n",
       "      <td>Datsun RediGO T Option</td>\n",
       "      <td>2017</td>\n",
       "      <td>250000</td>\n",
       "      <td>46000</td>\n",
       "      <td>Petrol</td>\n",
       "      <td>Individual</td>\n",
       "      <td>Manual</td>\n",
       "      <td>First Owner</td>\n",
       "    </tr>\n",
       "    <tr>\n",
       "      <th>4</th>\n",
       "      <td>Honda</td>\n",
       "      <td>Honda Amaze VX i-DTEC</td>\n",
       "      <td>2014</td>\n",
       "      <td>450000</td>\n",
       "      <td>141000</td>\n",
       "      <td>Diesel</td>\n",
       "      <td>Individual</td>\n",
       "      <td>Manual</td>\n",
       "      <td>Second Owner</td>\n",
       "    </tr>\n",
       "  </tbody>\n",
       "</table>\n",
       "</div>"
      ],
      "text/plain": [
       "     brand                      name  year  selling_price  km_driven    fuel seller_type transmission         owner\n",
       "0   Maruti             Maruti 800 AC  2007          60000      70000  Petrol  Individual       Manual   First Owner\n",
       "1   Maruti  Maruti Wagon R LXI Minor  2007         135000      50000  Petrol  Individual       Manual   First Owner\n",
       "2  Hyundai      Hyundai Verna 1.6 SX  2012         600000     100000  Diesel  Individual       Manual   First Owner\n",
       "3   Datsun    Datsun RediGO T Option  2017         250000      46000  Petrol  Individual       Manual   First Owner\n",
       "4    Honda     Honda Amaze VX i-DTEC  2014         450000     141000  Diesel  Individual       Manual  Second Owner"
      ]
     },
     "execution_count": 10,
     "metadata": {},
     "output_type": "execute_result"
    }
   ],
   "source": [
    "df.head()"
   ]
  },
  {
   "cell_type": "code",
   "execution_count": 11,
   "id": "34943852",
   "metadata": {
    "execution": {
     "iopub.execute_input": "2022-11-07T08:32:57.989122Z",
     "iopub.status.busy": "2022-11-07T08:32:57.988779Z",
     "iopub.status.idle": "2022-11-07T08:32:57.997749Z",
     "shell.execute_reply": "2022-11-07T08:32:57.996790Z"
    },
    "papermill": {
     "duration": 0.019972,
     "end_time": "2022-11-07T08:32:58.000187",
     "exception": false,
     "start_time": "2022-11-07T08:32:57.980215",
     "status": "completed"
    },
    "tags": []
   },
   "outputs": [],
   "source": [
    "df.insert(loc=1, column=\"model\", value=df.name.apply(lambda x : ' '.join(x.split(' ')[1:])))"
   ]
  },
  {
   "cell_type": "code",
   "execution_count": 12,
   "id": "bf88708c",
   "metadata": {
    "execution": {
     "iopub.execute_input": "2022-11-07T08:32:58.016241Z",
     "iopub.status.busy": "2022-11-07T08:32:58.015878Z",
     "iopub.status.idle": "2022-11-07T08:32:58.028021Z",
     "shell.execute_reply": "2022-11-07T08:32:58.027113Z"
    },
    "papermill": {
     "duration": 0.02292,
     "end_time": "2022-11-07T08:32:58.030370",
     "exception": false,
     "start_time": "2022-11-07T08:32:58.007450",
     "status": "completed"
    },
    "tags": []
   },
   "outputs": [
    {
     "data": {
      "text/html": [
       "<div>\n",
       "<style scoped>\n",
       "    .dataframe tbody tr th:only-of-type {\n",
       "        vertical-align: middle;\n",
       "    }\n",
       "\n",
       "    .dataframe tbody tr th {\n",
       "        vertical-align: top;\n",
       "    }\n",
       "\n",
       "    .dataframe thead th {\n",
       "        text-align: right;\n",
       "    }\n",
       "</style>\n",
       "<table border=\"1\" class=\"dataframe\">\n",
       "  <thead>\n",
       "    <tr style=\"text-align: right;\">\n",
       "      <th></th>\n",
       "      <th>brand</th>\n",
       "      <th>model</th>\n",
       "      <th>name</th>\n",
       "      <th>year</th>\n",
       "      <th>selling_price</th>\n",
       "      <th>km_driven</th>\n",
       "      <th>fuel</th>\n",
       "      <th>seller_type</th>\n",
       "      <th>transmission</th>\n",
       "      <th>owner</th>\n",
       "    </tr>\n",
       "  </thead>\n",
       "  <tbody>\n",
       "    <tr>\n",
       "      <th>0</th>\n",
       "      <td>Maruti</td>\n",
       "      <td>800 AC</td>\n",
       "      <td>Maruti 800 AC</td>\n",
       "      <td>2007</td>\n",
       "      <td>60000</td>\n",
       "      <td>70000</td>\n",
       "      <td>Petrol</td>\n",
       "      <td>Individual</td>\n",
       "      <td>Manual</td>\n",
       "      <td>First Owner</td>\n",
       "    </tr>\n",
       "    <tr>\n",
       "      <th>1</th>\n",
       "      <td>Maruti</td>\n",
       "      <td>Wagon R LXI Minor</td>\n",
       "      <td>Maruti Wagon R LXI Minor</td>\n",
       "      <td>2007</td>\n",
       "      <td>135000</td>\n",
       "      <td>50000</td>\n",
       "      <td>Petrol</td>\n",
       "      <td>Individual</td>\n",
       "      <td>Manual</td>\n",
       "      <td>First Owner</td>\n",
       "    </tr>\n",
       "    <tr>\n",
       "      <th>2</th>\n",
       "      <td>Hyundai</td>\n",
       "      <td>Verna 1.6 SX</td>\n",
       "      <td>Hyundai Verna 1.6 SX</td>\n",
       "      <td>2012</td>\n",
       "      <td>600000</td>\n",
       "      <td>100000</td>\n",
       "      <td>Diesel</td>\n",
       "      <td>Individual</td>\n",
       "      <td>Manual</td>\n",
       "      <td>First Owner</td>\n",
       "    </tr>\n",
       "    <tr>\n",
       "      <th>3</th>\n",
       "      <td>Datsun</td>\n",
       "      <td>RediGO T Option</td>\n",
       "      <td>Datsun RediGO T Option</td>\n",
       "      <td>2017</td>\n",
       "      <td>250000</td>\n",
       "      <td>46000</td>\n",
       "      <td>Petrol</td>\n",
       "      <td>Individual</td>\n",
       "      <td>Manual</td>\n",
       "      <td>First Owner</td>\n",
       "    </tr>\n",
       "    <tr>\n",
       "      <th>4</th>\n",
       "      <td>Honda</td>\n",
       "      <td>Amaze VX i-DTEC</td>\n",
       "      <td>Honda Amaze VX i-DTEC</td>\n",
       "      <td>2014</td>\n",
       "      <td>450000</td>\n",
       "      <td>141000</td>\n",
       "      <td>Diesel</td>\n",
       "      <td>Individual</td>\n",
       "      <td>Manual</td>\n",
       "      <td>Second Owner</td>\n",
       "    </tr>\n",
       "  </tbody>\n",
       "</table>\n",
       "</div>"
      ],
      "text/plain": [
       "     brand              model                      name  year  selling_price  km_driven    fuel seller_type transmission         owner\n",
       "0   Maruti             800 AC             Maruti 800 AC  2007          60000      70000  Petrol  Individual       Manual   First Owner\n",
       "1   Maruti  Wagon R LXI Minor  Maruti Wagon R LXI Minor  2007         135000      50000  Petrol  Individual       Manual   First Owner\n",
       "2  Hyundai       Verna 1.6 SX      Hyundai Verna 1.6 SX  2012         600000     100000  Diesel  Individual       Manual   First Owner\n",
       "3   Datsun    RediGO T Option    Datsun RediGO T Option  2017         250000      46000  Petrol  Individual       Manual   First Owner\n",
       "4    Honda    Amaze VX i-DTEC     Honda Amaze VX i-DTEC  2014         450000     141000  Diesel  Individual       Manual  Second Owner"
      ]
     },
     "execution_count": 12,
     "metadata": {},
     "output_type": "execute_result"
    }
   ],
   "source": [
    "df.head()"
   ]
  },
  {
   "cell_type": "code",
   "execution_count": 13,
   "id": "948a7f85",
   "metadata": {
    "execution": {
     "iopub.execute_input": "2022-11-07T08:32:58.046808Z",
     "iopub.status.busy": "2022-11-07T08:32:58.046470Z",
     "iopub.status.idle": "2022-11-07T08:32:58.051724Z",
     "shell.execute_reply": "2022-11-07T08:32:58.051261Z"
    },
    "papermill": {
     "duration": 0.015267,
     "end_time": "2022-11-07T08:32:58.053202",
     "exception": false,
     "start_time": "2022-11-07T08:32:58.037935",
     "status": "completed"
    },
    "tags": []
   },
   "outputs": [],
   "source": [
    "df.drop(\"name\", inplace=True, axis=1)\n"
   ]
  },
  {
   "cell_type": "code",
   "execution_count": 14,
   "id": "438755f3",
   "metadata": {
    "execution": {
     "iopub.execute_input": "2022-11-07T08:32:58.069279Z",
     "iopub.status.busy": "2022-11-07T08:32:58.068935Z",
     "iopub.status.idle": "2022-11-07T08:32:58.080943Z",
     "shell.execute_reply": "2022-11-07T08:32:58.079607Z"
    },
    "papermill": {
     "duration": 0.022436,
     "end_time": "2022-11-07T08:32:58.082939",
     "exception": false,
     "start_time": "2022-11-07T08:32:58.060503",
     "status": "completed"
    },
    "tags": []
   },
   "outputs": [
    {
     "data": {
      "text/html": [
       "<div>\n",
       "<style scoped>\n",
       "    .dataframe tbody tr th:only-of-type {\n",
       "        vertical-align: middle;\n",
       "    }\n",
       "\n",
       "    .dataframe tbody tr th {\n",
       "        vertical-align: top;\n",
       "    }\n",
       "\n",
       "    .dataframe thead th {\n",
       "        text-align: right;\n",
       "    }\n",
       "</style>\n",
       "<table border=\"1\" class=\"dataframe\">\n",
       "  <thead>\n",
       "    <tr style=\"text-align: right;\">\n",
       "      <th></th>\n",
       "      <th>brand</th>\n",
       "      <th>model</th>\n",
       "      <th>year</th>\n",
       "      <th>selling_price</th>\n",
       "      <th>km_driven</th>\n",
       "      <th>fuel</th>\n",
       "      <th>seller_type</th>\n",
       "      <th>transmission</th>\n",
       "      <th>owner</th>\n",
       "    </tr>\n",
       "  </thead>\n",
       "  <tbody>\n",
       "    <tr>\n",
       "      <th>0</th>\n",
       "      <td>Maruti</td>\n",
       "      <td>800 AC</td>\n",
       "      <td>2007</td>\n",
       "      <td>60000</td>\n",
       "      <td>70000</td>\n",
       "      <td>Petrol</td>\n",
       "      <td>Individual</td>\n",
       "      <td>Manual</td>\n",
       "      <td>First Owner</td>\n",
       "    </tr>\n",
       "    <tr>\n",
       "      <th>1</th>\n",
       "      <td>Maruti</td>\n",
       "      <td>Wagon R LXI Minor</td>\n",
       "      <td>2007</td>\n",
       "      <td>135000</td>\n",
       "      <td>50000</td>\n",
       "      <td>Petrol</td>\n",
       "      <td>Individual</td>\n",
       "      <td>Manual</td>\n",
       "      <td>First Owner</td>\n",
       "    </tr>\n",
       "    <tr>\n",
       "      <th>2</th>\n",
       "      <td>Hyundai</td>\n",
       "      <td>Verna 1.6 SX</td>\n",
       "      <td>2012</td>\n",
       "      <td>600000</td>\n",
       "      <td>100000</td>\n",
       "      <td>Diesel</td>\n",
       "      <td>Individual</td>\n",
       "      <td>Manual</td>\n",
       "      <td>First Owner</td>\n",
       "    </tr>\n",
       "    <tr>\n",
       "      <th>3</th>\n",
       "      <td>Datsun</td>\n",
       "      <td>RediGO T Option</td>\n",
       "      <td>2017</td>\n",
       "      <td>250000</td>\n",
       "      <td>46000</td>\n",
       "      <td>Petrol</td>\n",
       "      <td>Individual</td>\n",
       "      <td>Manual</td>\n",
       "      <td>First Owner</td>\n",
       "    </tr>\n",
       "    <tr>\n",
       "      <th>4</th>\n",
       "      <td>Honda</td>\n",
       "      <td>Amaze VX i-DTEC</td>\n",
       "      <td>2014</td>\n",
       "      <td>450000</td>\n",
       "      <td>141000</td>\n",
       "      <td>Diesel</td>\n",
       "      <td>Individual</td>\n",
       "      <td>Manual</td>\n",
       "      <td>Second Owner</td>\n",
       "    </tr>\n",
       "  </tbody>\n",
       "</table>\n",
       "</div>"
      ],
      "text/plain": [
       "     brand              model  year  selling_price  km_driven    fuel seller_type transmission         owner\n",
       "0   Maruti             800 AC  2007          60000      70000  Petrol  Individual       Manual   First Owner\n",
       "1   Maruti  Wagon R LXI Minor  2007         135000      50000  Petrol  Individual       Manual   First Owner\n",
       "2  Hyundai       Verna 1.6 SX  2012         600000     100000  Diesel  Individual       Manual   First Owner\n",
       "3   Datsun    RediGO T Option  2017         250000      46000  Petrol  Individual       Manual   First Owner\n",
       "4    Honda    Amaze VX i-DTEC  2014         450000     141000  Diesel  Individual       Manual  Second Owner"
      ]
     },
     "execution_count": 14,
     "metadata": {},
     "output_type": "execute_result"
    }
   ],
   "source": [
    "df.head()"
   ]
  },
  {
   "cell_type": "code",
   "execution_count": 15,
   "id": "6ea3897f",
   "metadata": {
    "execution": {
     "iopub.execute_input": "2022-11-07T08:32:58.099569Z",
     "iopub.status.busy": "2022-11-07T08:32:58.098547Z",
     "iopub.status.idle": "2022-11-07T08:32:58.107152Z",
     "shell.execute_reply": "2022-11-07T08:32:58.105990Z"
    },
    "papermill": {
     "duration": 0.018854,
     "end_time": "2022-11-07T08:32:58.109097",
     "exception": false,
     "start_time": "2022-11-07T08:32:58.090243",
     "status": "completed"
    },
    "tags": []
   },
   "outputs": [
    {
     "data": {
      "text/plain": [
       "Maruti           1280\n",
       "Hyundai           821\n",
       "Mahindra          365\n",
       "Tata              361\n",
       "Honda             252\n",
       "Ford              238\n",
       "Toyota            206\n",
       "Chevrolet         188\n",
       "Renault           146\n",
       "Volkswagen        107\n",
       "Skoda              68\n",
       "Nissan             64\n",
       "Audi               60\n",
       "BMW                39\n",
       "Fiat               37\n",
       "Datsun             37\n",
       "Mercedes-Benz      35\n",
       "Jaguar              6\n",
       "Mitsubishi          6\n",
       "Land                5\n",
       "Volvo               4\n",
       "Ambassador          4\n",
       "Jeep                3\n",
       "MG                  2\n",
       "OpelCorsa           2\n",
       "Daewoo              1\n",
       "Force               1\n",
       "Isuzu               1\n",
       "Kia                 1\n",
       "Name: brand, dtype: int64"
      ]
     },
     "execution_count": 15,
     "metadata": {},
     "output_type": "execute_result"
    }
   ],
   "source": [
    "df[\"brand\"].value_counts()"
   ]
  },
  {
   "cell_type": "code",
   "execution_count": 16,
   "id": "29d9da9d",
   "metadata": {
    "execution": {
     "iopub.execute_input": "2022-11-07T08:32:58.126525Z",
     "iopub.status.busy": "2022-11-07T08:32:58.126092Z",
     "iopub.status.idle": "2022-11-07T08:32:58.135030Z",
     "shell.execute_reply": "2022-11-07T08:32:58.134383Z"
    },
    "papermill": {
     "duration": 0.019629,
     "end_time": "2022-11-07T08:32:58.136560",
     "exception": false,
     "start_time": "2022-11-07T08:32:58.116931",
     "status": "completed"
    },
    "tags": []
   },
   "outputs": [
    {
     "data": {
      "text/plain": [
       "Maruti      1280\n",
       "Hyundai      821\n",
       "Mahindra     365\n",
       "Tata         361\n",
       "Honda        252\n",
       "Name: brand, dtype: int64"
      ]
     },
     "execution_count": 16,
     "metadata": {},
     "output_type": "execute_result"
    }
   ],
   "source": [
    "top10_brands = df[\"brand\"].value_counts()[0:10]\n",
    "#top10_brands = pd.DataFrame(df[\"brand\"].value_counts()[0:10].reset_index())\n",
    "top10_brands.head()"
   ]
  },
  {
   "cell_type": "code",
   "execution_count": 17,
   "id": "bda21fde",
   "metadata": {
    "execution": {
     "iopub.execute_input": "2022-11-07T08:32:58.154504Z",
     "iopub.status.busy": "2022-11-07T08:32:58.153267Z",
     "iopub.status.idle": "2022-11-07T08:32:58.170815Z",
     "shell.execute_reply": "2022-11-07T08:32:58.170011Z"
    },
    "papermill": {
     "duration": 0.028456,
     "end_time": "2022-11-07T08:32:58.172727",
     "exception": false,
     "start_time": "2022-11-07T08:32:58.144271",
     "status": "completed"
    },
    "tags": []
   },
   "outputs": [
    {
     "data": {
      "text/html": [
       "<div>\n",
       "<style scoped>\n",
       "    .dataframe tbody tr th:only-of-type {\n",
       "        vertical-align: middle;\n",
       "    }\n",
       "\n",
       "    .dataframe tbody tr th {\n",
       "        vertical-align: top;\n",
       "    }\n",
       "\n",
       "    .dataframe thead th {\n",
       "        text-align: right;\n",
       "    }\n",
       "</style>\n",
       "<table border=\"1\" class=\"dataframe\">\n",
       "  <thead>\n",
       "    <tr style=\"text-align: right;\">\n",
       "      <th></th>\n",
       "      <th>brand</th>\n",
       "      <th>model</th>\n",
       "      <th>count</th>\n",
       "    </tr>\n",
       "  </thead>\n",
       "  <tbody>\n",
       "    <tr>\n",
       "      <th>0</th>\n",
       "      <td>Ambassador</td>\n",
       "      <td>Classic 2000 Dsz</td>\n",
       "      <td>1</td>\n",
       "    </tr>\n",
       "    <tr>\n",
       "      <th>1</th>\n",
       "      <td>Ambassador</td>\n",
       "      <td>CLASSIC 1500 DSL AC</td>\n",
       "      <td>2</td>\n",
       "    </tr>\n",
       "    <tr>\n",
       "      <th>2</th>\n",
       "      <td>Ambassador</td>\n",
       "      <td>Grand 1800 ISZ MPFI PW CL</td>\n",
       "      <td>1</td>\n",
       "    </tr>\n",
       "    <tr>\n",
       "      <th>3</th>\n",
       "      <td>Audi</td>\n",
       "      <td>A4 3.0 TDI Quattro</td>\n",
       "      <td>12</td>\n",
       "    </tr>\n",
       "    <tr>\n",
       "      <th>4</th>\n",
       "      <td>Audi</td>\n",
       "      <td>RS7 2015-2019 Sportback Performance</td>\n",
       "      <td>1</td>\n",
       "    </tr>\n",
       "  </tbody>\n",
       "</table>\n",
       "</div>"
      ],
      "text/plain": [
       "        brand                                model  count\n",
       "0  Ambassador                     Classic 2000 Dsz      1\n",
       "1  Ambassador                  CLASSIC 1500 DSL AC      2\n",
       "2  Ambassador            Grand 1800 ISZ MPFI PW CL      1\n",
       "3        Audi                   A4 3.0 TDI Quattro     12\n",
       "4        Audi  RS7 2015-2019 Sportback Performance      1"
      ]
     },
     "execution_count": 17,
     "metadata": {},
     "output_type": "execute_result"
    }
   ],
   "source": [
    "df_modelcounts = pd.DataFrame(df[[\"brand\",\"model\"]].value_counts()).sort_values(by=\"brand\").reset_index()\n",
    "df_modelcounts[\"count\"] = df_modelcounts[0]\n",
    "df_modelcounts.drop(0,axis = 1, inplace = True)\n",
    "df_modelcounts.head()"
   ]
  },
  {
   "cell_type": "code",
   "execution_count": 18,
   "id": "ca506d3a",
   "metadata": {
    "execution": {
     "iopub.execute_input": "2022-11-07T08:32:58.189771Z",
     "iopub.status.busy": "2022-11-07T08:32:58.189333Z",
     "iopub.status.idle": "2022-11-07T08:32:58.392513Z",
     "shell.execute_reply": "2022-11-07T08:32:58.391830Z"
    },
    "papermill": {
     "duration": 0.213852,
     "end_time": "2022-11-07T08:32:58.394485",
     "exception": false,
     "start_time": "2022-11-07T08:32:58.180633",
     "status": "completed"
    },
    "tags": []
   },
   "outputs": [
    {
     "data": {
      "image/png": "[encoded data removed]",
      "text/plain": [
       "<Figure size 432x288 with 1 Axes>"
      ]
     },
     "metadata": {
      "needs_background": "light"
     },
     "output_type": "display_data"
    }
   ],
   "source": [
    "df[\"brand\"].value_counts().head(10).plot(kind=\"bar\",colormap= 'Pastel2')\n",
    "plt.xlabel(\"Brands\",fontsize=10,color=\"black\")\n",
    "plt.ylabel(\"Count\",fontsize=10,color=\"black\")\n",
    "plt.title(\"Top 10 Brands According to Sold Car Count\",color=\"black\")\n",
    "plt.show()"
   ]
  },
  {
   "cell_type": "code",
   "execution_count": 19,
   "id": "ed5a6daf",
   "metadata": {
    "execution": {
     "iopub.execute_input": "2022-11-07T08:32:58.412028Z",
     "iopub.status.busy": "2022-11-07T08:32:58.411657Z",
     "iopub.status.idle": "2022-11-07T08:32:58.625972Z",
     "shell.execute_reply": "2022-11-07T08:32:58.625053Z"
    },
    "papermill": {
     "duration": 0.226218,
     "end_time": "2022-11-07T08:32:58.628688",
     "exception": false,
     "start_time": "2022-11-07T08:32:58.402470",
     "status": "completed"
    },
    "tags": []
   },
   "outputs": [
    {
     "data": {
      "text/plain": [
       "<AxesSubplot:>"
      ]
     },
     "execution_count": 19,
     "metadata": {},
     "output_type": "execute_result"
    },
    {
     "data": {
      "image/png": "[encoded data removed]",
      "text/plain": [
       "<Figure size 432x288 with 2 Axes>"
      ]
     },
     "metadata": {
      "needs_background": "light"
     },
     "output_type": "display_data"
    }
   ],
   "source": [
    "sns.heatmap(df.corr(), annot=True)"
   ]
  },
  {
   "cell_type": "code",
   "execution_count": 20,
   "id": "998587da",
   "metadata": {
    "execution": {
     "iopub.execute_input": "2022-11-07T08:32:58.648222Z",
     "iopub.status.busy": "2022-11-07T08:32:58.647773Z",
     "iopub.status.idle": "2022-11-07T08:32:59.503577Z",
     "shell.execute_reply": "2022-11-07T08:32:59.502997Z"
    },
    "papermill": {
     "duration": 0.867805,
     "end_time": "2022-11-07T08:32:59.505280",
     "exception": false,
     "start_time": "2022-11-07T08:32:58.637475",
     "status": "completed"
    },
    "tags": []
   },
   "outputs": [
    {
     "data": {
      "image/png": "[encoded data removed]",
      "text/plain": [
       "<Figure size 864x288 with 1 Axes>"
      ]
     },
     "metadata": {
      "needs_background": "light"
     },
     "output_type": "display_data"
    }
   ],
   "source": [
    "plt.figure(figsize = (12,4))\n",
    "sns.barplot(x=\"brand\",y=\"km_driven\", data=df, palette = \"Spectral\");\n",
    "plt.xticks(rotation = 90)\n",
    "plt.show()"
   ]
  },
  {
   "cell_type": "code",
   "execution_count": 21,
   "id": "9eadf84f",
   "metadata": {
    "execution": {
     "iopub.execute_input": "2022-11-07T08:32:59.524443Z",
     "iopub.status.busy": "2022-11-07T08:32:59.523964Z",
     "iopub.status.idle": "2022-11-07T08:33:00.350569Z",
     "shell.execute_reply": "2022-11-07T08:33:00.349159Z"
    },
    "papermill": {
     "duration": 0.838961,
     "end_time": "2022-11-07T08:33:00.352943",
     "exception": false,
     "start_time": "2022-11-07T08:32:59.513982",
     "status": "completed"
    },
    "tags": []
   },
   "outputs": [
    {
     "data": {
      "image/png": "[encoded data removed]",
      "text/plain": [
       "<Figure size 864x288 with 1 Axes>"
      ]
     },
     "metadata": {
      "needs_background": "light"
     },
     "output_type": "display_data"
    }
   ],
   "source": [
    "plt.figure(figsize = (12,4))\n",
    "sns.barplot(x=\"brand\",y=\"selling_price\", data=df);\n",
    "plt.xticks(rotation = 90)\n",
    "plt.show()"
   ]
  },
  {
   "cell_type": "code",
   "execution_count": 22,
   "id": "0de32a86",
   "metadata": {
    "execution": {
     "iopub.execute_input": "2022-11-07T08:33:00.373018Z",
     "iopub.status.busy": "2022-11-07T08:33:00.372681Z",
     "iopub.status.idle": "2022-11-07T08:33:01.906929Z",
     "shell.execute_reply": "2022-11-07T08:33:01.905167Z"
    },
    "papermill": {
     "duration": 1.54725,
     "end_time": "2022-11-07T08:33:01.909492",
     "exception": false,
     "start_time": "2022-11-07T08:33:00.362242",
     "status": "completed"
    },
    "tags": []
   },
   "outputs": [
    {
     "data": {
      "image/png": "[encoded data removed]",
      "text/plain": [
       "<Figure size 505.125x288 with 1 Axes>"
      ]
     },
     "metadata": {
      "needs_background": "light"
     },
     "output_type": "display_data"
    }
   ],
   "source": [
    "sns.relplot(data=df, x=df[\"year\"], y=\"selling_price\",hue=\"fuel\",kind=\"line\", \n",
    "    height=4, aspect=1.5, facet_kws=dict(sharex=False));"
   ]
  },
  {
   "cell_type": "code",
   "execution_count": 23,
   "id": "97e95956",
   "metadata": {
    "execution": {
     "iopub.execute_input": "2022-11-07T08:33:01.931693Z",
     "iopub.status.busy": "2022-11-07T08:33:01.931347Z",
     "iopub.status.idle": "2022-11-07T08:33:01.948756Z",
     "shell.execute_reply": "2022-11-07T08:33:01.947226Z"
    },
    "papermill": {
     "duration": 0.03158,
     "end_time": "2022-11-07T08:33:01.951162",
     "exception": false,
     "start_time": "2022-11-07T08:33:01.919582",
     "status": "completed"
    },
    "tags": []
   },
   "outputs": [
    {
     "data": {
      "text/html": [
       "<div>\n",
       "<style scoped>\n",
       "    .dataframe tbody tr th:only-of-type {\n",
       "        vertical-align: middle;\n",
       "    }\n",
       "\n",
       "    .dataframe tbody tr th {\n",
       "        vertical-align: top;\n",
       "    }\n",
       "\n",
       "    .dataframe thead th {\n",
       "        text-align: right;\n",
       "    }\n",
       "</style>\n",
       "<table border=\"1\" class=\"dataframe\">\n",
       "  <thead>\n",
       "    <tr style=\"text-align: right;\">\n",
       "      <th></th>\n",
       "      <th>brand</th>\n",
       "      <th>transmission</th>\n",
       "      <th>transmission_count</th>\n",
       "    </tr>\n",
       "  </thead>\n",
       "  <tbody>\n",
       "    <tr>\n",
       "      <th>0</th>\n",
       "      <td>Ambassador</td>\n",
       "      <td>Manual</td>\n",
       "      <td>4</td>\n",
       "    </tr>\n",
       "    <tr>\n",
       "      <th>1</th>\n",
       "      <td>Audi</td>\n",
       "      <td>Automatic</td>\n",
       "      <td>60</td>\n",
       "    </tr>\n",
       "    <tr>\n",
       "      <th>2</th>\n",
       "      <td>BMW</td>\n",
       "      <td>Automatic</td>\n",
       "      <td>39</td>\n",
       "    </tr>\n",
       "    <tr>\n",
       "      <th>3</th>\n",
       "      <td>Chevrolet</td>\n",
       "      <td>Automatic</td>\n",
       "      <td>5</td>\n",
       "    </tr>\n",
       "    <tr>\n",
       "      <th>4</th>\n",
       "      <td>Chevrolet</td>\n",
       "      <td>Manual</td>\n",
       "      <td>183</td>\n",
       "    </tr>\n",
       "  </tbody>\n",
       "</table>\n",
       "</div>"
      ],
      "text/plain": [
       "        brand transmission  transmission_count\n",
       "0  Ambassador       Manual                   4\n",
       "1        Audi    Automatic                  60\n",
       "2         BMW    Automatic                  39\n",
       "3   Chevrolet    Automatic                   5\n",
       "4   Chevrolet       Manual                 183"
      ]
     },
     "execution_count": 23,
     "metadata": {},
     "output_type": "execute_result"
    }
   ],
   "source": [
    "df1= df.groupby([\"brand\",\"transmission\"]).size().reset_index().rename(columns = {0 : \"transmission_count\"})\n",
    "df1.head()"
   ]
  },
  {
   "cell_type": "code",
   "execution_count": 24,
   "id": "7c3c1327",
   "metadata": {
    "execution": {
     "iopub.execute_input": "2022-11-07T08:33:01.972624Z",
     "iopub.status.busy": "2022-11-07T08:33:01.972307Z",
     "iopub.status.idle": "2022-11-07T08:33:02.527252Z",
     "shell.execute_reply": "2022-11-07T08:33:02.526301Z"
    },
    "papermill": {
     "duration": 0.568315,
     "end_time": "2022-11-07T08:33:02.529521",
     "exception": false,
     "start_time": "2022-11-07T08:33:01.961206",
     "status": "completed"
    },
    "tags": []
   },
   "outputs": [
    {
     "data": {
      "image/png": "[encoded data removed]",
      "text/plain": [
       "<Figure size 864x288 with 1 Axes>"
      ]
     },
     "metadata": {
      "needs_background": "light"
     },
     "output_type": "display_data"
    }
   ],
   "source": [
    "plt.figure(figsize = (12,4))\n",
    "sns.barplot(x=\"brand\", y=\"transmission_count\", hue=\"transmission\", data=df1);\n",
    "plt.xticks(rotation = 90)\n",
    "plt.show()"
   ]
  },
  {
   "cell_type": "code",
   "execution_count": 25,
   "id": "81433279",
   "metadata": {
    "execution": {
     "iopub.execute_input": "2022-11-07T08:33:02.552389Z",
     "iopub.status.busy": "2022-11-07T08:33:02.551310Z",
     "iopub.status.idle": "2022-11-07T08:33:02.560904Z",
     "shell.execute_reply": "2022-11-07T08:33:02.559234Z"
    },
    "papermill": {
     "duration": 0.023556,
     "end_time": "2022-11-07T08:33:02.563439",
     "exception": false,
     "start_time": "2022-11-07T08:33:02.539883",
     "status": "completed"
    },
    "tags": []
   },
   "outputs": [
    {
     "data": {
      "text/plain": [
       "Individual          3244\n",
       "Dealer               994\n",
       "Trustmark Dealer     102\n",
       "Name: seller_type, dtype: int64"
      ]
     },
     "execution_count": 25,
     "metadata": {},
     "output_type": "execute_result"
    }
   ],
   "source": [
    "seller_type = df['seller_type'].value_counts(dropna = False)\n",
    "seller_type"
   ]
  },
  {
   "cell_type": "code",
   "execution_count": 26,
   "id": "d68ab09d",
   "metadata": {
    "execution": {
     "iopub.execute_input": "2022-11-07T08:33:02.585447Z",
     "iopub.status.busy": "2022-11-07T08:33:02.585134Z",
     "iopub.status.idle": "2022-11-07T08:33:02.702264Z",
     "shell.execute_reply": "2022-11-07T08:33:02.701517Z"
    },
    "papermill": {
     "duration": 0.130492,
     "end_time": "2022-11-07T08:33:02.704170",
     "exception": false,
     "start_time": "2022-11-07T08:33:02.573678",
     "status": "completed"
    },
    "tags": []
   },
   "outputs": [
    {
     "name": "stderr",
     "output_type": "stream",
     "text": [
      "/opt/conda/lib/python3.7/site-packages/seaborn/_decorators.py:43: FutureWarning: Pass the following variables as keyword args: x, y. From version 0.12, the only valid positional argument will be `data`, and passing other arguments without an explicit keyword will result in an error or misinterpretation.\n",
      "  FutureWarning\n"
     ]
    },
    {
     "data": {
      "image/png": "[encoded data removed]",
      "text/plain": [
       "<Figure size 432x288 with 1 Axes>"
      ]
     },
     "metadata": {
      "needs_background": "light"
     },
     "output_type": "display_data"
    }
   ],
   "source": [
    "sns.barplot(seller_type.index, seller_type.values)\n",
    "plt.title('Bar graph showing the seller_type of the column')\n",
    "plt.ylabel('Number of Occurrences', fontsize = 12)\n",
    "plt.xlabel('seller_type', fontsize = 12)\n",
    "plt.show()"
   ]
  },
  {
   "cell_type": "code",
   "execution_count": 27,
   "id": "3947c08d",
   "metadata": {
    "execution": {
     "iopub.execute_input": "2022-11-07T08:33:02.733601Z",
     "iopub.status.busy": "2022-11-07T08:33:02.733086Z",
     "iopub.status.idle": "2022-11-07T08:33:02.739897Z",
     "shell.execute_reply": "2022-11-07T08:33:02.738684Z"
    },
    "papermill": {
     "duration": 0.023117,
     "end_time": "2022-11-07T08:33:02.741651",
     "exception": false,
     "start_time": "2022-11-07T08:33:02.718534",
     "status": "completed"
    },
    "tags": []
   },
   "outputs": [
    {
     "data": {
      "text/plain": [
       "First Owner             2832\n",
       "Second Owner            1106\n",
       "Third Owner              304\n",
       "Fourth & Above Owner      81\n",
       "Test Drive Car            17\n",
       "Name: owner, dtype: int64"
      ]
     },
     "execution_count": 27,
     "metadata": {},
     "output_type": "execute_result"
    }
   ],
   "source": [
    "owner = df['owner'].value_counts(dropna = False)\n",
    "owner"
   ]
  },
  {
   "cell_type": "code",
   "execution_count": 28,
   "id": "5a8fb52e",
   "metadata": {
    "execution": {
     "iopub.execute_input": "2022-11-07T08:33:02.764246Z",
     "iopub.status.busy": "2022-11-07T08:33:02.763514Z",
     "iopub.status.idle": "2022-11-07T08:33:02.894270Z",
     "shell.execute_reply": "2022-11-07T08:33:02.893451Z"
    },
    "papermill": {
     "duration": 0.143895,
     "end_time": "2022-11-07T08:33:02.896138",
     "exception": false,
     "start_time": "2022-11-07T08:33:02.752243",
     "status": "completed"
    },
    "tags": []
   },
   "outputs": [
    {
     "name": "stderr",
     "output_type": "stream",
     "text": [
      "/opt/conda/lib/python3.7/site-packages/seaborn/_decorators.py:43: FutureWarning: Pass the following variables as keyword args: x, y. From version 0.12, the only valid positional argument will be `data`, and passing other arguments without an explicit keyword will result in an error or misinterpretation.\n",
      "  FutureWarning\n"
     ]
    },
    {
     "data": {
      "image/png": "[encoded data removed]",
      "text/plain": [
       "<Figure size 432x288 with 1 Axes>"
      ]
     },
     "metadata": {
      "needs_background": "light"
     },
     "output_type": "display_data"
    }
   ],
   "source": [
    "sns.barplot(owner.index, owner.values)\n",
    "plt.title('Bar graph showing the owner of the column')\n",
    "plt.xlabel('Owner', fontsize = 12)\n",
    "plt.xticks(rotation = 90)\n",
    "plt.show()"
   ]
  },
  {
   "cell_type": "code",
   "execution_count": 29,
   "id": "962c50e1",
   "metadata": {
    "execution": {
     "iopub.execute_input": "2022-11-07T08:33:02.925844Z",
     "iopub.status.busy": "2022-11-07T08:33:02.925370Z",
     "iopub.status.idle": "2022-11-07T08:33:03.526101Z",
     "shell.execute_reply": "2022-11-07T08:33:03.525314Z"
    },
    "papermill": {
     "duration": 0.616706,
     "end_time": "2022-11-07T08:33:03.528395",
     "exception": false,
     "start_time": "2022-11-07T08:33:02.911689",
     "status": "completed"
    },
    "tags": []
   },
   "outputs": [
    {
     "data": {
      "image/png": "[encoded data removed]",
      "text/plain": [
       "<Figure size 864x576 with 1 Axes>"
      ]
     },
     "metadata": {
      "needs_background": "light"
     },
     "output_type": "display_data"
    }
   ],
   "source": [
    "plt.figure(figsize = (12,8))\n",
    "sns.boxplot(y='brand', x='km_driven', data = df)\n",
    "plt.show()"
   ]
  }
 ],
 "metadata": {
  "kernelspec": {
   "display_name": "Python 3",
   "language": "python",
   "name": "python3"
  },
  "language_info": {
   "codemirror_mode": {
    "name": "ipython",
    "version": 3
   },
   "file_extension": ".py",
   "mimetype": "text/x-python",
   "name": "python",
   "nbconvert_exporter": "python",
   "pygments_lexer": "ipython3",
   "version": "3.7.12"
  },
  "papermill": {
   "default_parameters": {},
   "duration": 14.568721,
   "end_time": "2022-11-07T08:33:04.261155",
   "environment_variables": {},
   "exception": null,
   "input_path": "__notebook__.ipynb",
   "output_path": "__notebook__.ipynb",
   "parameters": {},
   "start_time": "2022-11-07T08:32:49.692434",
   "version": "2.3.4"
  }
 },
 "nbformat": 4,
 "nbformat_minor": 5
}
