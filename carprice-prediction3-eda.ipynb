{
 "cells": [
  {
   "cell_type": "code",
   "execution_count": 1,
   "id": "cbfb0858",
   "metadata": {
    "_cell_guid": "b1076dfc-b9ad-4769-8c92-a6c4dae69d19",
    "_uuid": "8f2839f25d086af736a60e9eeb907d3b93b6e0e5",
    "execution": {
     "iopub.execute_input": "2023-01-21T15:17:11.659108Z",
     "iopub.status.busy": "2023-01-21T15:17:11.658493Z",
     "iopub.status.idle": "2023-01-21T15:17:12.596960Z",
     "shell.execute_reply": "2023-01-21T15:17:12.595676Z"
    },
    "papermill": {
     "duration": 0.95514,
     "end_time": "2023-01-21T15:17:12.600114",
     "exception": false,
     "start_time": "2023-01-21T15:17:11.644974",
     "status": "completed"
    },
    "tags": []
   },
   "outputs": [
    {
     "name": "stdout",
     "output_type": "stream",
     "text": [
      "/kaggle/input/car-details-dataset/CAR DETAILS FROM CAR DEKHO.csv\n",
      "/kaggle/input/car-price-details/car data.csv\n",
      "/kaggle/input/car-price-details/CAR DETAILS FROM CAR DEKHO.csv\n",
      "/kaggle/input/car-price-details/Car details v3.csv\n"
     ]
    }
   ],
   "source": [
    "# This Python 3 environment comes with many helpful analytics libraries installed\n",
    "# It is defined by the kaggle/python Docker image: https://github.com/kaggle/docker-python\n",
    "# For example, here's several helpful packages to load\n",
    "\n",
    "import numpy as np # linear algebra\n",
    "import pandas as pd # data processing, CSV file I/O (e.g. pd.read_csv)\n",
    "import matplotlib.pyplot as plt\n",
    "import seaborn as sns\n",
    "\n",
    "# Input data files are available in the read-only \"../input/\" directory\n",
    "# For example, running this (by clicking run or pressing Shift+Enter) will list all files under the input directory\n",
    "\n",
    "import os\n",
    "for dirname, _, filenames in os.walk('/kaggle/input'):\n",
    "    for filename in filenames:\n",
    "        print(os.path.join(dirname, filename))\n",
    "\n",
    "# You can write up to 20GB to the current directory (/kaggle/working/) that gets preserved as output when you create a version using \"Save & Run All\" \n",
    "# You can also write temporary files to /kaggle/temp/, but they won't be saved outside of the current session"
   ]
  },
  {
   "cell_type": "code",
   "execution_count": 2,
   "id": "fbbe51b9",
   "metadata": {
    "execution": {
     "iopub.execute_input": "2023-01-21T15:17:12.623351Z",
     "iopub.status.busy": "2023-01-21T15:17:12.622429Z",
     "iopub.status.idle": "2023-01-21T15:17:12.674832Z",
     "shell.execute_reply": "2023-01-21T15:17:12.673732Z"
    },
    "papermill": {
     "duration": 0.066604,
     "end_time": "2023-01-21T15:17:12.677443",
     "exception": false,
     "start_time": "2023-01-21T15:17:12.610839",
     "status": "completed"
    },
    "tags": []
   },
   "outputs": [
    {
     "data": {
      "text/html": [
       "<div>\n",
       "<style scoped>\n",
       "    .dataframe tbody tr th:only-of-type {\n",
       "        vertical-align: middle;\n",
       "    }\n",
       "\n",
       "    .dataframe tbody tr th {\n",
       "        vertical-align: top;\n",
       "    }\n",
       "\n",
       "    .dataframe thead th {\n",
       "        text-align: right;\n",
       "    }\n",
       "</style>\n",
       "<table border=\"1\" class=\"dataframe\">\n",
       "  <thead>\n",
       "    <tr style=\"text-align: right;\">\n",
       "      <th></th>\n",
       "      <th>name</th>\n",
       "      <th>year</th>\n",
       "      <th>selling_price</th>\n",
       "      <th>km_driven</th>\n",
       "      <th>fuel</th>\n",
       "      <th>seller_type</th>\n",
       "      <th>transmission</th>\n",
       "      <th>owner</th>\n",
       "    </tr>\n",
       "  </thead>\n",
       "  <tbody>\n",
       "    <tr>\n",
       "      <th>0</th>\n",
       "      <td>Maruti 800 AC</td>\n",
       "      <td>2007</td>\n",
       "      <td>60000</td>\n",
       "      <td>70000</td>\n",
       "      <td>Petrol</td>\n",
       "      <td>Individual</td>\n",
       "      <td>Manual</td>\n",
       "      <td>First Owner</td>\n",
       "    </tr>\n",
       "    <tr>\n",
       "      <th>1</th>\n",
       "      <td>Maruti Wagon R LXI Minor</td>\n",
       "      <td>2007</td>\n",
       "      <td>135000</td>\n",
       "      <td>50000</td>\n",
       "      <td>Petrol</td>\n",
       "      <td>Individual</td>\n",
       "      <td>Manual</td>\n",
       "      <td>First Owner</td>\n",
       "    </tr>\n",
       "    <tr>\n",
       "      <th>2</th>\n",
       "      <td>Hyundai Verna 1.6 SX</td>\n",
       "      <td>2012</td>\n",
       "      <td>600000</td>\n",
       "      <td>100000</td>\n",
       "      <td>Diesel</td>\n",
       "      <td>Individual</td>\n",
       "      <td>Manual</td>\n",
       "      <td>First Owner</td>\n",
       "    </tr>\n",
       "    <tr>\n",
       "      <th>3</th>\n",
       "      <td>Datsun RediGO T Option</td>\n",
       "      <td>2017</td>\n",
       "      <td>250000</td>\n",
       "      <td>46000</td>\n",
       "      <td>Petrol</td>\n",
       "      <td>Individual</td>\n",
       "      <td>Manual</td>\n",
       "      <td>First Owner</td>\n",
       "    </tr>\n",
       "    <tr>\n",
       "      <th>4</th>\n",
       "      <td>Honda Amaze VX i-DTEC</td>\n",
       "      <td>2014</td>\n",
       "      <td>450000</td>\n",
       "      <td>141000</td>\n",
       "      <td>Diesel</td>\n",
       "      <td>Individual</td>\n",
       "      <td>Manual</td>\n",
       "      <td>Second Owner</td>\n",
       "    </tr>\n",
       "    <tr>\n",
       "      <th>...</th>\n",
       "      <td>...</td>\n",
       "      <td>...</td>\n",
       "      <td>...</td>\n",
       "      <td>...</td>\n",
       "      <td>...</td>\n",
       "      <td>...</td>\n",
       "      <td>...</td>\n",
       "      <td>...</td>\n",
       "    </tr>\n",
       "    <tr>\n",
       "      <th>4335</th>\n",
       "      <td>Hyundai i20 Magna 1.4 CRDi (Diesel)</td>\n",
       "      <td>2014</td>\n",
       "      <td>409999</td>\n",
       "      <td>80000</td>\n",
       "      <td>Diesel</td>\n",
       "      <td>Individual</td>\n",
       "      <td>Manual</td>\n",
       "      <td>Second Owner</td>\n",
       "    </tr>\n",
       "    <tr>\n",
       "      <th>4336</th>\n",
       "      <td>Hyundai i20 Magna 1.4 CRDi</td>\n",
       "      <td>2014</td>\n",
       "      <td>409999</td>\n",
       "      <td>80000</td>\n",
       "      <td>Diesel</td>\n",
       "      <td>Individual</td>\n",
       "      <td>Manual</td>\n",
       "      <td>Second Owner</td>\n",
       "    </tr>\n",
       "    <tr>\n",
       "      <th>4337</th>\n",
       "      <td>Maruti 800 AC BSIII</td>\n",
       "      <td>2009</td>\n",
       "      <td>110000</td>\n",
       "      <td>83000</td>\n",
       "      <td>Petrol</td>\n",
       "      <td>Individual</td>\n",
       "      <td>Manual</td>\n",
       "      <td>Second Owner</td>\n",
       "    </tr>\n",
       "    <tr>\n",
       "      <th>4338</th>\n",
       "      <td>Hyundai Creta 1.6 CRDi SX Option</td>\n",
       "      <td>2016</td>\n",
       "      <td>865000</td>\n",
       "      <td>90000</td>\n",
       "      <td>Diesel</td>\n",
       "      <td>Individual</td>\n",
       "      <td>Manual</td>\n",
       "      <td>First Owner</td>\n",
       "    </tr>\n",
       "    <tr>\n",
       "      <th>4339</th>\n",
       "      <td>Renault KWID RXT</td>\n",
       "      <td>2016</td>\n",
       "      <td>225000</td>\n",
       "      <td>40000</td>\n",
       "      <td>Petrol</td>\n",
       "      <td>Individual</td>\n",
       "      <td>Manual</td>\n",
       "      <td>First Owner</td>\n",
       "    </tr>\n",
       "  </tbody>\n",
       "</table>\n",
       "<p>4340 rows × 8 columns</p>\n",
       "</div>"
      ],
      "text/plain": [
       "                                     name  year  selling_price  km_driven  \\\n",
       "0                           Maruti 800 AC  2007          60000      70000   \n",
       "1                Maruti Wagon R LXI Minor  2007         135000      50000   \n",
       "2                    Hyundai Verna 1.6 SX  2012         600000     100000   \n",
       "3                  Datsun RediGO T Option  2017         250000      46000   \n",
       "4                   Honda Amaze VX i-DTEC  2014         450000     141000   \n",
       "...                                   ...   ...            ...        ...   \n",
       "4335  Hyundai i20 Magna 1.4 CRDi (Diesel)  2014         409999      80000   \n",
       "4336           Hyundai i20 Magna 1.4 CRDi  2014         409999      80000   \n",
       "4337                  Maruti 800 AC BSIII  2009         110000      83000   \n",
       "4338     Hyundai Creta 1.6 CRDi SX Option  2016         865000      90000   \n",
       "4339                     Renault KWID RXT  2016         225000      40000   \n",
       "\n",
       "        fuel seller_type transmission         owner  \n",
       "0     Petrol  Individual       Manual   First Owner  \n",
       "1     Petrol  Individual       Manual   First Owner  \n",
       "2     Diesel  Individual       Manual   First Owner  \n",
       "3     Petrol  Individual       Manual   First Owner  \n",
       "4     Diesel  Individual       Manual  Second Owner  \n",
       "...      ...         ...          ...           ...  \n",
       "4335  Diesel  Individual       Manual  Second Owner  \n",
       "4336  Diesel  Individual       Manual  Second Owner  \n",
       "4337  Petrol  Individual       Manual  Second Owner  \n",
       "4338  Diesel  Individual       Manual   First Owner  \n",
       "4339  Petrol  Individual       Manual   First Owner  \n",
       "\n",
       "[4340 rows x 8 columns]"
      ]
     },
     "execution_count": 2,
     "metadata": {},
     "output_type": "execute_result"
    }
   ],
   "source": [
    "cars_df=pd.read_csv(\"/kaggle/input/car-price-details/CAR DETAILS FROM CAR DEKHO.csv\")\n",
    "cars_df"
   ]
  },
  {
   "cell_type": "markdown",
   "id": "12dd926e",
   "metadata": {
    "papermill": {
     "duration": 0.010164,
     "end_time": "2023-01-21T15:17:12.700280",
     "exception": false,
     "start_time": "2023-01-21T15:17:12.690116",
     "status": "completed"
    },
    "tags": []
   },
   "source": [
    "**Exploratory Information About Dataset**"
   ]
  },
  {
   "cell_type": "code",
   "execution_count": 3,
   "id": "5a69e6ad",
   "metadata": {
    "execution": {
     "iopub.execute_input": "2023-01-21T15:17:12.723369Z",
     "iopub.status.busy": "2023-01-21T15:17:12.722875Z",
     "iopub.status.idle": "2023-01-21T15:17:12.736663Z",
     "shell.execute_reply": "2023-01-21T15:17:12.735452Z"
    },
    "papermill": {
     "duration": 0.028119,
     "end_time": "2023-01-21T15:17:12.738968",
     "exception": false,
     "start_time": "2023-01-21T15:17:12.710849",
     "status": "completed"
    },
    "tags": []
   },
   "outputs": [
    {
     "data": {
      "text/html": [
       "<div>\n",
       "<style scoped>\n",
       "    .dataframe tbody tr th:only-of-type {\n",
       "        vertical-align: middle;\n",
       "    }\n",
       "\n",
       "    .dataframe tbody tr th {\n",
       "        vertical-align: top;\n",
       "    }\n",
       "\n",
       "    .dataframe thead th {\n",
       "        text-align: right;\n",
       "    }\n",
       "</style>\n",
       "<table border=\"1\" class=\"dataframe\">\n",
       "  <thead>\n",
       "    <tr style=\"text-align: right;\">\n",
       "      <th></th>\n",
       "      <th>name</th>\n",
       "      <th>year</th>\n",
       "      <th>selling_price</th>\n",
       "      <th>km_driven</th>\n",
       "      <th>fuel</th>\n",
       "      <th>seller_type</th>\n",
       "      <th>transmission</th>\n",
       "      <th>owner</th>\n",
       "    </tr>\n",
       "  </thead>\n",
       "  <tbody>\n",
       "    <tr>\n",
       "      <th>0</th>\n",
       "      <td>Maruti 800 AC</td>\n",
       "      <td>2007</td>\n",
       "      <td>60000</td>\n",
       "      <td>70000</td>\n",
       "      <td>Petrol</td>\n",
       "      <td>Individual</td>\n",
       "      <td>Manual</td>\n",
       "      <td>First Owner</td>\n",
       "    </tr>\n",
       "    <tr>\n",
       "      <th>1</th>\n",
       "      <td>Maruti Wagon R LXI Minor</td>\n",
       "      <td>2007</td>\n",
       "      <td>135000</td>\n",
       "      <td>50000</td>\n",
       "      <td>Petrol</td>\n",
       "      <td>Individual</td>\n",
       "      <td>Manual</td>\n",
       "      <td>First Owner</td>\n",
       "    </tr>\n",
       "    <tr>\n",
       "      <th>2</th>\n",
       "      <td>Hyundai Verna 1.6 SX</td>\n",
       "      <td>2012</td>\n",
       "      <td>600000</td>\n",
       "      <td>100000</td>\n",
       "      <td>Diesel</td>\n",
       "      <td>Individual</td>\n",
       "      <td>Manual</td>\n",
       "      <td>First Owner</td>\n",
       "    </tr>\n",
       "    <tr>\n",
       "      <th>3</th>\n",
       "      <td>Datsun RediGO T Option</td>\n",
       "      <td>2017</td>\n",
       "      <td>250000</td>\n",
       "      <td>46000</td>\n",
       "      <td>Petrol</td>\n",
       "      <td>Individual</td>\n",
       "      <td>Manual</td>\n",
       "      <td>First Owner</td>\n",
       "    </tr>\n",
       "    <tr>\n",
       "      <th>4</th>\n",
       "      <td>Honda Amaze VX i-DTEC</td>\n",
       "      <td>2014</td>\n",
       "      <td>450000</td>\n",
       "      <td>141000</td>\n",
       "      <td>Diesel</td>\n",
       "      <td>Individual</td>\n",
       "      <td>Manual</td>\n",
       "      <td>Second Owner</td>\n",
       "    </tr>\n",
       "  </tbody>\n",
       "</table>\n",
       "</div>"
      ],
      "text/plain": [
       "                       name  year  selling_price  km_driven    fuel  \\\n",
       "0             Maruti 800 AC  2007          60000      70000  Petrol   \n",
       "1  Maruti Wagon R LXI Minor  2007         135000      50000  Petrol   \n",
       "2      Hyundai Verna 1.6 SX  2012         600000     100000  Diesel   \n",
       "3    Datsun RediGO T Option  2017         250000      46000  Petrol   \n",
       "4     Honda Amaze VX i-DTEC  2014         450000     141000  Diesel   \n",
       "\n",
       "  seller_type transmission         owner  \n",
       "0  Individual       Manual   First Owner  \n",
       "1  Individual       Manual   First Owner  \n",
       "2  Individual       Manual   First Owner  \n",
       "3  Individual       Manual   First Owner  \n",
       "4  Individual       Manual  Second Owner  "
      ]
     },
     "execution_count": 3,
     "metadata": {},
     "output_type": "execute_result"
    }
   ],
   "source": [
    "cars_df.head()"
   ]
  },
  {
   "cell_type": "markdown",
   "id": "26a40e0a",
   "metadata": {
    "papermill": {
     "duration": 0.010454,
     "end_time": "2023-01-21T15:17:12.760266",
     "exception": false,
     "start_time": "2023-01-21T15:17:12.749812",
     "status": "completed"
    },
    "tags": []
   },
   "source": [
    "**Here is the row count and objet datatype of column**"
   ]
  },
  {
   "cell_type": "code",
   "execution_count": 4,
   "id": "97af6e18",
   "metadata": {
    "execution": {
     "iopub.execute_input": "2023-01-21T15:17:12.784744Z",
     "iopub.status.busy": "2023-01-21T15:17:12.783810Z",
     "iopub.status.idle": "2023-01-21T15:17:12.808711Z",
     "shell.execute_reply": "2023-01-21T15:17:12.807262Z"
    },
    "papermill": {
     "duration": 0.039723,
     "end_time": "2023-01-21T15:17:12.811294",
     "exception": false,
     "start_time": "2023-01-21T15:17:12.771571",
     "status": "completed"
    },
    "tags": []
   },
   "outputs": [
    {
     "name": "stdout",
     "output_type": "stream",
     "text": [
      "<class 'pandas.core.frame.DataFrame'>\n",
      "RangeIndex: 4340 entries, 0 to 4339\n",
      "Data columns (total 8 columns):\n",
      " #   Column         Non-Null Count  Dtype \n",
      "---  ------         --------------  ----- \n",
      " 0   name           4340 non-null   object\n",
      " 1   year           4340 non-null   int64 \n",
      " 2   selling_price  4340 non-null   int64 \n",
      " 3   km_driven      4340 non-null   int64 \n",
      " 4   fuel           4340 non-null   object\n",
      " 5   seller_type    4340 non-null   object\n",
      " 6   transmission   4340 non-null   object\n",
      " 7   owner          4340 non-null   object\n",
      "dtypes: int64(3), object(5)\n",
      "memory usage: 271.4+ KB\n"
     ]
    }
   ],
   "source": [
    "cars_df.info()"
   ]
  },
  {
   "cell_type": "markdown",
   "id": "928c9679",
   "metadata": {
    "papermill": {
     "duration": 0.010538,
     "end_time": "2023-01-21T15:17:12.832696",
     "exception": false,
     "start_time": "2023-01-21T15:17:12.822158",
     "status": "completed"
    },
    "tags": []
   },
   "source": [
    "**Here is the mean value,std deviation,maxima,minima of numerical columns in dataset**"
   ]
  },
  {
   "cell_type": "code",
   "execution_count": 5,
   "id": "71a16c66",
   "metadata": {
    "execution": {
     "iopub.execute_input": "2023-01-21T15:17:12.855974Z",
     "iopub.status.busy": "2023-01-21T15:17:12.855577Z",
     "iopub.status.idle": "2023-01-21T15:17:12.878289Z",
     "shell.execute_reply": "2023-01-21T15:17:12.877095Z"
    },
    "papermill": {
     "duration": 0.037202,
     "end_time": "2023-01-21T15:17:12.880657",
     "exception": false,
     "start_time": "2023-01-21T15:17:12.843455",
     "status": "completed"
    },
    "tags": []
   },
   "outputs": [
    {
     "data": {
      "text/html": [
       "<div>\n",
       "<style scoped>\n",
       "    .dataframe tbody tr th:only-of-type {\n",
       "        vertical-align: middle;\n",
       "    }\n",
       "\n",
       "    .dataframe tbody tr th {\n",
       "        vertical-align: top;\n",
       "    }\n",
       "\n",
       "    .dataframe thead th {\n",
       "        text-align: right;\n",
       "    }\n",
       "</style>\n",
       "<table border=\"1\" class=\"dataframe\">\n",
       "  <thead>\n",
       "    <tr style=\"text-align: right;\">\n",
       "      <th></th>\n",
       "      <th>year</th>\n",
       "      <th>selling_price</th>\n",
       "      <th>km_driven</th>\n",
       "    </tr>\n",
       "  </thead>\n",
       "  <tbody>\n",
       "    <tr>\n",
       "      <th>count</th>\n",
       "      <td>4340.000000</td>\n",
       "      <td>4.340000e+03</td>\n",
       "      <td>4340.000000</td>\n",
       "    </tr>\n",
       "    <tr>\n",
       "      <th>mean</th>\n",
       "      <td>2013.090783</td>\n",
       "      <td>5.041273e+05</td>\n",
       "      <td>66215.777419</td>\n",
       "    </tr>\n",
       "    <tr>\n",
       "      <th>std</th>\n",
       "      <td>4.215344</td>\n",
       "      <td>5.785487e+05</td>\n",
       "      <td>46644.102194</td>\n",
       "    </tr>\n",
       "    <tr>\n",
       "      <th>min</th>\n",
       "      <td>1992.000000</td>\n",
       "      <td>2.000000e+04</td>\n",
       "      <td>1.000000</td>\n",
       "    </tr>\n",
       "    <tr>\n",
       "      <th>25%</th>\n",
       "      <td>2011.000000</td>\n",
       "      <td>2.087498e+05</td>\n",
       "      <td>35000.000000</td>\n",
       "    </tr>\n",
       "    <tr>\n",
       "      <th>50%</th>\n",
       "      <td>2014.000000</td>\n",
       "      <td>3.500000e+05</td>\n",
       "      <td>60000.000000</td>\n",
       "    </tr>\n",
       "    <tr>\n",
       "      <th>75%</th>\n",
       "      <td>2016.000000</td>\n",
       "      <td>6.000000e+05</td>\n",
       "      <td>90000.000000</td>\n",
       "    </tr>\n",
       "    <tr>\n",
       "      <th>max</th>\n",
       "      <td>2020.000000</td>\n",
       "      <td>8.900000e+06</td>\n",
       "      <td>806599.000000</td>\n",
       "    </tr>\n",
       "  </tbody>\n",
       "</table>\n",
       "</div>"
      ],
      "text/plain": [
       "              year  selling_price      km_driven\n",
       "count  4340.000000   4.340000e+03    4340.000000\n",
       "mean   2013.090783   5.041273e+05   66215.777419\n",
       "std       4.215344   5.785487e+05   46644.102194\n",
       "min    1992.000000   2.000000e+04       1.000000\n",
       "25%    2011.000000   2.087498e+05   35000.000000\n",
       "50%    2014.000000   3.500000e+05   60000.000000\n",
       "75%    2016.000000   6.000000e+05   90000.000000\n",
       "max    2020.000000   8.900000e+06  806599.000000"
      ]
     },
     "execution_count": 5,
     "metadata": {},
     "output_type": "execute_result"
    }
   ],
   "source": [
    "cars_df.describe()"
   ]
  },
  {
   "cell_type": "markdown",
   "id": "0c3ae8f0",
   "metadata": {
    "papermill": {
     "duration": 0.011014,
     "end_time": "2023-01-21T15:17:12.902986",
     "exception": false,
     "start_time": "2023-01-21T15:17:12.891972",
     "status": "completed"
    },
    "tags": []
   },
   "source": [
    "**Here is the correlation of columns in dataset**"
   ]
  },
  {
   "cell_type": "code",
   "execution_count": 6,
   "id": "2a0f1168",
   "metadata": {
    "execution": {
     "iopub.execute_input": "2023-01-21T15:17:12.927410Z",
     "iopub.status.busy": "2023-01-21T15:17:12.926981Z",
     "iopub.status.idle": "2023-01-21T15:17:12.941231Z",
     "shell.execute_reply": "2023-01-21T15:17:12.939909Z"
    },
    "papermill": {
     "duration": 0.029209,
     "end_time": "2023-01-21T15:17:12.943615",
     "exception": false,
     "start_time": "2023-01-21T15:17:12.914406",
     "status": "completed"
    },
    "tags": []
   },
   "outputs": [
    {
     "data": {
      "text/html": [
       "<div>\n",
       "<style scoped>\n",
       "    .dataframe tbody tr th:only-of-type {\n",
       "        vertical-align: middle;\n",
       "    }\n",
       "\n",
       "    .dataframe tbody tr th {\n",
       "        vertical-align: top;\n",
       "    }\n",
       "\n",
       "    .dataframe thead th {\n",
       "        text-align: right;\n",
       "    }\n",
       "</style>\n",
       "<table border=\"1\" class=\"dataframe\">\n",
       "  <thead>\n",
       "    <tr style=\"text-align: right;\">\n",
       "      <th></th>\n",
       "      <th>year</th>\n",
       "      <th>selling_price</th>\n",
       "      <th>km_driven</th>\n",
       "    </tr>\n",
       "  </thead>\n",
       "  <tbody>\n",
       "    <tr>\n",
       "      <th>year</th>\n",
       "      <td>1.000000</td>\n",
       "      <td>0.413922</td>\n",
       "      <td>-0.419688</td>\n",
       "    </tr>\n",
       "    <tr>\n",
       "      <th>selling_price</th>\n",
       "      <td>0.413922</td>\n",
       "      <td>1.000000</td>\n",
       "      <td>-0.192289</td>\n",
       "    </tr>\n",
       "    <tr>\n",
       "      <th>km_driven</th>\n",
       "      <td>-0.419688</td>\n",
       "      <td>-0.192289</td>\n",
       "      <td>1.000000</td>\n",
       "    </tr>\n",
       "  </tbody>\n",
       "</table>\n",
       "</div>"
      ],
      "text/plain": [
       "                   year  selling_price  km_driven\n",
       "year           1.000000       0.413922  -0.419688\n",
       "selling_price  0.413922       1.000000  -0.192289\n",
       "km_driven     -0.419688      -0.192289   1.000000"
      ]
     },
     "execution_count": 6,
     "metadata": {},
     "output_type": "execute_result"
    }
   ],
   "source": [
    "cars_df.corr()"
   ]
  },
  {
   "cell_type": "markdown",
   "id": "3ca788cd",
   "metadata": {
    "papermill": {
     "duration": 0.010875,
     "end_time": "2023-01-21T15:17:12.966327",
     "exception": false,
     "start_time": "2023-01-21T15:17:12.955452",
     "status": "completed"
    },
    "tags": []
   },
   "source": [
    "**Here is if there are null values in columns**"
   ]
  },
  {
   "cell_type": "code",
   "execution_count": 7,
   "id": "d665b4ef",
   "metadata": {
    "execution": {
     "iopub.execute_input": "2023-01-21T15:17:12.991223Z",
     "iopub.status.busy": "2023-01-21T15:17:12.990366Z",
     "iopub.status.idle": "2023-01-21T15:17:13.000841Z",
     "shell.execute_reply": "2023-01-21T15:17:12.999936Z"
    },
    "papermill": {
     "duration": 0.025236,
     "end_time": "2023-01-21T15:17:13.003030",
     "exception": false,
     "start_time": "2023-01-21T15:17:12.977794",
     "status": "completed"
    },
    "tags": []
   },
   "outputs": [
    {
     "data": {
      "text/plain": [
       "name             0\n",
       "year             0\n",
       "selling_price    0\n",
       "km_driven        0\n",
       "fuel             0\n",
       "seller_type      0\n",
       "transmission     0\n",
       "owner            0\n",
       "dtype: int64"
      ]
     },
     "execution_count": 7,
     "metadata": {},
     "output_type": "execute_result"
    }
   ],
   "source": [
    "cars_df.isnull().sum()"
   ]
  },
  {
   "cell_type": "markdown",
   "id": "fc7269a5",
   "metadata": {
    "papermill": {
     "duration": 0.011072,
     "end_time": "2023-01-21T15:17:13.025720",
     "exception": false,
     "start_time": "2023-01-21T15:17:13.014648",
     "status": "completed"
    },
    "tags": []
   },
   "source": [
    "**Here are the total columns in dataset**"
   ]
  },
  {
   "cell_type": "code",
   "execution_count": 8,
   "id": "9c8a4993",
   "metadata": {
    "execution": {
     "iopub.execute_input": "2023-01-21T15:17:13.050419Z",
     "iopub.status.busy": "2023-01-21T15:17:13.050015Z",
     "iopub.status.idle": "2023-01-21T15:17:13.056619Z",
     "shell.execute_reply": "2023-01-21T15:17:13.055434Z"
    },
    "papermill": {
     "duration": 0.021935,
     "end_time": "2023-01-21T15:17:13.059058",
     "exception": false,
     "start_time": "2023-01-21T15:17:13.037123",
     "status": "completed"
    },
    "tags": []
   },
   "outputs": [
    {
     "data": {
      "text/plain": [
       "Index(['name', 'year', 'selling_price', 'km_driven', 'fuel', 'seller_type',\n",
       "       'transmission', 'owner'],\n",
       "      dtype='object')"
      ]
     },
     "execution_count": 8,
     "metadata": {},
     "output_type": "execute_result"
    }
   ],
   "source": [
    "cars_df.columns"
   ]
  },
  {
   "cell_type": "markdown",
   "id": "9a24d97a",
   "metadata": {
    "papermill": {
     "duration": 0.011246,
     "end_time": "2023-01-21T15:17:13.082124",
     "exception": false,
     "start_time": "2023-01-21T15:17:13.070878",
     "status": "completed"
    },
    "tags": []
   },
   "source": [
    "**Here are the unique values in column name \"name\"**"
   ]
  },
  {
   "cell_type": "code",
   "execution_count": 9,
   "id": "d702e06a",
   "metadata": {
    "execution": {
     "iopub.execute_input": "2023-01-21T15:17:13.107123Z",
     "iopub.status.busy": "2023-01-21T15:17:13.106714Z",
     "iopub.status.idle": "2023-01-21T15:17:13.116433Z",
     "shell.execute_reply": "2023-01-21T15:17:13.115216Z"
    },
    "papermill": {
     "duration": 0.025114,
     "end_time": "2023-01-21T15:17:13.118867",
     "exception": false,
     "start_time": "2023-01-21T15:17:13.093753",
     "status": "completed"
    },
    "tags": []
   },
   "outputs": [
    {
     "data": {
      "text/plain": [
       "(array(['Maruti 800 AC', 'Maruti Wagon R LXI Minor',\n",
       "        'Hyundai Verna 1.6 SX', ..., 'Mahindra Verito 1.5 D6 BSIII',\n",
       "        'Toyota Innova 2.5 VX (Diesel) 8 Seater BS IV',\n",
       "        'Hyundai i20 Magna 1.4 CRDi'], dtype=object),\n",
       " 1491)"
      ]
     },
     "execution_count": 9,
     "metadata": {},
     "output_type": "execute_result"
    }
   ],
   "source": [
    "\"\"\"\n",
    "    Method Name: apply unique function\n",
    "    Description: Here we applied the unique function to find unique names of cars\n",
    "    Output: All cars name\n",
    "    On Failure: Raise Exception\n",
    "    Written By: Aniruddha Kawarase\n",
    "    Version: 2.0\n",
    "    Revisions: None\n",
    "    \"\"\"\n",
    "cars_df[\"name\"].unique(),cars_df[\"name\"].nunique()"
   ]
  },
  {
   "cell_type": "markdown",
   "id": "479cd901",
   "metadata": {
    "papermill": {
     "duration": 0.011959,
     "end_time": "2023-01-21T15:17:13.142471",
     "exception": false,
     "start_time": "2023-01-21T15:17:13.130512",
     "status": "completed"
    },
    "tags": []
   },
   "source": [
    "**Here are the lambda and split function**"
   ]
  },
  {
   "cell_type": "code",
   "execution_count": 10,
   "id": "1e45278b",
   "metadata": {
    "execution": {
     "iopub.execute_input": "2023-01-21T15:17:13.168357Z",
     "iopub.status.busy": "2023-01-21T15:17:13.167108Z",
     "iopub.status.idle": "2023-01-21T15:17:13.184915Z",
     "shell.execute_reply": "2023-01-21T15:17:13.183860Z"
    },
    "papermill": {
     "duration": 0.033412,
     "end_time": "2023-01-21T15:17:13.187478",
     "exception": false,
     "start_time": "2023-01-21T15:17:13.154066",
     "status": "completed"
    },
    "tags": []
   },
   "outputs": [
    {
     "data": {
      "text/plain": [
       "0     Maruti\n",
       "1     Maruti\n",
       "2    Hyundai\n",
       "3     Datsun\n",
       "4      Honda\n",
       "Name: name_2, dtype: object"
      ]
     },
     "execution_count": 10,
     "metadata": {},
     "output_type": "execute_result"
    }
   ],
   "source": [
    "\"\"\"\n",
    "    Method Name: apply lambda and split function\n",
    "    Description: Here we applied the lambda function and split function to seperate the specific name of cars and\n",
    "                 saved in new variable \"name_2\"\n",
    "    Output: All cars name\n",
    "    On Failure: Raise Exception\n",
    "    Written By: Aniruddha Kawarase\n",
    "    Version: 2.0\n",
    "    Revisions: None\n",
    "    \"\"\"\n",
    "cars_df[\"name_2\"] = cars_df.name.apply(lambda x : ' '.join(x.split(' ')[:1]))\n",
    "cars_df['name_2'].head()"
   ]
  },
  {
   "cell_type": "markdown",
   "id": "456e5a61",
   "metadata": {
    "papermill": {
     "duration": 0.01249,
     "end_time": "2023-01-21T15:17:13.213123",
     "exception": false,
     "start_time": "2023-01-21T15:17:13.200633",
     "status": "completed"
    },
    "tags": []
   },
   "source": [
    "**Here is the value count of all cars**"
   ]
  },
  {
   "cell_type": "code",
   "execution_count": 11,
   "id": "da2ef4d2",
   "metadata": {
    "execution": {
     "iopub.execute_input": "2023-01-21T15:17:13.242017Z",
     "iopub.status.busy": "2023-01-21T15:17:13.240417Z",
     "iopub.status.idle": "2023-01-21T15:17:13.250886Z",
     "shell.execute_reply": "2023-01-21T15:17:13.249835Z"
    },
    "papermill": {
     "duration": 0.027986,
     "end_time": "2023-01-21T15:17:13.253071",
     "exception": false,
     "start_time": "2023-01-21T15:17:13.225085",
     "status": "completed"
    },
    "tags": []
   },
   "outputs": [
    {
     "data": {
      "text/plain": [
       "Maruti           1280\n",
       "Hyundai           821\n",
       "Mahindra          365\n",
       "Tata              361\n",
       "Honda             252\n",
       "Ford              238\n",
       "Toyota            206\n",
       "Chevrolet         188\n",
       "Renault           146\n",
       "Volkswagen        107\n",
       "Skoda              68\n",
       "Nissan             64\n",
       "Audi               60\n",
       "BMW                39\n",
       "Fiat               37\n",
       "Datsun             37\n",
       "Mercedes-Benz      35\n",
       "Jaguar              6\n",
       "Mitsubishi          6\n",
       "Land                5\n",
       "Volvo               4\n",
       "Ambassador          4\n",
       "Jeep                3\n",
       "MG                  2\n",
       "OpelCorsa           2\n",
       "Daewoo              1\n",
       "Force               1\n",
       "Isuzu               1\n",
       "Kia                 1\n",
       "Name: name_2, dtype: int64"
      ]
     },
     "execution_count": 11,
     "metadata": {},
     "output_type": "execute_result"
    }
   ],
   "source": [
    "cars_df.name_2.value_counts()"
   ]
  },
  {
   "cell_type": "markdown",
   "id": "1018f5d3",
   "metadata": {
    "papermill": {
     "duration": 0.011683,
     "end_time": "2023-01-21T15:17:13.276748",
     "exception": false,
     "start_time": "2023-01-21T15:17:13.265065",
     "status": "completed"
    },
    "tags": []
   },
   "source": [
    "**Data visualization**"
   ]
  },
  {
   "cell_type": "markdown",
   "id": "ea7d4af2",
   "metadata": {
    "papermill": {
     "duration": 0.011523,
     "end_time": "2023-01-21T15:17:13.300187",
     "exception": false,
     "start_time": "2023-01-21T15:17:13.288664",
     "status": "completed"
    },
    "tags": []
   },
   "source": [
    "**Countplot of all cars**"
   ]
  },
  {
   "cell_type": "code",
   "execution_count": 12,
   "id": "76616a98",
   "metadata": {
    "execution": {
     "iopub.execute_input": "2023-01-21T15:17:13.325846Z",
     "iopub.status.busy": "2023-01-21T15:17:13.325184Z",
     "iopub.status.idle": "2023-01-21T15:17:13.667711Z",
     "shell.execute_reply": "2023-01-21T15:17:13.666793Z"
    },
    "papermill": {
     "duration": 0.357997,
     "end_time": "2023-01-21T15:17:13.669933",
     "exception": false,
     "start_time": "2023-01-21T15:17:13.311936",
     "status": "completed"
    },
    "tags": []
   },
   "outputs": [
    {
     "data": {
      "image/png": "[encoded data removed]",
      "text/plain": [
       "<Figure size 720x720 with 1 Axes>"
      ]
     },
     "metadata": {
      "needs_background": "light"
     },
     "output_type": "display_data"
    }
   ],
   "source": [
    "\"\"\"\n",
    "    Method Name: count_plot\n",
    "    Description: This is a method for ploting count_plot.We will plot count_plot with respect to given quantities.Taking dataset as\n",
    "                 input from user \n",
    "    Output: count_plot of respective values\n",
    "    On Failure: Raise Exception\n",
    "    Written By: Aniruddha Kawarase\n",
    "    Version: 2.0\n",
    "    Revisions: None\n",
    "    \"\"\"\n",
    "plt.figure(figsize=(10,10))\n",
    "sns.countplot(data=cars_df,x=\"name_2\",palette=\"CMRmap\")\n",
    "plt.xticks(rotation=90)\n",
    "plt.xlabel(\"Car name\",fontsize=15,color=\"black\")\n",
    "plt.ylabel(\"Car count\",fontsize=15,color=\"black\")\n",
    "plt.title(\"Cars count\",fontsize=25)\n",
    "plt.show()"
   ]
  },
  {
   "cell_type": "code",
   "execution_count": 13,
   "id": "d751e513",
   "metadata": {
    "execution": {
     "iopub.execute_input": "2023-01-21T15:17:13.697124Z",
     "iopub.status.busy": "2023-01-21T15:17:13.696487Z",
     "iopub.status.idle": "2023-01-21T15:17:13.703682Z",
     "shell.execute_reply": "2023-01-21T15:17:13.702905Z"
    },
    "papermill": {
     "duration": 0.023185,
     "end_time": "2023-01-21T15:17:13.705744",
     "exception": false,
     "start_time": "2023-01-21T15:17:13.682559",
     "status": "completed"
    },
    "tags": []
   },
   "outputs": [
    {
     "data": {
      "text/plain": [
       "2017    466\n",
       "2015    421\n",
       "2012    415\n",
       "2013    386\n",
       "2014    367\n",
       "2018    366\n",
       "2016    357\n",
       "2011    271\n",
       "2010    234\n",
       "2019    195\n",
       "2009    193\n",
       "2008    145\n",
       "2007    134\n",
       "2006    110\n",
       "2005     85\n",
       "2020     48\n",
       "2004     42\n",
       "2003     23\n",
       "2002     21\n",
       "2001     20\n",
       "1998     12\n",
       "2000     12\n",
       "1999     10\n",
       "1997      3\n",
       "1996      2\n",
       "1995      1\n",
       "1992      1\n",
       "Name: year, dtype: int64"
      ]
     },
     "execution_count": 13,
     "metadata": {},
     "output_type": "execute_result"
    }
   ],
   "source": [
    "cars_df.year.value_counts()"
   ]
  },
  {
   "cell_type": "markdown",
   "id": "a4afdcf9",
   "metadata": {
    "papermill": {
     "duration": 0.012813,
     "end_time": "2023-01-21T15:17:13.731117",
     "exception": false,
     "start_time": "2023-01-21T15:17:13.718304",
     "status": "completed"
    },
    "tags": []
   },
   "source": [
    "**Countplot of all years**"
   ]
  },
  {
   "cell_type": "code",
   "execution_count": 14,
   "id": "e171222f",
   "metadata": {
    "execution": {
     "iopub.execute_input": "2023-01-21T15:17:13.758457Z",
     "iopub.status.busy": "2023-01-21T15:17:13.757741Z",
     "iopub.status.idle": "2023-01-21T15:17:14.094727Z",
     "shell.execute_reply": "2023-01-21T15:17:14.093566Z"
    },
    "papermill": {
     "duration": 0.353467,
     "end_time": "2023-01-21T15:17:14.097172",
     "exception": false,
     "start_time": "2023-01-21T15:17:13.743705",
     "status": "completed"
    },
    "tags": []
   },
   "outputs": [
    {
     "data": {
      "image/png": "[encoded data removed]",
      "text/plain": [
       "<Figure size 720x720 with 1 Axes>"
      ]
     },
     "metadata": {
      "needs_background": "light"
     },
     "output_type": "display_data"
    }
   ],
   "source": [
    "\"\"\"\n",
    "    Method Name: count_plot\n",
    "    Description: This is a method for ploting count_plot.We will plot count_plot with respect to given quantities.Taking dataset as\n",
    "                 input from user \n",
    "    Output: count_plot of respective values\n",
    "    On Failure: Raise Exception\n",
    "    Written By: Aniruddha Kawarase\n",
    "    Version: 2.0\n",
    "    Revisions: None\n",
    "    \"\"\"\n",
    "plt.figure(figsize=(10,10))\n",
    "sns.countplot(data=cars_df,x=\"year\",palette=\"icefire\")\n",
    "plt.xticks(rotation=90)\n",
    "plt.xlabel(\"YEAR\",fontsize=15,color=\"RED\")\n",
    "plt.ylabel(\"COUNT\",fontsize=15,color=\"RED\")\n",
    "plt.title(\"YEAR COUNT\",fontsize=25,color=\"RED\")\n",
    "plt.show()\n"
   ]
  },
  {
   "cell_type": "markdown",
   "id": "b78133c3",
   "metadata": {
    "papermill": {
     "duration": 0.012794,
     "end_time": "2023-01-21T15:17:14.122990",
     "exception": false,
     "start_time": "2023-01-21T15:17:14.110196",
     "status": "completed"
    },
    "tags": []
   },
   "source": [
    "**Pie chart of top 5 cars**"
   ]
  },
  {
   "cell_type": "code",
   "execution_count": 15,
   "id": "0c4c54e4",
   "metadata": {
    "execution": {
     "iopub.execute_input": "2023-01-21T15:17:14.151315Z",
     "iopub.status.busy": "2023-01-21T15:17:14.150907Z",
     "iopub.status.idle": "2023-01-21T15:17:14.388457Z",
     "shell.execute_reply": "2023-01-21T15:17:14.386726Z"
    },
    "papermill": {
     "duration": 0.25532,
     "end_time": "2023-01-21T15:17:14.391403",
     "exception": false,
     "start_time": "2023-01-21T15:17:14.136083",
     "status": "completed"
    },
    "tags": []
   },
   "outputs": [
    {
     "data": {
      "image/png": "[encoded data removed]",
      "text/plain": [
       "<Figure size 720x720 with 1 Axes>"
      ]
     },
     "metadata": {},
     "output_type": "display_data"
    }
   ],
   "source": [
    "\"\"\"\n",
    "    Method Name: pie_chart\n",
    "    Description: This is a method for ploting pie chart.We will plot pie chart with respect to given quantities.Taking dataset as\n",
    "                 input from user \n",
    "    Output: pie chart of respective values\n",
    "    On Failure: Raise Exception\n",
    "    Written By: Aniruddha Kawarase\n",
    "    Version: 2.0\n",
    "    Revisions: None\n",
    "    \"\"\"\n",
    "labels = cars_df[\"name_2\"][:10].value_counts().index\n",
    "sizes = cars_df[\"name_2\"][:10].value_counts()\n",
    "plt.figure(figsize = (10,10))\n",
    "plt.pie(sizes, labels=labels, rotatelabels=False, autopct='%1.1f%%',shadow=True, startangle=45,textprops={'fontsize':20})\n",
    "plt.title('Car name',color = 'red',fontsize = 30)\n",
    "plt.show()"
   ]
  },
  {
   "cell_type": "markdown",
   "id": "0e6d9b33",
   "metadata": {
    "papermill": {
     "duration": 0.013504,
     "end_time": "2023-01-21T15:17:14.421346",
     "exception": false,
     "start_time": "2023-01-21T15:17:14.407842",
     "status": "completed"
    },
    "tags": []
   },
   "source": [
    "**Piechart of car sell of particular year**"
   ]
  },
  {
   "cell_type": "markdown",
   "id": "d36d88d0",
   "metadata": {
    "papermill": {
     "duration": 0.013331,
     "end_time": "2023-01-21T15:17:14.448483",
     "exception": false,
     "start_time": "2023-01-21T15:17:14.435152",
     "status": "completed"
    },
    "tags": []
   },
   "source": []
  },
  {
   "cell_type": "code",
   "execution_count": 16,
   "id": "b2f6d07a",
   "metadata": {
    "execution": {
     "iopub.execute_input": "2023-01-21T15:17:14.478049Z",
     "iopub.status.busy": "2023-01-21T15:17:14.477580Z",
     "iopub.status.idle": "2023-01-21T15:17:14.733868Z",
     "shell.execute_reply": "2023-01-21T15:17:14.732632Z"
    },
    "papermill": {
     "duration": 0.274326,
     "end_time": "2023-01-21T15:17:14.736584",
     "exception": false,
     "start_time": "2023-01-21T15:17:14.462258",
     "status": "completed"
    },
    "tags": []
   },
   "outputs": [
    {
     "data": {
      "image/png": "[encoded data removed]",
      "text/plain": [
       "<Figure size 720x720 with 1 Axes>"
      ]
     },
     "metadata": {},
     "output_type": "display_data"
    }
   ],
   "source": [
    "\"\"\"\n",
    "    Method Name: pie_chart\n",
    "    Description: This is a method for ploting pie chart.We will plot pie chart with respect to given quantities.Taking dataset as\n",
    "                 input from user \n",
    "    Output: pie chart of respective values\n",
    "    On Failure: Raise Exception\n",
    "    Written By: Aniruddha Kawarase\n",
    "    Version: 2.0\n",
    "    Revisions: None\n",
    "    \"\"\"\n",
    "labels = cars_df[\"year\"][:25].value_counts().index\n",
    "sizes = cars_df[\"year\"][:25].value_counts()\n",
    "plt.figure(figsize = (10,10))\n",
    "plt.pie(sizes, labels=labels, rotatelabels=False, autopct='%1.1f%%',shadow=True, startangle=45,textprops={'fontsize':20})\n",
    "plt.title('Year',color = 'red',fontsize = 30)\n",
    "plt.show()\n"
   ]
  },
  {
   "cell_type": "markdown",
   "id": "55c36607",
   "metadata": {
    "papermill": {
     "duration": 0.014415,
     "end_time": "2023-01-21T15:17:14.765878",
     "exception": false,
     "start_time": "2023-01-21T15:17:14.751463",
     "status": "completed"
    },
    "tags": []
   },
   "source": [
    "**Heatmap of correlation between years,selling_price,km_driven**"
   ]
  },
  {
   "cell_type": "code",
   "execution_count": 17,
   "id": "2ebd2d82",
   "metadata": {
    "execution": {
     "iopub.execute_input": "2023-01-21T15:17:14.798288Z",
     "iopub.status.busy": "2023-01-21T15:17:14.797030Z",
     "iopub.status.idle": "2023-01-21T15:17:15.132564Z",
     "shell.execute_reply": "2023-01-21T15:17:15.131622Z"
    },
    "papermill": {
     "duration": 0.354511,
     "end_time": "2023-01-21T15:17:15.135120",
     "exception": false,
     "start_time": "2023-01-21T15:17:14.780609",
     "status": "completed"
    },
    "tags": []
   },
   "outputs": [
    {
     "data": {
      "image/png": "[encoded data removed]",
      "text/plain": [
       "<Figure size 720x720 with 2 Axes>"
      ]
     },
     "metadata": {
      "needs_background": "light"
     },
     "output_type": "display_data"
    }
   ],
   "source": [
    "\"\"\"\n",
    "    Method Name: Heatmap\n",
    "    Description: This is a method for ploting heatmap.We will plot heatmap to find corelation of some quantities in dataset.Taking dataset as\n",
    "                 input from user \n",
    "    Output: heatmap of respective values\n",
    "    On Failure: Raise Exception\n",
    "    Written By: Aniruddha Kawarase\n",
    "    Version: 2.0\n",
    "    Revisions: None\n",
    "    \"\"\"\n",
    "plt.figure(figsize=(10,10))\n",
    "ax = sns.heatmap(cars_df.corr(), annot=True,annot_kws={'fontsize':15})"
   ]
  },
  {
   "cell_type": "code",
   "execution_count": 18,
   "id": "b630acd2",
   "metadata": {
    "execution": {
     "iopub.execute_input": "2023-01-21T15:17:15.167932Z",
     "iopub.status.busy": "2023-01-21T15:17:15.167505Z",
     "iopub.status.idle": "2023-01-21T15:17:15.179474Z",
     "shell.execute_reply": "2023-01-21T15:17:15.178133Z"
    },
    "papermill": {
     "duration": 0.031221,
     "end_time": "2023-01-21T15:17:15.181984",
     "exception": false,
     "start_time": "2023-01-21T15:17:15.150763",
     "status": "completed"
    },
    "tags": []
   },
   "outputs": [
    {
     "data": {
      "text/plain": [
       "Individual          3244\n",
       "Dealer               994\n",
       "Trustmark Dealer     102\n",
       "Name: seller_type, dtype: int64"
      ]
     },
     "execution_count": 18,
     "metadata": {},
     "output_type": "execute_result"
    }
   ],
   "source": [
    "cars_df.seller_type.value_counts()"
   ]
  },
  {
   "cell_type": "markdown",
   "id": "e338bdd1",
   "metadata": {
    "papermill": {
     "duration": 0.014613,
     "end_time": "2023-01-21T15:17:15.211602",
     "exception": false,
     "start_time": "2023-01-21T15:17:15.196989",
     "status": "completed"
    },
    "tags": []
   },
   "source": [
    "**Countplot of sellercount**"
   ]
  },
  {
   "cell_type": "code",
   "execution_count": 19,
   "id": "3fe7dbf5",
   "metadata": {
    "execution": {
     "iopub.execute_input": "2023-01-21T15:17:15.251466Z",
     "iopub.status.busy": "2023-01-21T15:17:15.250337Z",
     "iopub.status.idle": "2023-01-21T15:17:15.465918Z",
     "shell.execute_reply": "2023-01-21T15:17:15.464907Z"
    },
    "papermill": {
     "duration": 0.242255,
     "end_time": "2023-01-21T15:17:15.468950",
     "exception": false,
     "start_time": "2023-01-21T15:17:15.226695",
     "status": "completed"
    },
    "tags": []
   },
   "outputs": [
    {
     "data": {
      "image/png": "[encoded data removed]",
      "text/plain": [
       "<Figure size 576x576 with 1 Axes>"
      ]
     },
     "metadata": {
      "needs_background": "light"
     },
     "output_type": "display_data"
    }
   ],
   "source": [
    "\"\"\"\n",
    "    Method Name: count_plot\n",
    "    Description: This is a method for ploting count_plot.We will plot count_plot with respect to given quantities.Taking dataset as\n",
    "                 input from user \n",
    "    Output: count_plot of respective values\n",
    "    On Failure: Raise Exception\n",
    "    Written By: Aniruddha Kawarase\n",
    "    Version: 2.0\n",
    "    Revisions: None\n",
    "    \"\"\"\n",
    "plt.figure(figsize=(8,8))\n",
    "sns.countplot(data=cars_df,x=\"seller_type\",palette=\"icefire\")\n",
    "plt.xticks(rotation=90)\n",
    "plt.xlabel(\"Seller type\",fontsize=15,color=\"black\")\n",
    "plt.ylabel(\"Count\",fontsize=15,color=\"black\")\n",
    "plt.title(\"Seller Count\",fontsize=25,color=\"black\")\n",
    "plt.show()\n"
   ]
  },
  {
   "cell_type": "code",
   "execution_count": 20,
   "id": "e9869569",
   "metadata": {
    "execution": {
     "iopub.execute_input": "2023-01-21T15:17:15.507650Z",
     "iopub.status.busy": "2023-01-21T15:17:15.506816Z",
     "iopub.status.idle": "2023-01-21T15:17:15.516851Z",
     "shell.execute_reply": "2023-01-21T15:17:15.515463Z"
    },
    "papermill": {
     "duration": 0.02999,
     "end_time": "2023-01-21T15:17:15.519400",
     "exception": false,
     "start_time": "2023-01-21T15:17:15.489410",
     "status": "completed"
    },
    "tags": []
   },
   "outputs": [
    {
     "data": {
      "text/plain": [
       "First Owner             2832\n",
       "Second Owner            1106\n",
       "Third Owner              304\n",
       "Fourth & Above Owner      81\n",
       "Test Drive Car            17\n",
       "Name: owner, dtype: int64"
      ]
     },
     "execution_count": 20,
     "metadata": {},
     "output_type": "execute_result"
    }
   ],
   "source": [
    "cars_df.owner.value_counts()"
   ]
  },
  {
   "cell_type": "markdown",
   "id": "85b4eddd",
   "metadata": {
    "papermill": {
     "duration": 0.015198,
     "end_time": "2023-01-21T15:17:15.550266",
     "exception": false,
     "start_time": "2023-01-21T15:17:15.535068",
     "status": "completed"
    },
    "tags": []
   },
   "source": [
    "Countplot of ownercount"
   ]
  },
  {
   "cell_type": "code",
   "execution_count": 21,
   "id": "e1656290",
   "metadata": {
    "execution": {
     "iopub.execute_input": "2023-01-21T15:17:15.583052Z",
     "iopub.status.busy": "2023-01-21T15:17:15.582677Z",
     "iopub.status.idle": "2023-01-21T15:17:15.780373Z",
     "shell.execute_reply": "2023-01-21T15:17:15.779562Z"
    },
    "papermill": {
     "duration": 0.217033,
     "end_time": "2023-01-21T15:17:15.782763",
     "exception": false,
     "start_time": "2023-01-21T15:17:15.565730",
     "status": "completed"
    },
    "tags": []
   },
   "outputs": [
    {
     "data": {
      "image/png": "[encoded data removed]",
      "text/plain": [
       "<Figure size 576x576 with 1 Axes>"
      ]
     },
     "metadata": {
      "needs_background": "light"
     },
     "output_type": "display_data"
    }
   ],
   "source": [
    "\"\"\"\n",
    "    Method Name: count_plot\n",
    "    Description: This is a method for ploting count_plot.We will plot count_plot with respect to given quantities.Taking dataset as\n",
    "                 input from user \n",
    "    Output: count_plot of respective values\n",
    "    On Failure: Raise Exception\n",
    "    Written By: Aniruddha Kawarase\n",
    "    Version: 2.0\n",
    "    Revisions: None\n",
    "    \"\"\"\n",
    "plt.figure(figsize=(8,8))\n",
    "sns.countplot(data=cars_df,x=\"owner\",palette=\"icefire\")\n",
    "plt.xticks(rotation=90)\n",
    "plt.xlabel(\"Owner type\",fontsize=15,color=\"black\")\n",
    "plt.ylabel(\"Count\",fontsize=15,color=\"black\")\n",
    "plt.title(\"Owner Count\",fontsize=25,color=\"black\")\n",
    "plt.show()"
   ]
  },
  {
   "cell_type": "markdown",
   "id": "1e5bcb84",
   "metadata": {
    "papermill": {
     "duration": 0.017274,
     "end_time": "2023-01-21T15:17:15.816702",
     "exception": false,
     "start_time": "2023-01-21T15:17:15.799428",
     "status": "completed"
    },
    "tags": []
   },
   "source": [
    "**Histplot of year**"
   ]
  },
  {
   "cell_type": "code",
   "execution_count": 22,
   "id": "0c6adbd8",
   "metadata": {
    "execution": {
     "iopub.execute_input": "2023-01-21T15:17:15.851354Z",
     "iopub.status.busy": "2023-01-21T15:17:15.850623Z",
     "iopub.status.idle": "2023-01-21T15:17:16.302746Z",
     "shell.execute_reply": "2023-01-21T15:17:16.301750Z"
    },
    "papermill": {
     "duration": 0.472114,
     "end_time": "2023-01-21T15:17:16.305207",
     "exception": false,
     "start_time": "2023-01-21T15:17:15.833093",
     "status": "completed"
    },
    "tags": []
   },
   "outputs": [
    {
     "data": {
      "image/png": "[encoded data removed]",
      "text/plain": [
       "<Figure size 576x576 with 1 Axes>"
      ]
     },
     "metadata": {
      "needs_background": "light"
     },
     "output_type": "display_data"
    }
   ],
   "source": [
    "\"\"\"\n",
    "    Method Name: Hist_plot\n",
    "    Description: This is a method for ploting count_plot.We will plot hist_plot with respect to given quantities.Taking dataset as\n",
    "                 input from user \n",
    "    Output: hist_plot of respective values\n",
    "    On Failure: Raise Exception\n",
    "    Written By: Aniruddha Kawarase\n",
    "    Version: 2.0\n",
    "    Revisions: None\n",
    "    \"\"\"\n",
    "plt.figure(figsize=(8,8))\n",
    "sns.histplot(data=cars_df, x=\"year\", hue=\"transmission\")\n",
    "plt.xticks(rotation=45)\n",
    "plt.show()"
   ]
  },
  {
   "cell_type": "markdown",
   "id": "282451cc",
   "metadata": {
    "papermill": {
     "duration": 0.016015,
     "end_time": "2023-01-21T15:17:16.337691",
     "exception": false,
     "start_time": "2023-01-21T15:17:16.321676",
     "status": "completed"
    },
    "tags": []
   },
   "source": [
    "**Histplot of owner**"
   ]
  },
  {
   "cell_type": "code",
   "execution_count": 23,
   "id": "d7bed22d",
   "metadata": {
    "execution": {
     "iopub.execute_input": "2023-01-21T15:17:16.372529Z",
     "iopub.status.busy": "2023-01-21T15:17:16.372076Z",
     "iopub.status.idle": "2023-01-21T15:17:16.646272Z",
     "shell.execute_reply": "2023-01-21T15:17:16.645404Z"
    },
    "papermill": {
     "duration": 0.294612,
     "end_time": "2023-01-21T15:17:16.648615",
     "exception": false,
     "start_time": "2023-01-21T15:17:16.354003",
     "status": "completed"
    },
    "tags": []
   },
   "outputs": [
    {
     "data": {
      "image/png": "[encoded data removed]",
      "text/plain": [
       "<Figure size 576x576 with 1 Axes>"
      ]
     },
     "metadata": {
      "needs_background": "light"
     },
     "output_type": "display_data"
    }
   ],
   "source": [
    "\"\"\"\n",
    "    Method Name: Hist_plot\n",
    "    Description: This is a method for ploting count_plot.We will plot hist_plot with respect to given quantities.Taking dataset as\n",
    "                 input from user \n",
    "    Output: hist_plot of respective values\n",
    "    On Failure: Raise Exception\n",
    "    Written By: Aniruddha Kawarase\n",
    "    Version: 2.0\n",
    "    Revisions: None\n",
    "    \"\"\"\n",
    "plt.figure(figsize=(8,8))\n",
    "sns.histplot(data=cars_df, x=\"owner\", hue=\"transmission\")\n",
    "plt.xticks(rotation=60)\n",
    "plt.show()"
   ]
  },
  {
   "cell_type": "markdown",
   "id": "c76648ee",
   "metadata": {
    "papermill": {
     "duration": 0.019433,
     "end_time": "2023-01-21T15:17:16.685424",
     "exception": false,
     "start_time": "2023-01-21T15:17:16.665991",
     "status": "completed"
    },
    "tags": []
   },
   "source": [
    "**Histplot of seller_type**"
   ]
  },
  {
   "cell_type": "code",
   "execution_count": 24,
   "id": "ea8b8e37",
   "metadata": {
    "execution": {
     "iopub.execute_input": "2023-01-21T15:17:16.722867Z",
     "iopub.status.busy": "2023-01-21T15:17:16.721781Z",
     "iopub.status.idle": "2023-01-21T15:17:16.977227Z",
     "shell.execute_reply": "2023-01-21T15:17:16.976006Z"
    },
    "papermill": {
     "duration": 0.276612,
     "end_time": "2023-01-21T15:17:16.980190",
     "exception": false,
     "start_time": "2023-01-21T15:17:16.703578",
     "status": "completed"
    },
    "tags": []
   },
   "outputs": [
    {
     "data": {
      "image/png": "[encoded data removed]",
      "text/plain": [
       "<Figure size 576x576 with 1 Axes>"
      ]
     },
     "metadata": {
      "needs_background": "light"
     },
     "output_type": "display_data"
    }
   ],
   "source": [
    "\"\"\"\n",
    "    Method Name: Hist_plot\n",
    "    Description: This is a method for ploting count_plot.We will plot hist_plot with respect to given quantities.Taking dataset as\n",
    "                 input from user \n",
    "    Output: hist_plot of respective values\n",
    "    On Failure: Raise Exception\n",
    "    Written By: Aniruddha Kawarase\n",
    "    Version: 2.0\n",
    "    Revisions: None\n",
    "    \"\"\"\n",
    "plt.figure(figsize=(8,8))\n",
    "sns.histplot(data=cars_df, x=\"seller_type\", hue=\"transmission\")\n",
    "plt.xticks(rotation=60)\n",
    "plt.show()"
   ]
  },
  {
   "cell_type": "markdown",
   "id": "82ecc4af",
   "metadata": {
    "papermill": {
     "duration": 0.017553,
     "end_time": "2023-01-21T15:17:17.015739",
     "exception": false,
     "start_time": "2023-01-21T15:17:16.998186",
     "status": "completed"
    },
    "tags": []
   },
   "source": [
    "**Boxplot of all cars to find outliers**"
   ]
  },
  {
   "cell_type": "code",
   "execution_count": 25,
   "id": "12dc5279",
   "metadata": {
    "execution": {
     "iopub.execute_input": "2023-01-21T15:17:17.054550Z",
     "iopub.status.busy": "2023-01-21T15:17:17.053170Z",
     "iopub.status.idle": "2023-01-21T15:17:17.855157Z",
     "shell.execute_reply": "2023-01-21T15:17:17.853986Z"
    },
    "papermill": {
     "duration": 0.823724,
     "end_time": "2023-01-21T15:17:17.857612",
     "exception": false,
     "start_time": "2023-01-21T15:17:17.033888",
     "status": "completed"
    },
    "tags": []
   },
   "outputs": [
    {
     "data": {
      "image/png": "[encoded data removed]",
      "text/plain": [
       "<Figure size 1440x576 with 1 Axes>"
      ]
     },
     "metadata": {
      "needs_background": "light"
     },
     "output_type": "display_data"
    }
   ],
   "source": [
    "\"\"\"\n",
    "    Method Name: Find_Outliers\n",
    "    Description: This is a outliers finding method.we will calculate the outlier data points using the statistical\n",
    "                 method called interquartile range (IQR).Here we check whter outliers are within range of Q1(25% of data)\n",
    "                 and Q2(75% of data) and IQR represents the interquartile range calculated by Q3 minus Q1 (Q3–Q1). \n",
    "    Output: number of outliers in dataset\n",
    "    On Failure: Raise Exception\n",
    "    Written By: Aniruddha KAwarase\n",
    "    Version: 2.0\n",
    "    Revisions: None\n",
    "    \"\"\"\n",
    "f, ax = plt.subplots(figsize=(20,8))\n",
    "sns.boxplot(x=cars_df[\"name_2\"].values, y = cars_df[\"km_driven\"].values,palette=\"twilight\",ax=ax)\n",
    "plt.xticks(rotation=90)\n",
    "plt.show()"
   ]
  },
  {
   "cell_type": "markdown",
   "id": "2e31b999",
   "metadata": {
    "papermill": {
     "duration": 0.017284,
     "end_time": "2023-01-21T15:17:17.892853",
     "exception": false,
     "start_time": "2023-01-21T15:17:17.875569",
     "status": "completed"
    },
    "tags": []
   },
   "source": []
  },
  {
   "cell_type": "markdown",
   "id": "461fcdda",
   "metadata": {
    "papermill": {
     "duration": 0.017307,
     "end_time": "2023-01-21T15:17:17.927852",
     "exception": false,
     "start_time": "2023-01-21T15:17:17.910545",
     "status": "completed"
    },
    "tags": []
   },
   "source": [
    "Piechart of car sell of particular year"
   ]
  },
  {
   "cell_type": "markdown",
   "id": "add2c4f7",
   "metadata": {
    "papermill": {
     "duration": 0.017214,
     "end_time": "2023-01-21T15:17:17.962750",
     "exception": false,
     "start_time": "2023-01-21T15:17:17.945536",
     "status": "completed"
    },
    "tags": []
   },
   "source": []
  },
  {
   "cell_type": "code",
   "execution_count": null,
   "id": "7028b58d",
   "metadata": {
    "papermill": {
     "duration": 0.017202,
     "end_time": "2023-01-21T15:17:17.997666",
     "exception": false,
     "start_time": "2023-01-21T15:17:17.980464",
     "status": "completed"
    },
    "tags": []
   },
   "outputs": [],
   "source": []
  }
 ],
 "metadata": {
  "kernelspec": {
   "display_name": "Python 3",
   "language": "python",
   "name": "python3"
  },
  "language_info": {
   "codemirror_mode": {
    "name": "ipython",
    "version": 3
   },
   "file_extension": ".py",
   "mimetype": "text/x-python",
   "name": "python",
   "nbconvert_exporter": "python",
   "pygments_lexer": "ipython3",
   "version": "3.7.12"
  },
  "papermill": {
   "default_parameters": {},
   "duration": 15.832599,
   "end_time": "2023-01-21T15:17:18.838541",
   "environment_variables": {},
   "exception": null,
   "input_path": "__notebook__.ipynb",
   "output_path": "__notebook__.ipynb",
   "parameters": {},
   "start_time": "2023-01-21T15:17:03.005942",
   "version": "2.3.4"
  }
 },
 "nbformat": 4,
 "nbformat_minor": 5
}
