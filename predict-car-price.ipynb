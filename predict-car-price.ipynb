{
 "cells": [
  {
   "cell_type": "code",
   "execution_count": 1,
   "id": "a8df697d",
   "metadata": {
    "_cell_guid": "b1076dfc-b9ad-4769-8c92-a6c4dae69d19",
    "_uuid": "8f2839f25d086af736a60e9eeb907d3b93b6e0e5",
    "execution": {
     "iopub.execute_input": "2022-10-25T09:44:11.136810Z",
     "iopub.status.busy": "2022-10-25T09:44:11.136089Z",
     "iopub.status.idle": "2022-10-25T09:44:11.154138Z",
     "shell.execute_reply": "2022-10-25T09:44:11.152966Z"
    },
    "papermill": {
     "duration": 0.031027,
     "end_time": "2022-10-25T09:44:11.157348",
     "exception": false,
     "start_time": "2022-10-25T09:44:11.126321",
     "status": "completed"
    },
    "tags": []
   },
   "outputs": [
    {
     "name": "stdout",
     "output_type": "stream",
     "text": [
      "/kaggle/input/car-details-dataset/CAR DETAILS FROM CAR DEKHO.csv\n"
     ]
    }
   ],
   "source": [
    "import numpy as np \n",
    "import pandas as pd \n",
    "import os\n",
    "for dirname, _, filenames in os.walk('/kaggle/input'):\n",
    "    for filename in filenames:\n",
    "        print(os.path.join(dirname, filename))"
   ]
  },
  {
   "cell_type": "code",
   "execution_count": 2,
   "id": "7298e58d",
   "metadata": {
    "execution": {
     "iopub.execute_input": "2022-10-25T09:44:11.173318Z",
     "iopub.status.busy": "2022-10-25T09:44:11.172515Z",
     "iopub.status.idle": "2022-10-25T09:44:12.778749Z",
     "shell.execute_reply": "2022-10-25T09:44:12.777377Z"
    },
    "papermill": {
     "duration": 1.617365,
     "end_time": "2022-10-25T09:44:12.781694",
     "exception": false,
     "start_time": "2022-10-25T09:44:11.164329",
     "status": "completed"
    },
    "tags": []
   },
   "outputs": [],
   "source": [
    "import pandas as pd\n",
    "import seaborn as sns\n",
    "import numpy as np\n",
    "import matplotlib.pyplot as plt\n",
    "from sklearn.pipeline import Pipeline\n",
    "from sklearn.preprocessing import StandardScaler, OneHotEncoder\n",
    "from sklearn.linear_model import SGDRegressor, LinearRegression\n",
    "from sklearn.metrics import mean_absolute_error\n",
    "from sklearn.decomposition import PCA\n",
    "from sklearn.model_selection import train_test_split\n",
    "from sklearn.ensemble import GradientBoostingRegressor,RandomForestRegressor\n",
    "sns.set_style(\"whitegrid\")"
   ]
  },
  {
   "cell_type": "code",
   "execution_count": 3,
   "id": "e5dc464f",
   "metadata": {
    "execution": {
     "iopub.execute_input": "2022-10-25T09:44:12.797535Z",
     "iopub.status.busy": "2022-10-25T09:44:12.797092Z",
     "iopub.status.idle": "2022-10-25T09:44:12.851793Z",
     "shell.execute_reply": "2022-10-25T09:44:12.850566Z"
    },
    "papermill": {
     "duration": 0.065496,
     "end_time": "2022-10-25T09:44:12.854335",
     "exception": false,
     "start_time": "2022-10-25T09:44:12.788839",
     "status": "completed"
    },
    "tags": []
   },
   "outputs": [
    {
     "data": {
      "text/html": [
       "<div>\n",
       "<style scoped>\n",
       "    .dataframe tbody tr th:only-of-type {\n",
       "        vertical-align: middle;\n",
       "    }\n",
       "\n",
       "    .dataframe tbody tr th {\n",
       "        vertical-align: top;\n",
       "    }\n",
       "\n",
       "    .dataframe thead th {\n",
       "        text-align: right;\n",
       "    }\n",
       "</style>\n",
       "<table border=\"1\" class=\"dataframe\">\n",
       "  <thead>\n",
       "    <tr style=\"text-align: right;\">\n",
       "      <th></th>\n",
       "      <th>name</th>\n",
       "      <th>year</th>\n",
       "      <th>selling_price</th>\n",
       "      <th>km_driven</th>\n",
       "      <th>fuel</th>\n",
       "      <th>seller_type</th>\n",
       "      <th>transmission</th>\n",
       "      <th>owner</th>\n",
       "    </tr>\n",
       "  </thead>\n",
       "  <tbody>\n",
       "    <tr>\n",
       "      <th>0</th>\n",
       "      <td>Maruti 800 AC</td>\n",
       "      <td>2007</td>\n",
       "      <td>60000</td>\n",
       "      <td>70000</td>\n",
       "      <td>Petrol</td>\n",
       "      <td>Individual</td>\n",
       "      <td>Manual</td>\n",
       "      <td>First Owner</td>\n",
       "    </tr>\n",
       "    <tr>\n",
       "      <th>1</th>\n",
       "      <td>Maruti Wagon R LXI Minor</td>\n",
       "      <td>2007</td>\n",
       "      <td>135000</td>\n",
       "      <td>50000</td>\n",
       "      <td>Petrol</td>\n",
       "      <td>Individual</td>\n",
       "      <td>Manual</td>\n",
       "      <td>First Owner</td>\n",
       "    </tr>\n",
       "    <tr>\n",
       "      <th>2</th>\n",
       "      <td>Hyundai Verna 1.6 SX</td>\n",
       "      <td>2012</td>\n",
       "      <td>600000</td>\n",
       "      <td>100000</td>\n",
       "      <td>Diesel</td>\n",
       "      <td>Individual</td>\n",
       "      <td>Manual</td>\n",
       "      <td>First Owner</td>\n",
       "    </tr>\n",
       "    <tr>\n",
       "      <th>3</th>\n",
       "      <td>Datsun RediGO T Option</td>\n",
       "      <td>2017</td>\n",
       "      <td>250000</td>\n",
       "      <td>46000</td>\n",
       "      <td>Petrol</td>\n",
       "      <td>Individual</td>\n",
       "      <td>Manual</td>\n",
       "      <td>First Owner</td>\n",
       "    </tr>\n",
       "    <tr>\n",
       "      <th>4</th>\n",
       "      <td>Honda Amaze VX i-DTEC</td>\n",
       "      <td>2014</td>\n",
       "      <td>450000</td>\n",
       "      <td>141000</td>\n",
       "      <td>Diesel</td>\n",
       "      <td>Individual</td>\n",
       "      <td>Manual</td>\n",
       "      <td>Second Owner</td>\n",
       "    </tr>\n",
       "  </tbody>\n",
       "</table>\n",
       "</div>"
      ],
      "text/plain": [
       "                       name  year  selling_price  km_driven    fuel  \\\n",
       "0             Maruti 800 AC  2007          60000      70000  Petrol   \n",
       "1  Maruti Wagon R LXI Minor  2007         135000      50000  Petrol   \n",
       "2      Hyundai Verna 1.6 SX  2012         600000     100000  Diesel   \n",
       "3    Datsun RediGO T Option  2017         250000      46000  Petrol   \n",
       "4     Honda Amaze VX i-DTEC  2014         450000     141000  Diesel   \n",
       "\n",
       "  seller_type transmission         owner  \n",
       "0  Individual       Manual   First Owner  \n",
       "1  Individual       Manual   First Owner  \n",
       "2  Individual       Manual   First Owner  \n",
       "3  Individual       Manual   First Owner  \n",
       "4  Individual       Manual  Second Owner  "
      ]
     },
     "execution_count": 3,
     "metadata": {},
     "output_type": "execute_result"
    }
   ],
   "source": [
    "cars = pd.read_csv(\"../input/car-details-dataset/CAR DETAILS FROM CAR DEKHO.csv\")\n",
    "cars.head()"
   ]
  },
  {
   "cell_type": "code",
   "execution_count": 4,
   "id": "701d3ec3",
   "metadata": {
    "execution": {
     "iopub.execute_input": "2022-10-25T09:44:12.870251Z",
     "iopub.status.busy": "2022-10-25T09:44:12.869615Z",
     "iopub.status.idle": "2022-10-25T09:44:12.898859Z",
     "shell.execute_reply": "2022-10-25T09:44:12.897399Z"
    },
    "papermill": {
     "duration": 0.040376,
     "end_time": "2022-10-25T09:44:12.901647",
     "exception": false,
     "start_time": "2022-10-25T09:44:12.861271",
     "status": "completed"
    },
    "tags": []
   },
   "outputs": [
    {
     "name": "stdout",
     "output_type": "stream",
     "text": [
      "<class 'pandas.core.frame.DataFrame'>\n",
      "RangeIndex: 4340 entries, 0 to 4339\n",
      "Data columns (total 8 columns):\n",
      " #   Column         Non-Null Count  Dtype \n",
      "---  ------         --------------  ----- \n",
      " 0   name           4340 non-null   object\n",
      " 1   year           4340 non-null   int64 \n",
      " 2   selling_price  4340 non-null   int64 \n",
      " 3   km_driven      4340 non-null   int64 \n",
      " 4   fuel           4340 non-null   object\n",
      " 5   seller_type    4340 non-null   object\n",
      " 6   transmission   4340 non-null   object\n",
      " 7   owner          4340 non-null   object\n",
      "dtypes: int64(3), object(5)\n",
      "memory usage: 271.4+ KB\n"
     ]
    }
   ],
   "source": [
    "cars.info()"
   ]
  },
  {
   "cell_type": "code",
   "execution_count": 5,
   "id": "e31a7fe3",
   "metadata": {
    "execution": {
     "iopub.execute_input": "2022-10-25T09:44:12.918273Z",
     "iopub.status.busy": "2022-10-25T09:44:12.917864Z",
     "iopub.status.idle": "2022-10-25T09:44:12.926303Z",
     "shell.execute_reply": "2022-10-25T09:44:12.925166Z"
    },
    "papermill": {
     "duration": 0.019275,
     "end_time": "2022-10-25T09:44:12.928588",
     "exception": false,
     "start_time": "2022-10-25T09:44:12.909313",
     "status": "completed"
    },
    "tags": []
   },
   "outputs": [
    {
     "data": {
      "text/plain": [
       "name             object\n",
       "year              int64\n",
       "selling_price     int64\n",
       "km_driven         int64\n",
       "fuel             object\n",
       "seller_type      object\n",
       "transmission     object\n",
       "owner            object\n",
       "dtype: object"
      ]
     },
     "execution_count": 5,
     "metadata": {},
     "output_type": "execute_result"
    }
   ],
   "source": [
    "cars.dtypes"
   ]
  },
  {
   "cell_type": "code",
   "execution_count": 6,
   "id": "999646d4",
   "metadata": {
    "execution": {
     "iopub.execute_input": "2022-10-25T09:44:12.944552Z",
     "iopub.status.busy": "2022-10-25T09:44:12.944160Z",
     "iopub.status.idle": "2022-10-25T09:44:12.955492Z",
     "shell.execute_reply": "2022-10-25T09:44:12.954354Z"
    },
    "papermill": {
     "duration": 0.022132,
     "end_time": "2022-10-25T09:44:12.957913",
     "exception": false,
     "start_time": "2022-10-25T09:44:12.935781",
     "status": "completed"
    },
    "tags": []
   },
   "outputs": [
    {
     "data": {
      "text/plain": [
       "763"
      ]
     },
     "execution_count": 6,
     "metadata": {},
     "output_type": "execute_result"
    }
   ],
   "source": [
    "cars.duplicated().sum()"
   ]
  },
  {
   "cell_type": "code",
   "execution_count": 7,
   "id": "e26851aa",
   "metadata": {
    "execution": {
     "iopub.execute_input": "2022-10-25T09:44:12.976415Z",
     "iopub.status.busy": "2022-10-25T09:44:12.975998Z",
     "iopub.status.idle": "2022-10-25T09:44:12.993794Z",
     "shell.execute_reply": "2022-10-25T09:44:12.992385Z"
    },
    "papermill": {
     "duration": 0.031197,
     "end_time": "2022-10-25T09:44:12.996622",
     "exception": false,
     "start_time": "2022-10-25T09:44:12.965425",
     "status": "completed"
    },
    "tags": []
   },
   "outputs": [
    {
     "data": {
      "text/plain": [
       "0"
      ]
     },
     "execution_count": 7,
     "metadata": {},
     "output_type": "execute_result"
    }
   ],
   "source": [
    "cars_data = cars.drop_duplicates()\n",
    "cars_data.duplicated().sum()"
   ]
  },
  {
   "cell_type": "code",
   "execution_count": 8,
   "id": "85af34f5",
   "metadata": {
    "execution": {
     "iopub.execute_input": "2022-10-25T09:44:13.012905Z",
     "iopub.status.busy": "2022-10-25T09:44:13.012492Z",
     "iopub.status.idle": "2022-10-25T09:44:13.038965Z",
     "shell.execute_reply": "2022-10-25T09:44:13.037737Z"
    },
    "papermill": {
     "duration": 0.03749,
     "end_time": "2022-10-25T09:44:13.041454",
     "exception": false,
     "start_time": "2022-10-25T09:44:13.003964",
     "status": "completed"
    },
    "tags": []
   },
   "outputs": [
    {
     "data": {
      "text/html": [
       "<div>\n",
       "<style scoped>\n",
       "    .dataframe tbody tr th:only-of-type {\n",
       "        vertical-align: middle;\n",
       "    }\n",
       "\n",
       "    .dataframe tbody tr th {\n",
       "        vertical-align: top;\n",
       "    }\n",
       "\n",
       "    .dataframe thead th {\n",
       "        text-align: right;\n",
       "    }\n",
       "</style>\n",
       "<table border=\"1\" class=\"dataframe\">\n",
       "  <thead>\n",
       "    <tr style=\"text-align: right;\">\n",
       "      <th></th>\n",
       "      <th>count</th>\n",
       "      <th>mean</th>\n",
       "      <th>std</th>\n",
       "      <th>min</th>\n",
       "      <th>25%</th>\n",
       "      <th>50%</th>\n",
       "      <th>75%</th>\n",
       "      <th>max</th>\n",
       "    </tr>\n",
       "  </thead>\n",
       "  <tbody>\n",
       "    <tr>\n",
       "      <th>year</th>\n",
       "      <td>3577.0</td>\n",
       "      <td>2012.962538</td>\n",
       "      <td>4.251759</td>\n",
       "      <td>1992.0</td>\n",
       "      <td>2010.0</td>\n",
       "      <td>2013.0</td>\n",
       "      <td>2016.0</td>\n",
       "      <td>2020.0</td>\n",
       "    </tr>\n",
       "    <tr>\n",
       "      <th>selling_price</th>\n",
       "      <td>3577.0</td>\n",
       "      <td>473912.542074</td>\n",
       "      <td>509301.809816</td>\n",
       "      <td>20000.0</td>\n",
       "      <td>200000.0</td>\n",
       "      <td>350000.0</td>\n",
       "      <td>600000.0</td>\n",
       "      <td>8900000.0</td>\n",
       "    </tr>\n",
       "    <tr>\n",
       "      <th>km_driven</th>\n",
       "      <td>3577.0</td>\n",
       "      <td>69250.545709</td>\n",
       "      <td>47579.940016</td>\n",
       "      <td>1.0</td>\n",
       "      <td>36000.0</td>\n",
       "      <td>60000.0</td>\n",
       "      <td>90000.0</td>\n",
       "      <td>806599.0</td>\n",
       "    </tr>\n",
       "  </tbody>\n",
       "</table>\n",
       "</div>"
      ],
      "text/plain": [
       "                count           mean            std      min       25%  \\\n",
       "year           3577.0    2012.962538       4.251759   1992.0    2010.0   \n",
       "selling_price  3577.0  473912.542074  509301.809816  20000.0  200000.0   \n",
       "km_driven      3577.0   69250.545709   47579.940016      1.0   36000.0   \n",
       "\n",
       "                    50%       75%        max  \n",
       "year             2013.0    2016.0     2020.0  \n",
       "selling_price  350000.0  600000.0  8900000.0  \n",
       "km_driven       60000.0   90000.0   806599.0  "
      ]
     },
     "execution_count": 8,
     "metadata": {},
     "output_type": "execute_result"
    }
   ],
   "source": [
    "cars_data.describe().T"
   ]
  },
  {
   "cell_type": "code",
   "execution_count": 9,
   "id": "0d505367",
   "metadata": {
    "execution": {
     "iopub.execute_input": "2022-10-25T09:44:13.058841Z",
     "iopub.status.busy": "2022-10-25T09:44:13.057760Z",
     "iopub.status.idle": "2022-10-25T09:44:13.462790Z",
     "shell.execute_reply": "2022-10-25T09:44:13.461420Z"
    },
    "papermill": {
     "duration": 0.416574,
     "end_time": "2022-10-25T09:44:13.465503",
     "exception": false,
     "start_time": "2022-10-25T09:44:13.048929",
     "status": "completed"
    },
    "tags": []
   },
   "outputs": [
    {
     "data": {
      "text/plain": [
       "<AxesSubplot:>"
      ]
     },
     "execution_count": 9,
     "metadata": {},
     "output_type": "execute_result"
    },
    {
     "data": {
      "image/png": "[encoded data removed]",
      "text/plain": [
       "<Figure size 1080x360 with 2 Axes>"
      ]
     },
     "metadata": {},
     "output_type": "display_data"
    }
   ],
   "source": [
    "corr = cars_data.corr(method=\"pearson\").T\n",
    "\n",
    "plt.figure(figsize=(15,5))\n",
    "sns.heatmap(corr, annot=True)"
   ]
  },
  {
   "cell_type": "markdown",
   "id": "4c0f405b",
   "metadata": {
    "execution": {
     "iopub.execute_input": "2022-10-24T16:19:03.187046Z",
     "iopub.status.busy": "2022-10-24T16:19:03.186574Z",
     "iopub.status.idle": "2022-10-24T16:19:03.193095Z",
     "shell.execute_reply": "2022-10-24T16:19:03.191328Z",
     "shell.execute_reply.started": "2022-10-24T16:19:03.187008Z"
    },
    "papermill": {
     "duration": 0.007713,
     "end_time": "2022-10-25T09:44:13.481462",
     "exception": false,
     "start_time": "2022-10-25T09:44:13.473749",
     "status": "completed"
    },
    "tags": []
   },
   "source": [
    "# exploratory data analysis"
   ]
  },
  {
   "cell_type": "code",
   "execution_count": 10,
   "id": "1a6e01a4",
   "metadata": {
    "execution": {
     "iopub.execute_input": "2022-10-25T09:44:13.499331Z",
     "iopub.status.busy": "2022-10-25T09:44:13.498868Z",
     "iopub.status.idle": "2022-10-25T09:44:14.111710Z",
     "shell.execute_reply": "2022-10-25T09:44:14.110475Z"
    },
    "papermill": {
     "duration": 0.625027,
     "end_time": "2022-10-25T09:44:14.114452",
     "exception": false,
     "start_time": "2022-10-25T09:44:13.489425",
     "status": "completed"
    },
    "tags": []
   },
   "outputs": [
    {
     "data": {
      "text/plain": [
       "<AxesSubplot:xlabel='selling_price', ylabel='Count'>"
      ]
     },
     "execution_count": 10,
     "metadata": {},
     "output_type": "execute_result"
    },
    {
     "data": {
      "image/png": "[encoded data removed]",
      "text/plain": [
       "<Figure size 432x288 with 1 Axes>"
      ]
     },
     "metadata": {},
     "output_type": "display_data"
    }
   ],
   "source": [
    "sns.histplot(data=cars_data, x=\"selling_price\")"
   ]
  },
  {
   "cell_type": "code",
   "execution_count": 11,
   "id": "bf2d5ee5",
   "metadata": {
    "execution": {
     "iopub.execute_input": "2022-10-25T09:44:14.133557Z",
     "iopub.status.busy": "2022-10-25T09:44:14.133065Z",
     "iopub.status.idle": "2022-10-25T09:44:14.313245Z",
     "shell.execute_reply": "2022-10-25T09:44:14.312074Z"
    },
    "papermill": {
     "duration": 0.192537,
     "end_time": "2022-10-25T09:44:14.315879",
     "exception": false,
     "start_time": "2022-10-25T09:44:14.123342",
     "status": "completed"
    },
    "tags": []
   },
   "outputs": [
    {
     "data": {
      "text/plain": [
       "<AxesSubplot:ylabel='selling_price'>"
      ]
     },
     "execution_count": 11,
     "metadata": {},
     "output_type": "execute_result"
    },
    {
     "data": {
      "image/png": "[encoded data removed]",
      "text/plain": [
       "<Figure size 432x288 with 1 Axes>"
      ]
     },
     "metadata": {},
     "output_type": "display_data"
    }
   ],
   "source": [
    "sns.boxplot(data=cars_data, y=\"selling_price\")"
   ]
  },
  {
   "cell_type": "markdown",
   "id": "572f7c82",
   "metadata": {
    "papermill": {
     "duration": 0.008551,
     "end_time": "2022-10-25T09:44:14.333172",
     "exception": false,
     "start_time": "2022-10-25T09:44:14.324621",
     "status": "completed"
    },
    "tags": []
   },
   "source": [
    "# Remove Outliars"
   ]
  },
  {
   "cell_type": "code",
   "execution_count": 12,
   "id": "b54b1cee",
   "metadata": {
    "execution": {
     "iopub.execute_input": "2022-10-25T09:44:14.352251Z",
     "iopub.status.busy": "2022-10-25T09:44:14.351807Z",
     "iopub.status.idle": "2022-10-25T09:44:14.359139Z",
     "shell.execute_reply": "2022-10-25T09:44:14.358279Z"
    },
    "papermill": {
     "duration": 0.019537,
     "end_time": "2022-10-25T09:44:14.361309",
     "exception": false,
     "start_time": "2022-10-25T09:44:14.341772",
     "status": "completed"
    },
    "tags": []
   },
   "outputs": [],
   "source": [
    "q = cars_data[\"selling_price\"].quantile(0.95)\n",
    "cars_data = cars_data[cars_data['selling_price'] < q]"
   ]
  },
  {
   "cell_type": "code",
   "execution_count": 13,
   "id": "0eee563c",
   "metadata": {
    "execution": {
     "iopub.execute_input": "2022-10-25T09:44:14.380870Z",
     "iopub.status.busy": "2022-10-25T09:44:14.379871Z",
     "iopub.status.idle": "2022-10-25T09:44:14.566789Z",
     "shell.execute_reply": "2022-10-25T09:44:14.565623Z"
    },
    "papermill": {
     "duration": 0.199362,
     "end_time": "2022-10-25T09:44:14.569289",
     "exception": false,
     "start_time": "2022-10-25T09:44:14.369927",
     "status": "completed"
    },
    "tags": []
   },
   "outputs": [
    {
     "data": {
      "text/plain": [
       "<AxesSubplot:ylabel='selling_price'>"
      ]
     },
     "execution_count": 13,
     "metadata": {},
     "output_type": "execute_result"
    },
    {
     "data": {
      "image/png": "[encoded data removed]",
      "text/plain": [
       "<Figure size 432x288 with 1 Axes>"
      ]
     },
     "metadata": {},
     "output_type": "display_data"
    }
   ],
   "source": [
    "sns.boxplot(data=cars_data, y=\"selling_price\")"
   ]
  },
  {
   "cell_type": "code",
   "execution_count": 14,
   "id": "1c11c860",
   "metadata": {
    "execution": {
     "iopub.execute_input": "2022-10-25T09:44:14.589760Z",
     "iopub.status.busy": "2022-10-25T09:44:14.589347Z",
     "iopub.status.idle": "2022-10-25T09:44:14.950591Z",
     "shell.execute_reply": "2022-10-25T09:44:14.949358Z"
    },
    "papermill": {
     "duration": 0.37429,
     "end_time": "2022-10-25T09:44:14.953145",
     "exception": false,
     "start_time": "2022-10-25T09:44:14.578855",
     "status": "completed"
    },
    "tags": []
   },
   "outputs": [
    {
     "data": {
      "text/plain": [
       "<AxesSubplot:xlabel='selling_price', ylabel='Count'>"
      ]
     },
     "execution_count": 14,
     "metadata": {},
     "output_type": "execute_result"
    },
    {
     "data": {
      "image/png": "[encoded data removed]",
      "text/plain": [
       "<Figure size 432x288 with 1 Axes>"
      ]
     },
     "metadata": {},
     "output_type": "display_data"
    }
   ],
   "source": [
    "sns.histplot(data=cars_data, x=\"selling_price\")"
   ]
  },
  {
   "cell_type": "markdown",
   "id": "5682ae9e",
   "metadata": {
    "papermill": {
     "duration": 0.009046,
     "end_time": "2022-10-25T09:44:14.971491",
     "exception": false,
     "start_time": "2022-10-25T09:44:14.962445",
     "status": "completed"
    },
    "tags": []
   },
   "source": [
    "# Data Analysis"
   ]
  },
  {
   "cell_type": "code",
   "execution_count": 15,
   "id": "7006ce7c",
   "metadata": {
    "execution": {
     "iopub.execute_input": "2022-10-25T09:44:14.991646Z",
     "iopub.status.busy": "2022-10-25T09:44:14.991226Z",
     "iopub.status.idle": "2022-10-25T09:44:14.997975Z",
     "shell.execute_reply": "2022-10-25T09:44:14.996996Z"
    },
    "papermill": {
     "duration": 0.019375,
     "end_time": "2022-10-25T09:44:15.000071",
     "exception": false,
     "start_time": "2022-10-25T09:44:14.980696",
     "status": "completed"
    },
    "tags": []
   },
   "outputs": [],
   "source": [
    "cars_data = cars_data.sort_values(\"selling_price\", ascending=False)"
   ]
  },
  {
   "cell_type": "code",
   "execution_count": 16,
   "id": "17520217",
   "metadata": {
    "execution": {
     "iopub.execute_input": "2022-10-25T09:44:15.020843Z",
     "iopub.status.busy": "2022-10-25T09:44:15.020136Z",
     "iopub.status.idle": "2022-10-25T09:44:15.026081Z",
     "shell.execute_reply": "2022-10-25T09:44:15.025329Z"
    },
    "papermill": {
     "duration": 0.018574,
     "end_time": "2022-10-25T09:44:15.028137",
     "exception": false,
     "start_time": "2022-10-25T09:44:15.009563",
     "status": "completed"
    },
    "tags": []
   },
   "outputs": [
    {
     "data": {
      "text/plain": [
       "Index(['name', 'year', 'selling_price', 'km_driven', 'fuel', 'seller_type',\n",
       "       'transmission', 'owner'],\n",
       "      dtype='object')"
      ]
     },
     "execution_count": 16,
     "metadata": {},
     "output_type": "execute_result"
    }
   ],
   "source": [
    "cars_data.columns"
   ]
  },
  {
   "cell_type": "code",
   "execution_count": 17,
   "id": "f146b575",
   "metadata": {
    "execution": {
     "iopub.execute_input": "2022-10-25T09:44:15.049883Z",
     "iopub.status.busy": "2022-10-25T09:44:15.049064Z",
     "iopub.status.idle": "2022-10-25T09:44:15.295713Z",
     "shell.execute_reply": "2022-10-25T09:44:15.294453Z"
    },
    "papermill": {
     "duration": 0.260765,
     "end_time": "2022-10-25T09:44:15.298315",
     "exception": false,
     "start_time": "2022-10-25T09:44:15.037550",
     "status": "completed"
    },
    "tags": []
   },
   "outputs": [
    {
     "data": {
      "text/plain": [
       "Text(0.5, 1.0, 'the median price based on fuel type')"
      ]
     },
     "execution_count": 17,
     "metadata": {},
     "output_type": "execute_result"
    },
    {
     "data": {
      "image/png": "[encoded data removed]",
      "text/plain": [
       "<Figure size 576x288 with 1 Axes>"
      ]
     },
     "metadata": {},
     "output_type": "display_data"
    }
   ],
   "source": [
    "plt.figure(figsize=(8,4))\n",
    "sns.barplot(data=cars_data, x='fuel', y=\"selling_price\", ci=None, estimator=np.median, palette=\"Blues_d\")\n",
    "plt.title(\"the median price based on fuel type\", fontsize=20)"
   ]
  },
  {
   "cell_type": "code",
   "execution_count": 18,
   "id": "9fed72c7",
   "metadata": {
    "execution": {
     "iopub.execute_input": "2022-10-25T09:44:15.320018Z",
     "iopub.status.busy": "2022-10-25T09:44:15.319628Z",
     "iopub.status.idle": "2022-10-25T09:44:17.102341Z",
     "shell.execute_reply": "2022-10-25T09:44:17.101172Z"
    },
    "papermill": {
     "duration": 1.796737,
     "end_time": "2022-10-25T09:44:17.105021",
     "exception": false,
     "start_time": "2022-10-25T09:44:15.308284",
     "status": "completed"
    },
    "tags": []
   },
   "outputs": [
    {
     "data": {
      "text/plain": [
       "Text(0.5, 1.0, 'chinge in price over years for based on fuel type')"
      ]
     },
     "execution_count": 18,
     "metadata": {},
     "output_type": "execute_result"
    },
    {
     "data": {
      "image/png": "[encoded data removed]",
      "text/plain": [
       "<Figure size 576x288 with 1 Axes>"
      ]
     },
     "metadata": {},
     "output_type": "display_data"
    }
   ],
   "source": [
    "plt.figure(figsize=(8,4))\n",
    "sns.lineplot(data=cars_data, x=\"year\", y=\"selling_price\", hue=\"fuel\", ci=False)\n",
    "plt.title(\"chinge in price over years for based on fuel type\")"
   ]
  },
  {
   "cell_type": "code",
   "execution_count": 19,
   "id": "81a958fe",
   "metadata": {
    "execution": {
     "iopub.execute_input": "2022-10-25T09:44:17.128687Z",
     "iopub.status.busy": "2022-10-25T09:44:17.128256Z",
     "iopub.status.idle": "2022-10-25T09:44:17.176596Z",
     "shell.execute_reply": "2022-10-25T09:44:17.174938Z"
    },
    "papermill": {
     "duration": 0.06314,
     "end_time": "2022-10-25T09:44:17.179355",
     "exception": false,
     "start_time": "2022-10-25T09:44:17.116215",
     "status": "completed"
    },
    "tags": []
   },
   "outputs": [],
   "source": [
    "cars_data = pd.get_dummies(cars_data)"
   ]
  },
  {
   "cell_type": "code",
   "execution_count": 20,
   "id": "a6712dd8",
   "metadata": {
    "execution": {
     "iopub.execute_input": "2022-10-25T09:44:17.202823Z",
     "iopub.status.busy": "2022-10-25T09:44:17.202338Z",
     "iopub.status.idle": "2022-10-25T09:44:17.257169Z",
     "shell.execute_reply": "2022-10-25T09:44:17.255967Z"
    },
    "papermill": {
     "duration": 0.069733,
     "end_time": "2022-10-25T09:44:17.259918",
     "exception": false,
     "start_time": "2022-10-25T09:44:17.190185",
     "status": "completed"
    },
    "tags": []
   },
   "outputs": [],
   "source": [
    "features = cars_data.drop(['selling_price'], axis=1)\n",
    "target = cars_data['selling_price']\n",
    "\n",
    "\n",
    "X_train, X_test, y_train, y_test = train_test_split(features, target,\n",
    "                                                    test_size=0.2,\n",
    "                                                    random_state=42)"
   ]
  },
  {
   "cell_type": "code",
   "execution_count": 21,
   "id": "36c8eed6",
   "metadata": {
    "execution": {
     "iopub.execute_input": "2022-10-25T09:44:17.284600Z",
     "iopub.status.busy": "2022-10-25T09:44:17.284134Z",
     "iopub.status.idle": "2022-10-25T09:44:17.428836Z",
     "shell.execute_reply": "2022-10-25T09:44:17.427496Z"
    },
    "papermill": {
     "duration": 0.159556,
     "end_time": "2022-10-25T09:44:17.431552",
     "exception": false,
     "start_time": "2022-10-25T09:44:17.271996",
     "status": "completed"
    },
    "tags": []
   },
   "outputs": [],
   "source": [
    "scaler = StandardScaler()\n",
    "X_train= scaler.fit_transform(X_train)\n",
    "X_test = scaler.transform(X_test)"
   ]
  },
  {
   "cell_type": "code",
   "execution_count": 22,
   "id": "635f2ba3",
   "metadata": {
    "execution": {
     "iopub.execute_input": "2022-10-25T09:44:17.454823Z",
     "iopub.status.busy": "2022-10-25T09:44:17.454394Z",
     "iopub.status.idle": "2022-10-25T09:44:34.160001Z",
     "shell.execute_reply": "2022-10-25T09:44:34.158717Z"
    },
    "papermill": {
     "duration": 16.720866,
     "end_time": "2022-10-25T09:44:34.163272",
     "exception": false,
     "start_time": "2022-10-25T09:44:17.442406",
     "status": "completed"
    },
    "tags": []
   },
   "outputs": [],
   "source": [
    "models = [RandomForestRegressor(n_estimators=200, max_depth=8, min_samples_leaf=2, random_state=42),\n",
    "          SGDRegressor(alpha=0.001, random_state=42),\n",
    "          GradientBoostingRegressor(n_estimators=200, max_depth=8, learning_rate=0.01, random_state=42)]\n",
    "maes = []\n",
    "\n",
    "for model in models:\n",
    "    model = model.fit(X_train, y_train)\n",
    "    y_hat = model.predict(X_test)\n",
    "    mae = mean_absolute_error(y_test, y_hat)\n",
    "    maes.append(mae)"
   ]
  },
  {
   "cell_type": "code",
   "execution_count": 23,
   "id": "3f8ddf38",
   "metadata": {
    "execution": {
     "iopub.execute_input": "2022-10-25T09:44:34.187182Z",
     "iopub.status.busy": "2022-10-25T09:44:34.186744Z",
     "iopub.status.idle": "2022-10-25T09:44:34.197292Z",
     "shell.execute_reply": "2022-10-25T09:44:34.196339Z"
    },
    "papermill": {
     "duration": 0.02555,
     "end_time": "2022-10-25T09:44:34.199782",
     "exception": false,
     "start_time": "2022-10-25T09:44:34.174232",
     "status": "completed"
    },
    "tags": []
   },
   "outputs": [
    {
     "data": {
      "text/plain": [
       "RF       114284.725436\n",
       "SGD    12205061.854436\n",
       "GB       116322.646667\n",
       "Name: 1, dtype: object"
      ]
     },
     "execution_count": 23,
     "metadata": {},
     "output_type": "execute_result"
    }
   ],
   "source": [
    "model_mae = pd.DataFrame(data=[models, maes], columns=[\"RF\", \"SGD\", \"GB\"])\n",
    "model_mae.loc[1, :]"
   ]
  },
  {
   "cell_type": "code",
   "execution_count": null,
   "id": "a01bd77f",
   "metadata": {
    "papermill": {
     "duration": 0.010729,
     "end_time": "2022-10-25T09:44:34.222032",
     "exception": false,
     "start_time": "2022-10-25T09:44:34.211303",
     "status": "completed"
    },
    "tags": []
   },
   "outputs": [],
   "source": []
  }
 ],
 "metadata": {
  "kernelspec": {
   "display_name": "Python 3",
   "language": "python",
   "name": "python3"
  },
  "language_info": {
   "codemirror_mode": {
    "name": "ipython",
    "version": 3
   },
   "file_extension": ".py",
   "mimetype": "text/x-python",
   "name": "python",
   "nbconvert_exporter": "python",
   "pygments_lexer": "ipython3",
   "version": "3.7.12"
  },
  "papermill": {
   "default_parameters": {},
   "duration": 32.913281,
   "end_time": "2022-10-25T09:44:35.156370",
   "environment_variables": {},
   "exception": null,
   "input_path": "__notebook__.ipynb",
   "output_path": "__notebook__.ipynb",
   "parameters": {},
   "start_time": "2022-10-25T09:44:02.243089",
   "version": "2.3.4"
  }
 },
 "nbformat": 4,
 "nbformat_minor": 5
}
